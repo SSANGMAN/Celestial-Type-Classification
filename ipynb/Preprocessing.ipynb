{
 "cells": [
  {
   "cell_type": "markdown",
   "metadata": {},
   "source": [
    "# Introduction\n",
    "\n",
    "그 동안 진행했던, EDA와 Outlier Detection을 이용해 분석용 데이터 전처리를 수행한다. 단계는 다음과 같다.\n",
    "\n",
    "1. Outlier Detection\n",
    "2. Create Summary Statistic Feature\n",
    "3. PCA & Clustering"
   ]
  },
  {
   "cell_type": "markdown",
   "metadata": {},
   "source": [
    "# Import Module"
   ]
  },
  {
   "cell_type": "code",
   "execution_count": 45,
   "metadata": {
    "ExecuteTime": {
     "end_time": "2020-02-22T09:54:12.691181Z",
     "start_time": "2020-02-22T09:54:12.671653Z"
    }
   },
   "outputs": [],
   "source": [
    "import numpy as np\n",
    "import pandas as pd\n",
    "\n",
    "from sklearn.ensemble import IsolationForest\n",
    "\n",
    "from sklearn.preprocessing import StandardScaler\n",
    "from sklearn.decomposition import PCA\n",
    "from sklearn.cluster import KMeans\n",
    "\n",
    "import warnings\n",
    "warnings.filterwarnings('ignore')"
   ]
  },
  {
   "cell_type": "markdown",
   "metadata": {},
   "source": [
    "# Load Data"
   ]
  },
  {
   "cell_type": "code",
   "execution_count": 46,
   "metadata": {
    "ExecuteTime": {
     "end_time": "2020-02-22T09:54:14.461786Z",
     "start_time": "2020-02-22T09:54:12.694183Z"
    }
   },
   "outputs": [],
   "source": [
    "train = pd.read_csv('../dataset/train.csv', index_col = 0)\n",
    "test = pd.read_csv('../dataset/test.csv', index_col = 0)\n",
    "sample_submission = pd.read_csv('../dataset/sample_submission.csv', index_col = 0)"
   ]
  },
  {
   "cell_type": "markdown",
   "metadata": {},
   "source": [
    "# Preprocessing\n",
    "\n",
    "## Outlier Detection"
   ]
  },
  {
   "cell_type": "code",
   "execution_count": 47,
   "metadata": {
    "ExecuteTime": {
     "end_time": "2020-02-22T09:54:58.369560Z",
     "start_time": "2020-02-22T09:54:14.465747Z"
    }
   },
   "outputs": [
    {
     "data": {
      "text/plain": [
       " 1    193992\n",
       "-1      5999\n",
       "Name: if_outlier, dtype: int64"
      ]
     },
     "execution_count": 47,
     "metadata": {},
     "output_type": "execute_result"
    }
   ],
   "source": [
    "X_train = train.drop(columns = 'type')\n",
    "y_train = train['type']\n",
    "\n",
    "num_X_train = X_train.drop(columns = 'fiberID')\n",
    "num_X_test = test.drop(columns = 'fiberID')\n",
    "\n",
    "model = IsolationForest(random_state = 42, contamination = 0.03)\n",
    "model.fit(num_X_train)\n",
    "\n",
    "outlier_pred = model.predict(num_X_train)\n",
    "\n",
    "train['if_outlier'] = outlier_pred\n",
    "\n",
    "train['if_outlier'].value_counts()"
   ]
  },
  {
   "cell_type": "code",
   "execution_count": 48,
   "metadata": {
    "ExecuteTime": {
     "end_time": "2020-02-22T09:54:58.439566Z",
     "start_time": "2020-02-22T09:54:58.372560Z"
    }
   },
   "outputs": [],
   "source": [
    "train_no_outlier = train.loc[train['if_outlier'] == 1]\n",
    "train_no_outlier.drop(columns = ['if_outlier'], inplace = True)"
   ]
  },
  {
   "cell_type": "markdown",
   "metadata": {},
   "source": [
    "## Create Summary Statistic Featue\n",
    "\n",
    "### Train"
   ]
  },
  {
   "cell_type": "code",
   "execution_count": 49,
   "metadata": {
    "ExecuteTime": {
     "end_time": "2020-02-22T09:54:58.827184Z",
     "start_time": "2020-02-22T09:54:58.441558Z"
    }
   },
   "outputs": [],
   "source": [
    "fiberID_mean = train_no_outlier.groupby('fiberID').mean()\n",
    "mean_cols = [\"{}_mean\".format(x) for x in fiberID_mean.columns]\n",
    "fiberID_mean.columns = mean_cols\n",
    "fiberID_mean.reset_index(inplace = True)\n",
    "\n",
    "fiberID_median = train_no_outlier.groupby('fiberID').median()\n",
    "median_cols = [\"{}_median\".format(x) for x in fiberID_median.columns]\n",
    "fiberID_median.columns = median_cols\n",
    "fiberID_median.reset_index(inplace = True)\n",
    "\n",
    "fiberID_std = train_no_outlier.groupby('fiberID').std()\n",
    "std_cols = [\"{}_std\".format(x) for x in fiberID_std.columns]\n",
    "fiberID_std.columns = std_cols\n",
    "fiberID_std.reset_index(inplace = True)"
   ]
  },
  {
   "cell_type": "code",
   "execution_count": 50,
   "metadata": {
    "ExecuteTime": {
     "end_time": "2020-02-22T09:54:59.331840Z",
     "start_time": "2020-02-22T09:54:58.831151Z"
    }
   },
   "outputs": [],
   "source": [
    "train = pd.merge(train_no_outlier, fiberID_mean, on = 'fiberID', how = 'left')\n",
    "train = pd.merge(train, fiberID_median, on = 'fiberID', how = 'left')\n",
    "train = pd.merge(train, fiberID_std, on = 'fiberID', how = 'left')"
   ]
  },
  {
   "cell_type": "markdown",
   "metadata": {},
   "source": [
    "### Test"
   ]
  },
  {
   "cell_type": "code",
   "execution_count": 51,
   "metadata": {
    "ExecuteTime": {
     "end_time": "2020-02-22T09:54:59.391758Z",
     "start_time": "2020-02-22T09:54:59.335888Z"
    }
   },
   "outputs": [],
   "source": [
    "fiberID_mean = test.groupby('fiberID').mean()\n",
    "mean_cols = [\"{}_mean\".format(x) for x in fiberID_mean.columns]\n",
    "fiberID_mean.columns = mean_cols\n",
    "fiberID_mean.reset_index(inplace = True)\n",
    "\n",
    "fiberID_median = test.groupby('fiberID').median()\n",
    "median_cols = [\"{}_median\".format(x) for x in fiberID_median.columns]\n",
    "fiberID_median.columns = median_cols\n",
    "fiberID_median.reset_index(inplace = True)\n",
    "\n",
    "fiberID_std = test.groupby('fiberID').std()\n",
    "std_cols = [\"{}_std\".format(x) for x in fiberID_std.columns]\n",
    "fiberID_std.columns = std_cols\n",
    "fiberID_std.reset_index(inplace = True)"
   ]
  },
  {
   "cell_type": "code",
   "execution_count": 52,
   "metadata": {
    "ExecuteTime": {
     "end_time": "2020-02-22T09:54:59.446043Z",
     "start_time": "2020-02-22T09:54:59.394758Z"
    }
   },
   "outputs": [],
   "source": [
    "test = pd.merge(test, fiberID_mean, on = 'fiberID', how = 'left')\n",
    "test = pd.merge(test, fiberID_median, on = 'fiberID', how = 'left')\n",
    "test = pd.merge(test, fiberID_std, on = 'fiberID', how = 'left')"
   ]
  },
  {
   "cell_type": "markdown",
   "metadata": {},
   "source": [
    "# k-Means Clustering\n",
    "\n",
    "## psfMag\n",
    "\n",
    "### Train"
   ]
  },
  {
   "cell_type": "code",
   "execution_count": 53,
   "metadata": {
    "ExecuteTime": {
     "end_time": "2020-02-22T09:55:07.105575Z",
     "start_time": "2020-02-22T09:54:59.452043Z"
    }
   },
   "outputs": [
    {
     "name": "stdout",
     "output_type": "stream",
     "text": [
      "[0.70151416 0.19999788]\n"
     ]
    }
   ],
   "source": [
    "X_train = train.drop(columns = 'type')\n",
    "y_train = train['type']\n",
    "\n",
    "psfMag_train = X_train[['psfMag_u', 'psfMag_g', 'psfMag_r', 'psfMag_i', 'psfMag_z']]\n",
    "scaler = StandardScaler()\n",
    "psfMag_train_scaler = scaler.fit_transform(psfMag_train)\n",
    "\n",
    "pca = PCA(n_components = 2)\n",
    "psf_pca = pca.fit_transform(psfMag_train_scaler)\n",
    "print(pca.explained_variance_ratio_)\n",
    "psf_pca_scaler_df = pd.DataFrame(psf_pca)\n",
    "\n",
    "x = psf_pca_scaler_df.values\n",
    "\n",
    "km = KMeans(n_clusters = 5, init = 'k-means++', max_iter = 300, n_init = 10, random_state = 42)\n",
    "y_means = km.fit_predict(x)\n",
    "\n",
    "train['psf_cluster'] = y_means"
   ]
  },
  {
   "cell_type": "markdown",
   "metadata": {},
   "source": [
    "### Test"
   ]
  },
  {
   "cell_type": "code",
   "execution_count": 54,
   "metadata": {
    "ExecuteTime": {
     "end_time": "2020-02-22T09:55:07.152393Z",
     "start_time": "2020-02-22T09:55:07.110591Z"
    }
   },
   "outputs": [
    {
     "name": "stdout",
     "output_type": "stream",
     "text": [
      "[0.70151416 0.19999788]\n"
     ]
    }
   ],
   "source": [
    "X_test = test\n",
    "\n",
    "psfMag_test = X_test[['psfMag_u', 'psfMag_g', 'psfMag_r', 'psfMag_i', 'psfMag_z']]\n",
    "psfMag_test_scaler = scaler.transform(psfMag_test)\n",
    "\n",
    "psf_pca = pca.transform(psfMag_test_scaler)\n",
    "print(pca.explained_variance_ratio_)\n",
    "psf_pca_scaler_df = pd.DataFrame(psf_pca)\n",
    "\n",
    "x = psf_pca_scaler_df.values\n",
    "y_means = km.predict(x)\n",
    "\n",
    "test['psf_cluster'] = y_means"
   ]
  },
  {
   "cell_type": "markdown",
   "metadata": {},
   "source": [
    "## fiberMag\n",
    "### Train"
   ]
  },
  {
   "cell_type": "code",
   "execution_count": 55,
   "metadata": {
    "ExecuteTime": {
     "end_time": "2020-02-22T09:55:14.552187Z",
     "start_time": "2020-02-22T09:55:07.157110Z"
    }
   },
   "outputs": [
    {
     "name": "stdout",
     "output_type": "stream",
     "text": [
      "[0.51879584 0.19999793]\n"
     ]
    }
   ],
   "source": [
    "X_train = train.drop(columns = 'type')\n",
    "y_train = train['type']\n",
    "\n",
    "fiberMag_train = X_train[['fiberMag_u', 'fiberMag_g', 'fiberMag_r', 'fiberMag_i', 'fiberMag_z']]\n",
    "scaler = StandardScaler()\n",
    "fiberMag_train_scaler = scaler.fit_transform(fiberMag_train)\n",
    "\n",
    "pca = PCA(n_components = 2)\n",
    "fiber_pca = pca.fit_transform(fiberMag_train_scaler)\n",
    "print(pca.explained_variance_ratio_)\n",
    "fiber_pca_scaler_df = pd.DataFrame(fiber_pca)\n",
    "\n",
    "x = fiber_pca_scaler_df.values\n",
    "\n",
    "km = KMeans(n_clusters = 5, init = 'k-means++', max_iter = 300, n_init = 10, random_state = 42)\n",
    "y_means = km.fit_predict(x)\n",
    "\n",
    "train['fiber_cluster'] = y_means"
   ]
  },
  {
   "cell_type": "markdown",
   "metadata": {},
   "source": [
    "### Test"
   ]
  },
  {
   "cell_type": "code",
   "execution_count": 56,
   "metadata": {
    "ExecuteTime": {
     "end_time": "2020-02-22T09:55:14.588530Z",
     "start_time": "2020-02-22T09:55:14.556179Z"
    }
   },
   "outputs": [
    {
     "name": "stdout",
     "output_type": "stream",
     "text": [
      "[0.51879584 0.19999793]\n"
     ]
    }
   ],
   "source": [
    "X_test = test\n",
    "\n",
    "fiberMag_test = X_test[['fiberMag_u', 'fiberMag_g', 'fiberMag_r', 'fiberMag_i', 'fiberMag_z']]\n",
    "fiberMag_test_scaler = scaler.transform(fiberMag_test)\n",
    "\n",
    "fiber_pca = pca.transform(fiberMag_test_scaler)\n",
    "print(pca.explained_variance_ratio_)\n",
    "fiber_pca_scaler_df = pd.DataFrame(fiber_pca)\n",
    "\n",
    "x = fiber_pca_scaler_df.values\n",
    "y_means = km.predict(x)\n",
    "\n",
    "test['fiber_cluster'] = y_means"
   ]
  },
  {
   "cell_type": "markdown",
   "metadata": {},
   "source": [
    "## model\n",
    "### Train"
   ]
  },
  {
   "cell_type": "code",
   "execution_count": 57,
   "metadata": {
    "ExecuteTime": {
     "end_time": "2020-02-22T09:55:21.847151Z",
     "start_time": "2020-02-22T09:55:14.592697Z"
    }
   },
   "outputs": [
    {
     "name": "stdout",
     "output_type": "stream",
     "text": [
      "[0.82275801 0.15646262]\n"
     ]
    }
   ],
   "source": [
    "X_train = train.drop(columns = 'type')\n",
    "y_train = train['type']\n",
    "\n",
    "modelMag_train = X_train[['modelMag_u', 'modelMag_g', 'modelMag_r', 'modelMag_i', 'modelMag_z']]\n",
    "scaler = StandardScaler()\n",
    "modelMag_train_scaler = scaler.fit_transform(modelMag_train)\n",
    "\n",
    "pca = PCA(n_components = 2)\n",
    "model_pca = pca.fit_transform(modelMag_train_scaler)\n",
    "print(pca.explained_variance_ratio_)\n",
    "model_pca_scaler_df = pd.DataFrame(model_pca)\n",
    "\n",
    "x = model_pca_scaler_df.values\n",
    "\n",
    "km = KMeans(n_clusters = 5, init = 'k-means++', max_iter = 300, n_init = 10, random_state = 42)\n",
    "y_means = km.fit_predict(x)\n",
    "\n",
    "train['model_cluster'] = y_means"
   ]
  },
  {
   "cell_type": "markdown",
   "metadata": {},
   "source": [
    "### Test"
   ]
  },
  {
   "cell_type": "code",
   "execution_count": 58,
   "metadata": {
    "ExecuteTime": {
     "end_time": "2020-02-22T09:55:21.888401Z",
     "start_time": "2020-02-22T09:55:21.851409Z"
    }
   },
   "outputs": [
    {
     "name": "stdout",
     "output_type": "stream",
     "text": [
      "[0.82275801 0.15646262]\n"
     ]
    }
   ],
   "source": [
    "X_test = test\n",
    "\n",
    "modelMag_test = X_test[['modelMag_u', 'modelMag_g', 'modelMag_r', 'modelMag_i', 'modelMag_z']]\n",
    "modelMag_test_scaler = scaler.transform(modelMag_test)\n",
    "\n",
    "model_pca = pca.transform(modelMag_test_scaler)\n",
    "print(pca.explained_variance_ratio_)\n",
    "model_pca_scaler_df = pd.DataFrame(model_pca)\n",
    "\n",
    "x = model_pca_scaler_df.values\n",
    "y_means = km.predict(x)\n",
    "\n",
    "test['model_cluster'] = y_means"
   ]
  },
  {
   "cell_type": "code",
   "execution_count": 59,
   "metadata": {
    "ExecuteTime": {
     "end_time": "2020-02-22T09:55:21.944492Z",
     "start_time": "2020-02-22T09:55:21.892405Z"
    }
   },
   "outputs": [
    {
     "data": {
      "text/html": [
       "<div>\n",
       "<style scoped>\n",
       "    .dataframe tbody tr th:only-of-type {\n",
       "        vertical-align: middle;\n",
       "    }\n",
       "\n",
       "    .dataframe tbody tr th {\n",
       "        vertical-align: top;\n",
       "    }\n",
       "\n",
       "    .dataframe thead th {\n",
       "        text-align: right;\n",
       "    }\n",
       "</style>\n",
       "<table border=\"1\" class=\"dataframe\">\n",
       "  <thead>\n",
       "    <tr style=\"text-align: right;\">\n",
       "      <th></th>\n",
       "      <th>fiberID</th>\n",
       "      <th>psfMag_u</th>\n",
       "      <th>psfMag_g</th>\n",
       "      <th>psfMag_r</th>\n",
       "      <th>psfMag_i</th>\n",
       "      <th>psfMag_z</th>\n",
       "      <th>fiberMag_u</th>\n",
       "      <th>fiberMag_g</th>\n",
       "      <th>fiberMag_r</th>\n",
       "      <th>fiberMag_i</th>\n",
       "      <th>...</th>\n",
       "      <th>petroMag_i_std</th>\n",
       "      <th>petroMag_z_std</th>\n",
       "      <th>modelMag_u_std</th>\n",
       "      <th>modelMag_g_std</th>\n",
       "      <th>modelMag_r_std</th>\n",
       "      <th>modelMag_i_std</th>\n",
       "      <th>modelMag_z_std</th>\n",
       "      <th>psf_cluster</th>\n",
       "      <th>fiber_cluster</th>\n",
       "      <th>model_cluster</th>\n",
       "    </tr>\n",
       "  </thead>\n",
       "  <tbody>\n",
       "    <tr>\n",
       "      <th>0</th>\n",
       "      <td>251</td>\n",
       "      <td>23.817399</td>\n",
       "      <td>22.508963</td>\n",
       "      <td>20.981106</td>\n",
       "      <td>18.517316</td>\n",
       "      <td>17.076079</td>\n",
       "      <td>25.053890</td>\n",
       "      <td>23.167848</td>\n",
       "      <td>21.335901</td>\n",
       "      <td>18.835858</td>\n",
       "      <td>...</td>\n",
       "      <td>1.893139</td>\n",
       "      <td>1.793287</td>\n",
       "      <td>2.367397</td>\n",
       "      <td>2.213415</td>\n",
       "      <td>2.036589</td>\n",
       "      <td>1.887005</td>\n",
       "      <td>1.833027</td>\n",
       "      <td>0</td>\n",
       "      <td>1</td>\n",
       "      <td>2</td>\n",
       "    </tr>\n",
       "    <tr>\n",
       "      <th>1</th>\n",
       "      <td>386</td>\n",
       "      <td>22.806983</td>\n",
       "      <td>21.937111</td>\n",
       "      <td>20.335770</td>\n",
       "      <td>20.000512</td>\n",
       "      <td>19.527369</td>\n",
       "      <td>22.498565</td>\n",
       "      <td>22.186000</td>\n",
       "      <td>20.618879</td>\n",
       "      <td>20.301204</td>\n",
       "      <td>...</td>\n",
       "      <td>1.347009</td>\n",
       "      <td>1.121100</td>\n",
       "      <td>2.043080</td>\n",
       "      <td>2.108371</td>\n",
       "      <td>1.781324</td>\n",
       "      <td>1.358582</td>\n",
       "      <td>1.112072</td>\n",
       "      <td>0</td>\n",
       "      <td>3</td>\n",
       "      <td>4</td>\n",
       "    </tr>\n",
       "    <tr>\n",
       "      <th>2</th>\n",
       "      <td>232</td>\n",
       "      <td>21.024250</td>\n",
       "      <td>19.235669</td>\n",
       "      <td>18.304061</td>\n",
       "      <td>17.808608</td>\n",
       "      <td>17.380113</td>\n",
       "      <td>21.205546</td>\n",
       "      <td>19.439533</td>\n",
       "      <td>18.344433</td>\n",
       "      <td>17.909690</td>\n",
       "      <td>...</td>\n",
       "      <td>1.591555</td>\n",
       "      <td>1.609979</td>\n",
       "      <td>3.038135</td>\n",
       "      <td>1.932750</td>\n",
       "      <td>1.771562</td>\n",
       "      <td>1.583241</td>\n",
       "      <td>1.574938</td>\n",
       "      <td>2</td>\n",
       "      <td>0</td>\n",
       "      <td>0</td>\n",
       "    </tr>\n",
       "    <tr>\n",
       "      <th>3</th>\n",
       "      <td>557</td>\n",
       "      <td>20.503424</td>\n",
       "      <td>20.286261</td>\n",
       "      <td>20.197204</td>\n",
       "      <td>20.162419</td>\n",
       "      <td>20.059832</td>\n",
       "      <td>20.976132</td>\n",
       "      <td>20.611498</td>\n",
       "      <td>20.567262</td>\n",
       "      <td>20.479318</td>\n",
       "      <td>...</td>\n",
       "      <td>1.813364</td>\n",
       "      <td>1.981834</td>\n",
       "      <td>2.144815</td>\n",
       "      <td>1.829022</td>\n",
       "      <td>1.887076</td>\n",
       "      <td>1.825980</td>\n",
       "      <td>1.913923</td>\n",
       "      <td>0</td>\n",
       "      <td>1</td>\n",
       "      <td>1</td>\n",
       "    </tr>\n",
       "    <tr>\n",
       "      <th>4</th>\n",
       "      <td>75</td>\n",
       "      <td>24.244851</td>\n",
       "      <td>22.668237</td>\n",
       "      <td>21.239333</td>\n",
       "      <td>19.284777</td>\n",
       "      <td>18.235939</td>\n",
       "      <td>25.681860</td>\n",
       "      <td>22.935289</td>\n",
       "      <td>21.642456</td>\n",
       "      <td>19.624926</td>\n",
       "      <td>...</td>\n",
       "      <td>1.627857</td>\n",
       "      <td>1.491637</td>\n",
       "      <td>2.775471</td>\n",
       "      <td>2.762910</td>\n",
       "      <td>2.167265</td>\n",
       "      <td>1.685952</td>\n",
       "      <td>1.623274</td>\n",
       "      <td>0</td>\n",
       "      <td>3</td>\n",
       "      <td>2</td>\n",
       "    </tr>\n",
       "  </tbody>\n",
       "</table>\n",
       "<p>5 rows × 84 columns</p>\n",
       "</div>"
      ],
      "text/plain": [
       "   fiberID   psfMag_u   psfMag_g   psfMag_r   psfMag_i   psfMag_z  fiberMag_u  \\\n",
       "0      251  23.817399  22.508963  20.981106  18.517316  17.076079   25.053890   \n",
       "1      386  22.806983  21.937111  20.335770  20.000512  19.527369   22.498565   \n",
       "2      232  21.024250  19.235669  18.304061  17.808608  17.380113   21.205546   \n",
       "3      557  20.503424  20.286261  20.197204  20.162419  20.059832   20.976132   \n",
       "4       75  24.244851  22.668237  21.239333  19.284777  18.235939   25.681860   \n",
       "\n",
       "   fiberMag_g  fiberMag_r  fiberMag_i  ...  petroMag_i_std  petroMag_z_std  \\\n",
       "0   23.167848   21.335901   18.835858  ...        1.893139        1.793287   \n",
       "1   22.186000   20.618879   20.301204  ...        1.347009        1.121100   \n",
       "2   19.439533   18.344433   17.909690  ...        1.591555        1.609979   \n",
       "3   20.611498   20.567262   20.479318  ...        1.813364        1.981834   \n",
       "4   22.935289   21.642456   19.624926  ...        1.627857        1.491637   \n",
       "\n",
       "   modelMag_u_std  modelMag_g_std  modelMag_r_std  modelMag_i_std  \\\n",
       "0        2.367397        2.213415        2.036589        1.887005   \n",
       "1        2.043080        2.108371        1.781324        1.358582   \n",
       "2        3.038135        1.932750        1.771562        1.583241   \n",
       "3        2.144815        1.829022        1.887076        1.825980   \n",
       "4        2.775471        2.762910        2.167265        1.685952   \n",
       "\n",
       "   modelMag_z_std  psf_cluster  fiber_cluster  model_cluster  \n",
       "0        1.833027            0              1              2  \n",
       "1        1.112072            0              3              4  \n",
       "2        1.574938            2              0              0  \n",
       "3        1.913923            0              1              1  \n",
       "4        1.623274            0              3              2  \n",
       "\n",
       "[5 rows x 84 columns]"
      ]
     },
     "execution_count": 59,
     "metadata": {},
     "output_type": "execute_result"
    }
   ],
   "source": [
    "test.head()"
   ]
  },
  {
   "cell_type": "markdown",
   "metadata": {},
   "source": [
    "## 641"
   ]
  },
  {
   "cell_type": "code",
   "execution_count": 60,
   "metadata": {
    "ExecuteTime": {
     "end_time": "2020-02-22T09:55:21.996540Z",
     "start_time": "2020-02-22T09:55:21.948485Z"
    }
   },
   "outputs": [],
   "source": [
    "train['over_641'] = 0\n",
    "train.loc[train['fiberID'] >= 641, 'over_641'] = 1\n",
    "\n",
    "test['over_641'] = 0\n",
    "test.loc[test['fiberID'] >= 641, 'over_641'] = 1"
   ]
  },
  {
   "cell_type": "code",
   "execution_count": 61,
   "metadata": {
    "ExecuteTime": {
     "end_time": "2020-02-22T09:55:22.007555Z",
     "start_time": "2020-02-22T09:55:22.000557Z"
    }
   },
   "outputs": [
    {
     "name": "stdout",
     "output_type": "stream",
     "text": [
      "(193992, 86)\n",
      "(10009, 85)\n"
     ]
    }
   ],
   "source": [
    "print(train.shape)\n",
    "print(test.shape)"
   ]
  },
  {
   "cell_type": "code",
   "execution_count": 62,
   "metadata": {
    "ExecuteTime": {
     "end_time": "2020-02-22T09:55:23.551270Z",
     "start_time": "2020-02-22T09:55:22.010402Z"
    }
   },
   "outputs": [
    {
     "data": {
      "text/html": [
       "<div>\n",
       "<style scoped>\n",
       "    .dataframe tbody tr th:only-of-type {\n",
       "        vertical-align: middle;\n",
       "    }\n",
       "\n",
       "    .dataframe tbody tr th {\n",
       "        vertical-align: top;\n",
       "    }\n",
       "\n",
       "    .dataframe thead th {\n",
       "        text-align: right;\n",
       "    }\n",
       "</style>\n",
       "<table border=\"1\" class=\"dataframe\">\n",
       "  <thead>\n",
       "    <tr style=\"text-align: right;\">\n",
       "      <th></th>\n",
       "      <th>fiberID</th>\n",
       "      <th>psfMag_u</th>\n",
       "      <th>psfMag_g</th>\n",
       "      <th>psfMag_r</th>\n",
       "      <th>psfMag_i</th>\n",
       "      <th>psfMag_z</th>\n",
       "      <th>fiberMag_u</th>\n",
       "      <th>fiberMag_g</th>\n",
       "      <th>fiberMag_r</th>\n",
       "      <th>fiberMag_i</th>\n",
       "      <th>...</th>\n",
       "      <th>petroMag_z_std</th>\n",
       "      <th>modelMag_u_std</th>\n",
       "      <th>modelMag_g_std</th>\n",
       "      <th>modelMag_r_std</th>\n",
       "      <th>modelMag_i_std</th>\n",
       "      <th>modelMag_z_std</th>\n",
       "      <th>psf_cluster</th>\n",
       "      <th>fiber_cluster</th>\n",
       "      <th>model_cluster</th>\n",
       "      <th>over_641</th>\n",
       "    </tr>\n",
       "  </thead>\n",
       "  <tbody>\n",
       "    <tr>\n",
       "      <th>count</th>\n",
       "      <td>193992.000000</td>\n",
       "      <td>1.939920e+05</td>\n",
       "      <td>193992.000000</td>\n",
       "      <td>193992.000000</td>\n",
       "      <td>193992.000000</td>\n",
       "      <td>193992.000000</td>\n",
       "      <td>1.939920e+05</td>\n",
       "      <td>193992.000000</td>\n",
       "      <td>193992.000000</td>\n",
       "      <td>193992.000000</td>\n",
       "      <td>...</td>\n",
       "      <td>193992.000000</td>\n",
       "      <td>193992.000000</td>\n",
       "      <td>193992.000000</td>\n",
       "      <td>193992.000000</td>\n",
       "      <td>193992.000000</td>\n",
       "      <td>193992.000000</td>\n",
       "      <td>193992.000000</td>\n",
       "      <td>193992.000000</td>\n",
       "      <td>193992.000000</td>\n",
       "      <td>193992.000000</td>\n",
       "    </tr>\n",
       "    <tr>\n",
       "      <th>mean</th>\n",
       "      <td>361.683528</td>\n",
       "      <td>-6.397396e+00</td>\n",
       "      <td>19.848803</td>\n",
       "      <td>19.282599</td>\n",
       "      <td>18.892145</td>\n",
       "      <td>18.644810</td>\n",
       "      <td>1.156141e+01</td>\n",
       "      <td>20.082393</td>\n",
       "      <td>19.503786</td>\n",
       "      <td>19.007427</td>\n",
       "      <td>...</td>\n",
       "      <td>2.128541</td>\n",
       "      <td>2.051350</td>\n",
       "      <td>1.741862</td>\n",
       "      <td>1.640903</td>\n",
       "      <td>1.597057</td>\n",
       "      <td>1.670811</td>\n",
       "      <td>1.524661</td>\n",
       "      <td>1.655305</td>\n",
       "      <td>1.695838</td>\n",
       "      <td>0.078601</td>\n",
       "    </tr>\n",
       "    <tr>\n",
       "      <th>std</th>\n",
       "      <td>226.027489</td>\n",
       "      <td>1.205785e+04</td>\n",
       "      <td>1.746506</td>\n",
       "      <td>1.601831</td>\n",
       "      <td>1.574998</td>\n",
       "      <td>1.637690</td>\n",
       "      <td>4.233870e+03</td>\n",
       "      <td>1.724449</td>\n",
       "      <td>1.603436</td>\n",
       "      <td>44.846570</td>\n",
       "      <td>...</td>\n",
       "      <td>5.322825</td>\n",
       "      <td>0.235240</td>\n",
       "      <td>0.278681</td>\n",
       "      <td>0.247652</td>\n",
       "      <td>0.239333</td>\n",
       "      <td>0.242967</td>\n",
       "      <td>1.487771</td>\n",
       "      <td>1.485863</td>\n",
       "      <td>1.439177</td>\n",
       "      <td>0.269116</td>\n",
       "    </tr>\n",
       "    <tr>\n",
       "      <th>min</th>\n",
       "      <td>1.000000</td>\n",
       "      <td>-5.310802e+06</td>\n",
       "      <td>3.701470</td>\n",
       "      <td>8.605801</td>\n",
       "      <td>-30.711890</td>\n",
       "      <td>3.888018</td>\n",
       "      <td>-1.864766e+06</td>\n",
       "      <td>-0.770183</td>\n",
       "      <td>8.231789</td>\n",
       "      <td>-19721.172166</td>\n",
       "      <td>...</td>\n",
       "      <td>0.583952</td>\n",
       "      <td>0.679973</td>\n",
       "      <td>0.452045</td>\n",
       "      <td>0.411013</td>\n",
       "      <td>0.333267</td>\n",
       "      <td>0.465581</td>\n",
       "      <td>0.000000</td>\n",
       "      <td>0.000000</td>\n",
       "      <td>0.000000</td>\n",
       "      <td>0.000000</td>\n",
       "    </tr>\n",
       "    <tr>\n",
       "      <th>25%</th>\n",
       "      <td>174.000000</td>\n",
       "      <td>1.968792e+01</td>\n",
       "      <td>18.759996</td>\n",
       "      <td>18.087935</td>\n",
       "      <td>17.785838</td>\n",
       "      <td>17.463377</td>\n",
       "      <td>1.997887e+01</td>\n",
       "      <td>18.950728</td>\n",
       "      <td>18.292905</td>\n",
       "      <td>17.941803</td>\n",
       "      <td>...</td>\n",
       "      <td>1.691051</td>\n",
       "      <td>2.021560</td>\n",
       "      <td>1.763357</td>\n",
       "      <td>1.644553</td>\n",
       "      <td>1.557283</td>\n",
       "      <td>1.624803</td>\n",
       "      <td>0.000000</td>\n",
       "      <td>0.000000</td>\n",
       "      <td>0.000000</td>\n",
       "      <td>0.000000</td>\n",
       "    </tr>\n",
       "    <tr>\n",
       "      <th>50%</th>\n",
       "      <td>350.000000</td>\n",
       "      <td>2.086932e+01</td>\n",
       "      <td>19.903510</td>\n",
       "      <td>19.454039</td>\n",
       "      <td>19.044438</td>\n",
       "      <td>18.635965</td>\n",
       "      <td>2.104946e+01</td>\n",
       "      <td>20.070619</td>\n",
       "      <td>19.634650</td>\n",
       "      <td>19.193343</td>\n",
       "      <td>...</td>\n",
       "      <td>1.825125</td>\n",
       "      <td>2.098079</td>\n",
       "      <td>1.812434</td>\n",
       "      <td>1.705137</td>\n",
       "      <td>1.655037</td>\n",
       "      <td>1.726669</td>\n",
       "      <td>1.000000</td>\n",
       "      <td>1.000000</td>\n",
       "      <td>1.000000</td>\n",
       "      <td>0.000000</td>\n",
       "    </tr>\n",
       "    <tr>\n",
       "      <th>75%</th>\n",
       "      <td>527.000000</td>\n",
       "      <td>2.210793e+01</td>\n",
       "      <td>21.098885</td>\n",
       "      <td>20.481026</td>\n",
       "      <td>20.053615</td>\n",
       "      <td>19.898821</td>\n",
       "      <td>2.229554e+01</td>\n",
       "      <td>21.341838</td>\n",
       "      <td>20.746834</td>\n",
       "      <td>20.311863</td>\n",
       "      <td>...</td>\n",
       "      <td>1.945569</td>\n",
       "      <td>2.172157</td>\n",
       "      <td>1.858977</td>\n",
       "      <td>1.755860</td>\n",
       "      <td>1.737751</td>\n",
       "      <td>1.809578</td>\n",
       "      <td>2.000000</td>\n",
       "      <td>3.000000</td>\n",
       "      <td>3.000000</td>\n",
       "      <td>0.000000</td>\n",
       "    </tr>\n",
       "    <tr>\n",
       "      <th>max</th>\n",
       "      <td>1000.000000</td>\n",
       "      <td>4.074148e+01</td>\n",
       "      <td>102.124043</td>\n",
       "      <td>54.501228</td>\n",
       "      <td>61.241476</td>\n",
       "      <td>32.130146</td>\n",
       "      <td>9.539492e+01</td>\n",
       "      <td>33.362551</td>\n",
       "      <td>28.881709</td>\n",
       "      <td>32.171369</td>\n",
       "      <td>...</td>\n",
       "      <td>129.387047</td>\n",
       "      <td>2.682186</td>\n",
       "      <td>2.101853</td>\n",
       "      <td>1.944007</td>\n",
       "      <td>1.862731</td>\n",
       "      <td>1.978950</td>\n",
       "      <td>4.000000</td>\n",
       "      <td>4.000000</td>\n",
       "      <td>4.000000</td>\n",
       "      <td>1.000000</td>\n",
       "    </tr>\n",
       "  </tbody>\n",
       "</table>\n",
       "<p>8 rows × 85 columns</p>\n",
       "</div>"
      ],
      "text/plain": [
       "             fiberID      psfMag_u       psfMag_g       psfMag_r  \\\n",
       "count  193992.000000  1.939920e+05  193992.000000  193992.000000   \n",
       "mean      361.683528 -6.397396e+00      19.848803      19.282599   \n",
       "std       226.027489  1.205785e+04       1.746506       1.601831   \n",
       "min         1.000000 -5.310802e+06       3.701470       8.605801   \n",
       "25%       174.000000  1.968792e+01      18.759996      18.087935   \n",
       "50%       350.000000  2.086932e+01      19.903510      19.454039   \n",
       "75%       527.000000  2.210793e+01      21.098885      20.481026   \n",
       "max      1000.000000  4.074148e+01     102.124043      54.501228   \n",
       "\n",
       "            psfMag_i       psfMag_z    fiberMag_u     fiberMag_g  \\\n",
       "count  193992.000000  193992.000000  1.939920e+05  193992.000000   \n",
       "mean       18.892145      18.644810  1.156141e+01      20.082393   \n",
       "std         1.574998       1.637690  4.233870e+03       1.724449   \n",
       "min       -30.711890       3.888018 -1.864766e+06      -0.770183   \n",
       "25%        17.785838      17.463377  1.997887e+01      18.950728   \n",
       "50%        19.044438      18.635965  2.104946e+01      20.070619   \n",
       "75%        20.053615      19.898821  2.229554e+01      21.341838   \n",
       "max        61.241476      32.130146  9.539492e+01      33.362551   \n",
       "\n",
       "          fiberMag_r     fiberMag_i  ...  petroMag_z_std  modelMag_u_std  \\\n",
       "count  193992.000000  193992.000000  ...   193992.000000   193992.000000   \n",
       "mean       19.503786      19.007427  ...        2.128541        2.051350   \n",
       "std         1.603436      44.846570  ...        5.322825        0.235240   \n",
       "min         8.231789  -19721.172166  ...        0.583952        0.679973   \n",
       "25%        18.292905      17.941803  ...        1.691051        2.021560   \n",
       "50%        19.634650      19.193343  ...        1.825125        2.098079   \n",
       "75%        20.746834      20.311863  ...        1.945569        2.172157   \n",
       "max        28.881709      32.171369  ...      129.387047        2.682186   \n",
       "\n",
       "       modelMag_g_std  modelMag_r_std  modelMag_i_std  modelMag_z_std  \\\n",
       "count   193992.000000   193992.000000   193992.000000   193992.000000   \n",
       "mean         1.741862        1.640903        1.597057        1.670811   \n",
       "std          0.278681        0.247652        0.239333        0.242967   \n",
       "min          0.452045        0.411013        0.333267        0.465581   \n",
       "25%          1.763357        1.644553        1.557283        1.624803   \n",
       "50%          1.812434        1.705137        1.655037        1.726669   \n",
       "75%          1.858977        1.755860        1.737751        1.809578   \n",
       "max          2.101853        1.944007        1.862731        1.978950   \n",
       "\n",
       "         psf_cluster  fiber_cluster  model_cluster       over_641  \n",
       "count  193992.000000  193992.000000  193992.000000  193992.000000  \n",
       "mean        1.524661       1.655305       1.695838       0.078601  \n",
       "std         1.487771       1.485863       1.439177       0.269116  \n",
       "min         0.000000       0.000000       0.000000       0.000000  \n",
       "25%         0.000000       0.000000       0.000000       0.000000  \n",
       "50%         1.000000       1.000000       1.000000       0.000000  \n",
       "75%         2.000000       3.000000       3.000000       0.000000  \n",
       "max         4.000000       4.000000       4.000000       1.000000  \n",
       "\n",
       "[8 rows x 85 columns]"
      ]
     },
     "execution_count": 62,
     "metadata": {},
     "output_type": "execute_result"
    }
   ],
   "source": [
    "train.describe()"
   ]
  },
  {
   "cell_type": "code",
   "execution_count": 63,
   "metadata": {
    "ExecuteTime": {
     "end_time": "2020-02-22T09:56:23.227698Z",
     "start_time": "2020-02-22T09:55:23.555430Z"
    }
   },
   "outputs": [],
   "source": [
    "train.to_csv('../dataset/pr_train.csv')\n",
    "test.to_csv('../dataset/pr_test.csv')"
   ]
  }
 ],
 "metadata": {
  "kernelspec": {
   "display_name": "Python 3",
   "language": "python",
   "name": "python3"
  },
  "language_info": {
   "codemirror_mode": {
    "name": "ipython",
    "version": 3
   },
   "file_extension": ".py",
   "mimetype": "text/x-python",
   "name": "python",
   "nbconvert_exporter": "python",
   "pygments_lexer": "ipython3",
   "version": "3.7.3"
  },
  "toc": {
   "base_numbering": 1,
   "nav_menu": {},
   "number_sections": true,
   "sideBar": true,
   "skip_h1_title": false,
   "title_cell": "Table of Contents",
   "title_sidebar": "Contents",
   "toc_cell": false,
   "toc_position": {
    "height": "calc(100% - 180px)",
    "left": "10px",
    "top": "150px",
    "width": "186px"
   },
   "toc_section_display": true,
   "toc_window_display": true
  },
  "varInspector": {
   "cols": {
    "lenName": 16,
    "lenType": 16,
    "lenVar": 40
   },
   "kernels_config": {
    "python": {
     "delete_cmd_postfix": "",
     "delete_cmd_prefix": "del ",
     "library": "var_list.py",
     "varRefreshCmd": "print(var_dic_list())"
    },
    "r": {
     "delete_cmd_postfix": ") ",
     "delete_cmd_prefix": "rm(",
     "library": "var_list.r",
     "varRefreshCmd": "cat(var_dic_list()) "
    }
   },
   "types_to_exclude": [
    "module",
    "function",
    "builtin_function_or_method",
    "instance",
    "_Feature"
   ],
   "window_display": false
  }
 },
 "nbformat": 4,
 "nbformat_minor": 2
}
