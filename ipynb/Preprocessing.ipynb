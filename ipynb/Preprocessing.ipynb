{
 "cells": [
  {
   "cell_type": "markdown",
   "metadata": {},
   "source": [
    "# Introduction\n",
    "\n",
    "그 동안 진행했던, EDA와 Outlier Detection을 이용해 분석용 데이터 전처리를 수행한다. 단계는 다음과 같다.\n",
    "\n",
    "1. urgiz to UBVRclc\n",
    "2. Outlier Detection\n",
    "3. Create Summary Statistic Feature\n",
    "4. PCA & Clustering"
   ]
  },
  {
   "cell_type": "markdown",
   "metadata": {},
   "source": [
    "# Import Module"
   ]
  },
  {
   "cell_type": "code",
   "execution_count": 85,
   "metadata": {
    "ExecuteTime": {
     "end_time": "2020-02-26T12:39:34.554733Z",
     "start_time": "2020-02-26T12:39:34.548732Z"
    }
   },
   "outputs": [],
   "source": [
    "import numpy as np\n",
    "import pandas as pd\n",
    "\n",
    "from sklearn.preprocessing import PolynomialFeatures\n",
    "\n",
    "from sklearn.ensemble import IsolationForest\n",
    "\n",
    "from sklearn.preprocessing import StandardScaler\n",
    "from sklearn.decomposition import PCA\n",
    "from sklearn.cluster import KMeans\n",
    "\n",
    "import warnings\n",
    "warnings.filterwarnings('ignore')"
   ]
  },
  {
   "cell_type": "markdown",
   "metadata": {},
   "source": [
    "# Load Data"
   ]
  },
  {
   "cell_type": "code",
   "execution_count": 86,
   "metadata": {
    "ExecuteTime": {
     "end_time": "2020-02-26T12:39:35.938226Z",
     "start_time": "2020-02-26T12:39:34.560778Z"
    }
   },
   "outputs": [],
   "source": [
    "train = pd.read_csv('../dataset/lee_train.csv', index_col = 0)\n",
    "test = pd.read_csv('../dataset/lee_test.csv', index_col = 0)\n",
    "sample_submission = pd.read_csv('../dataset/sample_submission.csv', index_col = 0)"
   ]
  },
  {
   "cell_type": "markdown",
   "metadata": {},
   "source": [
    "# Preprocessing"
   ]
  },
  {
   "cell_type": "markdown",
   "metadata": {},
   "source": [
    "## urgiz to UBVRclc"
   ]
  },
  {
   "cell_type": "markdown",
   "metadata": {},
   "source": [
    "### B"
   ]
  },
  {
   "cell_type": "code",
   "execution_count": 87,
   "metadata": {
    "ExecuteTime": {
     "end_time": "2020-02-26T12:39:35.985229Z",
     "start_time": "2020-02-26T12:39:35.942232Z"
    }
   },
   "outputs": [],
   "source": [
    "train['psfMag_B'] = train['psfMag_g'] - 0.39 * (train['psfMag_u'] - train['psfMag_g']) + 0.21\n",
    "train['fiberMag_B'] = train['fiberMag_g'] - 0.39 * (train['fiberMag_u'] - train['fiberMag_g']) + 0.21\n",
    "train['petroMag_B'] = train['petroMag_g'] - 0.39 * (train['petroMag_u'] - train['petroMag_g']) + 0.21\n",
    "train['modelMag_B'] = train['modelMag_g'] - 0.39 * (train['modelMag_u'] - train['modelMag_g']) + 0.21"
   ]
  },
  {
   "cell_type": "code",
   "execution_count": 88,
   "metadata": {
    "ExecuteTime": {
     "end_time": "2020-02-26T12:39:36.013228Z",
     "start_time": "2020-02-26T12:39:35.988227Z"
    }
   },
   "outputs": [],
   "source": [
    "test['psfMag_B'] = test['psfMag_g'] - 0.39 * (test['psfMag_u'] - test['psfMag_g']) + 0.21\n",
    "test['fiberMag_B'] = test['fiberMag_g'] - 0.39 * (test['fiberMag_u'] - test['fiberMag_g']) + 0.21\n",
    "test['petroMag_B'] = test['petroMag_g'] - 0.39 * (test['petroMag_u'] - test['petroMag_g']) + 0.21\n",
    "test['modelMag_B'] = test['modelMag_g'] - 0.39 * (test['modelMag_u'] - test['modelMag_g']) + 0.21"
   ]
  },
  {
   "cell_type": "markdown",
   "metadata": {},
   "source": [
    "### V"
   ]
  },
  {
   "cell_type": "code",
   "execution_count": 89,
   "metadata": {
    "ExecuteTime": {
     "end_time": "2020-02-26T12:39:36.057231Z",
     "start_time": "2020-02-26T12:39:36.016229Z"
    }
   },
   "outputs": [],
   "source": [
    "train['psfMag_V'] = train['psfMag_g'] - 0.59 * (train['psfMag_g'] - train['psfMag_r']) - 0.01\n",
    "train['fiberMag_V'] = train['fiberMag_g'] - 0.59 * (train['fiberMag_g'] - train['fiberMag_r']) - 0.01\n",
    "train['petroMag_V'] = train['petroMag_g'] - 0.59 * (train['petroMag_g'] - train['petroMag_r']) - 0.01\n",
    "train['modelMag_V'] = train['modelMag_g'] - 0.59 * (train['modelMag_g'] - train['modelMag_r']) - 0.01"
   ]
  },
  {
   "cell_type": "code",
   "execution_count": 90,
   "metadata": {
    "ExecuteTime": {
     "end_time": "2020-02-26T12:39:36.087230Z",
     "start_time": "2020-02-26T12:39:36.060231Z"
    }
   },
   "outputs": [],
   "source": [
    "test['psfMag_V'] = test['psfMag_g'] - 0.59 * (test['psfMag_g'] - test['psfMag_r']) - 0.01\n",
    "test['fiberMag_V'] = test['fiberMag_g'] - 0.59 * (test['fiberMag_g'] - test['fiberMag_r']) - 0.01\n",
    "test['petroMag_V'] = test['petroMag_g'] - 0.59 * (test['petroMag_g'] - test['petroMag_r']) - 0.01\n",
    "test['modelMag_V'] = test['modelMag_g'] - 0.59 * (test['modelMag_g'] - test['modelMag_r']) - 0.01"
   ]
  },
  {
   "cell_type": "markdown",
   "metadata": {},
   "source": [
    "### U-B"
   ]
  },
  {
   "cell_type": "code",
   "execution_count": 91,
   "metadata": {
    "ExecuteTime": {
     "end_time": "2020-02-26T12:39:36.125229Z",
     "start_time": "2020-02-26T12:39:36.090229Z"
    }
   },
   "outputs": [],
   "source": [
    "train['psfMag_u_b'] = 0.78*(train['psfMag_u'] - train['psfMag_g'])- 0.88\n",
    "train['fiberMag_u_b'] = 0.78*(train['fiberMag_u'] - train['fiberMag_g'])- 0.88\n",
    "train['petroMag_u_b'] = 0.78*(train['petroMag_u'] - train['petroMag_g'])- 0.88\n",
    "train['modelMag_u_b'] = 0.78*(train['modelMag_u'] - train['modelMag_g'])- 0.88"
   ]
  },
  {
   "cell_type": "code",
   "execution_count": 92,
   "metadata": {
    "ExecuteTime": {
     "end_time": "2020-02-26T12:39:36.151229Z",
     "start_time": "2020-02-26T12:39:36.128230Z"
    }
   },
   "outputs": [],
   "source": [
    "test['psfMag_u_b'] = 0.78*(test['psfMag_u'] - test['psfMag_g'])- 0.88\n",
    "test['fiberMag_u_b'] = 0.78*(test['fiberMag_u'] - test['fiberMag_g'])- 0.88\n",
    "test['petroMag_u_b'] = 0.78*(test['petroMag_u'] - test['petroMag_g'])- 0.88\n",
    "test['modelMag_u_b'] = 0.78*(test['modelMag_u'] - test['modelMag_g'])- 0.88"
   ]
  },
  {
   "cell_type": "markdown",
   "metadata": {},
   "source": [
    "### U"
   ]
  },
  {
   "cell_type": "code",
   "execution_count": 93,
   "metadata": {
    "ExecuteTime": {
     "end_time": "2020-02-26T12:39:36.180229Z",
     "start_time": "2020-02-26T12:39:36.157230Z"
    }
   },
   "outputs": [],
   "source": [
    "train['psfMag_U'] = train['psfMag_u_b'] + train['psfMag_B']\n",
    "train['fiberMag_U'] = train['fiberMag_u_b'] + train['fiberMag_B']\n",
    "train['petroMag_U'] = train['petroMag_u_b'] + train['petroMag_B']\n",
    "train['modelMag_U'] = train['modelMag_u_b'] + train['modelMag_B']"
   ]
  },
  {
   "cell_type": "code",
   "execution_count": 94,
   "metadata": {
    "ExecuteTime": {
     "end_time": "2020-02-26T12:39:36.203228Z",
     "start_time": "2020-02-26T12:39:36.186238Z"
    }
   },
   "outputs": [],
   "source": [
    "test['psfMag_U'] = test['psfMag_u_b'] + test['psfMag_B']\n",
    "test['fiberMag_U'] = test['fiberMag_u_b'] + test['fiberMag_B']\n",
    "test['petroMag_U'] = test['petroMag_u_b'] + test['petroMag_B']\n",
    "test['modelMag_U'] = test['modelMag_u_b'] + test['modelMag_B']"
   ]
  },
  {
   "cell_type": "markdown",
   "metadata": {},
   "source": [
    "### B-V"
   ]
  },
  {
   "cell_type": "code",
   "execution_count": 95,
   "metadata": {
    "ExecuteTime": {
     "end_time": "2020-02-26T12:39:36.244230Z",
     "start_time": "2020-02-26T12:39:36.205228Z"
    }
   },
   "outputs": [],
   "source": [
    "train['psfMag_b_v'] = 0.98*(train['psfMag_g']-train['psfMag_r']) + 0.22\n",
    "train['fiberMag_b_v'] = 0.98*(train['fiberMag_g'] - train['fiberMag_r']) + 0.22\n",
    "train['petroMag_b_v'] = 0.98*(train['petroMag_g'] - train['petroMag_r']) + 0.22\n",
    "train['modelMag_b_v'] = 0.98*(train['modelMag_g'] - train['modelMag_r']) + 0.22"
   ]
  },
  {
   "cell_type": "code",
   "execution_count": 96,
   "metadata": {
    "ExecuteTime": {
     "end_time": "2020-02-26T12:39:36.273233Z",
     "start_time": "2020-02-26T12:39:36.248235Z"
    }
   },
   "outputs": [],
   "source": [
    "test['psfMag_b_v'] = 0.98*(test['psfMag_g']-test['psfMag_r']) + 0.22\n",
    "test['fiberMag_b_v'] = 0.98*(test['fiberMag_g'] - test['fiberMag_r']) + 0.22\n",
    "test['petroMag_b_v'] = 0.98*(test['petroMag_g'] - test['petroMag_r']) + 0.22\n",
    "test['modelMag_b_v'] = 0.98*(test['modelMag_g'] - test['modelMag_r']) + 0.22"
   ]
  },
  {
   "cell_type": "markdown",
   "metadata": {},
   "source": [
    "### u - g"
   ]
  },
  {
   "cell_type": "code",
   "execution_count": 97,
   "metadata": {
    "ExecuteTime": {
     "end_time": "2020-02-26T12:39:36.303233Z",
     "start_time": "2020-02-26T12:39:36.277228Z"
    }
   },
   "outputs": [],
   "source": [
    "train['psfmMag_u_g'] = train['psfMag_u'] - train['psfMag_g']\n",
    "train['fibermMag_u_g'] = train['fiberMag_u'] - train['fiberMag_g']\n",
    "train['petromMag_u_g'] = train['petroMag_u'] - train['petroMag_g']\n",
    "train['modelmMag_u_g'] = train['modelMag_u'] - train['modelMag_g']"
   ]
  },
  {
   "cell_type": "code",
   "execution_count": 98,
   "metadata": {
    "ExecuteTime": {
     "end_time": "2020-02-26T12:39:36.323228Z",
     "start_time": "2020-02-26T12:39:36.306230Z"
    }
   },
   "outputs": [],
   "source": [
    "test['psfmMag_u_g'] = test['psfMag_u'] - test['psfMag_g']\n",
    "test['fibermMag_u_g'] = test['fiberMag_u'] - test['fiberMag_g']\n",
    "test['petromMag_u_g'] = test['petroMag_u'] - test['petroMag_g']\n",
    "test['modelmMag_u_g'] = test['modelMag_u'] - test['modelMag_g']"
   ]
  },
  {
   "cell_type": "markdown",
   "metadata": {},
   "source": [
    "### g - r"
   ]
  },
  {
   "cell_type": "code",
   "execution_count": 99,
   "metadata": {
    "ExecuteTime": {
     "end_time": "2020-02-26T12:39:36.352227Z",
     "start_time": "2020-02-26T12:39:36.327230Z"
    }
   },
   "outputs": [],
   "source": [
    "train['psfMag_g_r'] = train['psfMag_g'] - train['psfMag_r']\n",
    "train['fiberMag_g_r'] = train['fiberMag_g'] - train['fiberMag_r']\n",
    "train['petroMag_g_r'] = train['petroMag_g'] - train['petroMag_r']\n",
    "train['modelMag_g_r'] = train['modelMag_g'] - train['modelMag_r']"
   ]
  },
  {
   "cell_type": "code",
   "execution_count": 100,
   "metadata": {
    "ExecuteTime": {
     "end_time": "2020-02-26T12:39:36.371230Z",
     "start_time": "2020-02-26T12:39:36.355232Z"
    }
   },
   "outputs": [],
   "source": [
    "test['psfMag_g_r'] = test['psfMag_g'] - test['psfMag_r']\n",
    "test['fiberMag_g_r'] = test['fiberMag_g'] - test['fiberMag_r']\n",
    "test['petroMag_g_r'] = test['petroMag_g'] - test['petroMag_r']\n",
    "test['modelMag_g_r'] = test['modelMag_g'] - test['modelMag_r']"
   ]
  },
  {
   "cell_type": "markdown",
   "metadata": {},
   "source": [
    "### g - i"
   ]
  },
  {
   "cell_type": "code",
   "execution_count": 101,
   "metadata": {
    "ExecuteTime": {
     "end_time": "2020-02-26T12:39:36.398229Z",
     "start_time": "2020-02-26T12:39:36.374231Z"
    }
   },
   "outputs": [],
   "source": [
    "train['psfMag_g_i'] = train['psfMag_g'] - train['psfMag_i']\n",
    "train['fiberMag_g_i'] = train['fiberMag_g'] - train['fiberMag_i']\n",
    "train['petroMag_g_i'] = train['petroMag_g'] - train['petroMag_i']\n",
    "train['modelMag_g_i'] = train['modelMag_g'] - train['modelMag_i']"
   ]
  },
  {
   "cell_type": "code",
   "execution_count": 102,
   "metadata": {
    "ExecuteTime": {
     "end_time": "2020-02-26T12:39:36.419232Z",
     "start_time": "2020-02-26T12:39:36.401228Z"
    }
   },
   "outputs": [],
   "source": [
    "test['psfMag_g_i'] = test['psfMag_g'] - test['psfMag_i']\n",
    "test['fiberMag_g_i'] = test['fiberMag_g'] - test['fiberMag_i']\n",
    "test['petroMag_g_i'] = test['petroMag_g'] - test['petroMag_i']\n",
    "test['modelMag_g_i'] = test['modelMag_g'] - test['modelMag_i']"
   ]
  },
  {
   "cell_type": "markdown",
   "metadata": {},
   "source": [
    "### i -  z"
   ]
  },
  {
   "cell_type": "code",
   "execution_count": 103,
   "metadata": {
    "ExecuteTime": {
     "end_time": "2020-02-26T12:39:36.449231Z",
     "start_time": "2020-02-26T12:39:36.423230Z"
    }
   },
   "outputs": [],
   "source": [
    "train['psfMag_i_z'] = train['psfMag_i'] - train['psfMag_z']\n",
    "train['fiberMag_i_z'] = train['fiberMag_i'] - train['fiberMag_z']\n",
    "train['petroMag_i_z'] = train['petroMag_i'] - train['petroMag_z']\n",
    "train['modelMag_i_z'] = train['modelMag_i'] - train['modelMag_z']"
   ]
  },
  {
   "cell_type": "code",
   "execution_count": 104,
   "metadata": {
    "ExecuteTime": {
     "end_time": "2020-02-26T12:39:36.468228Z",
     "start_time": "2020-02-26T12:39:36.452230Z"
    }
   },
   "outputs": [],
   "source": [
    "test['psfMag_i_z'] = test['psfMag_i'] - test['psfMag_z']\n",
    "test['fiberMag_i_z'] = test['fiberMag_i'] - test['fiberMag_z']\n",
    "test['petroMag_i_z'] = test['petroMag_i'] - test['petroMag_z']\n",
    "test['modelMag_i_z'] = test['modelMag_i'] - test['modelMag_z']"
   ]
  },
  {
   "cell_type": "markdown",
   "metadata": {},
   "source": [
    "# Polynomial Feature\n",
    "## TO - DO"
   ]
  },
  {
   "cell_type": "markdown",
   "metadata": {},
   "source": [
    "# 색지수(B-V)를 이용한 Spectral Class 변수 생성\n",
    "\n",
    "<img src=\"https://www.scienceall.com/nas/image/201008/20100818_Dwh30q09.jpg\">"
   ]
  },
  {
   "cell_type": "code",
   "execution_count": 105,
   "metadata": {
    "ExecuteTime": {
     "end_time": "2020-02-26T12:39:36.482231Z",
     "start_time": "2020-02-26T12:39:36.471231Z"
    }
   },
   "outputs": [],
   "source": [
    "def SpectralClass(x):\n",
    "    if x < -0.3:\n",
    "        return \"O\"\n",
    "    \n",
    "    elif (x >= -0.3) & (x < 0):\n",
    "        return \"B\"\n",
    "    \n",
    "    elif (x >= 0) & (x < 0.33):\n",
    "        return \"A\"\n",
    "    \n",
    "    elif (x >= 0.33) & (x < 0.6):\n",
    "        return \"F\"\n",
    "    \n",
    "    elif (x >= 0.6) & (x < 0.81):\n",
    "        return \"G\"\n",
    "    \n",
    "    elif (x >= 0.81) & (x < 1.4):\n",
    "        return \"K\"\n",
    "    \n",
    "    else:\n",
    "        return \"M\""
   ]
  },
  {
   "cell_type": "markdown",
   "metadata": {},
   "source": [
    "## Train"
   ]
  },
  {
   "cell_type": "code",
   "execution_count": 106,
   "metadata": {
    "ExecuteTime": {
     "end_time": "2020-02-26T12:39:37.285227Z",
     "start_time": "2020-02-26T12:39:36.486232Z"
    }
   },
   "outputs": [],
   "source": [
    "train['star_spectrum_psf'] = train['psfMag_b_v'].apply(SpectralClass)\n",
    "train['star_spectrum_fiber'] = train['fiberMag_b_v'].apply(SpectralClass)\n",
    "train['star_spectrum_petro'] = train['petroMag_b_v'].apply(SpectralClass)\n",
    "train['star_spectrum_model'] = train['modelMag_b_v'].apply(SpectralClass)"
   ]
  },
  {
   "cell_type": "code",
   "execution_count": 83,
   "metadata": {
    "ExecuteTime": {
     "end_time": "2020-02-26T12:39:16.493573Z",
     "start_time": "2020-02-26T12:39:15.931530Z"
    }
   },
   "outputs": [],
   "source": [
    "sspsf = pd.get_dummies(train['star_spectrum_psf'], prefix = 'star_spectrum_psf_')\n",
    "ssf = pd.get_dummies(train['star_spectrum_fiber'], prefix = 'star_spectrum_fiber_')\n",
    "sspetro = pd.get_dummies(train['star_spectrum_petro'], prefix = 'star_spectrum_petro_')\n",
    "ssm = pd.get_dummies(train['star_spectrum_model'], prefix = 'star_spectrum_model_')\n",
    "\n",
    "star_spectrum_train = pd.concat([sspsf, ssf, sspetro, ssm], axis = 1)\n",
    "train = pd.concat([train,star_spectrum_train], axis = 1)\n",
    "train.drop(columns = ['star_spectrum_psf', 'star_spectrum_fiber', 'star_spectrum_petro', 'star_spectrum_model'],\n",
    "          inplace = True)"
   ]
  },
  {
   "cell_type": "markdown",
   "metadata": {},
   "source": [
    "## Test"
   ]
  },
  {
   "cell_type": "code",
   "execution_count": 84,
   "metadata": {
    "ExecuteTime": {
     "end_time": "2020-02-26T12:39:16.543565Z",
     "start_time": "2020-02-26T12:39:16.498051Z"
    }
   },
   "outputs": [],
   "source": [
    "test['star_spectrum_psf'] = test['psfMag_b_v'].apply(SpectralClass)\n",
    "test['star_spectrum_fiber'] = test['fiberMag_b_v'].apply(SpectralClass)\n",
    "test['star_spectrum_petro'] = test['petroMag_b_v'].apply(SpectralClass)\n",
    "test['star_spectrum_model'] = test['modelMag_b_v'].apply(SpectralClass)"
   ]
  },
  {
   "cell_type": "code",
   "execution_count": 57,
   "metadata": {
    "ExecuteTime": {
     "end_time": "2020-02-26T12:36:56.616220Z",
     "start_time": "2020-02-26T12:36:56.569250Z"
    }
   },
   "outputs": [],
   "source": [
    "sspsf = pd.get_dummies(test['star_spectrum_psf'], prefix = 'star_spectrum_psf_')\n",
    "ssf = pd.get_dummies(test['star_spectrum_fiber'], prefix = 'star_spectrum_fiber_')\n",
    "sspetro = pd.get_dummies(test['star_spectrum_petro'], prefix = 'star_spectrum_petro_')\n",
    "ssm = pd.get_dummies(test['star_spectrum_model'], prefix = 'star_spectrum_model_')\n",
    "\n",
    "star_spectrum_test = pd.concat([sspsf, ssf, sspetro, ssm], axis = 1)\n",
    "test = pd.concat([test,star_spectrum_test], axis = 1)\n",
    "test.drop(columns = ['star_spectrum_psf', 'star_spectrum_fiber', 'star_spectrum_petro', 'star_spectrum_model'],\n",
    "          inplace = True)"
   ]
  },
  {
   "cell_type": "code",
   "execution_count": 58,
   "metadata": {
    "ExecuteTime": {
     "end_time": "2020-02-26T12:37:28.464931Z",
     "start_time": "2020-02-26T12:36:56.623222Z"
    }
   },
   "outputs": [],
   "source": [
    "train.to_csv('../dataset/train_20200226.csv')\n",
    "test.to_csv('../dataset/test_20200226.csv')"
   ]
  },
  {
   "cell_type": "markdown",
   "metadata": {},
   "source": [
    "## Outlier Detection"
   ]
  },
  {
   "cell_type": "code",
   "execution_count": 47,
   "metadata": {
    "ExecuteTime": {
     "end_time": "2020-02-22T09:54:58.369560Z",
     "start_time": "2020-02-22T09:54:14.465747Z"
    }
   },
   "outputs": [
    {
     "data": {
      "text/plain": [
       " 1    193992\n",
       "-1      5999\n",
       "Name: if_outlier, dtype: int64"
      ]
     },
     "execution_count": 47,
     "metadata": {},
     "output_type": "execute_result"
    }
   ],
   "source": [
    "X_train = train.drop(columns = 'type')\n",
    "y_train = train['type']\n",
    "\n",
    "num_X_train = X_train.drop(columns = 'fiberID')\n",
    "num_X_test = test.drop(columns = 'fiberID')\n",
    "\n",
    "model = IsolationForest(random_state = 42, contamination = 0.03)\n",
    "model.fit(num_X_train)\n",
    "\n",
    "outlier_pred = model.predict(num_X_train)\n",
    "\n",
    "train['if_outlier'] = outlier_pred\n",
    "\n",
    "train['if_outlier'].value_counts()"
   ]
  },
  {
   "cell_type": "code",
   "execution_count": 48,
   "metadata": {
    "ExecuteTime": {
     "end_time": "2020-02-22T09:54:58.439566Z",
     "start_time": "2020-02-22T09:54:58.372560Z"
    }
   },
   "outputs": [],
   "source": [
    "train_no_outlier = train.loc[train['if_outlier'] == 1]\n",
    "train_no_outlier.drop(columns = ['if_outlier'], inplace = True)"
   ]
  },
  {
   "cell_type": "markdown",
   "metadata": {},
   "source": [
    "## Create Summary Statistic Featue\n",
    "\n",
    "### Train"
   ]
  },
  {
   "cell_type": "code",
   "execution_count": 49,
   "metadata": {
    "ExecuteTime": {
     "end_time": "2020-02-22T09:54:58.827184Z",
     "start_time": "2020-02-22T09:54:58.441558Z"
    }
   },
   "outputs": [],
   "source": [
    "fiberID_mean = train_no_outlier.groupby('fiberID').mean()\n",
    "mean_cols = [\"{}_mean\".format(x) for x in fiberID_mean.columns]\n",
    "fiberID_mean.columns = mean_cols\n",
    "fiberID_mean.reset_index(inplace = True)\n",
    "\n",
    "fiberID_median = train_no_outlier.groupby('fiberID').median()\n",
    "median_cols = [\"{}_median\".format(x) for x in fiberID_median.columns]\n",
    "fiberID_median.columns = median_cols\n",
    "fiberID_median.reset_index(inplace = True)\n",
    "\n",
    "fiberID_std = train_no_outlier.groupby('fiberID').std()\n",
    "std_cols = [\"{}_std\".format(x) for x in fiberID_std.columns]\n",
    "fiberID_std.columns = std_cols\n",
    "fiberID_std.reset_index(inplace = True)"
   ]
  },
  {
   "cell_type": "code",
   "execution_count": 50,
   "metadata": {
    "ExecuteTime": {
     "end_time": "2020-02-22T09:54:59.331840Z",
     "start_time": "2020-02-22T09:54:58.831151Z"
    }
   },
   "outputs": [],
   "source": [
    "train = pd.merge(train_no_outlier, fiberID_mean, on = 'fiberID', how = 'left')\n",
    "train = pd.merge(train, fiberID_median, on = 'fiberID', how = 'left')\n",
    "train = pd.merge(train, fiberID_std, on = 'fiberID', how = 'left')"
   ]
  },
  {
   "cell_type": "markdown",
   "metadata": {},
   "source": [
    "### Test"
   ]
  },
  {
   "cell_type": "code",
   "execution_count": 51,
   "metadata": {
    "ExecuteTime": {
     "end_time": "2020-02-22T09:54:59.391758Z",
     "start_time": "2020-02-22T09:54:59.335888Z"
    }
   },
   "outputs": [],
   "source": [
    "fiberID_mean = test.groupby('fiberID').mean()\n",
    "mean_cols = [\"{}_mean\".format(x) for x in fiberID_mean.columns]\n",
    "fiberID_mean.columns = mean_cols\n",
    "fiberID_mean.reset_index(inplace = True)\n",
    "\n",
    "fiberID_median = test.groupby('fiberID').median()\n",
    "median_cols = [\"{}_median\".format(x) for x in fiberID_median.columns]\n",
    "fiberID_median.columns = median_cols\n",
    "fiberID_median.reset_index(inplace = True)\n",
    "\n",
    "fiberID_std = test.groupby('fiberID').std()\n",
    "std_cols = [\"{}_std\".format(x) for x in fiberID_std.columns]\n",
    "fiberID_std.columns = std_cols\n",
    "fiberID_std.reset_index(inplace = True)"
   ]
  },
  {
   "cell_type": "code",
   "execution_count": 52,
   "metadata": {
    "ExecuteTime": {
     "end_time": "2020-02-22T09:54:59.446043Z",
     "start_time": "2020-02-22T09:54:59.394758Z"
    }
   },
   "outputs": [],
   "source": [
    "test = pd.merge(test, fiberID_mean, on = 'fiberID', how = 'left')\n",
    "test = pd.merge(test, fiberID_median, on = 'fiberID', how = 'left')\n",
    "test = pd.merge(test, fiberID_std, on = 'fiberID', how = 'left')"
   ]
  },
  {
   "cell_type": "markdown",
   "metadata": {},
   "source": [
    "# k-Means Clustering\n",
    "\n",
    "## psfMag\n",
    "\n",
    "### Train"
   ]
  },
  {
   "cell_type": "code",
   "execution_count": 53,
   "metadata": {
    "ExecuteTime": {
     "end_time": "2020-02-22T09:55:07.105575Z",
     "start_time": "2020-02-22T09:54:59.452043Z"
    }
   },
   "outputs": [
    {
     "name": "stdout",
     "output_type": "stream",
     "text": [
      "[0.70151416 0.19999788]\n"
     ]
    }
   ],
   "source": [
    "X_train = train.drop(columns = 'type')\n",
    "y_train = train['type']\n",
    "\n",
    "psfMag_train = X_train[['psfMag_u', 'psfMag_g', 'psfMag_r', 'psfMag_i', 'psfMag_z']]\n",
    "scaler = StandardScaler()\n",
    "psfMag_train_scaler = scaler.fit_transform(psfMag_train)\n",
    "\n",
    "pca = PCA(n_components = 2)\n",
    "psf_pca = pca.fit_transform(psfMag_train_scaler)\n",
    "print(pca.explained_variance_ratio_)\n",
    "psf_pca_scaler_df = pd.DataFrame(psf_pca)\n",
    "\n",
    "x = psf_pca_scaler_df.values\n",
    "\n",
    "km = KMeans(n_clusters = 5, init = 'k-means++', max_iter = 300, n_init = 10, random_state = 42)\n",
    "y_means = km.fit_predict(x)\n",
    "\n",
    "train['psf_cluster'] = y_means"
   ]
  },
  {
   "cell_type": "markdown",
   "metadata": {},
   "source": [
    "### Test"
   ]
  },
  {
   "cell_type": "code",
   "execution_count": 54,
   "metadata": {
    "ExecuteTime": {
     "end_time": "2020-02-22T09:55:07.152393Z",
     "start_time": "2020-02-22T09:55:07.110591Z"
    }
   },
   "outputs": [
    {
     "name": "stdout",
     "output_type": "stream",
     "text": [
      "[0.70151416 0.19999788]\n"
     ]
    }
   ],
   "source": [
    "X_test = test\n",
    "\n",
    "psfMag_test = X_test[['psfMag_u', 'psfMag_g', 'psfMag_r', 'psfMag_i', 'psfMag_z']]\n",
    "psfMag_test_scaler = scaler.transform(psfMag_test)\n",
    "\n",
    "psf_pca = pca.transform(psfMag_test_scaler)\n",
    "print(pca.explained_variance_ratio_)\n",
    "psf_pca_scaler_df = pd.DataFrame(psf_pca)\n",
    "\n",
    "x = psf_pca_scaler_df.values\n",
    "y_means = km.predict(x)\n",
    "\n",
    "test['psf_cluster'] = y_means"
   ]
  },
  {
   "cell_type": "markdown",
   "metadata": {},
   "source": [
    "## fiberMag\n",
    "### Train"
   ]
  },
  {
   "cell_type": "code",
   "execution_count": 55,
   "metadata": {
    "ExecuteTime": {
     "end_time": "2020-02-22T09:55:14.552187Z",
     "start_time": "2020-02-22T09:55:07.157110Z"
    }
   },
   "outputs": [
    {
     "name": "stdout",
     "output_type": "stream",
     "text": [
      "[0.51879584 0.19999793]\n"
     ]
    }
   ],
   "source": [
    "X_train = train.drop(columns = 'type')\n",
    "y_train = train['type']\n",
    "\n",
    "fiberMag_train = X_train[['fiberMag_u', 'fiberMag_g', 'fiberMag_r', 'fiberMag_i', 'fiberMag_z']]\n",
    "scaler = StandardScaler()\n",
    "fiberMag_train_scaler = scaler.fit_transform(fiberMag_train)\n",
    "\n",
    "pca = PCA(n_components = 2)\n",
    "fiber_pca = pca.fit_transform(fiberMag_train_scaler)\n",
    "print(pca.explained_variance_ratio_)\n",
    "fiber_pca_scaler_df = pd.DataFrame(fiber_pca)\n",
    "\n",
    "x = fiber_pca_scaler_df.values\n",
    "\n",
    "km = KMeans(n_clusters = 5, init = 'k-means++', max_iter = 300, n_init = 10, random_state = 42)\n",
    "y_means = km.fit_predict(x)\n",
    "\n",
    "train['fiber_cluster'] = y_means"
   ]
  },
  {
   "cell_type": "markdown",
   "metadata": {},
   "source": [
    "### Test"
   ]
  },
  {
   "cell_type": "code",
   "execution_count": 56,
   "metadata": {
    "ExecuteTime": {
     "end_time": "2020-02-22T09:55:14.588530Z",
     "start_time": "2020-02-22T09:55:14.556179Z"
    }
   },
   "outputs": [
    {
     "name": "stdout",
     "output_type": "stream",
     "text": [
      "[0.51879584 0.19999793]\n"
     ]
    }
   ],
   "source": [
    "X_test = test\n",
    "\n",
    "fiberMag_test = X_test[['fiberMag_u', 'fiberMag_g', 'fiberMag_r', 'fiberMag_i', 'fiberMag_z']]\n",
    "fiberMag_test_scaler = scaler.transform(fiberMag_test)\n",
    "\n",
    "fiber_pca = pca.transform(fiberMag_test_scaler)\n",
    "print(pca.explained_variance_ratio_)\n",
    "fiber_pca_scaler_df = pd.DataFrame(fiber_pca)\n",
    "\n",
    "x = fiber_pca_scaler_df.values\n",
    "y_means = km.predict(x)\n",
    "\n",
    "test['fiber_cluster'] = y_means"
   ]
  },
  {
   "cell_type": "markdown",
   "metadata": {},
   "source": [
    "## model\n",
    "### Train"
   ]
  },
  {
   "cell_type": "code",
   "execution_count": 57,
   "metadata": {
    "ExecuteTime": {
     "end_time": "2020-02-22T09:55:21.847151Z",
     "start_time": "2020-02-22T09:55:14.592697Z"
    }
   },
   "outputs": [
    {
     "name": "stdout",
     "output_type": "stream",
     "text": [
      "[0.82275801 0.15646262]\n"
     ]
    }
   ],
   "source": [
    "X_train = train.drop(columns = 'type')\n",
    "y_train = train['type']\n",
    "\n",
    "modelMag_train = X_train[['modelMag_u', 'modelMag_g', 'modelMag_r', 'modelMag_i', 'modelMag_z']]\n",
    "scaler = StandardScaler()\n",
    "modelMag_train_scaler = scaler.fit_transform(modelMag_train)\n",
    "\n",
    "pca = PCA(n_components = 2)\n",
    "model_pca = pca.fit_transform(modelMag_train_scaler)\n",
    "print(pca.explained_variance_ratio_)\n",
    "model_pca_scaler_df = pd.DataFrame(model_pca)\n",
    "\n",
    "x = model_pca_scaler_df.values\n",
    "\n",
    "km = KMeans(n_clusters = 5, init = 'k-means++', max_iter = 300, n_init = 10, random_state = 42)\n",
    "y_means = km.fit_predict(x)\n",
    "\n",
    "train['model_cluster'] = y_means"
   ]
  },
  {
   "cell_type": "markdown",
   "metadata": {},
   "source": [
    "### Test"
   ]
  },
  {
   "cell_type": "code",
   "execution_count": 58,
   "metadata": {
    "ExecuteTime": {
     "end_time": "2020-02-22T09:55:21.888401Z",
     "start_time": "2020-02-22T09:55:21.851409Z"
    }
   },
   "outputs": [
    {
     "name": "stdout",
     "output_type": "stream",
     "text": [
      "[0.82275801 0.15646262]\n"
     ]
    }
   ],
   "source": [
    "X_test = test\n",
    "\n",
    "modelMag_test = X_test[['modelMag_u', 'modelMag_g', 'modelMag_r', 'modelMag_i', 'modelMag_z']]\n",
    "modelMag_test_scaler = scaler.transform(modelMag_test)\n",
    "\n",
    "model_pca = pca.transform(modelMag_test_scaler)\n",
    "print(pca.explained_variance_ratio_)\n",
    "model_pca_scaler_df = pd.DataFrame(model_pca)\n",
    "\n",
    "x = model_pca_scaler_df.values\n",
    "y_means = km.predict(x)\n",
    "\n",
    "test['model_cluster'] = y_means"
   ]
  },
  {
   "cell_type": "code",
   "execution_count": 59,
   "metadata": {
    "ExecuteTime": {
     "end_time": "2020-02-22T09:55:21.944492Z",
     "start_time": "2020-02-22T09:55:21.892405Z"
    }
   },
   "outputs": [
    {
     "data": {
      "text/html": [
       "<div>\n",
       "<style scoped>\n",
       "    .dataframe tbody tr th:only-of-type {\n",
       "        vertical-align: middle;\n",
       "    }\n",
       "\n",
       "    .dataframe tbody tr th {\n",
       "        vertical-align: top;\n",
       "    }\n",
       "\n",
       "    .dataframe thead th {\n",
       "        text-align: right;\n",
       "    }\n",
       "</style>\n",
       "<table border=\"1\" class=\"dataframe\">\n",
       "  <thead>\n",
       "    <tr style=\"text-align: right;\">\n",
       "      <th></th>\n",
       "      <th>fiberID</th>\n",
       "      <th>psfMag_u</th>\n",
       "      <th>psfMag_g</th>\n",
       "      <th>psfMag_r</th>\n",
       "      <th>psfMag_i</th>\n",
       "      <th>psfMag_z</th>\n",
       "      <th>fiberMag_u</th>\n",
       "      <th>fiberMag_g</th>\n",
       "      <th>fiberMag_r</th>\n",
       "      <th>fiberMag_i</th>\n",
       "      <th>...</th>\n",
       "      <th>petroMag_i_std</th>\n",
       "      <th>petroMag_z_std</th>\n",
       "      <th>modelMag_u_std</th>\n",
       "      <th>modelMag_g_std</th>\n",
       "      <th>modelMag_r_std</th>\n",
       "      <th>modelMag_i_std</th>\n",
       "      <th>modelMag_z_std</th>\n",
       "      <th>psf_cluster</th>\n",
       "      <th>fiber_cluster</th>\n",
       "      <th>model_cluster</th>\n",
       "    </tr>\n",
       "  </thead>\n",
       "  <tbody>\n",
       "    <tr>\n",
       "      <th>0</th>\n",
       "      <td>251</td>\n",
       "      <td>23.817399</td>\n",
       "      <td>22.508963</td>\n",
       "      <td>20.981106</td>\n",
       "      <td>18.517316</td>\n",
       "      <td>17.076079</td>\n",
       "      <td>25.053890</td>\n",
       "      <td>23.167848</td>\n",
       "      <td>21.335901</td>\n",
       "      <td>18.835858</td>\n",
       "      <td>...</td>\n",
       "      <td>1.893139</td>\n",
       "      <td>1.793287</td>\n",
       "      <td>2.367397</td>\n",
       "      <td>2.213415</td>\n",
       "      <td>2.036589</td>\n",
       "      <td>1.887005</td>\n",
       "      <td>1.833027</td>\n",
       "      <td>0</td>\n",
       "      <td>1</td>\n",
       "      <td>2</td>\n",
       "    </tr>\n",
       "    <tr>\n",
       "      <th>1</th>\n",
       "      <td>386</td>\n",
       "      <td>22.806983</td>\n",
       "      <td>21.937111</td>\n",
       "      <td>20.335770</td>\n",
       "      <td>20.000512</td>\n",
       "      <td>19.527369</td>\n",
       "      <td>22.498565</td>\n",
       "      <td>22.186000</td>\n",
       "      <td>20.618879</td>\n",
       "      <td>20.301204</td>\n",
       "      <td>...</td>\n",
       "      <td>1.347009</td>\n",
       "      <td>1.121100</td>\n",
       "      <td>2.043080</td>\n",
       "      <td>2.108371</td>\n",
       "      <td>1.781324</td>\n",
       "      <td>1.358582</td>\n",
       "      <td>1.112072</td>\n",
       "      <td>0</td>\n",
       "      <td>3</td>\n",
       "      <td>4</td>\n",
       "    </tr>\n",
       "    <tr>\n",
       "      <th>2</th>\n",
       "      <td>232</td>\n",
       "      <td>21.024250</td>\n",
       "      <td>19.235669</td>\n",
       "      <td>18.304061</td>\n",
       "      <td>17.808608</td>\n",
       "      <td>17.380113</td>\n",
       "      <td>21.205546</td>\n",
       "      <td>19.439533</td>\n",
       "      <td>18.344433</td>\n",
       "      <td>17.909690</td>\n",
       "      <td>...</td>\n",
       "      <td>1.591555</td>\n",
       "      <td>1.609979</td>\n",
       "      <td>3.038135</td>\n",
       "      <td>1.932750</td>\n",
       "      <td>1.771562</td>\n",
       "      <td>1.583241</td>\n",
       "      <td>1.574938</td>\n",
       "      <td>2</td>\n",
       "      <td>0</td>\n",
       "      <td>0</td>\n",
       "    </tr>\n",
       "    <tr>\n",
       "      <th>3</th>\n",
       "      <td>557</td>\n",
       "      <td>20.503424</td>\n",
       "      <td>20.286261</td>\n",
       "      <td>20.197204</td>\n",
       "      <td>20.162419</td>\n",
       "      <td>20.059832</td>\n",
       "      <td>20.976132</td>\n",
       "      <td>20.611498</td>\n",
       "      <td>20.567262</td>\n",
       "      <td>20.479318</td>\n",
       "      <td>...</td>\n",
       "      <td>1.813364</td>\n",
       "      <td>1.981834</td>\n",
       "      <td>2.144815</td>\n",
       "      <td>1.829022</td>\n",
       "      <td>1.887076</td>\n",
       "      <td>1.825980</td>\n",
       "      <td>1.913923</td>\n",
       "      <td>0</td>\n",
       "      <td>1</td>\n",
       "      <td>1</td>\n",
       "    </tr>\n",
       "    <tr>\n",
       "      <th>4</th>\n",
       "      <td>75</td>\n",
       "      <td>24.244851</td>\n",
       "      <td>22.668237</td>\n",
       "      <td>21.239333</td>\n",
       "      <td>19.284777</td>\n",
       "      <td>18.235939</td>\n",
       "      <td>25.681860</td>\n",
       "      <td>22.935289</td>\n",
       "      <td>21.642456</td>\n",
       "      <td>19.624926</td>\n",
       "      <td>...</td>\n",
       "      <td>1.627857</td>\n",
       "      <td>1.491637</td>\n",
       "      <td>2.775471</td>\n",
       "      <td>2.762910</td>\n",
       "      <td>2.167265</td>\n",
       "      <td>1.685952</td>\n",
       "      <td>1.623274</td>\n",
       "      <td>0</td>\n",
       "      <td>3</td>\n",
       "      <td>2</td>\n",
       "    </tr>\n",
       "  </tbody>\n",
       "</table>\n",
       "<p>5 rows × 84 columns</p>\n",
       "</div>"
      ],
      "text/plain": [
       "   fiberID   psfMag_u   psfMag_g   psfMag_r   psfMag_i   psfMag_z  fiberMag_u  \\\n",
       "0      251  23.817399  22.508963  20.981106  18.517316  17.076079   25.053890   \n",
       "1      386  22.806983  21.937111  20.335770  20.000512  19.527369   22.498565   \n",
       "2      232  21.024250  19.235669  18.304061  17.808608  17.380113   21.205546   \n",
       "3      557  20.503424  20.286261  20.197204  20.162419  20.059832   20.976132   \n",
       "4       75  24.244851  22.668237  21.239333  19.284777  18.235939   25.681860   \n",
       "\n",
       "   fiberMag_g  fiberMag_r  fiberMag_i  ...  petroMag_i_std  petroMag_z_std  \\\n",
       "0   23.167848   21.335901   18.835858  ...        1.893139        1.793287   \n",
       "1   22.186000   20.618879   20.301204  ...        1.347009        1.121100   \n",
       "2   19.439533   18.344433   17.909690  ...        1.591555        1.609979   \n",
       "3   20.611498   20.567262   20.479318  ...        1.813364        1.981834   \n",
       "4   22.935289   21.642456   19.624926  ...        1.627857        1.491637   \n",
       "\n",
       "   modelMag_u_std  modelMag_g_std  modelMag_r_std  modelMag_i_std  \\\n",
       "0        2.367397        2.213415        2.036589        1.887005   \n",
       "1        2.043080        2.108371        1.781324        1.358582   \n",
       "2        3.038135        1.932750        1.771562        1.583241   \n",
       "3        2.144815        1.829022        1.887076        1.825980   \n",
       "4        2.775471        2.762910        2.167265        1.685952   \n",
       "\n",
       "   modelMag_z_std  psf_cluster  fiber_cluster  model_cluster  \n",
       "0        1.833027            0              1              2  \n",
       "1        1.112072            0              3              4  \n",
       "2        1.574938            2              0              0  \n",
       "3        1.913923            0              1              1  \n",
       "4        1.623274            0              3              2  \n",
       "\n",
       "[5 rows x 84 columns]"
      ]
     },
     "execution_count": 59,
     "metadata": {},
     "output_type": "execute_result"
    }
   ],
   "source": [
    "test.head()"
   ]
  },
  {
   "cell_type": "markdown",
   "metadata": {},
   "source": [
    "## 641"
   ]
  },
  {
   "cell_type": "code",
   "execution_count": 121,
   "metadata": {
    "ExecuteTime": {
     "end_time": "2020-02-25T11:29:54.413981Z",
     "start_time": "2020-02-25T11:29:54.141071Z"
    }
   },
   "outputs": [],
   "source": [
    "train['over_641'] = 0\n",
    "train.loc[train['fiberID'] >= 641, 'over_641'] = 1\n",
    "\n",
    "test['over_641'] = 0\n",
    "test.loc[test['fiberID'] >= 641, 'over_641'] = 1"
   ]
  },
  {
   "cell_type": "code",
   "execution_count": 146,
   "metadata": {
    "ExecuteTime": {
     "end_time": "2020-02-25T11:33:31.770659Z",
     "start_time": "2020-02-25T11:33:31.763734Z"
    }
   },
   "outputs": [
    {
     "name": "stdout",
     "output_type": "stream",
     "text": [
      "(199991, 58)\n",
      "(10009, 57)\n"
     ]
    }
   ],
   "source": [
    "print(train.shape)\n",
    "print(test.shape)"
   ]
  },
  {
   "cell_type": "code",
   "execution_count": 147,
   "metadata": {
    "ExecuteTime": {
     "end_time": "2020-02-25T11:33:36.443376Z",
     "start_time": "2020-02-25T11:33:34.934098Z"
    }
   },
   "outputs": [
    {
     "data": {
      "text/html": [
       "<div>\n",
       "<style scoped>\n",
       "    .dataframe tbody tr th:only-of-type {\n",
       "        vertical-align: middle;\n",
       "    }\n",
       "\n",
       "    .dataframe tbody tr th {\n",
       "        vertical-align: top;\n",
       "    }\n",
       "\n",
       "    .dataframe thead th {\n",
       "        text-align: right;\n",
       "    }\n",
       "</style>\n",
       "<table border=\"1\" class=\"dataframe\">\n",
       "  <thead>\n",
       "    <tr style=\"text-align: right;\">\n",
       "      <th></th>\n",
       "      <th>fiberID</th>\n",
       "      <th>psfMag_u</th>\n",
       "      <th>psfMag_g</th>\n",
       "      <th>psfMag_r</th>\n",
       "      <th>psfMag_i</th>\n",
       "      <th>psfMag_z</th>\n",
       "      <th>fiberMag_u</th>\n",
       "      <th>fiberMag_g</th>\n",
       "      <th>fiberMag_r</th>\n",
       "      <th>fiberMag_i</th>\n",
       "      <th>...</th>\n",
       "      <th>petroMag_g_r</th>\n",
       "      <th>modelMag_g_r</th>\n",
       "      <th>psfMag_g_i</th>\n",
       "      <th>fiberMag_g_i</th>\n",
       "      <th>petroMag_g_i</th>\n",
       "      <th>modelMag_g_i</th>\n",
       "      <th>psfMag_i_z</th>\n",
       "      <th>fiberMag_i_z</th>\n",
       "      <th>petroMag_i_z</th>\n",
       "      <th>modelMag_i_z</th>\n",
       "    </tr>\n",
       "  </thead>\n",
       "  <tbody>\n",
       "    <tr>\n",
       "      <th>count</th>\n",
       "      <td>199991.000000</td>\n",
       "      <td>199991.000000</td>\n",
       "      <td>199991.000000</td>\n",
       "      <td>199991.000000</td>\n",
       "      <td>199991.000000</td>\n",
       "      <td>199991.000000</td>\n",
       "      <td>199991.000000</td>\n",
       "      <td>199991.000000</td>\n",
       "      <td>199991.000000</td>\n",
       "      <td>199991.000000</td>\n",
       "      <td>...</td>\n",
       "      <td>199991.000000</td>\n",
       "      <td>199991.000000</td>\n",
       "      <td>199991.000000</td>\n",
       "      <td>199991.000000</td>\n",
       "      <td>199991.000000</td>\n",
       "      <td>199991.000000</td>\n",
       "      <td>199991.000000</td>\n",
       "      <td>199991.000000</td>\n",
       "      <td>199991.000000</td>\n",
       "      <td>199991.000000</td>\n",
       "    </tr>\n",
       "    <tr>\n",
       "      <th>mean</th>\n",
       "      <td>360.830152</td>\n",
       "      <td>20.984196</td>\n",
       "      <td>19.860931</td>\n",
       "      <td>19.286934</td>\n",
       "      <td>18.871288</td>\n",
       "      <td>18.612435</td>\n",
       "      <td>21.171290</td>\n",
       "      <td>20.089212</td>\n",
       "      <td>19.504481</td>\n",
       "      <td>19.085871</td>\n",
       "      <td>...</td>\n",
       "      <td>0.593802</td>\n",
       "      <td>0.591417</td>\n",
       "      <td>0.989643</td>\n",
       "      <td>1.003341</td>\n",
       "      <td>0.997511</td>\n",
       "      <td>1.011917</td>\n",
       "      <td>0.258853</td>\n",
       "      <td>0.258324</td>\n",
       "      <td>0.209735</td>\n",
       "      <td>0.242990</td>\n",
       "    </tr>\n",
       "    <tr>\n",
       "      <th>std</th>\n",
       "      <td>225.305890</td>\n",
       "      <td>2.077561</td>\n",
       "      <td>1.862845</td>\n",
       "      <td>1.706566</td>\n",
       "      <td>1.622895</td>\n",
       "      <td>1.683887</td>\n",
       "      <td>1.965332</td>\n",
       "      <td>1.843168</td>\n",
       "      <td>1.707691</td>\n",
       "      <td>1.628083</td>\n",
       "      <td>...</td>\n",
       "      <td>0.891487</td>\n",
       "      <td>0.662537</td>\n",
       "      <td>1.198534</td>\n",
       "      <td>1.183197</td>\n",
       "      <td>1.375375</td>\n",
       "      <td>1.203724</td>\n",
       "      <td>0.502551</td>\n",
       "      <td>0.491547</td>\n",
       "      <td>0.908188</td>\n",
       "      <td>0.502974</td>\n",
       "    </tr>\n",
       "    <tr>\n",
       "      <th>min</th>\n",
       "      <td>1.000000</td>\n",
       "      <td>13.979590</td>\n",
       "      <td>13.005124</td>\n",
       "      <td>12.888487</td>\n",
       "      <td>12.770241</td>\n",
       "      <td>12.260415</td>\n",
       "      <td>14.287634</td>\n",
       "      <td>13.322913</td>\n",
       "      <td>13.251550</td>\n",
       "      <td>13.118824</td>\n",
       "      <td>...</td>\n",
       "      <td>-17.298728</td>\n",
       "      <td>-13.786538</td>\n",
       "      <td>-12.276446</td>\n",
       "      <td>-11.806290</td>\n",
       "      <td>-17.605725</td>\n",
       "      <td>-12.279350</td>\n",
       "      <td>-12.985449</td>\n",
       "      <td>-12.634583</td>\n",
       "      <td>-18.871631</td>\n",
       "      <td>-14.105615</td>\n",
       "    </tr>\n",
       "    <tr>\n",
       "      <th>25%</th>\n",
       "      <td>174.000000</td>\n",
       "      <td>19.652590</td>\n",
       "      <td>18.701180</td>\n",
       "      <td>18.048572</td>\n",
       "      <td>17.747663</td>\n",
       "      <td>17.425523</td>\n",
       "      <td>19.940403</td>\n",
       "      <td>18.902851</td>\n",
       "      <td>18.259352</td>\n",
       "      <td>17.903615</td>\n",
       "      <td>...</td>\n",
       "      <td>0.126454</td>\n",
       "      <td>0.146714</td>\n",
       "      <td>0.254183</td>\n",
       "      <td>0.252611</td>\n",
       "      <td>0.239192</td>\n",
       "      <td>0.261862</td>\n",
       "      <td>0.012658</td>\n",
       "      <td>0.015527</td>\n",
       "      <td>-0.000725</td>\n",
       "      <td>0.015634</td>\n",
       "    </tr>\n",
       "    <tr>\n",
       "      <th>50%</th>\n",
       "      <td>349.000000</td>\n",
       "      <td>20.871359</td>\n",
       "      <td>19.904235</td>\n",
       "      <td>19.454492</td>\n",
       "      <td>19.043895</td>\n",
       "      <td>18.611799</td>\n",
       "      <td>21.049096</td>\n",
       "      <td>20.069038</td>\n",
       "      <td>19.631419</td>\n",
       "      <td>19.188763</td>\n",
       "      <td>...</td>\n",
       "      <td>0.379964</td>\n",
       "      <td>0.378308</td>\n",
       "      <td>0.532209</td>\n",
       "      <td>0.539404</td>\n",
       "      <td>0.543932</td>\n",
       "      <td>0.539929</td>\n",
       "      <td>0.181018</td>\n",
       "      <td>0.194561</td>\n",
       "      <td>0.163743</td>\n",
       "      <td>0.171908</td>\n",
       "    </tr>\n",
       "    <tr>\n",
       "      <th>75%</th>\n",
       "      <td>526.000000</td>\n",
       "      <td>22.160432</td>\n",
       "      <td>21.150297</td>\n",
       "      <td>20.515936</td>\n",
       "      <td>20.073528</td>\n",
       "      <td>19.883760</td>\n",
       "      <td>22.337540</td>\n",
       "      <td>21.385830</td>\n",
       "      <td>20.773911</td>\n",
       "      <td>20.331419</td>\n",
       "      <td>...</td>\n",
       "      <td>0.978696</td>\n",
       "      <td>1.012924</td>\n",
       "      <td>1.435658</td>\n",
       "      <td>1.502386</td>\n",
       "      <td>1.452252</td>\n",
       "      <td>1.480307</td>\n",
       "      <td>0.430213</td>\n",
       "      <td>0.400972</td>\n",
       "      <td>0.433092</td>\n",
       "      <td>0.377001</td>\n",
       "    </tr>\n",
       "    <tr>\n",
       "      <th>max</th>\n",
       "      <td>1000.000000</td>\n",
       "      <td>29.368159</td>\n",
       "      <td>28.024363</td>\n",
       "      <td>26.737526</td>\n",
       "      <td>25.353447</td>\n",
       "      <td>25.821215</td>\n",
       "      <td>29.197543</td>\n",
       "      <td>28.030256</td>\n",
       "      <td>26.855783</td>\n",
       "      <td>25.206105</td>\n",
       "      <td>...</td>\n",
       "      <td>19.820782</td>\n",
       "      <td>15.927723</td>\n",
       "      <td>15.237800</td>\n",
       "      <td>10.629771</td>\n",
       "      <td>20.164460</td>\n",
       "      <td>16.331576</td>\n",
       "      <td>13.055728</td>\n",
       "      <td>12.493474</td>\n",
       "      <td>18.926626</td>\n",
       "      <td>13.598584</td>\n",
       "    </tr>\n",
       "  </tbody>\n",
       "</table>\n",
       "<p>8 rows × 57 columns</p>\n",
       "</div>"
      ],
      "text/plain": [
       "             fiberID       psfMag_u       psfMag_g       psfMag_r  \\\n",
       "count  199991.000000  199991.000000  199991.000000  199991.000000   \n",
       "mean      360.830152      20.984196      19.860931      19.286934   \n",
       "std       225.305890       2.077561       1.862845       1.706566   \n",
       "min         1.000000      13.979590      13.005124      12.888487   \n",
       "25%       174.000000      19.652590      18.701180      18.048572   \n",
       "50%       349.000000      20.871359      19.904235      19.454492   \n",
       "75%       526.000000      22.160432      21.150297      20.515936   \n",
       "max      1000.000000      29.368159      28.024363      26.737526   \n",
       "\n",
       "            psfMag_i       psfMag_z     fiberMag_u     fiberMag_g  \\\n",
       "count  199991.000000  199991.000000  199991.000000  199991.000000   \n",
       "mean       18.871288      18.612435      21.171290      20.089212   \n",
       "std         1.622895       1.683887       1.965332       1.843168   \n",
       "min        12.770241      12.260415      14.287634      13.322913   \n",
       "25%        17.747663      17.425523      19.940403      18.902851   \n",
       "50%        19.043895      18.611799      21.049096      20.069038   \n",
       "75%        20.073528      19.883760      22.337540      21.385830   \n",
       "max        25.353447      25.821215      29.197543      28.030256   \n",
       "\n",
       "          fiberMag_r     fiberMag_i  ...   petroMag_g_r   modelMag_g_r  \\\n",
       "count  199991.000000  199991.000000  ...  199991.000000  199991.000000   \n",
       "mean       19.504481      19.085871  ...       0.593802       0.591417   \n",
       "std         1.707691       1.628083  ...       0.891487       0.662537   \n",
       "min        13.251550      13.118824  ...     -17.298728     -13.786538   \n",
       "25%        18.259352      17.903615  ...       0.126454       0.146714   \n",
       "50%        19.631419      19.188763  ...       0.379964       0.378308   \n",
       "75%        20.773911      20.331419  ...       0.978696       1.012924   \n",
       "max        26.855783      25.206105  ...      19.820782      15.927723   \n",
       "\n",
       "          psfMag_g_i   fiberMag_g_i   petroMag_g_i   modelMag_g_i  \\\n",
       "count  199991.000000  199991.000000  199991.000000  199991.000000   \n",
       "mean        0.989643       1.003341       0.997511       1.011917   \n",
       "std         1.198534       1.183197       1.375375       1.203724   \n",
       "min       -12.276446     -11.806290     -17.605725     -12.279350   \n",
       "25%         0.254183       0.252611       0.239192       0.261862   \n",
       "50%         0.532209       0.539404       0.543932       0.539929   \n",
       "75%         1.435658       1.502386       1.452252       1.480307   \n",
       "max        15.237800      10.629771      20.164460      16.331576   \n",
       "\n",
       "          psfMag_i_z   fiberMag_i_z   petroMag_i_z   modelMag_i_z  \n",
       "count  199991.000000  199991.000000  199991.000000  199991.000000  \n",
       "mean        0.258853       0.258324       0.209735       0.242990  \n",
       "std         0.502551       0.491547       0.908188       0.502974  \n",
       "min       -12.985449     -12.634583     -18.871631     -14.105615  \n",
       "25%         0.012658       0.015527      -0.000725       0.015634  \n",
       "50%         0.181018       0.194561       0.163743       0.171908  \n",
       "75%         0.430213       0.400972       0.433092       0.377001  \n",
       "max        13.055728      12.493474      18.926626      13.598584  \n",
       "\n",
       "[8 rows x 57 columns]"
      ]
     },
     "execution_count": 147,
     "metadata": {},
     "output_type": "execute_result"
    }
   ],
   "source": [
    "train.describe()"
   ]
  },
  {
   "cell_type": "code",
   "execution_count": 149,
   "metadata": {
    "ExecuteTime": {
     "end_time": "2020-02-25T11:34:38.026092Z",
     "start_time": "2020-02-25T11:33:51.677143Z"
    }
   },
   "outputs": [],
   "source": [
    "train.to_csv('../dataset/train20200225.csv')\n",
    "test.to_csv('../dataset/test20200225.csv')"
   ]
  }
 ],
 "metadata": {
  "kernelspec": {
   "display_name": "Python 3",
   "language": "python",
   "name": "python3"
  },
  "language_info": {
   "codemirror_mode": {
    "name": "ipython",
    "version": 3
   },
   "file_extension": ".py",
   "mimetype": "text/x-python",
   "name": "python",
   "nbconvert_exporter": "python",
   "pygments_lexer": "ipython3",
   "version": "3.7.3"
  },
  "toc": {
   "base_numbering": 1,
   "nav_menu": {},
   "number_sections": true,
   "sideBar": true,
   "skip_h1_title": false,
   "title_cell": "Table of Contents",
   "title_sidebar": "Contents",
   "toc_cell": false,
   "toc_position": {
    "height": "583.2px",
    "left": "71px",
    "top": "54px",
    "width": "186px"
   },
   "toc_section_display": true,
   "toc_window_display": true
  },
  "varInspector": {
   "cols": {
    "lenName": 16,
    "lenType": 16,
    "lenVar": 40
   },
   "kernels_config": {
    "python": {
     "delete_cmd_postfix": "",
     "delete_cmd_prefix": "del ",
     "library": "var_list.py",
     "varRefreshCmd": "print(var_dic_list())"
    },
    "r": {
     "delete_cmd_postfix": ") ",
     "delete_cmd_prefix": "rm(",
     "library": "var_list.r",
     "varRefreshCmd": "cat(var_dic_list()) "
    }
   },
   "types_to_exclude": [
    "module",
    "function",
    "builtin_function_or_method",
    "instance",
    "_Feature"
   ],
   "window_display": false
  }
 },
 "nbformat": 4,
 "nbformat_minor": 2
}
