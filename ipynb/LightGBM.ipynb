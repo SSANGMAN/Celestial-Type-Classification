{
 "cells": [
  {
   "cell_type": "code",
   "execution_count": 126,
   "metadata": {
    "ExecuteTime": {
     "end_time": "2020-02-24T02:12:09.422638Z",
     "start_time": "2020-02-24T02:12:09.411636Z"
    }
   },
   "outputs": [],
   "source": [
    "import pandas as pd\n",
    "import numpy as np\n",
    "\n",
    "\n",
    "from sklearn.model_selection import train_test_split\n",
    "from sklearn.model_selection import StratifiedKFold\n",
    "from sklearn.preprocessing import OneHotEncoder\n",
    "\n",
    "import lightgbm as lgb\n",
    "from lightgbm import LGBMClassifier\n",
    "\n",
    "from hyperopt import fmin, hp, tpe, Trials, space_eval, STATUS_OK, STATUS_RUNNING\n",
    "from sklearn.metrics import log_loss, make_scorer\n",
    "from functools import partial\n",
    "\n",
    "from sklearn.model_selection import train_test_split\n",
    "\n",
    "import gc\n",
    "import time\n",
    "import warnings\n",
    "warnings.filterwarnings('ignore')"
   ]
  },
  {
   "cell_type": "code",
   "execution_count": 221,
   "metadata": {
    "ExecuteTime": {
     "end_time": "2020-02-24T05:27:34.869299Z",
     "start_time": "2020-02-24T05:27:30.255859Z"
    }
   },
   "outputs": [],
   "source": [
    "train = pd.read_csv('../dataset/lee_train.csv', index_col = 0)\n",
    "test = pd.read_csv('../dataset/lee_test.csv', index_col = 0)\n",
    "sample_submission = pd.read_csv('../dataset/sample_submission.csv', index_col = 0)"
   ]
  },
  {
   "cell_type": "code",
   "execution_count": 222,
   "metadata": {
    "ExecuteTime": {
     "end_time": "2020-02-24T05:27:35.431812Z",
     "start_time": "2020-02-24T05:27:35.239457Z"
    }
   },
   "outputs": [],
   "source": [
    "column_number = {}\n",
    "\n",
    "for i, column in enumerate(sample_submission.columns):\n",
    "    column_number[column] = i\n",
    "\n",
    "def to_number(x, dic):\n",
    "    return dic[x]\n",
    "\n",
    "train['type_num'] = train['type'].apply(lambda x: to_number(x, column_number))"
   ]
  },
  {
   "cell_type": "code",
   "execution_count": 223,
   "metadata": {
    "ExecuteTime": {
     "end_time": "2020-02-24T05:27:35.854991Z",
     "start_time": "2020-02-24T05:27:35.849123Z"
    }
   },
   "outputs": [],
   "source": [
    "#bins= [0, 100, 200, 300, 400, 500, 600, 700, 800, 900 ,1000]\n",
    "#labels = ['0', '1','2','3','4','5','6','7','8','9']\n",
    "\n",
    "#train['fiberID2'] = pd.cut(train['fiberID'], bins= bins, labels = labels)\n",
    "#test['fiberID2'] = pd.cut(test['fiberID'], bins= bins, labels = labels)"
   ]
  },
  {
   "cell_type": "code",
   "execution_count": 224,
   "metadata": {
    "ExecuteTime": {
     "end_time": "2020-02-24T05:27:36.359359Z",
     "start_time": "2020-02-24T05:27:36.275301Z"
    }
   },
   "outputs": [],
   "source": [
    "train_x = train.drop(columns = ['type', 'type_num'], axis = 1)\n",
    "train_y = train['type_num']\n",
    "\n",
    "test_x = test"
   ]
  },
  {
   "cell_type": "code",
   "execution_count": 225,
   "metadata": {
    "ExecuteTime": {
     "end_time": "2020-02-24T05:27:36.905846Z",
     "start_time": "2020-02-24T05:27:36.809772Z"
    }
   },
   "outputs": [],
   "source": [
    "train_x.drop(columns = 'fiberID', inplace = True)\n",
    "test_x.drop(columns = 'fiberID', inplace = True)"
   ]
  },
  {
   "cell_type": "code",
   "execution_count": 226,
   "metadata": {
    "ExecuteTime": {
     "end_time": "2020-02-24T05:27:37.428042Z",
     "start_time": "2020-02-24T05:27:37.343906Z"
    }
   },
   "outputs": [
    {
     "data": {
      "text/html": [
       "<div>\n",
       "<style scoped>\n",
       "    .dataframe tbody tr th:only-of-type {\n",
       "        vertical-align: middle;\n",
       "    }\n",
       "\n",
       "    .dataframe tbody tr th {\n",
       "        vertical-align: top;\n",
       "    }\n",
       "\n",
       "    .dataframe thead th {\n",
       "        text-align: right;\n",
       "    }\n",
       "</style>\n",
       "<table border=\"1\" class=\"dataframe\">\n",
       "  <thead>\n",
       "    <tr style=\"text-align: right;\">\n",
       "      <th></th>\n",
       "      <th>fiber_0</th>\n",
       "      <th>fiber_1</th>\n",
       "      <th>fiber_2</th>\n",
       "      <th>fiber_3</th>\n",
       "      <th>fiber_4</th>\n",
       "      <th>fiber_5</th>\n",
       "      <th>fiber_6</th>\n",
       "      <th>fiber_7</th>\n",
       "    </tr>\n",
       "  </thead>\n",
       "  <tbody>\n",
       "    <tr>\n",
       "      <th>0</th>\n",
       "      <td>0.0</td>\n",
       "      <td>0.0</td>\n",
       "      <td>0.0</td>\n",
       "      <td>0.0</td>\n",
       "      <td>0.0</td>\n",
       "      <td>0.0</td>\n",
       "      <td>1.0</td>\n",
       "      <td>0.0</td>\n",
       "    </tr>\n",
       "    <tr>\n",
       "      <th>1</th>\n",
       "      <td>0.0</td>\n",
       "      <td>0.0</td>\n",
       "      <td>0.0</td>\n",
       "      <td>0.0</td>\n",
       "      <td>0.0</td>\n",
       "      <td>0.0</td>\n",
       "      <td>0.0</td>\n",
       "      <td>1.0</td>\n",
       "    </tr>\n",
       "    <tr>\n",
       "      <th>2</th>\n",
       "      <td>0.0</td>\n",
       "      <td>0.0</td>\n",
       "      <td>0.0</td>\n",
       "      <td>0.0</td>\n",
       "      <td>1.0</td>\n",
       "      <td>0.0</td>\n",
       "      <td>0.0</td>\n",
       "      <td>0.0</td>\n",
       "    </tr>\n",
       "    <tr>\n",
       "      <th>3</th>\n",
       "      <td>0.0</td>\n",
       "      <td>0.0</td>\n",
       "      <td>0.0</td>\n",
       "      <td>0.0</td>\n",
       "      <td>0.0</td>\n",
       "      <td>0.0</td>\n",
       "      <td>0.0</td>\n",
       "      <td>1.0</td>\n",
       "    </tr>\n",
       "    <tr>\n",
       "      <th>4</th>\n",
       "      <td>0.0</td>\n",
       "      <td>0.0</td>\n",
       "      <td>0.0</td>\n",
       "      <td>0.0</td>\n",
       "      <td>0.0</td>\n",
       "      <td>0.0</td>\n",
       "      <td>1.0</td>\n",
       "      <td>0.0</td>\n",
       "    </tr>\n",
       "  </tbody>\n",
       "</table>\n",
       "</div>"
      ],
      "text/plain": [
       "   fiber_0  fiber_1  fiber_2  fiber_3  fiber_4  fiber_5  fiber_6  fiber_7\n",
       "0      0.0      0.0      0.0      0.0      0.0      0.0      1.0      0.0\n",
       "1      0.0      0.0      0.0      0.0      0.0      0.0      0.0      1.0\n",
       "2      0.0      0.0      0.0      0.0      1.0      0.0      0.0      0.0\n",
       "3      0.0      0.0      0.0      0.0      0.0      0.0      0.0      1.0\n",
       "4      0.0      0.0      0.0      0.0      0.0      0.0      1.0      0.0"
      ]
     },
     "execution_count": 226,
     "metadata": {},
     "output_type": "execute_result"
    }
   ],
   "source": [
    "ohe = OneHotEncoder(handle_unknown = 'ignore')\n",
    "ohe_train = pd.DataFrame(ohe.fit_transform(train_x[['fiberID2']]).toarray(),\n",
    "                         columns = ['fiber_0', 'fiber_1', 'fiber_2', 'fiber_3', 'fiber_4', 'fiber_5', 'fiber_6', 'fiber_7'])\n",
    "ohe_test = pd.DataFrame(ohe.fit_transform(test_x[['fiberID2']]).toarray(),\n",
    "                        columns = ['fiber_0', 'fiber_1', 'fiber_2', 'fiber_3', 'fiber_4', 'fiber_5', 'fiber_6', 'fiber_7'])\n",
    "ohe_train.head()"
   ]
  },
  {
   "cell_type": "code",
   "execution_count": 227,
   "metadata": {
    "ExecuteTime": {
     "end_time": "2020-02-24T05:27:37.900526Z",
     "start_time": "2020-02-24T05:27:37.887344Z"
    }
   },
   "outputs": [],
   "source": [
    "idx_list = [x for x in range(199991,210000)]\n",
    "ohe_test['id'] = idx_list\n",
    "ohe_test.set_index('id', inplace = True)"
   ]
  },
  {
   "cell_type": "code",
   "execution_count": 228,
   "metadata": {
    "ExecuteTime": {
     "end_time": "2020-02-24T05:27:38.757821Z",
     "start_time": "2020-02-24T05:27:38.313502Z"
    }
   },
   "outputs": [
    {
     "data": {
      "text/html": [
       "<div>\n",
       "<style scoped>\n",
       "    .dataframe tbody tr th:only-of-type {\n",
       "        vertical-align: middle;\n",
       "    }\n",
       "\n",
       "    .dataframe tbody tr th {\n",
       "        vertical-align: top;\n",
       "    }\n",
       "\n",
       "    .dataframe thead th {\n",
       "        text-align: right;\n",
       "    }\n",
       "</style>\n",
       "<table border=\"1\" class=\"dataframe\">\n",
       "  <thead>\n",
       "    <tr style=\"text-align: right;\">\n",
       "      <th></th>\n",
       "      <th>psfMag_u</th>\n",
       "      <th>psfMag_g</th>\n",
       "      <th>psfMag_r</th>\n",
       "      <th>psfMag_i</th>\n",
       "      <th>psfMag_z</th>\n",
       "      <th>fiberMag_u</th>\n",
       "      <th>fiberMag_g</th>\n",
       "      <th>fiberMag_r</th>\n",
       "      <th>fiberMag_i</th>\n",
       "      <th>fiberMag_z</th>\n",
       "      <th>...</th>\n",
       "      <th>z_std</th>\n",
       "      <th>distance</th>\n",
       "      <th>fiber_0</th>\n",
       "      <th>fiber_1</th>\n",
       "      <th>fiber_2</th>\n",
       "      <th>fiber_3</th>\n",
       "      <th>fiber_4</th>\n",
       "      <th>fiber_5</th>\n",
       "      <th>fiber_6</th>\n",
       "      <th>fiber_7</th>\n",
       "    </tr>\n",
       "  </thead>\n",
       "  <tbody>\n",
       "    <tr>\n",
       "      <th>0</th>\n",
       "      <td>23.198224</td>\n",
       "      <td>21.431953</td>\n",
       "      <td>21.314148</td>\n",
       "      <td>21.176553</td>\n",
       "      <td>21.171444</td>\n",
       "      <td>22.581309</td>\n",
       "      <td>21.644453</td>\n",
       "      <td>21.657571</td>\n",
       "      <td>21.387653</td>\n",
       "      <td>21.572827</td>\n",
       "      <td>...</td>\n",
       "      <td>0.478938</td>\n",
       "      <td>11.282572</td>\n",
       "      <td>0.0</td>\n",
       "      <td>0.0</td>\n",
       "      <td>0.0</td>\n",
       "      <td>0.0</td>\n",
       "      <td>0.0</td>\n",
       "      <td>0.0</td>\n",
       "      <td>1.0</td>\n",
       "      <td>0.0</td>\n",
       "    </tr>\n",
       "    <tr>\n",
       "      <th>1</th>\n",
       "      <td>21.431355</td>\n",
       "      <td>20.708104</td>\n",
       "      <td>20.678850</td>\n",
       "      <td>20.703420</td>\n",
       "      <td>20.473229</td>\n",
       "      <td>21.868797</td>\n",
       "      <td>21.029773</td>\n",
       "      <td>20.967054</td>\n",
       "      <td>20.937731</td>\n",
       "      <td>21.063646</td>\n",
       "      <td>...</td>\n",
       "      <td>0.270199</td>\n",
       "      <td>9.708775</td>\n",
       "      <td>0.0</td>\n",
       "      <td>0.0</td>\n",
       "      <td>0.0</td>\n",
       "      <td>0.0</td>\n",
       "      <td>0.0</td>\n",
       "      <td>0.0</td>\n",
       "      <td>0.0</td>\n",
       "      <td>1.0</td>\n",
       "    </tr>\n",
       "    <tr>\n",
       "      <th>2</th>\n",
       "      <td>17.851451</td>\n",
       "      <td>16.727898</td>\n",
       "      <td>16.679677</td>\n",
       "      <td>16.694640</td>\n",
       "      <td>16.641788</td>\n",
       "      <td>18.171890</td>\n",
       "      <td>17.033098</td>\n",
       "      <td>16.999682</td>\n",
       "      <td>17.095999</td>\n",
       "      <td>17.076449</td>\n",
       "      <td>...</td>\n",
       "      <td>0.194764</td>\n",
       "      <td>9.770866</td>\n",
       "      <td>0.0</td>\n",
       "      <td>0.0</td>\n",
       "      <td>0.0</td>\n",
       "      <td>0.0</td>\n",
       "      <td>1.0</td>\n",
       "      <td>0.0</td>\n",
       "      <td>0.0</td>\n",
       "      <td>0.0</td>\n",
       "    </tr>\n",
       "    <tr>\n",
       "      <th>3</th>\n",
       "      <td>20.789900</td>\n",
       "      <td>20.040371</td>\n",
       "      <td>19.926909</td>\n",
       "      <td>19.843840</td>\n",
       "      <td>19.463270</td>\n",
       "      <td>21.039030</td>\n",
       "      <td>20.317165</td>\n",
       "      <td>20.217898</td>\n",
       "      <td>20.073852</td>\n",
       "      <td>19.794505</td>\n",
       "      <td>...</td>\n",
       "      <td>0.158362</td>\n",
       "      <td>10.418463</td>\n",
       "      <td>0.0</td>\n",
       "      <td>0.0</td>\n",
       "      <td>0.0</td>\n",
       "      <td>0.0</td>\n",
       "      <td>0.0</td>\n",
       "      <td>0.0</td>\n",
       "      <td>0.0</td>\n",
       "      <td>1.0</td>\n",
       "    </tr>\n",
       "    <tr>\n",
       "      <th>4</th>\n",
       "      <td>26.454969</td>\n",
       "      <td>23.058767</td>\n",
       "      <td>21.471406</td>\n",
       "      <td>19.504961</td>\n",
       "      <td>18.389096</td>\n",
       "      <td>256.875910</td>\n",
       "      <td>23.629122</td>\n",
       "      <td>21.742750</td>\n",
       "      <td>19.861718</td>\n",
       "      <td>18.810375</td>\n",
       "      <td>...</td>\n",
       "      <td>0.215129</td>\n",
       "      <td>0.000007</td>\n",
       "      <td>0.0</td>\n",
       "      <td>0.0</td>\n",
       "      <td>0.0</td>\n",
       "      <td>0.0</td>\n",
       "      <td>0.0</td>\n",
       "      <td>0.0</td>\n",
       "      <td>1.0</td>\n",
       "      <td>0.0</td>\n",
       "    </tr>\n",
       "  </tbody>\n",
       "</table>\n",
       "<p>5 rows × 56 columns</p>\n",
       "</div>"
      ],
      "text/plain": [
       "    psfMag_u   psfMag_g   psfMag_r   psfMag_i   psfMag_z  fiberMag_u  \\\n",
       "0  23.198224  21.431953  21.314148  21.176553  21.171444   22.581309   \n",
       "1  21.431355  20.708104  20.678850  20.703420  20.473229   21.868797   \n",
       "2  17.851451  16.727898  16.679677  16.694640  16.641788   18.171890   \n",
       "3  20.789900  20.040371  19.926909  19.843840  19.463270   21.039030   \n",
       "4  26.454969  23.058767  21.471406  19.504961  18.389096  256.875910   \n",
       "\n",
       "   fiberMag_g  fiberMag_r  fiberMag_i  fiberMag_z  ...     z_std   distance  \\\n",
       "0   21.644453   21.657571   21.387653   21.572827  ...  0.478938  11.282572   \n",
       "1   21.029773   20.967054   20.937731   21.063646  ...  0.270199   9.708775   \n",
       "2   17.033098   16.999682   17.095999   17.076449  ...  0.194764   9.770866   \n",
       "3   20.317165   20.217898   20.073852   19.794505  ...  0.158362  10.418463   \n",
       "4   23.629122   21.742750   19.861718   18.810375  ...  0.215129   0.000007   \n",
       "\n",
       "   fiber_0  fiber_1  fiber_2  fiber_3  fiber_4  fiber_5  fiber_6  fiber_7  \n",
       "0      0.0      0.0      0.0      0.0      0.0      0.0      1.0      0.0  \n",
       "1      0.0      0.0      0.0      0.0      0.0      0.0      0.0      1.0  \n",
       "2      0.0      0.0      0.0      0.0      1.0      0.0      0.0      0.0  \n",
       "3      0.0      0.0      0.0      0.0      0.0      0.0      0.0      1.0  \n",
       "4      0.0      0.0      0.0      0.0      0.0      0.0      1.0      0.0  \n",
       "\n",
       "[5 rows x 56 columns]"
      ]
     },
     "execution_count": 228,
     "metadata": {},
     "output_type": "execute_result"
    }
   ],
   "source": [
    "train_x = pd.concat([train_x, ohe_train], axis = 1)\n",
    "test_x = pd.concat([test_x, ohe_test], axis = 1)\n",
    "train_x.drop('fiberID2', axis = 1, inplace = True)\n",
    "test_x.drop('fiberID2', axis = 1, inplace = True)\n",
    "train_x.head()"
   ]
  },
  {
   "cell_type": "code",
   "execution_count": 229,
   "metadata": {
    "ExecuteTime": {
     "end_time": "2020-02-24T05:27:39.207923Z",
     "start_time": "2020-02-24T05:27:39.202917Z"
    }
   },
   "outputs": [],
   "source": [
    "#train_x.drop(columns = ['psf_cluster', 'fiber_cluster', 'model_cluster'], inplace = True)\n",
    "#test_x.drop(columns = ['psf_cluster', 'fiber_cluster', 'model_cluster'], inplace = True)"
   ]
  },
  {
   "cell_type": "markdown",
   "metadata": {},
   "source": [
    "# Modeling"
   ]
  },
  {
   "cell_type": "code",
   "execution_count": 131,
   "metadata": {
    "ExecuteTime": {
     "end_time": "2020-02-24T02:13:35.956014Z",
     "start_time": "2020-02-24T02:13:35.943903Z"
    }
   },
   "outputs": [],
   "source": [
    "space = {'objective' : 'multiclass',\n",
    "         'num_class' : 19,\n",
    "              'metric' : 'multi_logloss',\n",
    "              'boosting' : 'gbdt',\n",
    "    'max_depth':  hp.choice('max_depth', list(range(6, 18, 2))),\n",
    "    'reg_alpha' : hp.uniform('reg_alpha', 0.01, 0.4),\n",
    "    'reg_lambda': hp.uniform('reg_lambda', 0.01, 0.4),\n",
    "    'learning_rate' : hp.uniform('learning_rate', 0.01, 0.2),\n",
    "    'colsample_bytree' : hp.uniform('colsample_bytree', 0.3, 0.9),\n",
    "    'gamma' : hp.uniform('gamma', 0.01, .7),\n",
    "    'num_leaves' : hp.choice('num_leaves', list(range(20,150,10))),\n",
    "    'min_child_samples': hp.choice('min_child_samples', list(range(100,150,10))),\n",
    "    'subsample': hp.choice('subsample', [.2, .4, .5, .6, .7, .8, .9]),\n",
    "    'feature_fraction' : hp.uniform('feature_fraction', .4, .8),\n",
    "    'bagging_fraction' : hp.uniform('bagging_fraction', .4, .9)\n",
    "}"
   ]
  },
  {
   "cell_type": "code",
   "execution_count": 132,
   "metadata": {
    "ExecuteTime": {
     "end_time": "2020-02-24T02:13:36.444473Z",
     "start_time": "2020-02-24T02:13:36.429892Z"
    }
   },
   "outputs": [],
   "source": [
    "def evaluate_metric(params):\n",
    "    time1 = time.time()\n",
    "    print('Params : {}'.format(params))\n",
    "    FOLDS = 5\n",
    "    count = 1\n",
    "    \n",
    "    skf = StratifiedKFold(n_splits = FOLDS, shuffle = True, random_state = 42)\n",
    "    y_preds = np.zeros(test.shape[0])\n",
    "    score_mean = 0\n",
    "    \n",
    "    for tr_idx, val_idx in skf.split(train_x, train_y):\n",
    "        X_tr, X_vl = train_x.iloc[tr_idx, :], train_x.iloc[val_idx, :]\n",
    "        y_tr, y_vl = train_y.iloc[tr_idx], train_y.iloc[val_idx]\n",
    "        \n",
    "        lgbtrain = lgb.Dataset(X_tr, label = y_tr)\n",
    "        lgbval = lgb.Dataset(X_vl, label = y_vl)\n",
    "        \n",
    "        lgb_clf = lgb.train(params, lgbtrain, 500, valid_sets = [lgbval],\n",
    "                           categorical_feature = 'auto',\n",
    "                           verbose_eval = 0,\n",
    "                           early_stopping_rounds = 50)\n",
    "        \n",
    "        lgb_pred = lgb_clf.predict(X_vl, num_iteration = lgb_clf.best_iteration)\n",
    "        \n",
    "        score = make_scorer(log_loss)(lgb_clf, X_vl, y_vl)\n",
    "        \n",
    "        score_mean += score\n",
    "        print('{} CV - Score: {}'.format(count, round(score,4)))\n",
    "        \n",
    "        count += 1\n",
    "    \n",
    "    time2 = time.time() - time1\n",
    "    print('Total Time Run : {}'.format(round(time2/60, 2)))\n",
    "    gc.collect()\n",
    "    print('Mean Log Loss : {}'.format(score_mean/FOLDS))\n",
    "    del X_tr, X_vl, y_tr, y_vl, lgb_clf, score\n",
    "    \n",
    "    return (score_mean/FOLDS)"
   ]
  },
  {
   "cell_type": "code",
   "execution_count": 134,
   "metadata": {
    "ExecuteTime": {
     "end_time": "2020-02-24T05:12:26.317193Z",
     "start_time": "2020-02-24T02:13:46.137355Z"
    },
    "scrolled": false
   },
   "outputs": [
    {
     "name": "stdout",
     "output_type": "stream",
     "text": [
      "Params : {'bagging_fraction': 0.4068269543439834, 'boosting': 'gbdt', 'colsample_bytree': 0.3787486249141213, 'feature_fraction': 0.5569524460336036, 'gamma': 0.6444364470628207, 'learning_rate': 0.19609979610929865, 'max_depth': 12, 'metric': 'multi_logloss', 'min_child_samples': 100, 'num_class': 19, 'num_leaves': 70, 'objective': 'multiclass', 'reg_alpha': 0.16652438436011124, 'reg_lambda': 0.2314442522984657, 'subsample': 0.5}\n",
      "1 CV - Score: 0.4046                                                                                                   \n",
      "2 CV - Score: 0.3974                                                                                                   \n",
      "3 CV - Score: 0.3929                                                                                                   \n",
      "4 CV - Score: 0.395                                                                                                    \n",
      "5 CV - Score: 0.3892                                                                                                   \n",
      "Total Time Run : 5.48                                                                                                  \n",
      "Mean Log Loss : 0.39581159583329373                                                                                    \n",
      "Params : {'bagging_fraction': 0.5255722518570343, 'boosting': 'gbdt', 'colsample_bytree': 0.704708775240585, 'feature_fraction': 0.6813189480295078, 'gamma': 0.48969939216425934, 'learning_rate': 0.1181274212753128, 'max_depth': 12, 'metric': 'multi_logloss', 'min_child_samples': 120, 'num_class': 19, 'num_leaves': 50, 'objective': 'multiclass', 'reg_alpha': 0.10211311163474085, 'reg_lambda': 0.27259478311382035, 'subsample': 0.4}\n",
      "1 CV - Score: 0.3706                                                                                                   \n",
      "2 CV - Score: 0.3757                                                                                                   \n",
      "3 CV - Score: 0.3704                                                                                                   \n",
      "4 CV - Score: 0.3764                                                                                                   \n",
      "5 CV - Score: 0.3738                                                                                                   \n",
      "Total Time Run : 6.74                                                                                                  \n",
      "Mean Log Loss : 0.3733865639921358                                                                                     \n",
      "Params : {'bagging_fraction': 0.4978992792132701, 'boosting': 'gbdt', 'colsample_bytree': 0.35591728602161227, 'feature_fraction': 0.5951070752243164, 'gamma': 0.30137712818382495, 'learning_rate': 0.1721556759355961, 'max_depth': 10, 'metric': 'multi_logloss', 'min_child_samples': 120, 'num_class': 19, 'num_leaves': 90, 'objective': 'multiclass', 'reg_alpha': 0.07616777863637603, 'reg_lambda': 0.09629311881360639, 'subsample': 0.8}\n",
      "1 CV - Score: 0.3863                                                                                                   \n",
      "2 CV - Score: 0.3824                                                                                                   \n",
      "3 CV - Score: 0.3861                                                                                                   \n",
      "4 CV - Score: 0.3835                                                                                                   \n",
      "5 CV - Score: 0.3829                                                                                                   \n",
      "Total Time Run : 4.65                                                                                                  \n",
      "Mean Log Loss : 0.3842374673926515                                                                                     \n",
      "Params : {'bagging_fraction': 0.7963789749150043, 'boosting': 'gbdt', 'colsample_bytree': 0.7272506273096192, 'feature_fraction': 0.718758410409433, 'gamma': 0.3091390433074082, 'learning_rate': 0.08449033158616463, 'max_depth': 6, 'metric': 'multi_logloss', 'min_child_samples': 130, 'num_class': 19, 'num_leaves': 120, 'objective': 'multiclass', 'reg_alpha': 0.2866835232643665, 'reg_lambda': 0.2212485514262786, 'subsample': 0.6}\n",
      "1 CV - Score: 0.368                                                                                                    \n",
      "2 CV - Score: 0.3698                                                                                                   \n",
      "3 CV - Score: 0.3693                                                                                                   \n",
      "4 CV - Score: 0.373                                                                                                    \n",
      "5 CV - Score: 0.3715                                                                                                   \n",
      "Total Time Run : 11.83                                                                                                 \n",
      "Mean Log Loss : 0.3703058304482996                                                                                     \n",
      "Params : {'bagging_fraction': 0.7045634646634421, 'boosting': 'gbdt', 'colsample_bytree': 0.6515347552049329, 'feature_fraction': 0.6626181631386914, 'gamma': 0.2733489666895227, 'learning_rate': 0.10519321201705865, 'max_depth': 10, 'metric': 'multi_logloss', 'min_child_samples': 120, 'num_class': 19, 'num_leaves': 60, 'objective': 'multiclass', 'reg_alpha': 0.227693852380272, 'reg_lambda': 0.2561405900402708, 'subsample': 0.5}\n",
      "1 CV - Score: 0.3715                                                                                                   \n",
      "2 CV - Score: 0.37                                                                                                     \n",
      "3 CV - Score: 0.3677                                                                                                   \n",
      "4 CV - Score: 0.3731                                                                                                   \n",
      "5 CV - Score: 0.3717                                                                                                   \n",
      "Total Time Run : 6.74                                                                                                  \n",
      "Mean Log Loss : 0.37078106934483507                                                                                    \n",
      "Params : {'bagging_fraction': 0.4980427143978417, 'boosting': 'gbdt', 'colsample_bytree': 0.562089210605185, 'feature_fraction': 0.7863738591163094, 'gamma': 0.6968119411806434, 'learning_rate': 0.011996543614510063, 'max_depth': 8, 'metric': 'multi_logloss', 'min_child_samples': 110, 'num_class': 19, 'num_leaves': 100, 'objective': 'multiclass', 'reg_alpha': 0.3044528522272402, 'reg_lambda': 0.06555052979839628, 'subsample': 0.9}\n",
      "1 CV - Score: 0.4004                                                                                                   \n",
      "2 CV - Score: 0.4025                                                                                                   \n",
      "3 CV - Score: 0.4015                                                                                                   \n",
      "4 CV - Score: 0.4057                                                                                                   \n",
      "5 CV - Score: 0.4061                                                                                                   \n",
      "Total Time Run : 15.74                                                                                                 \n",
      "Mean Log Loss : 0.40324048203894935                                                                                    \n",
      "Params : {'bagging_fraction': 0.6611740816115019, 'boosting': 'gbdt', 'colsample_bytree': 0.735264491778342, 'feature_fraction': 0.6240626290368756, 'gamma': 0.548193188188232, 'learning_rate': 0.06453220757199243, 'max_depth': 12, 'metric': 'multi_logloss', 'min_child_samples': 140, 'num_class': 19, 'num_leaves': 40, 'objective': 'multiclass', 'reg_alpha': 0.0986890802372193, 'reg_lambda': 0.2022074684519157, 'subsample': 0.8}\n"
     ]
    },
    {
     "name": "stdout",
     "output_type": "stream",
     "text": [
      "1 CV - Score: 0.3664                                                                                                   \n",
      "2 CV - Score: 0.3687                                                                                                   \n",
      "3 CV - Score: 0.3672                                                                                                   \n",
      "4 CV - Score: 0.3718                                                                                                   \n",
      "5 CV - Score: 0.3708                                                                                                   \n",
      "Total Time Run : 11.38                                                                                                 \n",
      "Mean Log Loss : 0.36897419787335045                                                                                    \n",
      "Params : {'bagging_fraction': 0.7874119384163345, 'boosting': 'gbdt', 'colsample_bytree': 0.3033347474167146, 'feature_fraction': 0.723155451159674, 'gamma': 0.1451124987733402, 'learning_rate': 0.05227027642306059, 'max_depth': 16, 'metric': 'multi_logloss', 'min_child_samples': 100, 'num_class': 19, 'num_leaves': 70, 'objective': 'multiclass', 'reg_alpha': 0.3843137760831141, 'reg_lambda': 0.34924626798708097, 'subsample': 0.7}\n",
      "1 CV - Score: 0.3638                                                                                                   \n",
      "2 CV - Score: 0.3665                                                                                                   \n",
      "3 CV - Score: 0.3643                                                                                                   \n",
      "4 CV - Score: 0.3695                                                                                                   \n",
      "5 CV - Score: 0.3684                                                                                                   \n",
      "Total Time Run : 10.94                                                                                                 \n",
      "Mean Log Loss : 0.366486747656421                                                                                      \n",
      "Params : {'bagging_fraction': 0.7719134479756413, 'boosting': 'gbdt', 'colsample_bytree': 0.4591369489809749, 'feature_fraction': 0.4517788270766524, 'gamma': 0.5632013687265182, 'learning_rate': 0.06797470432340212, 'max_depth': 8, 'metric': 'multi_logloss', 'min_child_samples': 110, 'num_class': 19, 'num_leaves': 60, 'objective': 'multiclass', 'reg_alpha': 0.30270718186588785, 'reg_lambda': 0.36029089635304073, 'subsample': 0.8}\n",
      "1 CV - Score: 0.3638                                                                                                   \n",
      "2 CV - Score: 0.3655                                                                                                   \n",
      "3 CV - Score: 0.3641                                                                                                   \n",
      "4 CV - Score: 0.3689                                                                                                   \n",
      "5 CV - Score: 0.3679                                                                                                   \n",
      "Total Time Run : 9.82                                                                                                  \n",
      "Mean Log Loss : 0.3660339473916922                                                                                     \n",
      "Params : {'bagging_fraction': 0.6044925759366413, 'boosting': 'gbdt', 'colsample_bytree': 0.3634227747948119, 'feature_fraction': 0.4678009039341202, 'gamma': 0.4326097182279484, 'learning_rate': 0.017451593729857048, 'max_depth': 10, 'metric': 'multi_logloss', 'min_child_samples': 120, 'num_class': 19, 'num_leaves': 90, 'objective': 'multiclass', 'reg_alpha': 0.3250060892046654, 'reg_lambda': 0.029188899213780345, 'subsample': 0.4}\n",
      "1 CV - Score: 0.3713                                                                                                   \n",
      "2 CV - Score: 0.3747                                                                                                   \n",
      "3 CV - Score: 0.3722                                                                                                   \n",
      "4 CV - Score: 0.3773                                                                                                   \n",
      "5 CV - Score: 0.3773                                                                                                   \n",
      "Total Time Run : 13.23                                                                                                 \n",
      "Mean Log Loss : 0.3745611303785788                                                                                     \n",
      "Params : {'bagging_fraction': 0.8264839653179874, 'boosting': 'gbdt', 'colsample_bytree': 0.7170064132268061, 'feature_fraction': 0.43498104279495736, 'gamma': 0.05667035830019689, 'learning_rate': 0.09643839246291437, 'max_depth': 12, 'metric': 'multi_logloss', 'min_child_samples': 130, 'num_class': 19, 'num_leaves': 40, 'objective': 'multiclass', 'reg_alpha': 0.15202941902731304, 'reg_lambda': 0.36539011095413393, 'subsample': 0.7}\n",
      "1 CV - Score: 0.3668                                                                                                   \n",
      "2 CV - Score: 0.3699                                                                                                   \n",
      "3 CV - Score: 0.3671                                                                                                   \n",
      "4 CV - Score: 0.3705                                                                                                   \n",
      "5 CV - Score: 0.3703                                                                                                   \n",
      "Total Time Run : 6.27                                                                                                  \n",
      "Mean Log Loss : 0.3689098101905065                                                                                     \n",
      "Params : {'bagging_fraction': 0.539299249922585, 'boosting': 'gbdt', 'colsample_bytree': 0.38682401396896837, 'feature_fraction': 0.48560102450946296, 'gamma': 0.6685271361284841, 'learning_rate': 0.11625114186088649, 'max_depth': 12, 'metric': 'multi_logloss', 'min_child_samples': 140, 'num_class': 19, 'num_leaves': 40, 'objective': 'multiclass', 'reg_alpha': 0.07134039380809717, 'reg_lambda': 0.15183508133474513, 'subsample': 0.6}\n",
      "1 CV - Score: 0.3713                                                                                                   \n",
      "2 CV - Score: 0.374                                                                                                    \n",
      "3 CV - Score: 0.3706                                                                                                   \n",
      "4 CV - Score: 0.3745                                                                                                   \n",
      "5 CV - Score: 0.3731                                                                                                   \n",
      "Total Time Run : 5.53                                                                                                  \n",
      "Mean Log Loss : 0.37268524610702325                                                                                    \n",
      "Params : {'bagging_fraction': 0.7017469540914782, 'boosting': 'gbdt', 'colsample_bytree': 0.7357671343264969, 'feature_fraction': 0.6350805520413566, 'gamma': 0.08613357337969992, 'learning_rate': 0.01823563579080959, 'max_depth': 12, 'metric': 'multi_logloss', 'min_child_samples': 120, 'num_class': 19, 'num_leaves': 20, 'objective': 'multiclass', 'reg_alpha': 0.04623183233521509, 'reg_lambda': 0.07839847510499597, 'subsample': 0.2}\n",
      "1 CV - Score: 0.3903                                                                                                   \n",
      "2 CV - Score: 0.3937                                                                                                   \n",
      "3 CV - Score: 0.3905                                                                                                   \n",
      "4 CV - Score: 0.3971                                                                                                   \n"
     ]
    },
    {
     "name": "stdout",
     "output_type": "stream",
     "text": [
      "5 CV - Score: 0.3961                                                                                                   \n",
      "Total Time Run : 10.28                                                                                                 \n",
      "Mean Log Loss : 0.3935282080359922                                                                                     \n",
      "Params : {'bagging_fraction': 0.5743399687743598, 'boosting': 'gbdt', 'colsample_bytree': 0.3822919689868141, 'feature_fraction': 0.743939459533175, 'gamma': 0.6357948841650597, 'learning_rate': 0.0938553852229093, 'max_depth': 12, 'metric': 'multi_logloss', 'min_child_samples': 130, 'num_class': 19, 'num_leaves': 90, 'objective': 'multiclass', 'reg_alpha': 0.11798209887380338, 'reg_lambda': 0.3545917109053487, 'subsample': 0.8}\n",
      "1 CV - Score: 0.3672                                                                                                   \n",
      "2 CV - Score: 0.3702                                                                                                   \n",
      "3 CV - Score: 0.3681                                                                                                   \n",
      "4 CV - Score: 0.3723                                                                                                   \n",
      "5 CV - Score: 0.3712                                                                                                   \n",
      "Total Time Run : 7.44                                                                                                  \n",
      "Mean Log Loss : 0.3697858108500064                                                                                     \n",
      "Params : {'bagging_fraction': 0.898713636732717, 'boosting': 'gbdt', 'colsample_bytree': 0.5323481156906982, 'feature_fraction': 0.7123117148325706, 'gamma': 0.2712970928890849, 'learning_rate': 0.03845111508023797, 'max_depth': 10, 'metric': 'multi_logloss', 'min_child_samples': 100, 'num_class': 19, 'num_leaves': 120, 'objective': 'multiclass', 'reg_alpha': 0.35704101238836594, 'reg_lambda': 0.06756083370012088, 'subsample': 0.2}\n",
      "1 CV - Score: 0.3643                                                                                                   \n",
      "2 CV - Score: 0.3664                                                                                                   \n",
      "3 CV - Score: 0.3649                                                                                                   \n",
      "4 CV - Score: 0.3691                                                                                                   \n",
      "5 CV - Score: 0.3682                                                                                                   \n",
      "Total Time Run : 16.59                                                                                                 \n",
      "Mean Log Loss : 0.36656569471507827                                                                                    \n",
      "Params : {'bagging_fraction': 0.560141959707684, 'boosting': 'gbdt', 'colsample_bytree': 0.6871061807294575, 'feature_fraction': 0.5455171657934221, 'gamma': 0.547416302388853, 'learning_rate': 0.014282324659257937, 'max_depth': 14, 'metric': 'multi_logloss', 'min_child_samples': 100, 'num_class': 19, 'num_leaves': 40, 'objective': 'multiclass', 'reg_alpha': 0.31824165148472167, 'reg_lambda': 0.0629687393749992, 'subsample': 0.4}\n",
      "1 CV - Score: 0.3817                                                                                                   \n",
      "2 CV - Score: 0.3853                                                                                                   \n",
      "3 CV - Score: 0.3822                                                                                                   \n",
      "4 CV - Score: 0.388                                                                                                    \n",
      "5 CV - Score: 0.3876                                                                                                   \n",
      "Total Time Run : 12.89                                                                                                 \n",
      "Mean Log Loss : 0.3849556725333475                                                                                     \n",
      "Params : {'bagging_fraction': 0.6315963534981504, 'boosting': 'gbdt', 'colsample_bytree': 0.6728507508024528, 'feature_fraction': 0.6114689869722014, 'gamma': 0.441860071733761, 'learning_rate': 0.14035350314424955, 'max_depth': 10, 'metric': 'multi_logloss', 'min_child_samples': 130, 'num_class': 19, 'num_leaves': 30, 'objective': 'multiclass', 'reg_alpha': 0.14764206682145123, 'reg_lambda': 0.16230207831113694, 'subsample': 0.8}\n",
      "1 CV - Score: 0.3765                                                                                                   \n",
      "2 CV - Score: 0.3746                                                                                                   \n",
      "3 CV - Score: 0.3748                                                                                                   \n",
      "4 CV - Score: 0.3794                                                                                                   \n",
      "5 CV - Score: 0.3804                                                                                                   \n",
      "Total Time Run : 5.92                                                                                                  \n",
      "Mean Log Loss : 0.37713595096545316                                                                                    \n",
      "Params : {'bagging_fraction': 0.43052770777022475, 'boosting': 'gbdt', 'colsample_bytree': 0.8826767261355106, 'feature_fraction': 0.7921494250247325, 'gamma': 0.507052782946041, 'learning_rate': 0.18878211065730363, 'max_depth': 10, 'metric': 'multi_logloss', 'min_child_samples': 140, 'num_class': 19, 'num_leaves': 80, 'objective': 'multiclass', 'reg_alpha': 0.2554615408438469, 'reg_lambda': 0.13823788143014992, 'subsample': 0.8}\n",
      "1 CV - Score: 0.4171                                                                                                   \n",
      "2 CV - Score: 0.3834                                                                                                   \n",
      "3 CV - Score: 0.3814                                                                                                   \n",
      "4 CV - Score: 0.3987                                                                                                   \n",
      "5 CV - Score: 0.3822                                                                                                   \n",
      "Total Time Run : 5.34                                                                                                  \n",
      "Mean Log Loss : 0.39255765524943653                                                                                    \n",
      "Params : {'bagging_fraction': 0.5952768487272281, 'boosting': 'gbdt', 'colsample_bytree': 0.46895890930919965, 'feature_fraction': 0.4071897160420541, 'gamma': 0.21966136324671504, 'learning_rate': 0.09426848102865618, 'max_depth': 12, 'metric': 'multi_logloss', 'min_child_samples': 110, 'num_class': 19, 'num_leaves': 100, 'objective': 'multiclass', 'reg_alpha': 0.03480559840764071, 'reg_lambda': 0.3831993502988942, 'subsample': 0.7}\n",
      "1 CV - Score: 0.365                                                                                                    \n",
      "2 CV - Score: 0.3678                                                                                                   \n",
      "3 CV - Score: 0.3654                                                                                                   \n",
      "4 CV - Score: 0.3685                                                                                                   \n",
      "5 CV - Score: 0.3686                                                                                                   \n",
      "Total Time Run : 6.74                                                                                                  \n",
      "Mean Log Loss : 0.3670804494198463                                                                                     \n"
     ]
    },
    {
     "name": "stdout",
     "output_type": "stream",
     "text": [
      "Params : {'bagging_fraction': 0.7731380847525877, 'boosting': 'gbdt', 'colsample_bytree': 0.33907698281787413, 'feature_fraction': 0.43226937910085117, 'gamma': 0.4545384749999777, 'learning_rate': 0.1932017352933032, 'max_depth': 12, 'metric': 'multi_logloss', 'min_child_samples': 110, 'num_class': 19, 'num_leaves': 60, 'objective': 'multiclass', 'reg_alpha': 0.12165018669801166, 'reg_lambda': 0.17930508028133096, 'subsample': 0.6}\n",
      "1 CV - Score: 0.3844                                                                                                   \n",
      "2 CV - Score: 0.3898                                                                                                   \n",
      "3 CV - Score: 0.3912                                                                                                   \n",
      "4 CV - Score: 0.3957                                                                                                   \n",
      "5 CV - Score: 0.387                                                                                                    \n",
      "Total Time Run : 5.07                                                                                                  \n",
      "Mean Log Loss : 0.389619520884137                                                                                      \n",
      "100%|█████████████████████████████████████████████| 20/20 [2:58:40<00:00, 536.01s/trial, best loss: 0.3660339473916922]\n",
      "Best HyperParameters : {'bagging_fraction': 0.7719134479756413, 'boosting': 'gbdt', 'colsample_bytree': 0.4591369489809749, 'feature_fraction': 0.4517788270766524, 'gamma': 0.5632013687265182, 'learning_rate': 0.06797470432340212, 'max_depth': 8, 'metric': 'multi_logloss', 'min_child_samples': 110, 'num_class': 19, 'num_leaves': 60, 'objective': 'multiclass', 'reg_alpha': 0.30270718186588785, 'reg_lambda': 0.36029089635304073, 'subsample': 0.8}\n"
     ]
    }
   ],
   "source": [
    "best = fmin(fn = evaluate_metric,\n",
    "            space = space,\n",
    "            algo = tpe.suggest,\n",
    "            max_evals = 20)\n",
    "\n",
    "best_params = space_eval(space,best)\n",
    "print(\"Best HyperParameters :\", best_params)"
   ]
  },
  {
   "cell_type": "code",
   "execution_count": 135,
   "metadata": {
    "ExecuteTime": {
     "end_time": "2020-02-24T05:15:44.910378Z",
     "start_time": "2020-02-24T05:12:44.438716Z"
    }
   },
   "outputs": [
    {
     "name": "stdout",
     "output_type": "stream",
     "text": [
      "Training until validation scores don't improve for 50 rounds\n",
      "[10]\ttraining's multi_logloss: 1.11666\tvalid_1's multi_logloss: 1.13878\n",
      "[20]\ttraining's multi_logloss: 0.757964\tvalid_1's multi_logloss: 0.788075\n",
      "[30]\ttraining's multi_logloss: 0.582492\tvalid_1's multi_logloss: 0.618942\n",
      "[40]\ttraining's multi_logloss: 0.488293\tvalid_1's multi_logloss: 0.530245\n",
      "[50]\ttraining's multi_logloss: 0.433882\tvalid_1's multi_logloss: 0.480796\n",
      "[60]\ttraining's multi_logloss: 0.398618\tvalid_1's multi_logloss: 0.450474\n",
      "[70]\ttraining's multi_logloss: 0.37447\tvalid_1's multi_logloss: 0.430976\n",
      "[80]\ttraining's multi_logloss: 0.356914\tvalid_1's multi_logloss: 0.418049\n",
      "[90]\ttraining's multi_logloss: 0.343868\tvalid_1's multi_logloss: 0.409168\n",
      "[100]\ttraining's multi_logloss: 0.332865\tvalid_1's multi_logloss: 0.402586\n",
      "[110]\ttraining's multi_logloss: 0.323161\tvalid_1's multi_logloss: 0.397115\n",
      "[120]\ttraining's multi_logloss: 0.31508\tvalid_1's multi_logloss: 0.393099\n",
      "[130]\ttraining's multi_logloss: 0.307831\tvalid_1's multi_logloss: 0.389826\n",
      "[140]\ttraining's multi_logloss: 0.301304\tvalid_1's multi_logloss: 0.387213\n",
      "[150]\ttraining's multi_logloss: 0.295239\tvalid_1's multi_logloss: 0.385165\n",
      "[160]\ttraining's multi_logloss: 0.289182\tvalid_1's multi_logloss: 0.383313\n",
      "[170]\ttraining's multi_logloss: 0.282934\tvalid_1's multi_logloss: 0.381595\n",
      "[180]\ttraining's multi_logloss: 0.277229\tvalid_1's multi_logloss: 0.380137\n",
      "[190]\ttraining's multi_logloss: 0.271677\tvalid_1's multi_logloss: 0.379044\n",
      "[200]\ttraining's multi_logloss: 0.266548\tvalid_1's multi_logloss: 0.378243\n",
      "[210]\ttraining's multi_logloss: 0.26117\tvalid_1's multi_logloss: 0.377207\n",
      "[220]\ttraining's multi_logloss: 0.256011\tvalid_1's multi_logloss: 0.376581\n",
      "[230]\ttraining's multi_logloss: 0.251048\tvalid_1's multi_logloss: 0.375945\n",
      "[240]\ttraining's multi_logloss: 0.246121\tvalid_1's multi_logloss: 0.375394\n",
      "[250]\ttraining's multi_logloss: 0.241533\tvalid_1's multi_logloss: 0.374861\n",
      "[260]\ttraining's multi_logloss: 0.236964\tvalid_1's multi_logloss: 0.374303\n",
      "[270]\ttraining's multi_logloss: 0.232433\tvalid_1's multi_logloss: 0.373909\n",
      "[280]\ttraining's multi_logloss: 0.228056\tvalid_1's multi_logloss: 0.373546\n",
      "[290]\ttraining's multi_logloss: 0.223931\tvalid_1's multi_logloss: 0.373355\n",
      "[300]\ttraining's multi_logloss: 0.220004\tvalid_1's multi_logloss: 0.373148\n",
      "[310]\ttraining's multi_logloss: 0.216058\tvalid_1's multi_logloss: 0.373022\n",
      "[320]\ttraining's multi_logloss: 0.212348\tvalid_1's multi_logloss: 0.372896\n",
      "[330]\ttraining's multi_logloss: 0.208797\tvalid_1's multi_logloss: 0.37279\n",
      "[340]\ttraining's multi_logloss: 0.205358\tvalid_1's multi_logloss: 0.372847\n",
      "[350]\ttraining's multi_logloss: 0.201968\tvalid_1's multi_logloss: 0.372873\n",
      "[360]\ttraining's multi_logloss: 0.198498\tvalid_1's multi_logloss: 0.372957\n",
      "[370]\ttraining's multi_logloss: 0.195187\tvalid_1's multi_logloss: 0.372927\n",
      "[380]\ttraining's multi_logloss: 0.191833\tvalid_1's multi_logloss: 0.372961\n",
      "Early stopping, best iteration is:\n",
      "[333]\ttraining's multi_logloss: 0.207694\tvalid_1's multi_logloss: 0.372739\n"
     ]
    }
   ],
   "source": [
    "X_tr, X_vl, y_tr, y_vl = train_test_split(train_x, train_y, random_state = 42, shuffle = True)\n",
    "\n",
    "X_test = test_x\n",
    "\n",
    "lgb_train = lgb.Dataset(X_tr, label = y_tr)\n",
    "lgb_valid = lgb.Dataset(X_vl, label = y_vl)\n",
    "\n",
    "lgb_model = lgb.train(best_params,\n",
    "                      lgb_train, 500,\n",
    "                      valid_sets = [lgb_train, lgb_valid],\n",
    "                      verbose_eval = 10,\n",
    "                      categorical_feature = 'auto',\n",
    "                      early_stopping_rounds = 50)"
   ]
  },
  {
   "cell_type": "code",
   "execution_count": 232,
   "metadata": {
    "ExecuteTime": {
     "end_time": "2020-02-24T05:27:49.805732Z",
     "start_time": "2020-02-24T05:27:46.400621Z"
    }
   },
   "outputs": [],
   "source": [
    "pred = lgb_model.predict(test_x, num_iteration = lgb_model.best_iteration)"
   ]
  },
  {
   "cell_type": "code",
   "execution_count": 233,
   "metadata": {
    "ExecuteTime": {
     "end_time": "2020-02-24T05:27:50.980217Z",
     "start_time": "2020-02-24T05:27:50.973126Z"
    }
   },
   "outputs": [],
   "source": [
    "submission = pd.DataFrame(data = pred, columns = sample_submission.columns, index = sample_submission.index)"
   ]
  },
  {
   "cell_type": "code",
   "execution_count": 113,
   "metadata": {
    "ExecuteTime": {
     "end_time": "2020-02-24T01:55:41.122895Z",
     "start_time": "2020-02-24T01:55:41.115902Z"
    }
   },
   "outputs": [],
   "source": [
    "qso_idx = test_x.loc[(test_x['fiberID2'] == '7') | (test_x['fiberID2'] == '8') | (test_x['fiberID2'] == '9')]\n",
    "\n",
    "submission.iloc[qso_idx.index] = 0\n",
    "submission['QSO'].iloc[qso_idx.index] = 1"
   ]
  },
  {
   "cell_type": "code",
   "execution_count": 235,
   "metadata": {
    "ExecuteTime": {
     "end_time": "2020-02-24T05:28:56.067129Z",
     "start_time": "2020-02-24T05:28:55.265156Z"
    }
   },
   "outputs": [],
   "source": [
    "submission.to_csv('../submission/lgb_opt.csv')"
   ]
  }
 ],
 "metadata": {
  "kernelspec": {
   "display_name": "Python 3",
   "language": "python",
   "name": "python3"
  },
  "language_info": {
   "codemirror_mode": {
    "name": "ipython",
    "version": 3
   },
   "file_extension": ".py",
   "mimetype": "text/x-python",
   "name": "python",
   "nbconvert_exporter": "python",
   "pygments_lexer": "ipython3",
   "version": "3.7.3"
  },
  "toc": {
   "base_numbering": 1,
   "nav_menu": {},
   "number_sections": true,
   "sideBar": true,
   "skip_h1_title": false,
   "title_cell": "Table of Contents",
   "title_sidebar": "Contents",
   "toc_cell": false,
   "toc_position": {},
   "toc_section_display": true,
   "toc_window_display": false
  },
  "varInspector": {
   "cols": {
    "lenName": 16,
    "lenType": 16,
    "lenVar": 40
   },
   "kernels_config": {
    "python": {
     "delete_cmd_postfix": "",
     "delete_cmd_prefix": "del ",
     "library": "var_list.py",
     "varRefreshCmd": "print(var_dic_list())"
    },
    "r": {
     "delete_cmd_postfix": ") ",
     "delete_cmd_prefix": "rm(",
     "library": "var_list.r",
     "varRefreshCmd": "cat(var_dic_list()) "
    }
   },
   "types_to_exclude": [
    "module",
    "function",
    "builtin_function_or_method",
    "instance",
    "_Feature"
   ],
   "window_display": false
  }
 },
 "nbformat": 4,
 "nbformat_minor": 2
}
