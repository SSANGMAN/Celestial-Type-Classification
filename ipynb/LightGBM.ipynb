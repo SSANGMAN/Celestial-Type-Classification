{
 "cells": [
  {
   "cell_type": "code",
   "execution_count": 126,
   "metadata": {
    "ExecuteTime": {
     "end_time": "2020-02-24T02:12:09.422638Z",
     "start_time": "2020-02-24T02:12:09.411636Z"
    }
   },
   "outputs": [],
   "source": [
    "import pandas as pd\n",
    "import numpy as np\n",
    "\n",
    "\n",
    "from sklearn.model_selection import train_test_split\n",
    "from sklearn.model_selection import StratifiedKFold\n",
    "from sklearn.preprocessing import OneHotEncoder\n",
    "\n",
    "import lightgbm as lgb\n",
    "from lightgbm import LGBMClassifier\n",
    "\n",
    "from hyperopt import fmin, hp, tpe, Trials, space_eval, STATUS_OK, STATUS_RUNNING\n",
    "from sklearn.metrics import log_loss, make_scorer\n",
    "from functools import partial\n",
    "\n",
    "from sklearn.model_selection import train_test_split\n",
    "\n",
    "import gc\n",
    "import time\n",
    "import warnings\n",
    "warnings.filterwarnings('ignore')"
   ]
  },
  {
   "cell_type": "code",
   "execution_count": 115,
   "metadata": {
    "ExecuteTime": {
     "end_time": "2020-02-24T02:09:06.143241Z",
     "start_time": "2020-02-24T02:09:01.275090Z"
    }
   },
   "outputs": [],
   "source": [
    "train = pd.read_csv('../dataset/lee_train.csv', index_col = 0)\n",
    "test = pd.read_csv('../dataset/lee_test.csv', index_col = 0)\n",
    "sample_submission = pd.read_csv('../dataset/sample_submission.csv', index_col = 0)"
   ]
  },
  {
   "cell_type": "code",
   "execution_count": 119,
   "metadata": {
    "ExecuteTime": {
     "end_time": "2020-02-24T02:10:02.035535Z",
     "start_time": "2020-02-24T02:10:01.869231Z"
    }
   },
   "outputs": [],
   "source": [
    "column_number = {}\n",
    "\n",
    "for i, column in enumerate(sample_submission.columns):\n",
    "    column_number[column] = i\n",
    "\n",
    "def to_number(x, dic):\n",
    "    return dic[x]\n",
    "\n",
    "train['type_num'] = train['type'].apply(lambda x: to_number(x, column_number))"
   ]
  },
  {
   "cell_type": "code",
   "execution_count": 120,
   "metadata": {
    "ExecuteTime": {
     "end_time": "2020-02-24T02:10:03.653432Z",
     "start_time": "2020-02-24T02:10:03.650348Z"
    }
   },
   "outputs": [],
   "source": [
    "#bins= [0, 100, 200, 300, 400, 500, 600, 700, 800, 900 ,1000]\n",
    "#labels = ['0', '1','2','3','4','5','6','7','8','9']\n",
    "\n",
    "#train['fiberID2'] = pd.cut(train['fiberID'], bins= bins, labels = labels)\n",
    "#test['fiberID2'] = pd.cut(test['fiberID'], bins= bins, labels = labels)"
   ]
  },
  {
   "cell_type": "code",
   "execution_count": 123,
   "metadata": {
    "ExecuteTime": {
     "end_time": "2020-02-24T02:11:22.352271Z",
     "start_time": "2020-02-24T02:11:22.278782Z"
    }
   },
   "outputs": [],
   "source": [
    "train_x = train.drop(columns = ['type', 'type_num'], axis = 1)\n",
    "train_y = train['type_num']\n",
    "\n",
    "test_x = test"
   ]
  },
  {
   "cell_type": "code",
   "execution_count": 124,
   "metadata": {
    "ExecuteTime": {
     "end_time": "2020-02-24T02:11:22.839360Z",
     "start_time": "2020-02-24T02:11:22.777364Z"
    }
   },
   "outputs": [],
   "source": [
    "train_x.drop(columns = 'fiberID', inplace = True)\n",
    "test_x.drop(columns = 'fiberID', inplace = True)"
   ]
  },
  {
   "cell_type": "code",
   "execution_count": 129,
   "metadata": {
    "ExecuteTime": {
     "end_time": "2020-02-24T02:12:40.854289Z",
     "start_time": "2020-02-24T02:12:40.772872Z"
    }
   },
   "outputs": [
    {
     "data": {
      "text/html": [
       "<div>\n",
       "<style scoped>\n",
       "    .dataframe tbody tr th:only-of-type {\n",
       "        vertical-align: middle;\n",
       "    }\n",
       "\n",
       "    .dataframe tbody tr th {\n",
       "        vertical-align: top;\n",
       "    }\n",
       "\n",
       "    .dataframe thead th {\n",
       "        text-align: right;\n",
       "    }\n",
       "</style>\n",
       "<table border=\"1\" class=\"dataframe\">\n",
       "  <thead>\n",
       "    <tr style=\"text-align: right;\">\n",
       "      <th></th>\n",
       "      <th>fiber_0</th>\n",
       "      <th>fiber_1</th>\n",
       "      <th>fiber_2</th>\n",
       "      <th>fiber_3</th>\n",
       "      <th>fiber_4</th>\n",
       "      <th>fiber_5</th>\n",
       "      <th>fiber_6</th>\n",
       "      <th>fiber_7</th>\n",
       "    </tr>\n",
       "  </thead>\n",
       "  <tbody>\n",
       "    <tr>\n",
       "      <th>0</th>\n",
       "      <td>0.0</td>\n",
       "      <td>0.0</td>\n",
       "      <td>0.0</td>\n",
       "      <td>0.0</td>\n",
       "      <td>0.0</td>\n",
       "      <td>0.0</td>\n",
       "      <td>1.0</td>\n",
       "      <td>0.0</td>\n",
       "    </tr>\n",
       "    <tr>\n",
       "      <th>1</th>\n",
       "      <td>0.0</td>\n",
       "      <td>0.0</td>\n",
       "      <td>0.0</td>\n",
       "      <td>0.0</td>\n",
       "      <td>0.0</td>\n",
       "      <td>0.0</td>\n",
       "      <td>0.0</td>\n",
       "      <td>1.0</td>\n",
       "    </tr>\n",
       "    <tr>\n",
       "      <th>2</th>\n",
       "      <td>0.0</td>\n",
       "      <td>0.0</td>\n",
       "      <td>0.0</td>\n",
       "      <td>0.0</td>\n",
       "      <td>1.0</td>\n",
       "      <td>0.0</td>\n",
       "      <td>0.0</td>\n",
       "      <td>0.0</td>\n",
       "    </tr>\n",
       "    <tr>\n",
       "      <th>3</th>\n",
       "      <td>0.0</td>\n",
       "      <td>0.0</td>\n",
       "      <td>0.0</td>\n",
       "      <td>0.0</td>\n",
       "      <td>0.0</td>\n",
       "      <td>0.0</td>\n",
       "      <td>0.0</td>\n",
       "      <td>1.0</td>\n",
       "    </tr>\n",
       "    <tr>\n",
       "      <th>4</th>\n",
       "      <td>0.0</td>\n",
       "      <td>0.0</td>\n",
       "      <td>0.0</td>\n",
       "      <td>0.0</td>\n",
       "      <td>0.0</td>\n",
       "      <td>0.0</td>\n",
       "      <td>1.0</td>\n",
       "      <td>0.0</td>\n",
       "    </tr>\n",
       "  </tbody>\n",
       "</table>\n",
       "</div>"
      ],
      "text/plain": [
       "   fiber_0  fiber_1  fiber_2  fiber_3  fiber_4  fiber_5  fiber_6  fiber_7\n",
       "0      0.0      0.0      0.0      0.0      0.0      0.0      1.0      0.0\n",
       "1      0.0      0.0      0.0      0.0      0.0      0.0      0.0      1.0\n",
       "2      0.0      0.0      0.0      0.0      1.0      0.0      0.0      0.0\n",
       "3      0.0      0.0      0.0      0.0      0.0      0.0      0.0      1.0\n",
       "4      0.0      0.0      0.0      0.0      0.0      0.0      1.0      0.0"
      ]
     },
     "execution_count": 129,
     "metadata": {},
     "output_type": "execute_result"
    }
   ],
   "source": [
    "ohe = OneHotEncoder(handle_unknown = 'ignore')\n",
    "ohe_train = pd.DataFrame(ohe.fit_transform(train_x[['fiberID2']]).toarray(),\n",
    "                         columns = ['fiber_0', 'fiber_1', 'fiber_2', 'fiber_3', 'fiber_4', 'fiber_5', 'fiber_6', 'fiber_7'])\n",
    "ohe_test = pd.DataFrame(ohe.fit_transform(test_x[['fiberID2']]).toarray(),\n",
    "                        columns = ['fiber_0', 'fiber_1', 'fiber_2', 'fiber_3', 'fiber_4', 'fiber_5', 'fiber_6', 'fiber_7'])\n",
    "ohe_train.head()"
   ]
  },
  {
   "cell_type": "code",
   "execution_count": 130,
   "metadata": {
    "ExecuteTime": {
     "end_time": "2020-02-24T02:13:07.671019Z",
     "start_time": "2020-02-24T02:13:07.166229Z"
    }
   },
   "outputs": [
    {
     "data": {
      "text/html": [
       "<div>\n",
       "<style scoped>\n",
       "    .dataframe tbody tr th:only-of-type {\n",
       "        vertical-align: middle;\n",
       "    }\n",
       "\n",
       "    .dataframe tbody tr th {\n",
       "        vertical-align: top;\n",
       "    }\n",
       "\n",
       "    .dataframe thead th {\n",
       "        text-align: right;\n",
       "    }\n",
       "</style>\n",
       "<table border=\"1\" class=\"dataframe\">\n",
       "  <thead>\n",
       "    <tr style=\"text-align: right;\">\n",
       "      <th></th>\n",
       "      <th>psfMag_u</th>\n",
       "      <th>psfMag_g</th>\n",
       "      <th>psfMag_r</th>\n",
       "      <th>psfMag_i</th>\n",
       "      <th>psfMag_z</th>\n",
       "      <th>fiberMag_u</th>\n",
       "      <th>fiberMag_g</th>\n",
       "      <th>fiberMag_r</th>\n",
       "      <th>fiberMag_i</th>\n",
       "      <th>fiberMag_z</th>\n",
       "      <th>...</th>\n",
       "      <th>z_std</th>\n",
       "      <th>distance</th>\n",
       "      <th>fiber_0</th>\n",
       "      <th>fiber_1</th>\n",
       "      <th>fiber_2</th>\n",
       "      <th>fiber_3</th>\n",
       "      <th>fiber_4</th>\n",
       "      <th>fiber_5</th>\n",
       "      <th>fiber_6</th>\n",
       "      <th>fiber_7</th>\n",
       "    </tr>\n",
       "  </thead>\n",
       "  <tbody>\n",
       "    <tr>\n",
       "      <th>0</th>\n",
       "      <td>23.198224</td>\n",
       "      <td>21.431953</td>\n",
       "      <td>21.314148</td>\n",
       "      <td>21.176553</td>\n",
       "      <td>21.171444</td>\n",
       "      <td>22.581309</td>\n",
       "      <td>21.644453</td>\n",
       "      <td>21.657571</td>\n",
       "      <td>21.387653</td>\n",
       "      <td>21.572827</td>\n",
       "      <td>...</td>\n",
       "      <td>0.478938</td>\n",
       "      <td>11.282572</td>\n",
       "      <td>0.0</td>\n",
       "      <td>0.0</td>\n",
       "      <td>0.0</td>\n",
       "      <td>0.0</td>\n",
       "      <td>0.0</td>\n",
       "      <td>0.0</td>\n",
       "      <td>1.0</td>\n",
       "      <td>0.0</td>\n",
       "    </tr>\n",
       "    <tr>\n",
       "      <th>1</th>\n",
       "      <td>21.431355</td>\n",
       "      <td>20.708104</td>\n",
       "      <td>20.678850</td>\n",
       "      <td>20.703420</td>\n",
       "      <td>20.473229</td>\n",
       "      <td>21.868797</td>\n",
       "      <td>21.029773</td>\n",
       "      <td>20.967054</td>\n",
       "      <td>20.937731</td>\n",
       "      <td>21.063646</td>\n",
       "      <td>...</td>\n",
       "      <td>0.270199</td>\n",
       "      <td>9.708775</td>\n",
       "      <td>0.0</td>\n",
       "      <td>0.0</td>\n",
       "      <td>0.0</td>\n",
       "      <td>0.0</td>\n",
       "      <td>0.0</td>\n",
       "      <td>0.0</td>\n",
       "      <td>0.0</td>\n",
       "      <td>1.0</td>\n",
       "    </tr>\n",
       "    <tr>\n",
       "      <th>2</th>\n",
       "      <td>17.851451</td>\n",
       "      <td>16.727898</td>\n",
       "      <td>16.679677</td>\n",
       "      <td>16.694640</td>\n",
       "      <td>16.641788</td>\n",
       "      <td>18.171890</td>\n",
       "      <td>17.033098</td>\n",
       "      <td>16.999682</td>\n",
       "      <td>17.095999</td>\n",
       "      <td>17.076449</td>\n",
       "      <td>...</td>\n",
       "      <td>0.194764</td>\n",
       "      <td>9.770866</td>\n",
       "      <td>0.0</td>\n",
       "      <td>0.0</td>\n",
       "      <td>0.0</td>\n",
       "      <td>0.0</td>\n",
       "      <td>1.0</td>\n",
       "      <td>0.0</td>\n",
       "      <td>0.0</td>\n",
       "      <td>0.0</td>\n",
       "    </tr>\n",
       "    <tr>\n",
       "      <th>3</th>\n",
       "      <td>20.789900</td>\n",
       "      <td>20.040371</td>\n",
       "      <td>19.926909</td>\n",
       "      <td>19.843840</td>\n",
       "      <td>19.463270</td>\n",
       "      <td>21.039030</td>\n",
       "      <td>20.317165</td>\n",
       "      <td>20.217898</td>\n",
       "      <td>20.073852</td>\n",
       "      <td>19.794505</td>\n",
       "      <td>...</td>\n",
       "      <td>0.158362</td>\n",
       "      <td>10.418463</td>\n",
       "      <td>0.0</td>\n",
       "      <td>0.0</td>\n",
       "      <td>0.0</td>\n",
       "      <td>0.0</td>\n",
       "      <td>0.0</td>\n",
       "      <td>0.0</td>\n",
       "      <td>0.0</td>\n",
       "      <td>1.0</td>\n",
       "    </tr>\n",
       "    <tr>\n",
       "      <th>4</th>\n",
       "      <td>26.454969</td>\n",
       "      <td>23.058767</td>\n",
       "      <td>21.471406</td>\n",
       "      <td>19.504961</td>\n",
       "      <td>18.389096</td>\n",
       "      <td>256.875910</td>\n",
       "      <td>23.629122</td>\n",
       "      <td>21.742750</td>\n",
       "      <td>19.861718</td>\n",
       "      <td>18.810375</td>\n",
       "      <td>...</td>\n",
       "      <td>0.215129</td>\n",
       "      <td>0.000007</td>\n",
       "      <td>0.0</td>\n",
       "      <td>0.0</td>\n",
       "      <td>0.0</td>\n",
       "      <td>0.0</td>\n",
       "      <td>0.0</td>\n",
       "      <td>0.0</td>\n",
       "      <td>1.0</td>\n",
       "      <td>0.0</td>\n",
       "    </tr>\n",
       "  </tbody>\n",
       "</table>\n",
       "<p>5 rows × 56 columns</p>\n",
       "</div>"
      ],
      "text/plain": [
       "    psfMag_u   psfMag_g   psfMag_r   psfMag_i   psfMag_z  fiberMag_u  \\\n",
       "0  23.198224  21.431953  21.314148  21.176553  21.171444   22.581309   \n",
       "1  21.431355  20.708104  20.678850  20.703420  20.473229   21.868797   \n",
       "2  17.851451  16.727898  16.679677  16.694640  16.641788   18.171890   \n",
       "3  20.789900  20.040371  19.926909  19.843840  19.463270   21.039030   \n",
       "4  26.454969  23.058767  21.471406  19.504961  18.389096  256.875910   \n",
       "\n",
       "   fiberMag_g  fiberMag_r  fiberMag_i  fiberMag_z  ...     z_std   distance  \\\n",
       "0   21.644453   21.657571   21.387653   21.572827  ...  0.478938  11.282572   \n",
       "1   21.029773   20.967054   20.937731   21.063646  ...  0.270199   9.708775   \n",
       "2   17.033098   16.999682   17.095999   17.076449  ...  0.194764   9.770866   \n",
       "3   20.317165   20.217898   20.073852   19.794505  ...  0.158362  10.418463   \n",
       "4   23.629122   21.742750   19.861718   18.810375  ...  0.215129   0.000007   \n",
       "\n",
       "   fiber_0  fiber_1  fiber_2  fiber_3  fiber_4  fiber_5  fiber_6  fiber_7  \n",
       "0      0.0      0.0      0.0      0.0      0.0      0.0      1.0      0.0  \n",
       "1      0.0      0.0      0.0      0.0      0.0      0.0      0.0      1.0  \n",
       "2      0.0      0.0      0.0      0.0      1.0      0.0      0.0      0.0  \n",
       "3      0.0      0.0      0.0      0.0      0.0      0.0      0.0      1.0  \n",
       "4      0.0      0.0      0.0      0.0      0.0      0.0      1.0      0.0  \n",
       "\n",
       "[5 rows x 56 columns]"
      ]
     },
     "execution_count": 130,
     "metadata": {},
     "output_type": "execute_result"
    }
   ],
   "source": [
    "train_x = pd.concat((train_x, ohe_train), axis = 1)\n",
    "test_x = pd.concat((test_x, ohe_test), axis = 1)\n",
    "train_x.drop('fiberID2', axis = 1, inplace = True)\n",
    "test_x.drop('fiberID2', axis = 1, inplace = True)\n",
    "train_x.head()"
   ]
  },
  {
   "cell_type": "code",
   "execution_count": 9,
   "metadata": {
    "ExecuteTime": {
     "end_time": "2020-02-24T00:57:34.996752Z",
     "start_time": "2020-02-24T00:57:34.990717Z"
    }
   },
   "outputs": [],
   "source": [
    "#train_x.drop(columns = ['psf_cluster', 'fiber_cluster', 'model_cluster'], inplace = True)\n",
    "#test_x.drop(columns = ['psf_cluster', 'fiber_cluster', 'model_cluster'], inplace = True)"
   ]
  },
  {
   "cell_type": "markdown",
   "metadata": {},
   "source": [
    "# Modeling"
   ]
  },
  {
   "cell_type": "code",
   "execution_count": 131,
   "metadata": {
    "ExecuteTime": {
     "end_time": "2020-02-24T02:13:35.956014Z",
     "start_time": "2020-02-24T02:13:35.943903Z"
    }
   },
   "outputs": [],
   "source": [
    "space = {'objective' : 'multiclass',\n",
    "         'num_class' : 19,\n",
    "              'metric' : 'multi_logloss',\n",
    "              'boosting' : 'gbdt',\n",
    "    'max_depth':  hp.choice('max_depth', list(range(6, 18, 2))),\n",
    "    'reg_alpha' : hp.uniform('reg_alpha', 0.01, 0.4),\n",
    "    'reg_lambda': hp.uniform('reg_lambda', 0.01, 0.4),\n",
    "    'learning_rate' : hp.uniform('learning_rate', 0.01, 0.2),\n",
    "    'colsample_bytree' : hp.uniform('colsample_bytree', 0.3, 0.9),\n",
    "    'gamma' : hp.uniform('gamma', 0.01, .7),\n",
    "    'num_leaves' : hp.choice('num_leaves', list(range(20,150,10))),\n",
    "    'min_child_samples': hp.choice('min_child_samples', list(range(100,150,10))),\n",
    "    'subsample': hp.choice('subsample', [.2, .4, .5, .6, .7, .8, .9]),\n",
    "    'feature_fraction' : hp.uniform('feature_fraction', .4, .8),\n",
    "    'bagging_fraction' : hp.uniform('bagging_fraction', .4, .9)\n",
    "}"
   ]
  },
  {
   "cell_type": "code",
   "execution_count": 132,
   "metadata": {
    "ExecuteTime": {
     "end_time": "2020-02-24T02:13:36.444473Z",
     "start_time": "2020-02-24T02:13:36.429892Z"
    }
   },
   "outputs": [],
   "source": [
    "def evaluate_metric(params):\n",
    "    time1 = time.time()\n",
    "    print('Params : {}'.format(params))\n",
    "    FOLDS = 5\n",
    "    count = 1\n",
    "    \n",
    "    skf = StratifiedKFold(n_splits = FOLDS, shuffle = True, random_state = 42)\n",
    "    y_preds = np.zeros(test.shape[0])\n",
    "    score_mean = 0\n",
    "    \n",
    "    for tr_idx, val_idx in skf.split(train_x, train_y):\n",
    "        X_tr, X_vl = train_x.iloc[tr_idx, :], train_x.iloc[val_idx, :]\n",
    "        y_tr, y_vl = train_y.iloc[tr_idx], train_y.iloc[val_idx]\n",
    "        \n",
    "        lgbtrain = lgb.Dataset(X_tr, label = y_tr)\n",
    "        lgbval = lgb.Dataset(X_vl, label = y_vl)\n",
    "        \n",
    "        lgb_clf = lgb.train(params, lgbtrain, 500, valid_sets = [lgbval],\n",
    "                           categorical_feature = 'auto',\n",
    "                           verbose_eval = 0,\n",
    "                           early_stopping_rounds = 50)\n",
    "        \n",
    "        lgb_pred = lgb_clf.predict(X_vl, num_iteration = lgb_clf.best_iteration)\n",
    "        \n",
    "        score = make_scorer(log_loss)(lgb_clf, X_vl, y_vl)\n",
    "        \n",
    "        score_mean += score\n",
    "        print('{} CV - Score: {}'.format(count, round(score,4)))\n",
    "        \n",
    "        count += 1\n",
    "    \n",
    "    time2 = time.time() - time1\n",
    "    print('Total Time Run : {}'.format(round(time2/60, 2)))\n",
    "    gc.collect()\n",
    "    print('Mean Log Loss : {}'.format(score_mean/FOLDS))\n",
    "    del X_tr, X_vl, y_tr, y_vl, lgb_clf, score\n",
    "    \n",
    "    return (score_mean/FOLDS)"
   ]
  },
  {
   "cell_type": "code",
   "execution_count": null,
   "metadata": {
    "ExecuteTime": {
     "start_time": "2020-02-24T02:13:46.134Z"
    },
    "scrolled": false
   },
   "outputs": [
    {
     "name": "stdout",
     "output_type": "stream",
     "text": [
      "Params : {'bagging_fraction': 0.4068269543439834, 'boosting': 'gbdt', 'colsample_bytree': 0.3787486249141213, 'feature_fraction': 0.5569524460336036, 'gamma': 0.6444364470628207, 'learning_rate': 0.19609979610929865, 'max_depth': 12, 'metric': 'multi_logloss', 'min_child_samples': 100, 'num_class': 19, 'num_leaves': 70, 'objective': 'multiclass', 'reg_alpha': 0.16652438436011124, 'reg_lambda': 0.2314442522984657, 'subsample': 0.5}\n",
      "1 CV - Score: 0.4046                                                                                                   \n",
      "2 CV - Score: 0.3974                                                                                                   \n",
      "3 CV - Score: 0.3929                                                                                                   \n",
      "4 CV - Score: 0.395                                                                                                    \n",
      "5 CV - Score: 0.3892                                                                                                   \n",
      "Total Time Run : 5.48                                                                                                  \n",
      "Mean Log Loss : 0.39581159583329373                                                                                    \n",
      "Params : {'bagging_fraction': 0.5255722518570343, 'boosting': 'gbdt', 'colsample_bytree': 0.704708775240585, 'feature_fraction': 0.6813189480295078, 'gamma': 0.48969939216425934, 'learning_rate': 0.1181274212753128, 'max_depth': 12, 'metric': 'multi_logloss', 'min_child_samples': 120, 'num_class': 19, 'num_leaves': 50, 'objective': 'multiclass', 'reg_alpha': 0.10211311163474085, 'reg_lambda': 0.27259478311382035, 'subsample': 0.4}\n",
      "1 CV - Score: 0.3706                                                                                                   \n",
      "2 CV - Score: 0.3757                                                                                                   \n",
      "3 CV - Score: 0.3704                                                                                                   \n",
      "4 CV - Score: 0.3764                                                                                                   \n",
      "5 CV - Score: 0.3738                                                                                                   \n",
      "Total Time Run : 6.74                                                                                                  \n",
      "Mean Log Loss : 0.3733865639921358                                                                                     \n",
      "Params : {'bagging_fraction': 0.4978992792132701, 'boosting': 'gbdt', 'colsample_bytree': 0.35591728602161227, 'feature_fraction': 0.5951070752243164, 'gamma': 0.30137712818382495, 'learning_rate': 0.1721556759355961, 'max_depth': 10, 'metric': 'multi_logloss', 'min_child_samples': 120, 'num_class': 19, 'num_leaves': 90, 'objective': 'multiclass', 'reg_alpha': 0.07616777863637603, 'reg_lambda': 0.09629311881360639, 'subsample': 0.8}\n",
      "1 CV - Score: 0.3863                                                                                                   \n",
      "2 CV - Score: 0.3824                                                                                                   \n",
      "3 CV - Score: 0.3861                                                                                                   \n",
      "4 CV - Score: 0.3835                                                                                                   \n",
      "5 CV - Score: 0.3829                                                                                                   \n",
      "Total Time Run : 4.65                                                                                                  \n",
      "Mean Log Loss : 0.3842374673926515                                                                                     \n",
      "Params : {'bagging_fraction': 0.7963789749150043, 'boosting': 'gbdt', 'colsample_bytree': 0.7272506273096192, 'feature_fraction': 0.718758410409433, 'gamma': 0.3091390433074082, 'learning_rate': 0.08449033158616463, 'max_depth': 6, 'metric': 'multi_logloss', 'min_child_samples': 130, 'num_class': 19, 'num_leaves': 120, 'objective': 'multiclass', 'reg_alpha': 0.2866835232643665, 'reg_lambda': 0.2212485514262786, 'subsample': 0.6}\n",
      "1 CV - Score: 0.368                                                                                                    \n",
      "2 CV - Score: 0.3698                                                                                                   \n",
      "3 CV - Score: 0.3693                                                                                                   \n",
      "4 CV - Score: 0.373                                                                                                    \n",
      "5 CV - Score: 0.3715                                                                                                   \n",
      "Total Time Run : 11.83                                                                                                 \n",
      "Mean Log Loss : 0.3703058304482996                                                                                     \n",
      "Params : {'bagging_fraction': 0.7045634646634421, 'boosting': 'gbdt', 'colsample_bytree': 0.6515347552049329, 'feature_fraction': 0.6626181631386914, 'gamma': 0.2733489666895227, 'learning_rate': 0.10519321201705865, 'max_depth': 10, 'metric': 'multi_logloss', 'min_child_samples': 120, 'num_class': 19, 'num_leaves': 60, 'objective': 'multiclass', 'reg_alpha': 0.227693852380272, 'reg_lambda': 0.2561405900402708, 'subsample': 0.5}\n",
      "1 CV - Score: 0.3715                                                                                                   \n",
      "2 CV - Score: 0.37                                                                                                     \n",
      "3 CV - Score: 0.3677                                                                                                   \n",
      "4 CV - Score: 0.3731                                                                                                   \n",
      "5 CV - Score: 0.3717                                                                                                   \n",
      "Total Time Run : 6.74                                                                                                  \n",
      "Mean Log Loss : 0.37078106934483507                                                                                    \n",
      "Params : {'bagging_fraction': 0.4980427143978417, 'boosting': 'gbdt', 'colsample_bytree': 0.562089210605185, 'feature_fraction': 0.7863738591163094, 'gamma': 0.6968119411806434, 'learning_rate': 0.011996543614510063, 'max_depth': 8, 'metric': 'multi_logloss', 'min_child_samples': 110, 'num_class': 19, 'num_leaves': 100, 'objective': 'multiclass', 'reg_alpha': 0.3044528522272402, 'reg_lambda': 0.06555052979839628, 'subsample': 0.9}\n",
      "1 CV - Score: 0.4004                                                                                                   \n",
      "2 CV - Score: 0.4025                                                                                                   \n",
      "3 CV - Score: 0.4015                                                                                                   \n",
      "4 CV - Score: 0.4057                                                                                                   \n",
      "5 CV - Score: 0.4061                                                                                                   \n",
      "Total Time Run : 15.74                                                                                                 \n",
      "Mean Log Loss : 0.40324048203894935                                                                                    \n",
      "Params : {'bagging_fraction': 0.6611740816115019, 'boosting': 'gbdt', 'colsample_bytree': 0.735264491778342, 'feature_fraction': 0.6240626290368756, 'gamma': 0.548193188188232, 'learning_rate': 0.06453220757199243, 'max_depth': 12, 'metric': 'multi_logloss', 'min_child_samples': 140, 'num_class': 19, 'num_leaves': 40, 'objective': 'multiclass', 'reg_alpha': 0.0986890802372193, 'reg_lambda': 0.2022074684519157, 'subsample': 0.8}\n"
     ]
    },
    {
     "name": "stdout",
     "output_type": "stream",
     "text": [
      "1 CV - Score: 0.3664                                                                                                   \n",
      "2 CV - Score: 0.3687                                                                                                   \n",
      "3 CV - Score: 0.3672                                                                                                   \n",
      "4 CV - Score: 0.3718                                                                                                   \n",
      "5 CV - Score: 0.3708                                                                                                   \n",
      "Total Time Run : 11.38                                                                                                 \n",
      "Mean Log Loss : 0.36897419787335045                                                                                    \n",
      "Params : {'bagging_fraction': 0.7874119384163345, 'boosting': 'gbdt', 'colsample_bytree': 0.3033347474167146, 'feature_fraction': 0.723155451159674, 'gamma': 0.1451124987733402, 'learning_rate': 0.05227027642306059, 'max_depth': 16, 'metric': 'multi_logloss', 'min_child_samples': 100, 'num_class': 19, 'num_leaves': 70, 'objective': 'multiclass', 'reg_alpha': 0.3843137760831141, 'reg_lambda': 0.34924626798708097, 'subsample': 0.7}\n",
      "1 CV - Score: 0.3638                                                                                                   \n",
      "2 CV - Score: 0.3665                                                                                                   \n",
      "3 CV - Score: 0.3643                                                                                                   \n",
      "4 CV - Score: 0.3695                                                                                                   \n",
      "5 CV - Score: 0.3684                                                                                                   \n",
      "Total Time Run : 10.94                                                                                                 \n",
      "Mean Log Loss : 0.366486747656421                                                                                      \n",
      "Params : {'bagging_fraction': 0.7719134479756413, 'boosting': 'gbdt', 'colsample_bytree': 0.4591369489809749, 'feature_fraction': 0.4517788270766524, 'gamma': 0.5632013687265182, 'learning_rate': 0.06797470432340212, 'max_depth': 8, 'metric': 'multi_logloss', 'min_child_samples': 110, 'num_class': 19, 'num_leaves': 60, 'objective': 'multiclass', 'reg_alpha': 0.30270718186588785, 'reg_lambda': 0.36029089635304073, 'subsample': 0.8}\n",
      "1 CV - Score: 0.3638                                                                                                   \n",
      "2 CV - Score: 0.3655                                                                                                   \n",
      "3 CV - Score: 0.3641                                                                                                   \n",
      "4 CV - Score: 0.3689                                                                                                   \n",
      " 40%|██████████████████                           | 8/20 [1:21:02<2:05:30, 627.57s/trial, best loss: 0.366486747656421]"
     ]
    }
   ],
   "source": [
    "best = fmin(fn = evaluate_metric,\n",
    "            space = space,\n",
    "            algo = tpe.suggest,\n",
    "            max_evals = 20)\n",
    "\n",
    "best_params = space_eval(space,best)\n",
    "print(\"Best HyperParameters :\", best_params)"
   ]
  },
  {
   "cell_type": "code",
   "execution_count": 15,
   "metadata": {
    "ExecuteTime": {
     "end_time": "2020-02-24T01:33:24.808208Z",
     "start_time": "2020-02-24T01:31:35.912136Z"
    }
   },
   "outputs": [
    {
     "name": "stdout",
     "output_type": "stream",
     "text": [
      "Training until validation scores don't improve for 50 rounds\n",
      "[10]\ttraining's multi_logloss: 0.585255\tvalid_1's multi_logloss: 0.632191\n",
      "[20]\ttraining's multi_logloss: 0.386771\tvalid_1's multi_logloss: 0.456104\n",
      "[30]\ttraining's multi_logloss: 0.322389\tvalid_1's multi_logloss: 0.413594\n",
      "[40]\ttraining's multi_logloss: 0.288552\tvalid_1's multi_logloss: 0.400123\n",
      "[50]\ttraining's multi_logloss: 0.265227\tvalid_1's multi_logloss: 0.395356\n",
      "[60]\ttraining's multi_logloss: 0.246983\tvalid_1's multi_logloss: 0.393768\n",
      "[70]\ttraining's multi_logloss: 0.23061\tvalid_1's multi_logloss: 0.392764\n",
      "[80]\ttraining's multi_logloss: 0.216745\tvalid_1's multi_logloss: 0.39266\n",
      "[90]\ttraining's multi_logloss: 0.203648\tvalid_1's multi_logloss: 0.393137\n",
      "[100]\ttraining's multi_logloss: 0.191844\tvalid_1's multi_logloss: 0.393684\n",
      "[110]\ttraining's multi_logloss: 0.180877\tvalid_1's multi_logloss: 0.394391\n",
      "[120]\ttraining's multi_logloss: 0.170777\tvalid_1's multi_logloss: 0.395696\n",
      "Early stopping, best iteration is:\n",
      "[79]\ttraining's multi_logloss: 0.218113\tvalid_1's multi_logloss: 0.392631\n"
     ]
    }
   ],
   "source": [
    "X_tr, X_vl, y_tr, y_vl = train_test_split(train_x, train_y, test_size = 0.25, random_state = 42, shuffle = True)\n",
    "\n",
    "X_test = test_x\n",
    "\n",
    "lgb_train = lgb.Dataset(X_tr, label = y_tr)\n",
    "lgb_valid = lgb.Dataset(X_vl, label = y_vl)\n",
    "\n",
    "lgb_model = lgb.train(best_params,\n",
    "                      lgb_train, 500,\n",
    "                      valid_sets = [lgb_train, lgb_valid],\n",
    "                      verbose_eval = 10,\n",
    "                      categorical_feature = 'auto',\n",
    "                      early_stopping_rounds = 50)"
   ]
  },
  {
   "cell_type": "code",
   "execution_count": 77,
   "metadata": {
    "ExecuteTime": {
     "end_time": "2020-02-24T01:48:23.246868Z",
     "start_time": "2020-02-24T01:48:22.587453Z"
    }
   },
   "outputs": [],
   "source": [
    "pred = lgb_model.predict(test_x, num_iteration = lgb_model.best_iteration)"
   ]
  },
  {
   "cell_type": "code",
   "execution_count": 91,
   "metadata": {
    "ExecuteTime": {
     "end_time": "2020-02-24T01:49:47.370498Z",
     "start_time": "2020-02-24T01:49:47.363496Z"
    }
   },
   "outputs": [],
   "source": [
    "submission = pd.DataFrame(data = pred, columns = sample_submission.columns, index = sample_submission.index)"
   ]
  },
  {
   "cell_type": "code",
   "execution_count": 113,
   "metadata": {
    "ExecuteTime": {
     "end_time": "2020-02-24T01:55:41.122895Z",
     "start_time": "2020-02-24T01:55:41.115902Z"
    }
   },
   "outputs": [],
   "source": [
    "qso_idx = test_x.loc[(test_x['fiberID2'] == '7') | (test_x['fiberID2'] == '8') | (test_x['fiberID2'] == '9')]\n",
    "\n",
    "submission.iloc[qso_idx.index] = 0\n",
    "submission['QSO'].iloc[qso_idx.index] = 1"
   ]
  },
  {
   "cell_type": "code",
   "execution_count": 51,
   "metadata": {
    "ExecuteTime": {
     "end_time": "2020-02-22T12:41:21.331437Z",
     "start_time": "2020-02-22T12:41:20.843510Z"
    }
   },
   "outputs": [],
   "source": [
    "submission.to_csv('../submission/abc1927.csv')"
   ]
  }
 ],
 "metadata": {
  "kernelspec": {
   "display_name": "Python 3",
   "language": "python",
   "name": "python3"
  },
  "language_info": {
   "codemirror_mode": {
    "name": "ipython",
    "version": 3
   },
   "file_extension": ".py",
   "mimetype": "text/x-python",
   "name": "python",
   "nbconvert_exporter": "python",
   "pygments_lexer": "ipython3",
   "version": "3.7.3"
  },
  "toc": {
   "base_numbering": 1,
   "nav_menu": {},
   "number_sections": true,
   "sideBar": true,
   "skip_h1_title": false,
   "title_cell": "Table of Contents",
   "title_sidebar": "Contents",
   "toc_cell": false,
   "toc_position": {},
   "toc_section_display": true,
   "toc_window_display": false
  },
  "varInspector": {
   "cols": {
    "lenName": 16,
    "lenType": 16,
    "lenVar": 40
   },
   "kernels_config": {
    "python": {
     "delete_cmd_postfix": "",
     "delete_cmd_prefix": "del ",
     "library": "var_list.py",
     "varRefreshCmd": "print(var_dic_list())"
    },
    "r": {
     "delete_cmd_postfix": ") ",
     "delete_cmd_prefix": "rm(",
     "library": "var_list.r",
     "varRefreshCmd": "cat(var_dic_list()) "
    }
   },
   "types_to_exclude": [
    "module",
    "function",
    "builtin_function_or_method",
    "instance",
    "_Feature"
   ],
   "window_display": false
  }
 },
 "nbformat": 4,
 "nbformat_minor": 2
}
