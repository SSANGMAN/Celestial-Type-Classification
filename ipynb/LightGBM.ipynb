{
 "cells": [
  {
   "cell_type": "code",
   "execution_count": 6,
   "metadata": {
    "ExecuteTime": {
     "end_time": "2020-02-22T10:31:28.975843Z",
     "start_time": "2020-02-22T10:31:28.964843Z"
    }
   },
   "outputs": [],
   "source": [
    "import pandas as pd\n",
    "import numpy as np\n",
    "\n",
    "\n",
    "from sklearn.model_selection import train_test_split\n",
    "from sklearn.model_selection import StratifiedKFold\n",
    "\n",
    "import lightgbm as lgb\n",
    "from lightgbm import LGBMClassifier\n",
    "\n",
    "from hyperopt import fmin, hp, tpe, Trials, space_eval, STATUS_OK, STATUS_RUNNING\n",
    "from sklearn.metrics import log_loss, make_scorer\n",
    "from functools import partial\n",
    "\n",
    "import gc\n",
    "import time\n",
    "import warnings\n",
    "warnings.filterwarnings('ignore')"
   ]
  },
  {
   "cell_type": "code",
   "execution_count": 26,
   "metadata": {
    "ExecuteTime": {
     "end_time": "2020-02-22T10:49:30.001260Z",
     "start_time": "2020-02-22T10:49:22.985767Z"
    }
   },
   "outputs": [],
   "source": [
    "train = pd.read_csv('../dataset/pr_train.csv', index_col = 0)\n",
    "test = pd.read_csv('../dataset/pr_test.csv', index_col = 0)\n",
    "sample_submission = pd.read_csv('../dataset/sample_submission.csv', index_col = 0)"
   ]
  },
  {
   "cell_type": "code",
   "execution_count": 27,
   "metadata": {
    "ExecuteTime": {
     "end_time": "2020-02-22T10:49:31.202470Z",
     "start_time": "2020-02-22T10:49:31.021321Z"
    }
   },
   "outputs": [],
   "source": [
    "column_number = {}\n",
    "\n",
    "for i, column in enumerate(sample_submission.columns):\n",
    "    column_number[column] = i\n",
    "\n",
    "def to_number(x, dic):\n",
    "    return dic[x]\n",
    "\n",
    "train['type_num'] = train['type'].apply(lambda x: to_number(x, column_number))"
   ]
  },
  {
   "cell_type": "code",
   "execution_count": 28,
   "metadata": {
    "ExecuteTime": {
     "end_time": "2020-02-22T10:49:32.474029Z",
     "start_time": "2020-02-22T10:49:32.444979Z"
    }
   },
   "outputs": [],
   "source": [
    "bins= [0, 100, 200, 300, 400, 500, 600, 700, 800, 900 ,1000]\n",
    "labels = ['0', '1','2','3','4','5','6','7','8','9']\n",
    "\n",
    "train['fiberID2'] = pd.cut(train['fiberID'], bins= bins, labels = labels)\n",
    "test['fiberID2'] = pd.cut(test['fiberID'], bins= bins, labels = labels)"
   ]
  },
  {
   "cell_type": "code",
   "execution_count": 29,
   "metadata": {
    "ExecuteTime": {
     "end_time": "2020-02-22T10:49:33.886601Z",
     "start_time": "2020-02-22T10:49:33.708237Z"
    }
   },
   "outputs": [],
   "source": [
    "train_x = train.drop(columns = ['type', 'type_num'], axis = 1)\n",
    "train_y = train['type_num']\n",
    "\n",
    "test_x = test"
   ]
  },
  {
   "cell_type": "code",
   "execution_count": 30,
   "metadata": {
    "ExecuteTime": {
     "end_time": "2020-02-22T10:49:35.189900Z",
     "start_time": "2020-02-22T10:49:35.036498Z"
    }
   },
   "outputs": [],
   "source": [
    "train_x.drop(columns = 'fiberID', inplace = True)\n",
    "test_x.drop(columns = 'fiberID', inplace = True)"
   ]
  },
  {
   "cell_type": "code",
   "execution_count": 31,
   "metadata": {
    "ExecuteTime": {
     "end_time": "2020-02-22T10:49:36.292926Z",
     "start_time": "2020-02-22T10:49:36.286519Z"
    }
   },
   "outputs": [],
   "source": [
    "#train_x.drop(columns = ['psf_cluster', 'fiber_cluster', 'model_cluster'], inplace = True)\n",
    "#test_x.drop(columns = ['psf_cluster', 'fiber_cluster', 'model_cluster'], inplace = True)"
   ]
  },
  {
   "cell_type": "markdown",
   "metadata": {},
   "source": [
    "# Modeling"
   ]
  },
  {
   "cell_type": "code",
   "execution_count": 32,
   "metadata": {
    "ExecuteTime": {
     "end_time": "2020-02-22T10:49:37.366815Z",
     "start_time": "2020-02-22T10:49:37.353747Z"
    }
   },
   "outputs": [],
   "source": [
    "space = {'objective' : 'multiclass',\n",
    "         'num_class' : 19,\n",
    "              'metric' : 'multi_logloss',\n",
    "              'boosting' : 'gbdt',\n",
    "    'max_depth':  hp.choice('max_depth', list(range(6, 18, 2))),\n",
    "    'reg_alpha' : hp.uniform('reg_alpha', 0.01, 0.4),\n",
    "    'reg_lambda': hp.uniform('reg_lambda', 0.01, 0.4),\n",
    "    'learning_rate' : hp.uniform('learning_rate', 0.01, 0.2),\n",
    "    'colsample_bytree' : hp.uniform('colsample_bytree', 0.3, 0.9),\n",
    "    'gamma' : hp.uniform('gamma', 0.01, .7),\n",
    "    'num_leaves' : hp.choice('num_leaves', list(range(20,150,10))),\n",
    "    'min_child_samples': hp.choice('min_child_samples', list(range(100,150,10))),\n",
    "    'subsample': hp.choice('subsample', [.2, .4, .5, .6, .7, .8, .9]),\n",
    "    'feature_fraction' : hp.uniform('feature_fraction', .4, .8),\n",
    "    'bagging_fraction' : hp.uniform('bagging_fraction', .4, .9)\n",
    "}"
   ]
  },
  {
   "cell_type": "code",
   "execution_count": 33,
   "metadata": {
    "ExecuteTime": {
     "end_time": "2020-02-22T10:49:38.451286Z",
     "start_time": "2020-02-22T10:49:38.432288Z"
    }
   },
   "outputs": [],
   "source": [
    "def evaluate_metric(params):\n",
    "    time1 = time.time()\n",
    "    print('Params : {}'.format(params))\n",
    "    FOLDS = 5\n",
    "    count = 1\n",
    "    \n",
    "    skf = StratifiedKFold(n_splits = FOLDS, shuffle = True, random_state = 42)\n",
    "    y_preds = np.zeros(test.shape[0])\n",
    "    score_mean = 0\n",
    "    \n",
    "    for tr_idx, val_idx in skf.split(train_x, train_y):\n",
    "        X_tr, X_vl = train_x.iloc[tr_idx, :], train_x.iloc[val_idx, :]\n",
    "        y_tr, y_vl = train_y.iloc[tr_idx], train_y.iloc[val_idx]\n",
    "        \n",
    "        lgbtrain = lgb.Dataset(X_tr, label = y_tr)\n",
    "        lgbval = lgb.Dataset(X_vl, label = y_vl)\n",
    "        \n",
    "        lgb_clf = lgb.train(params, lgbtrain, 500, valid_sets = [lgbval],\n",
    "                           categorical_feature = ['psf_cluster', 'fiber_cluster', 'model_cluster','over_641', 'fiberID2'],\n",
    "                           verbose_eval = 0,\n",
    "                           early_stopping_rounds = 50)\n",
    "        \n",
    "        lgb_pred = lgb_clf.predict(X_vl, num_iteration = lgb_clf.best_iteration)\n",
    "        \n",
    "        score = make_scorer(log_loss)(lgb_clf, X_vl, y_vl)\n",
    "        \n",
    "        score_mean += score\n",
    "        print('{} CV - Score: {}'.format(count, round(score,4)))\n",
    "        \n",
    "        count += 1\n",
    "    \n",
    "    time2 = time.time() - time1\n",
    "    print('Total Time Run : {}'.format(round(time2/60, 2)))\n",
    "    gc.collect()\n",
    "    print('Mean Log Loss : {}'.format(score_mean/FOLDS))\n",
    "    del X_tr, X_vl, y_tr, y_vl, lgb_clf, score\n",
    "    \n",
    "    return (score_mean/FOLDS)"
   ]
  },
  {
   "cell_type": "code",
   "execution_count": 34,
   "metadata": {
    "ExecuteTime": {
     "end_time": "2020-02-22T12:31:42.723181Z",
     "start_time": "2020-02-22T10:49:39.584467Z"
    },
    "scrolled": false
   },
   "outputs": [
    {
     "name": "stdout",
     "output_type": "stream",
     "text": [
      "Params : {'bagging_fraction': 0.7111621120888049, 'boosting': 'gbdt', 'colsample_bytree': 0.433032891376141, 'feature_fraction': 0.4236693589707333, 'gamma': 0.07955829063920518, 'learning_rate': 0.04171682525949007, 'max_depth': 12, 'metric': 'multi_logloss', 'min_child_samples': 100, 'num_class': 19, 'num_leaves': 20, 'objective': 'multiclass', 'reg_alpha': 0.27487894180161454, 'reg_lambda': 0.07327339237163104, 'subsample': 0.7}\n",
      "1 CV - Score: 0.3778                                                                                                   \n",
      "2 CV - Score: 0.3828                                                                                                   \n",
      "3 CV - Score: 0.3821                                                                                                   \n",
      "4 CV - Score: 0.3782                                                                                                   \n",
      "5 CV - Score: 0.3758                                                                                                   \n",
      "Total Time Run : 18.41                                                                                                 \n",
      "Mean Log Loss : 0.3793239806066491                                                                                     \n",
      "Params : {'bagging_fraction': 0.5182403023156208, 'boosting': 'gbdt', 'colsample_bytree': 0.7927163545759546, 'feature_fraction': 0.4720660215645784, 'gamma': 0.11512755263403195, 'learning_rate': 0.05059565731427699, 'max_depth': 10, 'metric': 'multi_logloss', 'min_child_samples': 100, 'num_class': 19, 'num_leaves': 130, 'objective': 'multiclass', 'reg_alpha': 0.3260441854210935, 'reg_lambda': 0.12209394633875587, 'subsample': 0.4}\n",
      "1 CV - Score: 0.3692                                                                                                   \n",
      "2 CV - Score: 0.3753                                                                                                   \n",
      "3 CV - Score: 0.3762                                                                                                   \n",
      "4 CV - Score: 0.3711                                                                                                   \n",
      "5 CV - Score: 0.371                                                                                                    \n",
      "Total Time Run : 29.53                                                                                                 \n",
      "Mean Log Loss : 0.37256833013388935                                                                                    \n",
      "Params : {'bagging_fraction': 0.8323055566811111, 'boosting': 'gbdt', 'colsample_bytree': 0.7723344406036368, 'feature_fraction': 0.6588269460970808, 'gamma': 0.028402885918536312, 'learning_rate': 0.09078399513156893, 'max_depth': 16, 'metric': 'multi_logloss', 'min_child_samples': 140, 'num_class': 19, 'num_leaves': 60, 'objective': 'multiclass', 'reg_alpha': 0.12716319382823146, 'reg_lambda': 0.07199336197050048, 'subsample': 0.8}\n",
      "1 CV - Score: 0.3731                                                                                                   \n",
      "2 CV - Score: 0.3801                                                                                                   \n",
      "3 CV - Score: 0.3789                                                                                                   \n",
      "4 CV - Score: 0.3725                                                                                                   \n",
      "5 CV - Score: 0.3738                                                                                                   \n",
      "Total Time Run : 10.81                                                                                                 \n",
      "Mean Log Loss : 0.3756819721616964                                                                                     \n",
      "Params : {'bagging_fraction': 0.6573903077336738, 'boosting': 'gbdt', 'colsample_bytree': 0.8632967794300934, 'feature_fraction': 0.7484422676275552, 'gamma': 0.08624753280615366, 'learning_rate': 0.05175379440706685, 'max_depth': 8, 'metric': 'multi_logloss', 'min_child_samples': 140, 'num_class': 19, 'num_leaves': 70, 'objective': 'multiclass', 'reg_alpha': 0.19131104644977245, 'reg_lambda': 0.2942695798640206, 'subsample': 0.8}\n",
      "1 CV - Score: 0.3728                                                                                                   \n",
      "2 CV - Score: 0.379                                                                                                    \n",
      "3 CV - Score: 0.3785                                                                                                   \n",
      "4 CV - Score: 0.3731                                                                                                   \n",
      "5 CV - Score: 0.3732                                                                                                   \n",
      "Total Time Run : 29.38                                                                                                 \n",
      "Mean Log Loss : 0.37533828133614194                                                                                    \n",
      "Params : {'bagging_fraction': 0.7973257294450647, 'boosting': 'gbdt', 'colsample_bytree': 0.465519182996339, 'feature_fraction': 0.7092955632412391, 'gamma': 0.4948276086961087, 'learning_rate': 0.19657419375354915, 'max_depth': 6, 'metric': 'multi_logloss', 'min_child_samples': 110, 'num_class': 19, 'num_leaves': 100, 'objective': 'multiclass', 'reg_alpha': 0.17432415346021593, 'reg_lambda': 0.13787242549075232, 'subsample': 0.4}\n",
      "1 CV - Score: 0.3884                                                                                                   \n",
      "2 CV - Score: 0.3914                                                                                                   \n",
      "3 CV - Score: 0.391                                                                                                    \n",
      "4 CV - Score: 0.3861                                                                                                   \n",
      "5 CV - Score: 0.4018                                                                                                   \n",
      "Total Time Run : 13.9                                                                                                  \n",
      "Mean Log Loss : 0.39177629508954126                                                                                    \n",
      "100%|█████████████████████████████████████████████| 5/5 [1:42:03<00:00, 1224.62s/trial, best loss: 0.37256833013388935]\n"
     ]
    }
   ],
   "source": [
    "best = fmin(fn = evaluate_metric,\n",
    "            space = space,\n",
    "            algo = tpe.suggest,\n",
    "            max_evals = 5)\n",
    "\n",
    "best_params = space_eval(space,best)"
   ]
  },
  {
   "cell_type": "code",
   "execution_count": 35,
   "metadata": {
    "ExecuteTime": {
     "end_time": "2020-02-22T12:32:26.291736Z",
     "start_time": "2020-02-22T12:32:26.281751Z"
    }
   },
   "outputs": [],
   "source": [
    "params = {'bagging_fraction': 0.7111621120888049, 'boosting': 'gbdt', 'colsample_bytree': 0.433032891376141, 'feature_fraction': 0.4236693589707333, 'gamma': 0.07955829063920518, 'learning_rate': 0.04171682525949007, 'max_depth': 12, 'metric': 'multi_logloss', 'min_child_samples': 100, 'num_class': 19, 'num_leaves': 20, 'objective': 'multiclass', 'reg_alpha': 0.27487894180161454, 'reg_lambda': 0.07327339237163104, 'subsample': 0.7}"
   ]
  },
  {
   "cell_type": "code",
   "execution_count": 45,
   "metadata": {
    "ExecuteTime": {
     "end_time": "2020-02-22T12:40:02.719029Z",
     "start_time": "2020-02-22T12:40:02.714025Z"
    }
   },
   "outputs": [],
   "source": [
    "lgb_train = lgb.Dataset(train_x, train_y)"
   ]
  },
  {
   "cell_type": "code",
   "execution_count": 47,
   "metadata": {
    "ExecuteTime": {
     "end_time": "2020-02-22T12:41:04.418546Z",
     "start_time": "2020-02-22T12:40:13.119042Z"
    }
   },
   "outputs": [],
   "source": [
    "lgb_model = lgb.train(params,\n",
    "                      lgb_train,\n",
    "                      categorical_feature = ['psf_cluster','fiber_cluster','model_cluster','fiberID2'],\n",
    "                      verbose_eval = 1)"
   ]
  },
  {
   "cell_type": "code",
   "execution_count": 48,
   "metadata": {
    "ExecuteTime": {
     "end_time": "2020-02-22T12:41:06.175195Z",
     "start_time": "2020-02-22T12:41:05.633140Z"
    }
   },
   "outputs": [],
   "source": [
    "pred = lgb_model.predict(test_x)"
   ]
  },
  {
   "cell_type": "code",
   "execution_count": 49,
   "metadata": {
    "ExecuteTime": {
     "end_time": "2020-02-22T12:41:07.421221Z",
     "start_time": "2020-02-22T12:41:07.416226Z"
    }
   },
   "outputs": [],
   "source": [
    "submission = pd.DataFrame(data = pred, columns = sample_submission.columns, index = sample_submission.index)"
   ]
  },
  {
   "cell_type": "code",
   "execution_count": 50,
   "metadata": {
    "ExecuteTime": {
     "end_time": "2020-02-22T12:41:12.478478Z",
     "start_time": "2020-02-22T12:41:12.428932Z"
    },
    "scrolled": true
   },
   "outputs": [
    {
     "ename": "KeyError",
     "evalue": "\"None of [Int64Index([   13,    30,    35,    37,    38,    42,    89,    97,   103,\\n              107,\\n            ...\\n             9792,  9803,  9841,  9855,  9870,  9884,  9897,  9901,  9986,\\n            10006],\\n           dtype='int64', length=615)] are in the [index]\"",
     "output_type": "error",
     "traceback": [
      "\u001b[1;31m---------------------------------------------------------------------------\u001b[0m",
      "\u001b[1;31mKeyError\u001b[0m                                  Traceback (most recent call last)",
      "\u001b[1;32m<ipython-input-50-6fdd1731daaa>\u001b[0m in \u001b[0;36m<module>\u001b[1;34m\u001b[0m\n\u001b[0;32m      1\u001b[0m \u001b[0mqso_idx\u001b[0m \u001b[1;33m=\u001b[0m \u001b[0mtest_x\u001b[0m\u001b[1;33m.\u001b[0m\u001b[0mloc\u001b[0m\u001b[1;33m[\u001b[0m\u001b[1;33m(\u001b[0m\u001b[0mtest_x\u001b[0m\u001b[1;33m[\u001b[0m\u001b[1;34m'fiberID2'\u001b[0m\u001b[1;33m]\u001b[0m \u001b[1;33m==\u001b[0m \u001b[1;34m'7'\u001b[0m\u001b[1;33m)\u001b[0m \u001b[1;33m|\u001b[0m \u001b[1;33m(\u001b[0m\u001b[0mtest_x\u001b[0m\u001b[1;33m[\u001b[0m\u001b[1;34m'fiberID2'\u001b[0m\u001b[1;33m]\u001b[0m \u001b[1;33m==\u001b[0m \u001b[1;34m'8'\u001b[0m\u001b[1;33m)\u001b[0m \u001b[1;33m|\u001b[0m \u001b[1;33m(\u001b[0m\u001b[0mtest_x\u001b[0m\u001b[1;33m[\u001b[0m\u001b[1;34m'fiberID2'\u001b[0m\u001b[1;33m]\u001b[0m \u001b[1;33m==\u001b[0m \u001b[1;34m'9'\u001b[0m\u001b[1;33m)\u001b[0m\u001b[1;33m]\u001b[0m\u001b[1;33m\u001b[0m\u001b[1;33m\u001b[0m\u001b[0m\n\u001b[0;32m      2\u001b[0m \u001b[1;33m\u001b[0m\u001b[0m\n\u001b[1;32m----> 3\u001b[1;33m \u001b[0msubmission\u001b[0m\u001b[1;33m.\u001b[0m\u001b[0mloc\u001b[0m\u001b[1;33m[\u001b[0m\u001b[0mqso_idx\u001b[0m\u001b[1;33m.\u001b[0m\u001b[0mindex\u001b[0m\u001b[1;33m]\u001b[0m \u001b[1;33m=\u001b[0m \u001b[0mnp\u001b[0m\u001b[1;33m.\u001b[0m\u001b[0mnan\u001b[0m\u001b[1;33m\u001b[0m\u001b[1;33m\u001b[0m\u001b[0m\n\u001b[0m\u001b[0;32m      4\u001b[0m \u001b[0msubmission\u001b[0m\u001b[1;33m.\u001b[0m\u001b[0mloc\u001b[0m\u001b[1;33m[\u001b[0m\u001b[0mqso_idx\u001b[0m\u001b[1;33m.\u001b[0m\u001b[0mindex\u001b[0m\u001b[1;33m,\u001b[0m \u001b[1;34m'QSO'\u001b[0m\u001b[1;33m]\u001b[0m \u001b[1;33m=\u001b[0m \u001b[1;36m1\u001b[0m\u001b[1;33m\u001b[0m\u001b[1;33m\u001b[0m\u001b[0m\n\u001b[0;32m      5\u001b[0m \u001b[1;33m\u001b[0m\u001b[0m\n",
      "\u001b[1;32m~\\Anaconda3\\lib\\site-packages\\pandas\\core\\indexing.py\u001b[0m in \u001b[0;36m__setitem__\u001b[1;34m(self, key, value)\u001b[0m\n\u001b[0;32m    202\u001b[0m         \u001b[1;32melse\u001b[0m\u001b[1;33m:\u001b[0m\u001b[1;33m\u001b[0m\u001b[1;33m\u001b[0m\u001b[0m\n\u001b[0;32m    203\u001b[0m             \u001b[0mkey\u001b[0m \u001b[1;33m=\u001b[0m \u001b[0mcom\u001b[0m\u001b[1;33m.\u001b[0m\u001b[0mapply_if_callable\u001b[0m\u001b[1;33m(\u001b[0m\u001b[0mkey\u001b[0m\u001b[1;33m,\u001b[0m \u001b[0mself\u001b[0m\u001b[1;33m.\u001b[0m\u001b[0mobj\u001b[0m\u001b[1;33m)\u001b[0m\u001b[1;33m\u001b[0m\u001b[1;33m\u001b[0m\u001b[0m\n\u001b[1;32m--> 204\u001b[1;33m         \u001b[0mindexer\u001b[0m \u001b[1;33m=\u001b[0m \u001b[0mself\u001b[0m\u001b[1;33m.\u001b[0m\u001b[0m_get_setitem_indexer\u001b[0m\u001b[1;33m(\u001b[0m\u001b[0mkey\u001b[0m\u001b[1;33m)\u001b[0m\u001b[1;33m\u001b[0m\u001b[1;33m\u001b[0m\u001b[0m\n\u001b[0m\u001b[0;32m    205\u001b[0m         \u001b[0mself\u001b[0m\u001b[1;33m.\u001b[0m\u001b[0m_setitem_with_indexer\u001b[0m\u001b[1;33m(\u001b[0m\u001b[0mindexer\u001b[0m\u001b[1;33m,\u001b[0m \u001b[0mvalue\u001b[0m\u001b[1;33m)\u001b[0m\u001b[1;33m\u001b[0m\u001b[1;33m\u001b[0m\u001b[0m\n\u001b[0;32m    206\u001b[0m \u001b[1;33m\u001b[0m\u001b[0m\n",
      "\u001b[1;32m~\\Anaconda3\\lib\\site-packages\\pandas\\core\\indexing.py\u001b[0m in \u001b[0;36m_get_setitem_indexer\u001b[1;34m(self, key)\u001b[0m\n\u001b[0;32m    189\u001b[0m         \u001b[0maxis\u001b[0m \u001b[1;33m=\u001b[0m \u001b[0mself\u001b[0m\u001b[1;33m.\u001b[0m\u001b[0maxis\u001b[0m \u001b[1;32mor\u001b[0m \u001b[1;36m0\u001b[0m\u001b[1;33m\u001b[0m\u001b[1;33m\u001b[0m\u001b[0m\n\u001b[0;32m    190\u001b[0m         \u001b[1;32mtry\u001b[0m\u001b[1;33m:\u001b[0m\u001b[1;33m\u001b[0m\u001b[1;33m\u001b[0m\u001b[0m\n\u001b[1;32m--> 191\u001b[1;33m             \u001b[1;32mreturn\u001b[0m \u001b[0mself\u001b[0m\u001b[1;33m.\u001b[0m\u001b[0m_convert_to_indexer\u001b[0m\u001b[1;33m(\u001b[0m\u001b[0mkey\u001b[0m\u001b[1;33m,\u001b[0m \u001b[0maxis\u001b[0m\u001b[1;33m=\u001b[0m\u001b[0maxis\u001b[0m\u001b[1;33m,\u001b[0m \u001b[0mis_setter\u001b[0m\u001b[1;33m=\u001b[0m\u001b[1;32mTrue\u001b[0m\u001b[1;33m)\u001b[0m\u001b[1;33m\u001b[0m\u001b[1;33m\u001b[0m\u001b[0m\n\u001b[0m\u001b[0;32m    192\u001b[0m         \u001b[1;32mexcept\u001b[0m \u001b[0mTypeError\u001b[0m \u001b[1;32mas\u001b[0m \u001b[0me\u001b[0m\u001b[1;33m:\u001b[0m\u001b[1;33m\u001b[0m\u001b[1;33m\u001b[0m\u001b[0m\n\u001b[0;32m    193\u001b[0m \u001b[1;33m\u001b[0m\u001b[0m\n",
      "\u001b[1;32m~\\Anaconda3\\lib\\site-packages\\pandas\\core\\indexing.py\u001b[0m in \u001b[0;36m_convert_to_indexer\u001b[1;34m(self, obj, axis, is_setter, raise_missing)\u001b[0m\n\u001b[0;32m   1283\u001b[0m                 \u001b[1;31m# When setting, missing keys are not allowed, even with .loc:\u001b[0m\u001b[1;33m\u001b[0m\u001b[1;33m\u001b[0m\u001b[1;33m\u001b[0m\u001b[0m\n\u001b[0;32m   1284\u001b[0m                 \u001b[0mkwargs\u001b[0m \u001b[1;33m=\u001b[0m \u001b[1;33m{\u001b[0m\u001b[1;34m\"raise_missing\"\u001b[0m\u001b[1;33m:\u001b[0m \u001b[1;32mTrue\u001b[0m \u001b[1;32mif\u001b[0m \u001b[0mis_setter\u001b[0m \u001b[1;32melse\u001b[0m \u001b[0mraise_missing\u001b[0m\u001b[1;33m}\u001b[0m\u001b[1;33m\u001b[0m\u001b[1;33m\u001b[0m\u001b[0m\n\u001b[1;32m-> 1285\u001b[1;33m                 \u001b[1;32mreturn\u001b[0m \u001b[0mself\u001b[0m\u001b[1;33m.\u001b[0m\u001b[0m_get_listlike_indexer\u001b[0m\u001b[1;33m(\u001b[0m\u001b[0mobj\u001b[0m\u001b[1;33m,\u001b[0m \u001b[0maxis\u001b[0m\u001b[1;33m,\u001b[0m \u001b[1;33m**\u001b[0m\u001b[0mkwargs\u001b[0m\u001b[1;33m)\u001b[0m\u001b[1;33m[\u001b[0m\u001b[1;36m1\u001b[0m\u001b[1;33m]\u001b[0m\u001b[1;33m\u001b[0m\u001b[1;33m\u001b[0m\u001b[0m\n\u001b[0m\u001b[0;32m   1286\u001b[0m         \u001b[1;32melse\u001b[0m\u001b[1;33m:\u001b[0m\u001b[1;33m\u001b[0m\u001b[1;33m\u001b[0m\u001b[0m\n\u001b[0;32m   1287\u001b[0m             \u001b[1;32mtry\u001b[0m\u001b[1;33m:\u001b[0m\u001b[1;33m\u001b[0m\u001b[1;33m\u001b[0m\u001b[0m\n",
      "\u001b[1;32m~\\Anaconda3\\lib\\site-packages\\pandas\\core\\indexing.py\u001b[0m in \u001b[0;36m_get_listlike_indexer\u001b[1;34m(self, key, axis, raise_missing)\u001b[0m\n\u001b[0;32m   1090\u001b[0m \u001b[1;33m\u001b[0m\u001b[0m\n\u001b[0;32m   1091\u001b[0m         self._validate_read_indexer(\n\u001b[1;32m-> 1092\u001b[1;33m             \u001b[0mkeyarr\u001b[0m\u001b[1;33m,\u001b[0m \u001b[0mindexer\u001b[0m\u001b[1;33m,\u001b[0m \u001b[0mo\u001b[0m\u001b[1;33m.\u001b[0m\u001b[0m_get_axis_number\u001b[0m\u001b[1;33m(\u001b[0m\u001b[0maxis\u001b[0m\u001b[1;33m)\u001b[0m\u001b[1;33m,\u001b[0m \u001b[0mraise_missing\u001b[0m\u001b[1;33m=\u001b[0m\u001b[0mraise_missing\u001b[0m\u001b[1;33m\u001b[0m\u001b[1;33m\u001b[0m\u001b[0m\n\u001b[0m\u001b[0;32m   1093\u001b[0m         )\n\u001b[0;32m   1094\u001b[0m         \u001b[1;32mreturn\u001b[0m \u001b[0mkeyarr\u001b[0m\u001b[1;33m,\u001b[0m \u001b[0mindexer\u001b[0m\u001b[1;33m\u001b[0m\u001b[1;33m\u001b[0m\u001b[0m\n",
      "\u001b[1;32m~\\Anaconda3\\lib\\site-packages\\pandas\\core\\indexing.py\u001b[0m in \u001b[0;36m_validate_read_indexer\u001b[1;34m(self, key, indexer, axis, raise_missing)\u001b[0m\n\u001b[0;32m   1175\u001b[0m                 raise KeyError(\n\u001b[0;32m   1176\u001b[0m                     \"None of [{key}] are in the [{axis}]\".format(\n\u001b[1;32m-> 1177\u001b[1;33m                         \u001b[0mkey\u001b[0m\u001b[1;33m=\u001b[0m\u001b[0mkey\u001b[0m\u001b[1;33m,\u001b[0m \u001b[0maxis\u001b[0m\u001b[1;33m=\u001b[0m\u001b[0mself\u001b[0m\u001b[1;33m.\u001b[0m\u001b[0mobj\u001b[0m\u001b[1;33m.\u001b[0m\u001b[0m_get_axis_name\u001b[0m\u001b[1;33m(\u001b[0m\u001b[0maxis\u001b[0m\u001b[1;33m)\u001b[0m\u001b[1;33m\u001b[0m\u001b[1;33m\u001b[0m\u001b[0m\n\u001b[0m\u001b[0;32m   1178\u001b[0m                     )\n\u001b[0;32m   1179\u001b[0m                 )\n",
      "\u001b[1;31mKeyError\u001b[0m: \"None of [Int64Index([   13,    30,    35,    37,    38,    42,    89,    97,   103,\\n              107,\\n            ...\\n             9792,  9803,  9841,  9855,  9870,  9884,  9897,  9901,  9986,\\n            10006],\\n           dtype='int64', length=615)] are in the [index]\""
     ]
    }
   ],
   "source": [
    "qso_idx = test_x.loc[(test_x['fiberID2'] == '7') | (test_x['fiberID2'] == '8') | (test_x['fiberID2'] == '9')]\n",
    "\n",
    "submission.loc[qso_idx.index] = np.nan\n",
    "submission.loc[qso_idx.index, 'QSO'] = 1\n",
    "\n",
    "submission.loc[qso_idx.index, submission.drop(columns = 'QSO').columns] = 0"
   ]
  },
  {
   "cell_type": "code",
   "execution_count": 51,
   "metadata": {
    "ExecuteTime": {
     "end_time": "2020-02-22T12:41:21.331437Z",
     "start_time": "2020-02-22T12:41:20.843510Z"
    }
   },
   "outputs": [],
   "source": [
    "submission.to_csv('../submission/abc1927.csv')"
   ]
  },
  {
   "cell_type": "code",
   "execution_count": 52,
   "metadata": {
    "ExecuteTime": {
     "end_time": "2020-02-22T12:41:22.822970Z",
     "start_time": "2020-02-22T12:41:22.789971Z"
    }
   },
   "outputs": [
    {
     "data": {
      "text/html": [
       "<div>\n",
       "<style scoped>\n",
       "    .dataframe tbody tr th:only-of-type {\n",
       "        vertical-align: middle;\n",
       "    }\n",
       "\n",
       "    .dataframe tbody tr th {\n",
       "        vertical-align: top;\n",
       "    }\n",
       "\n",
       "    .dataframe thead th {\n",
       "        text-align: right;\n",
       "    }\n",
       "</style>\n",
       "<table border=\"1\" class=\"dataframe\">\n",
       "  <thead>\n",
       "    <tr style=\"text-align: right;\">\n",
       "      <th></th>\n",
       "      <th>STAR_WHITE_DWARF</th>\n",
       "      <th>STAR_CATY_VAR</th>\n",
       "      <th>STAR_BROWN_DWARF</th>\n",
       "      <th>SERENDIPITY_RED</th>\n",
       "      <th>REDDEN_STD</th>\n",
       "      <th>STAR_BHB</th>\n",
       "      <th>GALAXY</th>\n",
       "      <th>SERENDIPITY_DISTANT</th>\n",
       "      <th>QSO</th>\n",
       "      <th>SKY</th>\n",
       "      <th>STAR_RED_DWARF</th>\n",
       "      <th>ROSAT_D</th>\n",
       "      <th>STAR_PN</th>\n",
       "      <th>SERENDIPITY_FIRST</th>\n",
       "      <th>STAR_CARBON</th>\n",
       "      <th>SPECTROPHOTO_STD</th>\n",
       "      <th>STAR_SUB_DWARF</th>\n",
       "      <th>SERENDIPITY_MANUAL</th>\n",
       "      <th>SERENDIPITY_BLUE</th>\n",
       "    </tr>\n",
       "    <tr>\n",
       "      <th>id</th>\n",
       "      <th></th>\n",
       "      <th></th>\n",
       "      <th></th>\n",
       "      <th></th>\n",
       "      <th></th>\n",
       "      <th></th>\n",
       "      <th></th>\n",
       "      <th></th>\n",
       "      <th></th>\n",
       "      <th></th>\n",
       "      <th></th>\n",
       "      <th></th>\n",
       "      <th></th>\n",
       "      <th></th>\n",
       "      <th></th>\n",
       "      <th></th>\n",
       "      <th></th>\n",
       "      <th></th>\n",
       "      <th></th>\n",
       "    </tr>\n",
       "  </thead>\n",
       "  <tbody>\n",
       "    <tr>\n",
       "      <th>199991</th>\n",
       "      <td>0.000685</td>\n",
       "      <td>0.001861</td>\n",
       "      <td>0.000222</td>\n",
       "      <td>0.038584</td>\n",
       "      <td>0.004001</td>\n",
       "      <td>0.003649</td>\n",
       "      <td>0.011494</td>\n",
       "      <td>0.001636</td>\n",
       "      <td>0.018917</td>\n",
       "      <td>0.000005</td>\n",
       "      <td>0.898518</td>\n",
       "      <td>0.006083</td>\n",
       "      <td>0.000005</td>\n",
       "      <td>0.002735</td>\n",
       "      <td>0.001033</td>\n",
       "      <td>0.003721</td>\n",
       "      <td>0.000430</td>\n",
       "      <td>0.000146</td>\n",
       "      <td>0.006274</td>\n",
       "    </tr>\n",
       "    <tr>\n",
       "      <th>199992</th>\n",
       "      <td>0.002575</td>\n",
       "      <td>0.005287</td>\n",
       "      <td>0.000106</td>\n",
       "      <td>0.001206</td>\n",
       "      <td>0.011367</td>\n",
       "      <td>0.010367</td>\n",
       "      <td>0.036796</td>\n",
       "      <td>0.007860</td>\n",
       "      <td>0.407241</td>\n",
       "      <td>0.000007</td>\n",
       "      <td>0.010767</td>\n",
       "      <td>0.264264</td>\n",
       "      <td>0.000024</td>\n",
       "      <td>0.208333</td>\n",
       "      <td>0.002677</td>\n",
       "      <td>0.010571</td>\n",
       "      <td>0.000936</td>\n",
       "      <td>0.000276</td>\n",
       "      <td>0.019338</td>\n",
       "    </tr>\n",
       "    <tr>\n",
       "      <th>199993</th>\n",
       "      <td>0.000753</td>\n",
       "      <td>0.001097</td>\n",
       "      <td>0.000018</td>\n",
       "      <td>0.000194</td>\n",
       "      <td>0.002320</td>\n",
       "      <td>0.002654</td>\n",
       "      <td>0.965604</td>\n",
       "      <td>0.000883</td>\n",
       "      <td>0.011169</td>\n",
       "      <td>0.000001</td>\n",
       "      <td>0.002036</td>\n",
       "      <td>0.004346</td>\n",
       "      <td>0.000003</td>\n",
       "      <td>0.001297</td>\n",
       "      <td>0.001846</td>\n",
       "      <td>0.002062</td>\n",
       "      <td>0.000201</td>\n",
       "      <td>0.000020</td>\n",
       "      <td>0.003496</td>\n",
       "    </tr>\n",
       "    <tr>\n",
       "      <th>199994</th>\n",
       "      <td>0.001029</td>\n",
       "      <td>0.002685</td>\n",
       "      <td>0.000047</td>\n",
       "      <td>0.000494</td>\n",
       "      <td>0.005664</td>\n",
       "      <td>0.005162</td>\n",
       "      <td>0.013756</td>\n",
       "      <td>0.011635</td>\n",
       "      <td>0.131326</td>\n",
       "      <td>0.000004</td>\n",
       "      <td>0.005190</td>\n",
       "      <td>0.015524</td>\n",
       "      <td>0.000023</td>\n",
       "      <td>0.022244</td>\n",
       "      <td>0.001334</td>\n",
       "      <td>0.005267</td>\n",
       "      <td>0.000478</td>\n",
       "      <td>0.001661</td>\n",
       "      <td>0.776476</td>\n",
       "    </tr>\n",
       "    <tr>\n",
       "      <th>199995</th>\n",
       "      <td>0.000441</td>\n",
       "      <td>0.001187</td>\n",
       "      <td>0.000047</td>\n",
       "      <td>0.000909</td>\n",
       "      <td>0.002551</td>\n",
       "      <td>0.002327</td>\n",
       "      <td>0.007092</td>\n",
       "      <td>0.001047</td>\n",
       "      <td>0.013638</td>\n",
       "      <td>0.000002</td>\n",
       "      <td>0.954388</td>\n",
       "      <td>0.006930</td>\n",
       "      <td>0.000004</td>\n",
       "      <td>0.002094</td>\n",
       "      <td>0.000699</td>\n",
       "      <td>0.002373</td>\n",
       "      <td>0.000211</td>\n",
       "      <td>0.000057</td>\n",
       "      <td>0.004005</td>\n",
       "    </tr>\n",
       "  </tbody>\n",
       "</table>\n",
       "</div>"
      ],
      "text/plain": [
       "        STAR_WHITE_DWARF  STAR_CATY_VAR  STAR_BROWN_DWARF  SERENDIPITY_RED  \\\n",
       "id                                                                           \n",
       "199991          0.000685       0.001861          0.000222         0.038584   \n",
       "199992          0.002575       0.005287          0.000106         0.001206   \n",
       "199993          0.000753       0.001097          0.000018         0.000194   \n",
       "199994          0.001029       0.002685          0.000047         0.000494   \n",
       "199995          0.000441       0.001187          0.000047         0.000909   \n",
       "\n",
       "        REDDEN_STD  STAR_BHB    GALAXY  SERENDIPITY_DISTANT       QSO  \\\n",
       "id                                                                      \n",
       "199991    0.004001  0.003649  0.011494             0.001636  0.018917   \n",
       "199992    0.011367  0.010367  0.036796             0.007860  0.407241   \n",
       "199993    0.002320  0.002654  0.965604             0.000883  0.011169   \n",
       "199994    0.005664  0.005162  0.013756             0.011635  0.131326   \n",
       "199995    0.002551  0.002327  0.007092             0.001047  0.013638   \n",
       "\n",
       "             SKY  STAR_RED_DWARF   ROSAT_D   STAR_PN  SERENDIPITY_FIRST  \\\n",
       "id                                                                        \n",
       "199991  0.000005        0.898518  0.006083  0.000005           0.002735   \n",
       "199992  0.000007        0.010767  0.264264  0.000024           0.208333   \n",
       "199993  0.000001        0.002036  0.004346  0.000003           0.001297   \n",
       "199994  0.000004        0.005190  0.015524  0.000023           0.022244   \n",
       "199995  0.000002        0.954388  0.006930  0.000004           0.002094   \n",
       "\n",
       "        STAR_CARBON  SPECTROPHOTO_STD  STAR_SUB_DWARF  SERENDIPITY_MANUAL  \\\n",
       "id                                                                          \n",
       "199991     0.001033          0.003721        0.000430            0.000146   \n",
       "199992     0.002677          0.010571        0.000936            0.000276   \n",
       "199993     0.001846          0.002062        0.000201            0.000020   \n",
       "199994     0.001334          0.005267        0.000478            0.001661   \n",
       "199995     0.000699          0.002373        0.000211            0.000057   \n",
       "\n",
       "        SERENDIPITY_BLUE  \n",
       "id                        \n",
       "199991          0.006274  \n",
       "199992          0.019338  \n",
       "199993          0.003496  \n",
       "199994          0.776476  \n",
       "199995          0.004005  "
      ]
     },
     "execution_count": 52,
     "metadata": {},
     "output_type": "execute_result"
    }
   ],
   "source": [
    "submission.head()"
   ]
  },
  {
   "cell_type": "code",
   "execution_count": 53,
   "metadata": {
    "ExecuteTime": {
     "end_time": "2020-02-22T12:41:32.298755Z",
     "start_time": "2020-02-22T12:41:32.290241Z"
    }
   },
   "outputs": [
    {
     "data": {
      "text/plain": [
       "(10009, 19)"
      ]
     },
     "execution_count": 53,
     "metadata": {},
     "output_type": "execute_result"
    }
   ],
   "source": [
    "submission.shape"
   ]
  },
  {
   "cell_type": "code",
   "execution_count": 54,
   "metadata": {
    "ExecuteTime": {
     "end_time": "2020-02-22T12:41:38.023084Z",
     "start_time": "2020-02-22T12:41:38.003507Z"
    }
   },
   "outputs": [
    {
     "name": "stdout",
     "output_type": "stream",
     "text": [
      "<class 'pandas.core.frame.DataFrame'>\n",
      "Int64Index: 10009 entries, 199991 to 209999\n",
      "Data columns (total 19 columns):\n",
      "STAR_WHITE_DWARF       10009 non-null float64\n",
      "STAR_CATY_VAR          10009 non-null float64\n",
      "STAR_BROWN_DWARF       10009 non-null float64\n",
      "SERENDIPITY_RED        10009 non-null float64\n",
      "REDDEN_STD             10009 non-null float64\n",
      "STAR_BHB               10009 non-null float64\n",
      "GALAXY                 10009 non-null float64\n",
      "SERENDIPITY_DISTANT    10009 non-null float64\n",
      "QSO                    10009 non-null float64\n",
      "SKY                    10009 non-null float64\n",
      "STAR_RED_DWARF         10009 non-null float64\n",
      "ROSAT_D                10009 non-null float64\n",
      "STAR_PN                10009 non-null float64\n",
      "SERENDIPITY_FIRST      10009 non-null float64\n",
      "STAR_CARBON            10009 non-null float64\n",
      "SPECTROPHOTO_STD       10009 non-null float64\n",
      "STAR_SUB_DWARF         10009 non-null float64\n",
      "SERENDIPITY_MANUAL     10009 non-null float64\n",
      "SERENDIPITY_BLUE       10009 non-null float64\n",
      "dtypes: float64(19)\n",
      "memory usage: 1.8 MB\n"
     ]
    }
   ],
   "source": [
    "submission.info()"
   ]
  }
 ],
 "metadata": {
  "kernelspec": {
   "display_name": "Python 3",
   "language": "python",
   "name": "python3"
  },
  "language_info": {
   "codemirror_mode": {
    "name": "ipython",
    "version": 3
   },
   "file_extension": ".py",
   "mimetype": "text/x-python",
   "name": "python",
   "nbconvert_exporter": "python",
   "pygments_lexer": "ipython3",
   "version": "3.7.3"
  },
  "toc": {
   "base_numbering": 1,
   "nav_menu": {},
   "number_sections": true,
   "sideBar": true,
   "skip_h1_title": false,
   "title_cell": "Table of Contents",
   "title_sidebar": "Contents",
   "toc_cell": false,
   "toc_position": {},
   "toc_section_display": true,
   "toc_window_display": false
  },
  "varInspector": {
   "cols": {
    "lenName": 16,
    "lenType": 16,
    "lenVar": 40
   },
   "kernels_config": {
    "python": {
     "delete_cmd_postfix": "",
     "delete_cmd_prefix": "del ",
     "library": "var_list.py",
     "varRefreshCmd": "print(var_dic_list())"
    },
    "r": {
     "delete_cmd_postfix": ") ",
     "delete_cmd_prefix": "rm(",
     "library": "var_list.r",
     "varRefreshCmd": "cat(var_dic_list()) "
    }
   },
   "types_to_exclude": [
    "module",
    "function",
    "builtin_function_or_method",
    "instance",
    "_Feature"
   ],
   "window_display": false
  }
 },
 "nbformat": 4,
 "nbformat_minor": 2
}
