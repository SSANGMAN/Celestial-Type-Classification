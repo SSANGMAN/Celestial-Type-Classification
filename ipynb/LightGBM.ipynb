{
 "cells": [
  {
   "cell_type": "code",
   "execution_count": 36,
   "metadata": {
    "ExecuteTime": {
     "end_time": "2020-02-25T11:35:11.529622Z",
     "start_time": "2020-02-25T11:35:11.502414Z"
    }
   },
   "outputs": [],
   "source": [
    "import pandas as pd\n",
    "import numpy as np\n",
    "\n",
    "\n",
    "from sklearn.model_selection import train_test_split\n",
    "from sklearn.model_selection import StratifiedKFold\n",
    "from sklearn.preprocessing import OneHotEncoder\n",
    "from sklearn.externals import joblib\n",
    "\n",
    "import lightgbm as lgb\n",
    "from lightgbm import LGBMClassifier\n",
    "\n",
    "from hyperopt import fmin, hp, tpe, Trials, space_eval, STATUS_OK, STATUS_RUNNING\n",
    "from sklearn.metrics import log_loss, make_scorer\n",
    "from functools import partial\n",
    "\n",
    "from sklearn.model_selection import train_test_split\n",
    "\n",
    "import gc\n",
    "import time\n",
    "import warnings\n",
    "warnings.filterwarnings('ignore')"
   ]
  },
  {
   "cell_type": "code",
   "execution_count": 37,
   "metadata": {
    "ExecuteTime": {
     "end_time": "2020-02-25T11:35:18.972648Z",
     "start_time": "2020-02-25T11:35:12.049948Z"
    }
   },
   "outputs": [],
   "source": [
    "train = pd.read_csv('../dataset/train20200225.csv', index_col = 0)\n",
    "test = pd.read_csv('../dataset/test20200225.csv', index_col = 0)\n",
    "sample_submission = pd.read_csv('../dataset/sample_submission.csv', index_col = 0)"
   ]
  },
  {
   "cell_type": "code",
   "execution_count": 38,
   "metadata": {
    "ExecuteTime": {
     "end_time": "2020-02-25T11:35:19.834540Z",
     "start_time": "2020-02-25T11:35:19.605270Z"
    }
   },
   "outputs": [],
   "source": [
    "column_number = {}\n",
    "\n",
    "for i, column in enumerate(sample_submission.columns):\n",
    "    column_number[column] = i\n",
    "\n",
    "def to_number(x, dic):\n",
    "    return dic[x]\n",
    "\n",
    "train['type_num'] = train['type'].apply(lambda x: to_number(x, column_number))"
   ]
  },
  {
   "cell_type": "code",
   "execution_count": 39,
   "metadata": {
    "ExecuteTime": {
     "end_time": "2020-02-25T11:35:20.379050Z",
     "start_time": "2020-02-25T11:35:20.374048Z"
    }
   },
   "outputs": [],
   "source": [
    "#bins= [0, 100, 200, 300, 400, 500, 600, 700, 800, 900 ,1000]\n",
    "#labels = ['0', '1','2','3','4','5','6','7','8','9']\n",
    "\n",
    "#train['fiberID2'] = pd.cut(train['fiberID'], bins= bins, labels = labels)\n",
    "#test['fiberID2'] = pd.cut(test['fiberID'], bins= bins, labels = labels)"
   ]
  },
  {
   "cell_type": "code",
   "execution_count": 40,
   "metadata": {
    "ExecuteTime": {
     "end_time": "2020-02-25T11:35:20.915702Z",
     "start_time": "2020-02-25T11:35:20.807905Z"
    }
   },
   "outputs": [],
   "source": [
    "train_x = train.drop(columns = ['type', 'type_num'], axis = 1)\n",
    "train_y = train['type_num']\n",
    "\n",
    "test_x = test"
   ]
  },
  {
   "cell_type": "code",
   "execution_count": 41,
   "metadata": {
    "ExecuteTime": {
     "end_time": "2020-02-25T11:35:21.577299Z",
     "start_time": "2020-02-25T11:35:21.467971Z"
    }
   },
   "outputs": [],
   "source": [
    "train_x.drop(columns = 'fiberID', inplace = True)\n",
    "test_x.drop(columns = 'fiberID', inplace = True)"
   ]
  },
  {
   "cell_type": "code",
   "execution_count": 42,
   "metadata": {
    "ExecuteTime": {
     "end_time": "2020-02-25T11:35:22.224045Z",
     "start_time": "2020-02-25T11:35:22.130939Z"
    }
   },
   "outputs": [
    {
     "data": {
      "text/html": [
       "<div>\n",
       "<style scoped>\n",
       "    .dataframe tbody tr th:only-of-type {\n",
       "        vertical-align: middle;\n",
       "    }\n",
       "\n",
       "    .dataframe tbody tr th {\n",
       "        vertical-align: top;\n",
       "    }\n",
       "\n",
       "    .dataframe thead th {\n",
       "        text-align: right;\n",
       "    }\n",
       "</style>\n",
       "<table border=\"1\" class=\"dataframe\">\n",
       "  <thead>\n",
       "    <tr style=\"text-align: right;\">\n",
       "      <th></th>\n",
       "      <th>fiber_0</th>\n",
       "      <th>fiber_1</th>\n",
       "      <th>fiber_2</th>\n",
       "      <th>fiber_3</th>\n",
       "      <th>fiber_4</th>\n",
       "      <th>fiber_5</th>\n",
       "      <th>fiber_6</th>\n",
       "      <th>fiber_7</th>\n",
       "    </tr>\n",
       "  </thead>\n",
       "  <tbody>\n",
       "    <tr>\n",
       "      <th>0</th>\n",
       "      <td>0.0</td>\n",
       "      <td>0.0</td>\n",
       "      <td>0.0</td>\n",
       "      <td>0.0</td>\n",
       "      <td>0.0</td>\n",
       "      <td>0.0</td>\n",
       "      <td>1.0</td>\n",
       "      <td>0.0</td>\n",
       "    </tr>\n",
       "    <tr>\n",
       "      <th>1</th>\n",
       "      <td>0.0</td>\n",
       "      <td>0.0</td>\n",
       "      <td>0.0</td>\n",
       "      <td>0.0</td>\n",
       "      <td>0.0</td>\n",
       "      <td>0.0</td>\n",
       "      <td>0.0</td>\n",
       "      <td>1.0</td>\n",
       "    </tr>\n",
       "    <tr>\n",
       "      <th>2</th>\n",
       "      <td>0.0</td>\n",
       "      <td>0.0</td>\n",
       "      <td>0.0</td>\n",
       "      <td>0.0</td>\n",
       "      <td>1.0</td>\n",
       "      <td>0.0</td>\n",
       "      <td>0.0</td>\n",
       "      <td>0.0</td>\n",
       "    </tr>\n",
       "    <tr>\n",
       "      <th>3</th>\n",
       "      <td>0.0</td>\n",
       "      <td>0.0</td>\n",
       "      <td>0.0</td>\n",
       "      <td>0.0</td>\n",
       "      <td>0.0</td>\n",
       "      <td>0.0</td>\n",
       "      <td>0.0</td>\n",
       "      <td>1.0</td>\n",
       "    </tr>\n",
       "    <tr>\n",
       "      <th>4</th>\n",
       "      <td>0.0</td>\n",
       "      <td>0.0</td>\n",
       "      <td>0.0</td>\n",
       "      <td>0.0</td>\n",
       "      <td>0.0</td>\n",
       "      <td>0.0</td>\n",
       "      <td>1.0</td>\n",
       "      <td>0.0</td>\n",
       "    </tr>\n",
       "  </tbody>\n",
       "</table>\n",
       "</div>"
      ],
      "text/plain": [
       "   fiber_0  fiber_1  fiber_2  fiber_3  fiber_4  fiber_5  fiber_6  fiber_7\n",
       "0      0.0      0.0      0.0      0.0      0.0      0.0      1.0      0.0\n",
       "1      0.0      0.0      0.0      0.0      0.0      0.0      0.0      1.0\n",
       "2      0.0      0.0      0.0      0.0      1.0      0.0      0.0      0.0\n",
       "3      0.0      0.0      0.0      0.0      0.0      0.0      0.0      1.0\n",
       "4      0.0      0.0      0.0      0.0      0.0      0.0      1.0      0.0"
      ]
     },
     "execution_count": 42,
     "metadata": {},
     "output_type": "execute_result"
    }
   ],
   "source": [
    "ohe = OneHotEncoder(handle_unknown = 'ignore')\n",
    "ohe_train = pd.DataFrame(ohe.fit_transform(train_x[['fiberID2']]).toarray(),\n",
    "                         columns = ['fiber_0', 'fiber_1', 'fiber_2', 'fiber_3', 'fiber_4', 'fiber_5', 'fiber_6', 'fiber_7'])\n",
    "ohe_test = pd.DataFrame(ohe.fit_transform(test_x[['fiberID2']]).toarray(),\n",
    "                        columns = ['fiber_0', 'fiber_1', 'fiber_2', 'fiber_3', 'fiber_4', 'fiber_5', 'fiber_6', 'fiber_7'])\n",
    "ohe_train.head()"
   ]
  },
  {
   "cell_type": "code",
   "execution_count": 43,
   "metadata": {
    "ExecuteTime": {
     "end_time": "2020-02-25T11:35:22.827699Z",
     "start_time": "2020-02-25T11:35:22.808334Z"
    }
   },
   "outputs": [],
   "source": [
    "idx_list = [x for x in range(199991,210000)]\n",
    "ohe_test['id'] = idx_list\n",
    "ohe_test.set_index('id', inplace = True)"
   ]
  },
  {
   "cell_type": "code",
   "execution_count": 44,
   "metadata": {
    "ExecuteTime": {
     "end_time": "2020-02-25T11:35:23.866310Z",
     "start_time": "2020-02-25T11:35:23.318851Z"
    },
    "scrolled": true
   },
   "outputs": [
    {
     "data": {
      "text/html": [
       "<div>\n",
       "<style scoped>\n",
       "    .dataframe tbody tr th:only-of-type {\n",
       "        vertical-align: middle;\n",
       "    }\n",
       "\n",
       "    .dataframe tbody tr th {\n",
       "        vertical-align: top;\n",
       "    }\n",
       "\n",
       "    .dataframe thead th {\n",
       "        text-align: right;\n",
       "    }\n",
       "</style>\n",
       "<table border=\"1\" class=\"dataframe\">\n",
       "  <thead>\n",
       "    <tr style=\"text-align: right;\">\n",
       "      <th></th>\n",
       "      <th>psfMag_u</th>\n",
       "      <th>psfMag_g</th>\n",
       "      <th>psfMag_r</th>\n",
       "      <th>psfMag_i</th>\n",
       "      <th>psfMag_z</th>\n",
       "      <th>fiberMag_u</th>\n",
       "      <th>fiberMag_g</th>\n",
       "      <th>fiberMag_r</th>\n",
       "      <th>fiberMag_i</th>\n",
       "      <th>fiberMag_z</th>\n",
       "      <th>...</th>\n",
       "      <th>petroMag_i_z</th>\n",
       "      <th>modelMag_i_z</th>\n",
       "      <th>fiber_0</th>\n",
       "      <th>fiber_1</th>\n",
       "      <th>fiber_2</th>\n",
       "      <th>fiber_3</th>\n",
       "      <th>fiber_4</th>\n",
       "      <th>fiber_5</th>\n",
       "      <th>fiber_6</th>\n",
       "      <th>fiber_7</th>\n",
       "    </tr>\n",
       "  </thead>\n",
       "  <tbody>\n",
       "    <tr>\n",
       "      <th>0</th>\n",
       "      <td>23.198224</td>\n",
       "      <td>21.431953</td>\n",
       "      <td>21.314148</td>\n",
       "      <td>21.176553</td>\n",
       "      <td>21.171444</td>\n",
       "      <td>22.581309</td>\n",
       "      <td>21.644453</td>\n",
       "      <td>21.657571</td>\n",
       "      <td>21.387653</td>\n",
       "      <td>21.572827</td>\n",
       "      <td>...</td>\n",
       "      <td>0.722964</td>\n",
       "      <td>-0.126735</td>\n",
       "      <td>0.0</td>\n",
       "      <td>0.0</td>\n",
       "      <td>0.0</td>\n",
       "      <td>0.0</td>\n",
       "      <td>0.0</td>\n",
       "      <td>0.0</td>\n",
       "      <td>1.0</td>\n",
       "      <td>0.0</td>\n",
       "    </tr>\n",
       "    <tr>\n",
       "      <th>1</th>\n",
       "      <td>21.431355</td>\n",
       "      <td>20.708104</td>\n",
       "      <td>20.678850</td>\n",
       "      <td>20.703420</td>\n",
       "      <td>20.473229</td>\n",
       "      <td>21.868797</td>\n",
       "      <td>21.029773</td>\n",
       "      <td>20.967054</td>\n",
       "      <td>20.937731</td>\n",
       "      <td>21.063646</td>\n",
       "      <td>...</td>\n",
       "      <td>-0.006847</td>\n",
       "      <td>0.181074</td>\n",
       "      <td>0.0</td>\n",
       "      <td>0.0</td>\n",
       "      <td>0.0</td>\n",
       "      <td>0.0</td>\n",
       "      <td>0.0</td>\n",
       "      <td>0.0</td>\n",
       "      <td>0.0</td>\n",
       "      <td>1.0</td>\n",
       "    </tr>\n",
       "    <tr>\n",
       "      <th>2</th>\n",
       "      <td>17.851451</td>\n",
       "      <td>16.727898</td>\n",
       "      <td>16.679677</td>\n",
       "      <td>16.694640</td>\n",
       "      <td>16.641788</td>\n",
       "      <td>18.171890</td>\n",
       "      <td>17.033098</td>\n",
       "      <td>16.999682</td>\n",
       "      <td>17.095999</td>\n",
       "      <td>17.076449</td>\n",
       "      <td>...</td>\n",
       "      <td>-0.063796</td>\n",
       "      <td>-0.028751</td>\n",
       "      <td>0.0</td>\n",
       "      <td>0.0</td>\n",
       "      <td>0.0</td>\n",
       "      <td>0.0</td>\n",
       "      <td>1.0</td>\n",
       "      <td>0.0</td>\n",
       "      <td>0.0</td>\n",
       "      <td>0.0</td>\n",
       "    </tr>\n",
       "    <tr>\n",
       "      <th>3</th>\n",
       "      <td>20.789900</td>\n",
       "      <td>20.040371</td>\n",
       "      <td>19.926909</td>\n",
       "      <td>19.843840</td>\n",
       "      <td>19.463270</td>\n",
       "      <td>21.039030</td>\n",
       "      <td>20.317165</td>\n",
       "      <td>20.217898</td>\n",
       "      <td>20.073852</td>\n",
       "      <td>19.794505</td>\n",
       "      <td>...</td>\n",
       "      <td>0.295800</td>\n",
       "      <td>0.205258</td>\n",
       "      <td>0.0</td>\n",
       "      <td>0.0</td>\n",
       "      <td>0.0</td>\n",
       "      <td>0.0</td>\n",
       "      <td>0.0</td>\n",
       "      <td>0.0</td>\n",
       "      <td>0.0</td>\n",
       "      <td>1.0</td>\n",
       "    </tr>\n",
       "    <tr>\n",
       "      <th>4</th>\n",
       "      <td>26.454969</td>\n",
       "      <td>23.058767</td>\n",
       "      <td>21.471406</td>\n",
       "      <td>19.504961</td>\n",
       "      <td>18.389096</td>\n",
       "      <td>25.700632</td>\n",
       "      <td>23.629122</td>\n",
       "      <td>21.742750</td>\n",
       "      <td>19.861718</td>\n",
       "      <td>18.810375</td>\n",
       "      <td>...</td>\n",
       "      <td>1.233871</td>\n",
       "      <td>1.111675</td>\n",
       "      <td>0.0</td>\n",
       "      <td>0.0</td>\n",
       "      <td>0.0</td>\n",
       "      <td>0.0</td>\n",
       "      <td>0.0</td>\n",
       "      <td>0.0</td>\n",
       "      <td>1.0</td>\n",
       "      <td>0.0</td>\n",
       "    </tr>\n",
       "  </tbody>\n",
       "</table>\n",
       "<p>5 rows × 63 columns</p>\n",
       "</div>"
      ],
      "text/plain": [
       "    psfMag_u   psfMag_g   psfMag_r   psfMag_i   psfMag_z  fiberMag_u  \\\n",
       "0  23.198224  21.431953  21.314148  21.176553  21.171444   22.581309   \n",
       "1  21.431355  20.708104  20.678850  20.703420  20.473229   21.868797   \n",
       "2  17.851451  16.727898  16.679677  16.694640  16.641788   18.171890   \n",
       "3  20.789900  20.040371  19.926909  19.843840  19.463270   21.039030   \n",
       "4  26.454969  23.058767  21.471406  19.504961  18.389096   25.700632   \n",
       "\n",
       "   fiberMag_g  fiberMag_r  fiberMag_i  fiberMag_z  ...  petroMag_i_z  \\\n",
       "0   21.644453   21.657571   21.387653   21.572827  ...      0.722964   \n",
       "1   21.029773   20.967054   20.937731   21.063646  ...     -0.006847   \n",
       "2   17.033098   16.999682   17.095999   17.076449  ...     -0.063796   \n",
       "3   20.317165   20.217898   20.073852   19.794505  ...      0.295800   \n",
       "4   23.629122   21.742750   19.861718   18.810375  ...      1.233871   \n",
       "\n",
       "   modelMag_i_z  fiber_0  fiber_1  fiber_2  fiber_3  fiber_4  fiber_5  \\\n",
       "0     -0.126735      0.0      0.0      0.0      0.0      0.0      0.0   \n",
       "1      0.181074      0.0      0.0      0.0      0.0      0.0      0.0   \n",
       "2     -0.028751      0.0      0.0      0.0      0.0      1.0      0.0   \n",
       "3      0.205258      0.0      0.0      0.0      0.0      0.0      0.0   \n",
       "4      1.111675      0.0      0.0      0.0      0.0      0.0      0.0   \n",
       "\n",
       "   fiber_6  fiber_7  \n",
       "0      1.0      0.0  \n",
       "1      0.0      1.0  \n",
       "2      0.0      0.0  \n",
       "3      0.0      1.0  \n",
       "4      1.0      0.0  \n",
       "\n",
       "[5 rows x 63 columns]"
      ]
     },
     "execution_count": 44,
     "metadata": {},
     "output_type": "execute_result"
    }
   ],
   "source": [
    "train_x = pd.concat([train_x, ohe_train], axis = 1)\n",
    "test_x = pd.concat([test_x, ohe_test], axis = 1)\n",
    "train_x.drop('fiberID2', axis = 1, inplace = True)\n",
    "test_x.drop('fiberID2', axis = 1, inplace = True)\n",
    "train_x.head()"
   ]
  },
  {
   "cell_type": "code",
   "execution_count": 45,
   "metadata": {
    "ExecuteTime": {
     "end_time": "2020-02-25T11:35:24.397781Z",
     "start_time": "2020-02-25T11:35:24.392566Z"
    }
   },
   "outputs": [],
   "source": [
    "#train_x.drop(columns = ['psf_cluster', 'fiber_cluster', 'model_cluster'], inplace = True)\n",
    "#test_x.drop(columns = ['psf_cluster', 'fiber_cluster', 'model_cluster'], inplace = True)"
   ]
  },
  {
   "cell_type": "markdown",
   "metadata": {},
   "source": [
    "# Modeling"
   ]
  },
  {
   "cell_type": "code",
   "execution_count": 46,
   "metadata": {
    "ExecuteTime": {
     "end_time": "2020-02-25T11:35:24.923808Z",
     "start_time": "2020-02-25T11:35:24.900007Z"
    }
   },
   "outputs": [],
   "source": [
    "space = {'objective' : 'multiclass',\n",
    "         'num_class' : 19,\n",
    "              'metric' : 'multi_logloss',\n",
    "              'boosting' : 'gbdt',\n",
    "    'max_depth':  hp.choice('max_depth', list(range(4, 10, 2))),\n",
    "    'reg_alpha' : hp.uniform('reg_alpha', 0.01, 0.4),\n",
    "    'reg_lambda': hp.uniform('reg_lambda', 0.01, 0.4),\n",
    "    'learning_rate' : hp.uniform('learning_rate', 0.01, 0.2),\n",
    "    'colsample_bytree' : hp.uniform('colsample_bytree', 0.3, 0.9),\n",
    "    'gamma' : hp.uniform('gamma', 0.01, .7),\n",
    "    'num_leaves' : hp.choice('num_leaves', list(range(20,150,10))),\n",
    "    'min_child_samples': hp.choice('min_child_samples', list(range(100,150,10))),\n",
    "    'subsample': hp.choice('subsample', [.2, .4, .5, .6, .7, .8, .9]),\n",
    "    'feature_fraction' : hp.uniform('feature_fraction', .4, .8),\n",
    "    'bagging_fraction' : hp.uniform('bagging_fraction', .7, .9)\n",
    "}"
   ]
  },
  {
   "cell_type": "code",
   "execution_count": 47,
   "metadata": {
    "ExecuteTime": {
     "end_time": "2020-02-25T11:35:25.454665Z",
     "start_time": "2020-02-25T11:35:25.424302Z"
    }
   },
   "outputs": [],
   "source": [
    "def evaluate_metric(params):\n",
    "    time1 = time.time()\n",
    "    print(\"******************** New Run *********************\")\n",
    "    print('Params : {}'.format(params))\n",
    "    FOLDS = 5\n",
    "    count = 1\n",
    "    \n",
    "    skf = StratifiedKFold(n_splits = FOLDS, shuffle = True, random_state = 42)\n",
    "    y_preds = np.zeros(test.shape[0])\n",
    "    score_mean = 0\n",
    "    \n",
    "    for tr_idx, val_idx in skf.split(train_x, train_y):\n",
    "        X_tr, X_vl = train_x.iloc[tr_idx, :], train_x.iloc[val_idx, :]\n",
    "        y_tr, y_vl = train_y.iloc[tr_idx], train_y.iloc[val_idx]\n",
    "        \n",
    "        lgbtrain = lgb.Dataset(X_tr, label = y_tr)\n",
    "        lgbval = lgb.Dataset(X_vl, label = y_vl)\n",
    "        \n",
    "        lgb_clf = lgb.train(params, lgbtrain, 1250, valid_sets = [lgbval],\n",
    "                           categorical_feature = 'auto',\n",
    "                           verbose_eval = 0,\n",
    "                           early_stopping_rounds = 50)\n",
    "        \n",
    "        lgb_pred = lgb_clf.predict(X_vl, num_iteration = lgb_clf.best_iteration)\n",
    "        \n",
    "        score = make_scorer(log_loss)(lgb_clf, X_vl, y_vl)\n",
    "        \n",
    "        score_mean += score\n",
    "        print('{} CV - Score: {}'.format(count, round(score,4)))\n",
    "        \n",
    "        count += 1\n",
    "    \n",
    "    time2 = time.time() - time1\n",
    "    print('Total Time Run : {}'.format(round(time2/60, 2)))\n",
    "    gc.collect()\n",
    "    print('Mean Log Loss : {}'.format(score_mean/FOLDS))\n",
    "    del X_tr, X_vl, y_tr, y_vl, lgb_clf, score\n",
    "    \n",
    "    return (score_mean/FOLDS)"
   ]
  },
  {
   "cell_type": "code",
   "execution_count": 48,
   "metadata": {
    "ExecuteTime": {
     "end_time": "2020-02-25T12:28:44.366269Z",
     "start_time": "2020-02-25T11:35:25.962549Z"
    },
    "scrolled": false
   },
   "outputs": [
    {
     "name": "stdout",
     "output_type": "stream",
     "text": [
      "******************** New Run *********************                                                                     \n",
      "Params : {'bagging_fraction': 0.43205555784747446, 'boosting': 'gbdt', 'colsample_bytree': 0.6776154916928419, 'feature_fraction': 0.7883174382200635, 'gamma': 0.6750134426114474, 'learning_rate': 0.12620727419679306, 'max_depth': 6, 'metric': 'multi_logloss', 'min_child_samples': 110, 'num_class': 19, 'num_leaves': 100, 'objective': 'multiclass', 'reg_alpha': 0.0579170679090923, 'reg_lambda': 0.10097176964316099, 'subsample': 0.9}\n",
      "1 CV - Score: 0.3679                                                                                                   \n",
      "2 CV - Score: 0.3684                                                                                                   \n",
      "3 CV - Score: 0.383                                                                                                    \n",
      "4 CV - Score: 0.37                                                                                                     \n",
      "5 CV - Score: 0.3684                                                                                                   \n",
      "Total Time Run : 12.57                                                                                                 \n",
      "Mean Log Loss : 0.3715574238775471                                                                                     \n",
      "******************** New Run *********************                                                                     \n",
      "Params : {'bagging_fraction': 0.4778711498115298, 'boosting': 'gbdt', 'colsample_bytree': 0.530825962221535, 'feature_fraction': 0.6685108367216006, 'gamma': 0.3089418643344476, 'learning_rate': 0.037576672680065454, 'max_depth': 8, 'metric': 'multi_logloss', 'min_child_samples': 100, 'num_class': 19, 'num_leaves': 140, 'objective': 'multiclass', 'reg_alpha': 0.15641799752802943, 'reg_lambda': 0.31890794153928625, 'subsample': 0.7}\n",
      "1 CV - Score: 0.3401                                                                                                   \n",
      "2 CV - Score: 0.3429                                                                                                   \n",
      "3 CV - Score: 0.3393                                                                                                   \n",
      "4 CV - Score: 0.3421                                                                                                   \n",
      "5 CV - Score: 0.3424                                                                                                   \n",
      "Total Time Run : 32.38                                                                                                 \n",
      "Mean Log Loss : 0.34136328625702983                                                                                    \n",
      "******************** New Run *********************                                                                     \n",
      "Params : {'bagging_fraction': 0.7662239893160707, 'boosting': 'gbdt', 'colsample_bytree': 0.8055937099713144, 'feature_fraction': 0.6779599434691304, 'gamma': 0.4123498994780935, 'learning_rate': 0.17654653169640527, 'max_depth': 8, 'metric': 'multi_logloss', 'min_child_samples': 130, 'num_class': 19, 'num_leaves': 60, 'objective': 'multiclass', 'reg_alpha': 0.16198550971504888, 'reg_lambda': 0.3497325652573108, 'subsample': 0.4}\n",
      "1 CV - Score: 0.3622                                                                                                   \n",
      "2 CV - Score: 0.3685                                                                                                   \n",
      "3 CV - Score: 0.3588                                                                                                   \n",
      "4 CV - Score: 0.3661                                                                                                   \n",
      "5 CV - Score: 0.3655                                                                                                   \n",
      "Total Time Run : 8.34                                                                                                  \n",
      "Mean Log Loss : 0.3642248940724702                                                                                     \n",
      "100%|███████████████████████████████████████████████| 3/3 [53:18<00:00, 1066.12s/trial, best loss: 0.34136328625702983]\n",
      "Best HyperParameters : {'bagging_fraction': 0.4778711498115298, 'boosting': 'gbdt', 'colsample_bytree': 0.530825962221535, 'feature_fraction': 0.6685108367216006, 'gamma': 0.3089418643344476, 'learning_rate': 0.037576672680065454, 'max_depth': 8, 'metric': 'multi_logloss', 'min_child_samples': 100, 'num_class': 19, 'num_leaves': 140, 'objective': 'multiclass', 'reg_alpha': 0.15641799752802943, 'reg_lambda': 0.31890794153928625, 'subsample': 0.7}\n"
     ]
    }
   ],
   "source": [
    "best = fmin(fn = evaluate_metric,\n",
    "            space = space,\n",
    "            algo = tpe.suggest,\n",
    "            max_evals = 3)\n",
    "\n",
    "best_params = space_eval(space,best)\n",
    "print(\"Best HyperParameters :\", best_params)"
   ]
  },
  {
   "cell_type": "markdown",
   "metadata": {},
   "source": [
    "Best HyperParameters : {'bagging_fraction': 0.4778711498115298, 'boosting': 'gbdt', 'colsample_bytree': 0.530825962221535, 'feature_fraction': 0.6685108367216006, 'gamma': 0.3089418643344476, 'learning_rate': 0.037576672680065454, 'max_depth': 8, 'metric': 'multi_logloss', 'min_child_samples': 100, 'num_class': 19, 'num_leaves': 140, 'objective': 'multiclass', 'reg_alpha': 0.15641799752802943, 'reg_lambda': 0.31890794153928625, 'subsample': 0.7}"
   ]
  },
  {
   "cell_type": "code",
   "execution_count": 74,
   "metadata": {
    "ExecuteTime": {
     "end_time": "2020-02-25T13:13:18.001771Z",
     "start_time": "2020-02-25T13:13:17.996765Z"
    }
   },
   "outputs": [],
   "source": [
    "best_params = {'bagging_fraction': 0.6778711498115298, 'boosting': 'gbdt', 'colsample_bytree': 0.530825962221535, 'feature_fraction': 0.6685108367216006, 'gamma': 0.3089418643344476, 'learning_rate': 0.037576672680065454, 'max_depth': 6, 'metric': 'multi_logloss', 'min_child_samples': 100, 'num_class': 19, 'num_leaves': 31, 'objective': 'multiclass', 'reg_alpha': 0.15641799752802943, 'reg_lambda': 0.31890794153928625, 'subsample': 0.7}"
   ]
  },
  {
   "cell_type": "code",
   "execution_count": 81,
   "metadata": {
    "ExecuteTime": {
     "end_time": "2020-02-25T13:31:37.793710Z",
     "start_time": "2020-02-25T13:31:37.789591Z"
    }
   },
   "outputs": [],
   "source": [
    "best_params = {'bagging_fraction': 0.4778711498115298, 'boosting': 'gbdt', 'colsample_bytree': 0.530825962221535, 'feature_fraction': 0.6685108367216006, 'gamma': 0.3089418643344476, 'learning_rate': 0.037576672680065454, 'max_depth': 8, 'metric': 'multi_logloss', 'min_child_samples': 100, 'num_class': 19, 'num_leaves': 140, 'objective': 'multiclass', 'reg_alpha': 0.15641799752802943, 'reg_lambda': 0.31890794153928625, 'subsample': 0.7}"
   ]
  },
  {
   "cell_type": "code",
   "execution_count": 83,
   "metadata": {
    "ExecuteTime": {
     "end_time": "2020-02-25T13:34:35.842662Z",
     "start_time": "2020-02-25T13:31:46.919142Z"
    },
    "scrolled": false
   },
   "outputs": [
    {
     "name": "stdout",
     "output_type": "stream",
     "text": [
      "Training until validation scores don't improve for 50 rounds\n",
      "[10]\ttraining's multi_logloss: 1.39613\tvalid_1's multi_logloss: 1.41304\n",
      "[20]\ttraining's multi_logloss: 1.02512\tvalid_1's multi_logloss: 1.04895\n",
      "[30]\ttraining's multi_logloss: 0.80245\tvalid_1's multi_logloss: 0.831504\n",
      "[40]\ttraining's multi_logloss: 0.656707\tvalid_1's multi_logloss: 0.690001\n",
      "[50]\ttraining's multi_logloss: 0.5579\tvalid_1's multi_logloss: 0.594894\n",
      "[60]\ttraining's multi_logloss: 0.489195\tvalid_1's multi_logloss: 0.529678\n",
      "[70]\ttraining's multi_logloss: 0.440269\tvalid_1's multi_logloss: 0.483769\n",
      "[80]\ttraining's multi_logloss: 0.404607\tvalid_1's multi_logloss: 0.451142\n",
      "[90]\ttraining's multi_logloss: 0.378045\tvalid_1's multi_logloss: 0.427597\n",
      "[100]\ttraining's multi_logloss: 0.357793\tvalid_1's multi_logloss: 0.410292\n",
      "[110]\ttraining's multi_logloss: 0.342053\tvalid_1's multi_logloss: 0.397416\n",
      "[120]\ttraining's multi_logloss: 0.329733\tvalid_1's multi_logloss: 0.387708\n",
      "[130]\ttraining's multi_logloss: 0.319417\tvalid_1's multi_logloss: 0.380119\n",
      "[140]\ttraining's multi_logloss: 0.310561\tvalid_1's multi_logloss: 0.374071\n",
      "[150]\ttraining's multi_logloss: 0.303098\tvalid_1's multi_logloss: 0.369326\n",
      "[160]\ttraining's multi_logloss: 0.296645\tvalid_1's multi_logloss: 0.365662\n",
      "[170]\ttraining's multi_logloss: 0.29089\tvalid_1's multi_logloss: 0.362598\n",
      "[180]\ttraining's multi_logloss: 0.285867\tvalid_1's multi_logloss: 0.360335\n",
      "[190]\ttraining's multi_logloss: 0.281131\tvalid_1's multi_logloss: 0.358422\n",
      "[200]\ttraining's multi_logloss: 0.276894\tvalid_1's multi_logloss: 0.35683\n",
      "[210]\ttraining's multi_logloss: 0.27294\tvalid_1's multi_logloss: 0.355522\n",
      "[220]\ttraining's multi_logloss: 0.268965\tvalid_1's multi_logloss: 0.354356\n",
      "[230]\ttraining's multi_logloss: 0.265314\tvalid_1's multi_logloss: 0.353347\n",
      "[240]\ttraining's multi_logloss: 0.2621\tvalid_1's multi_logloss: 0.352618\n",
      "[250]\ttraining's multi_logloss: 0.2589\tvalid_1's multi_logloss: 0.351992\n",
      "[260]\ttraining's multi_logloss: 0.25554\tvalid_1's multi_logloss: 0.351355\n",
      "[270]\ttraining's multi_logloss: 0.252318\tvalid_1's multi_logloss: 0.350862\n",
      "[280]\ttraining's multi_logloss: 0.248997\tvalid_1's multi_logloss: 0.350494\n",
      "[290]\ttraining's multi_logloss: 0.245842\tvalid_1's multi_logloss: 0.350131\n",
      "[300]\ttraining's multi_logloss: 0.242891\tvalid_1's multi_logloss: 0.349787\n",
      "[310]\ttraining's multi_logloss: 0.239988\tvalid_1's multi_logloss: 0.349545\n",
      "[320]\ttraining's multi_logloss: 0.236942\tvalid_1's multi_logloss: 0.349266\n",
      "[330]\ttraining's multi_logloss: 0.23412\tvalid_1's multi_logloss: 0.349081\n",
      "[340]\ttraining's multi_logloss: 0.231485\tvalid_1's multi_logloss: 0.348904\n",
      "[350]\ttraining's multi_logloss: 0.228678\tvalid_1's multi_logloss: 0.348717\n",
      "[360]\ttraining's multi_logloss: 0.225946\tvalid_1's multi_logloss: 0.34853\n",
      "[370]\ttraining's multi_logloss: 0.222844\tvalid_1's multi_logloss: 0.348359\n",
      "[380]\ttraining's multi_logloss: 0.220087\tvalid_1's multi_logloss: 0.348255\n",
      "[390]\ttraining's multi_logloss: 0.217451\tvalid_1's multi_logloss: 0.348163\n",
      "[400]\ttraining's multi_logloss: 0.214932\tvalid_1's multi_logloss: 0.348067\n",
      "[410]\ttraining's multi_logloss: 0.212139\tvalid_1's multi_logloss: 0.34801\n",
      "[420]\ttraining's multi_logloss: 0.209469\tvalid_1's multi_logloss: 0.347992\n",
      "[430]\ttraining's multi_logloss: 0.206886\tvalid_1's multi_logloss: 0.347981\n",
      "[440]\ttraining's multi_logloss: 0.20418\tvalid_1's multi_logloss: 0.348003\n",
      "[450]\ttraining's multi_logloss: 0.201604\tvalid_1's multi_logloss: 0.348063\n",
      "[460]\ttraining's multi_logloss: 0.198882\tvalid_1's multi_logloss: 0.348054\n",
      "[470]\ttraining's multi_logloss: 0.196193\tvalid_1's multi_logloss: 0.348066\n",
      "[480]\ttraining's multi_logloss: 0.193663\tvalid_1's multi_logloss: 0.34809\n",
      "Early stopping, best iteration is:\n",
      "[433]\ttraining's multi_logloss: 0.205947\tvalid_1's multi_logloss: 0.347975\n"
     ]
    }
   ],
   "source": [
    "X_tr, X_vl, y_tr, y_vl = train_test_split(train_x, train_y, random_state = 42, shuffle = True)\n",
    "\n",
    "X_test = test_x\n",
    "\n",
    "lgb_train = lgb.Dataset(X_tr, label = y_tr)\n",
    "lgb_valid = lgb.Dataset(X_vl, label = y_vl)\n",
    "\n",
    "lgb_model = lgb.train(best_params,\n",
    "                      lgb_train, 1250,\n",
    "                      valid_sets = [lgb_train, lgb_valid],\n",
    "                      verbose_eval = 10,\n",
    "                      categorical_feature = 'auto',\n",
    "                      early_stopping_rounds = 50)"
   ]
  },
  {
   "cell_type": "code",
   "execution_count": 52,
   "metadata": {
    "ExecuteTime": {
     "end_time": "2020-02-25T12:39:40.741701Z",
     "start_time": "2020-02-25T12:39:39.434550Z"
    }
   },
   "outputs": [
    {
     "data": {
      "text/plain": [
       "['../model/LGB_OPT_3845_2020225_3479.pkl']"
      ]
     },
     "execution_count": 52,
     "metadata": {},
     "output_type": "execute_result"
    }
   ],
   "source": [
    "import time\n",
    "time = time.gmtime(time.time()) \n",
    "year = time[0]\n",
    "month = time[1]\n",
    "day = time[2]\n",
    "\n",
    "joblib.dump(lgb_model, '../model/LGB_OPT_3845_{}{}{}_3479.pkl'.format(year, month, day))"
   ]
  },
  {
   "cell_type": "code",
   "execution_count": 53,
   "metadata": {
    "ExecuteTime": {
     "end_time": "2020-02-25T12:39:47.850845Z",
     "start_time": "2020-02-25T12:39:44.038228Z"
    }
   },
   "outputs": [],
   "source": [
    "pred = lgb_model.predict(test_x, num_iteration = lgb_model.best_iteration)"
   ]
  },
  {
   "cell_type": "code",
   "execution_count": 54,
   "metadata": {
    "ExecuteTime": {
     "end_time": "2020-02-25T12:39:49.547889Z",
     "start_time": "2020-02-25T12:39:49.533847Z"
    }
   },
   "outputs": [],
   "source": [
    "submission = pd.DataFrame(data = pred, columns = sample_submission.columns, index = sample_submission.index)"
   ]
  },
  {
   "cell_type": "code",
   "execution_count": 55,
   "metadata": {
    "ExecuteTime": {
     "end_time": "2020-02-25T12:39:54.721289Z",
     "start_time": "2020-02-25T12:39:54.353887Z"
    }
   },
   "outputs": [],
   "source": [
    "submission.to_csv('../submission/lgb_opt_3479.csv')"
   ]
  }
 ],
 "metadata": {
  "kernelspec": {
   "display_name": "Python 3",
   "language": "python",
   "name": "python3"
  },
  "language_info": {
   "codemirror_mode": {
    "name": "ipython",
    "version": 3
   },
   "file_extension": ".py",
   "mimetype": "text/x-python",
   "name": "python",
   "nbconvert_exporter": "python",
   "pygments_lexer": "ipython3",
   "version": "3.7.3"
  },
  "toc": {
   "base_numbering": 1,
   "nav_menu": {},
   "number_sections": true,
   "sideBar": true,
   "skip_h1_title": false,
   "title_cell": "Table of Contents",
   "title_sidebar": "Contents",
   "toc_cell": false,
   "toc_position": {},
   "toc_section_display": true,
   "toc_window_display": false
  },
  "varInspector": {
   "cols": {
    "lenName": 16,
    "lenType": 16,
    "lenVar": 40
   },
   "kernels_config": {
    "python": {
     "delete_cmd_postfix": "",
     "delete_cmd_prefix": "del ",
     "library": "var_list.py",
     "varRefreshCmd": "print(var_dic_list())"
    },
    "r": {
     "delete_cmd_postfix": ") ",
     "delete_cmd_prefix": "rm(",
     "library": "var_list.r",
     "varRefreshCmd": "cat(var_dic_list()) "
    }
   },
   "types_to_exclude": [
    "module",
    "function",
    "builtin_function_or_method",
    "instance",
    "_Feature"
   ],
   "window_display": false
  }
 },
 "nbformat": 4,
 "nbformat_minor": 2
}
