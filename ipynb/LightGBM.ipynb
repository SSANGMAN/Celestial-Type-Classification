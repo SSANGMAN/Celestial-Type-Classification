{
 "cells": [
  {
   "cell_type": "code",
   "execution_count": 14,
   "metadata": {
    "ExecuteTime": {
     "end_time": "2020-02-26T13:16:58.883129Z",
     "start_time": "2020-02-26T13:16:58.876609Z"
    }
   },
   "outputs": [],
   "source": [
    "import pandas as pd\n",
    "import numpy as np\n",
    "\n",
    "\n",
    "from sklearn.model_selection import train_test_split\n",
    "from sklearn.model_selection import StratifiedKFold\n",
    "from sklearn.preprocessing import OneHotEncoder\n",
    "from sklearn.externals import joblib\n",
    "\n",
    "import lightgbm as lgb\n",
    "from lightgbm import LGBMClassifier\n",
    "\n",
    "from hyperopt import fmin, hp, tpe, Trials, space_eval, STATUS_OK, STATUS_RUNNING\n",
    "from sklearn.metrics import log_loss, make_scorer\n",
    "from functools import partial\n",
    "\n",
    "from sklearn.model_selection import train_test_split\n",
    "\n",
    "import gc\n",
    "import time\n",
    "import warnings\n",
    "warnings.filterwarnings('ignore')"
   ]
  },
  {
   "cell_type": "code",
   "execution_count": 15,
   "metadata": {
    "ExecuteTime": {
     "end_time": "2020-02-26T13:17:02.777303Z",
     "start_time": "2020-02-26T13:16:59.246255Z"
    }
   },
   "outputs": [],
   "source": [
    "train = pd.read_csv('../dataset/train_20200226.csv', index_col = 0)\n",
    "test = pd.read_csv('../dataset/test_20200226.csv', index_col = 0)\n",
    "sample_submission = pd.read_csv('../dataset/sample_submission.csv', index_col = 0)"
   ]
  },
  {
   "cell_type": "code",
   "execution_count": 16,
   "metadata": {
    "ExecuteTime": {
     "end_time": "2020-02-26T13:17:12.332018Z",
     "start_time": "2020-02-26T13:17:12.251987Z"
    }
   },
   "outputs": [],
   "source": [
    "column_number = {}\n",
    "\n",
    "for i, column in enumerate(sample_submission.columns):\n",
    "    column_number[column] = i\n",
    "\n",
    "def to_number(x, dic):\n",
    "    return dic[x]\n",
    "\n",
    "train['type_num'] = train['type'].apply(lambda x: to_number(x, column_number))"
   ]
  },
  {
   "cell_type": "code",
   "execution_count": 17,
   "metadata": {
    "ExecuteTime": {
     "end_time": "2020-02-26T13:17:12.718022Z",
     "start_time": "2020-02-26T13:17:12.715988Z"
    }
   },
   "outputs": [],
   "source": [
    "#bins= [0, 100, 200, 300, 400, 500, 600, 700, 800, 900 ,1000]\n",
    "#labels = ['0', '1','2','3','4','5','6','7','8','9']\n",
    "\n",
    "#train['fiberID2'] = pd.cut(train['fiberID'], bins= bins, labels = labels)\n",
    "#test['fiberID2'] = pd.cut(test['fiberID'], bins= bins, labels = labels)"
   ]
  },
  {
   "cell_type": "code",
   "execution_count": 18,
   "metadata": {
    "ExecuteTime": {
     "end_time": "2020-02-26T13:17:13.227351Z",
     "start_time": "2020-02-26T13:17:13.103021Z"
    }
   },
   "outputs": [],
   "source": [
    "train_x = train.drop(columns = ['type', 'type_num'], axis = 1)\n",
    "train_y = train['type_num']\n",
    "\n",
    "test_x = test"
   ]
  },
  {
   "cell_type": "code",
   "execution_count": 19,
   "metadata": {
    "ExecuteTime": {
     "end_time": "2020-02-26T13:17:13.642370Z",
     "start_time": "2020-02-26T13:17:13.555370Z"
    }
   },
   "outputs": [],
   "source": [
    "train_x.drop(columns = 'fiberID', inplace = True)\n",
    "test_x.drop(columns = 'fiberID', inplace = True)"
   ]
  },
  {
   "cell_type": "code",
   "execution_count": 20,
   "metadata": {
    "ExecuteTime": {
     "end_time": "2020-02-26T13:17:14.028165Z",
     "start_time": "2020-02-26T13:17:13.968378Z"
    }
   },
   "outputs": [
    {
     "data": {
      "text/html": [
       "<div>\n",
       "<style scoped>\n",
       "    .dataframe tbody tr th:only-of-type {\n",
       "        vertical-align: middle;\n",
       "    }\n",
       "\n",
       "    .dataframe tbody tr th {\n",
       "        vertical-align: top;\n",
       "    }\n",
       "\n",
       "    .dataframe thead th {\n",
       "        text-align: right;\n",
       "    }\n",
       "</style>\n",
       "<table border=\"1\" class=\"dataframe\">\n",
       "  <thead>\n",
       "    <tr style=\"text-align: right;\">\n",
       "      <th></th>\n",
       "      <th>fiber_0</th>\n",
       "      <th>fiber_1</th>\n",
       "      <th>fiber_2</th>\n",
       "      <th>fiber_3</th>\n",
       "      <th>fiber_4</th>\n",
       "      <th>fiber_5</th>\n",
       "      <th>fiber_6</th>\n",
       "      <th>fiber_7</th>\n",
       "    </tr>\n",
       "  </thead>\n",
       "  <tbody>\n",
       "    <tr>\n",
       "      <th>0</th>\n",
       "      <td>0.0</td>\n",
       "      <td>0.0</td>\n",
       "      <td>0.0</td>\n",
       "      <td>0.0</td>\n",
       "      <td>0.0</td>\n",
       "      <td>0.0</td>\n",
       "      <td>1.0</td>\n",
       "      <td>0.0</td>\n",
       "    </tr>\n",
       "    <tr>\n",
       "      <th>1</th>\n",
       "      <td>0.0</td>\n",
       "      <td>0.0</td>\n",
       "      <td>0.0</td>\n",
       "      <td>0.0</td>\n",
       "      <td>0.0</td>\n",
       "      <td>0.0</td>\n",
       "      <td>0.0</td>\n",
       "      <td>1.0</td>\n",
       "    </tr>\n",
       "    <tr>\n",
       "      <th>2</th>\n",
       "      <td>0.0</td>\n",
       "      <td>0.0</td>\n",
       "      <td>0.0</td>\n",
       "      <td>0.0</td>\n",
       "      <td>1.0</td>\n",
       "      <td>0.0</td>\n",
       "      <td>0.0</td>\n",
       "      <td>0.0</td>\n",
       "    </tr>\n",
       "    <tr>\n",
       "      <th>3</th>\n",
       "      <td>0.0</td>\n",
       "      <td>0.0</td>\n",
       "      <td>0.0</td>\n",
       "      <td>0.0</td>\n",
       "      <td>0.0</td>\n",
       "      <td>0.0</td>\n",
       "      <td>0.0</td>\n",
       "      <td>1.0</td>\n",
       "    </tr>\n",
       "    <tr>\n",
       "      <th>4</th>\n",
       "      <td>0.0</td>\n",
       "      <td>0.0</td>\n",
       "      <td>0.0</td>\n",
       "      <td>0.0</td>\n",
       "      <td>0.0</td>\n",
       "      <td>0.0</td>\n",
       "      <td>1.0</td>\n",
       "      <td>0.0</td>\n",
       "    </tr>\n",
       "  </tbody>\n",
       "</table>\n",
       "</div>"
      ],
      "text/plain": [
       "   fiber_0  fiber_1  fiber_2  fiber_3  fiber_4  fiber_5  fiber_6  fiber_7\n",
       "0      0.0      0.0      0.0      0.0      0.0      0.0      1.0      0.0\n",
       "1      0.0      0.0      0.0      0.0      0.0      0.0      0.0      1.0\n",
       "2      0.0      0.0      0.0      0.0      1.0      0.0      0.0      0.0\n",
       "3      0.0      0.0      0.0      0.0      0.0      0.0      0.0      1.0\n",
       "4      0.0      0.0      0.0      0.0      0.0      0.0      1.0      0.0"
      ]
     },
     "execution_count": 20,
     "metadata": {},
     "output_type": "execute_result"
    }
   ],
   "source": [
    "ohe = OneHotEncoder(handle_unknown = 'ignore')\n",
    "ohe_train = pd.DataFrame(ohe.fit_transform(train_x[['fiberID2']]).toarray(),\n",
    "                         columns = ['fiber_0', 'fiber_1', 'fiber_2', 'fiber_3', 'fiber_4', 'fiber_5', 'fiber_6', 'fiber_7'])\n",
    "ohe_test = pd.DataFrame(ohe.fit_transform(test_x[['fiberID2']]).toarray(),\n",
    "                        columns = ['fiber_0', 'fiber_1', 'fiber_2', 'fiber_3', 'fiber_4', 'fiber_5', 'fiber_6', 'fiber_7'])\n",
    "ohe_train.head()"
   ]
  },
  {
   "cell_type": "code",
   "execution_count": 21,
   "metadata": {
    "ExecuteTime": {
     "end_time": "2020-02-26T13:17:14.517776Z",
     "start_time": "2020-02-26T13:17:14.509772Z"
    }
   },
   "outputs": [],
   "source": [
    "idx_list = [x for x in range(199991,210000)]\n",
    "ohe_test['id'] = idx_list\n",
    "ohe_test.set_index('id', inplace = True)"
   ]
  },
  {
   "cell_type": "code",
   "execution_count": 22,
   "metadata": {
    "ExecuteTime": {
     "end_time": "2020-02-26T13:17:16.609940Z",
     "start_time": "2020-02-26T13:17:16.237378Z"
    },
    "scrolled": true
   },
   "outputs": [
    {
     "data": {
      "text/html": [
       "<div>\n",
       "<style scoped>\n",
       "    .dataframe tbody tr th:only-of-type {\n",
       "        vertical-align: middle;\n",
       "    }\n",
       "\n",
       "    .dataframe tbody tr th {\n",
       "        vertical-align: top;\n",
       "    }\n",
       "\n",
       "    .dataframe thead th {\n",
       "        text-align: right;\n",
       "    }\n",
       "</style>\n",
       "<table border=\"1\" class=\"dataframe\">\n",
       "  <thead>\n",
       "    <tr style=\"text-align: right;\">\n",
       "      <th></th>\n",
       "      <th>psfMag_u</th>\n",
       "      <th>psfMag_g</th>\n",
       "      <th>psfMag_r</th>\n",
       "      <th>psfMag_i</th>\n",
       "      <th>psfMag_z</th>\n",
       "      <th>fiberMag_u</th>\n",
       "      <th>fiberMag_g</th>\n",
       "      <th>fiberMag_r</th>\n",
       "      <th>fiberMag_i</th>\n",
       "      <th>fiberMag_z</th>\n",
       "      <th>...</th>\n",
       "      <th>star_spectrum_model__M</th>\n",
       "      <th>star_spectrum_model__O</th>\n",
       "      <th>fiber_0</th>\n",
       "      <th>fiber_1</th>\n",
       "      <th>fiber_2</th>\n",
       "      <th>fiber_3</th>\n",
       "      <th>fiber_4</th>\n",
       "      <th>fiber_5</th>\n",
       "      <th>fiber_6</th>\n",
       "      <th>fiber_7</th>\n",
       "    </tr>\n",
       "  </thead>\n",
       "  <tbody>\n",
       "    <tr>\n",
       "      <th>0</th>\n",
       "      <td>23.198224</td>\n",
       "      <td>21.431953</td>\n",
       "      <td>21.314148</td>\n",
       "      <td>21.176553</td>\n",
       "      <td>21.171444</td>\n",
       "      <td>22.581309</td>\n",
       "      <td>21.644453</td>\n",
       "      <td>21.657571</td>\n",
       "      <td>21.387653</td>\n",
       "      <td>21.572827</td>\n",
       "      <td>...</td>\n",
       "      <td>0</td>\n",
       "      <td>0</td>\n",
       "      <td>0.0</td>\n",
       "      <td>0.0</td>\n",
       "      <td>0.0</td>\n",
       "      <td>0.0</td>\n",
       "      <td>0.0</td>\n",
       "      <td>0.0</td>\n",
       "      <td>1.0</td>\n",
       "      <td>0.0</td>\n",
       "    </tr>\n",
       "    <tr>\n",
       "      <th>1</th>\n",
       "      <td>21.431355</td>\n",
       "      <td>20.708104</td>\n",
       "      <td>20.678850</td>\n",
       "      <td>20.703420</td>\n",
       "      <td>20.473229</td>\n",
       "      <td>21.868797</td>\n",
       "      <td>21.029773</td>\n",
       "      <td>20.967054</td>\n",
       "      <td>20.937731</td>\n",
       "      <td>21.063646</td>\n",
       "      <td>...</td>\n",
       "      <td>0</td>\n",
       "      <td>0</td>\n",
       "      <td>0.0</td>\n",
       "      <td>0.0</td>\n",
       "      <td>0.0</td>\n",
       "      <td>0.0</td>\n",
       "      <td>0.0</td>\n",
       "      <td>0.0</td>\n",
       "      <td>0.0</td>\n",
       "      <td>1.0</td>\n",
       "    </tr>\n",
       "    <tr>\n",
       "      <th>2</th>\n",
       "      <td>17.851451</td>\n",
       "      <td>16.727898</td>\n",
       "      <td>16.679677</td>\n",
       "      <td>16.694640</td>\n",
       "      <td>16.641788</td>\n",
       "      <td>18.171890</td>\n",
       "      <td>17.033098</td>\n",
       "      <td>16.999682</td>\n",
       "      <td>17.095999</td>\n",
       "      <td>17.076449</td>\n",
       "      <td>...</td>\n",
       "      <td>0</td>\n",
       "      <td>0</td>\n",
       "      <td>0.0</td>\n",
       "      <td>0.0</td>\n",
       "      <td>0.0</td>\n",
       "      <td>0.0</td>\n",
       "      <td>1.0</td>\n",
       "      <td>0.0</td>\n",
       "      <td>0.0</td>\n",
       "      <td>0.0</td>\n",
       "    </tr>\n",
       "    <tr>\n",
       "      <th>3</th>\n",
       "      <td>20.789900</td>\n",
       "      <td>20.040371</td>\n",
       "      <td>19.926909</td>\n",
       "      <td>19.843840</td>\n",
       "      <td>19.463270</td>\n",
       "      <td>21.039030</td>\n",
       "      <td>20.317165</td>\n",
       "      <td>20.217898</td>\n",
       "      <td>20.073852</td>\n",
       "      <td>19.794505</td>\n",
       "      <td>...</td>\n",
       "      <td>0</td>\n",
       "      <td>0</td>\n",
       "      <td>0.0</td>\n",
       "      <td>0.0</td>\n",
       "      <td>0.0</td>\n",
       "      <td>0.0</td>\n",
       "      <td>0.0</td>\n",
       "      <td>0.0</td>\n",
       "      <td>0.0</td>\n",
       "      <td>1.0</td>\n",
       "    </tr>\n",
       "    <tr>\n",
       "      <th>4</th>\n",
       "      <td>26.454969</td>\n",
       "      <td>23.058767</td>\n",
       "      <td>21.471406</td>\n",
       "      <td>19.504961</td>\n",
       "      <td>18.389096</td>\n",
       "      <td>25.700632</td>\n",
       "      <td>23.629122</td>\n",
       "      <td>21.742750</td>\n",
       "      <td>19.861718</td>\n",
       "      <td>18.810375</td>\n",
       "      <td>...</td>\n",
       "      <td>1</td>\n",
       "      <td>0</td>\n",
       "      <td>0.0</td>\n",
       "      <td>0.0</td>\n",
       "      <td>0.0</td>\n",
       "      <td>0.0</td>\n",
       "      <td>0.0</td>\n",
       "      <td>0.0</td>\n",
       "      <td>1.0</td>\n",
       "      <td>0.0</td>\n",
       "    </tr>\n",
       "  </tbody>\n",
       "</table>\n",
       "<p>5 rows × 92 columns</p>\n",
       "</div>"
      ],
      "text/plain": [
       "    psfMag_u   psfMag_g   psfMag_r   psfMag_i   psfMag_z  fiberMag_u  \\\n",
       "0  23.198224  21.431953  21.314148  21.176553  21.171444   22.581309   \n",
       "1  21.431355  20.708104  20.678850  20.703420  20.473229   21.868797   \n",
       "2  17.851451  16.727898  16.679677  16.694640  16.641788   18.171890   \n",
       "3  20.789900  20.040371  19.926909  19.843840  19.463270   21.039030   \n",
       "4  26.454969  23.058767  21.471406  19.504961  18.389096   25.700632   \n",
       "\n",
       "   fiberMag_g  fiberMag_r  fiberMag_i  fiberMag_z  ...  \\\n",
       "0   21.644453   21.657571   21.387653   21.572827  ...   \n",
       "1   21.029773   20.967054   20.937731   21.063646  ...   \n",
       "2   17.033098   16.999682   17.095999   17.076449  ...   \n",
       "3   20.317165   20.217898   20.073852   19.794505  ...   \n",
       "4   23.629122   21.742750   19.861718   18.810375  ...   \n",
       "\n",
       "   star_spectrum_model__M  star_spectrum_model__O  fiber_0  fiber_1  fiber_2  \\\n",
       "0                       0                       0      0.0      0.0      0.0   \n",
       "1                       0                       0      0.0      0.0      0.0   \n",
       "2                       0                       0      0.0      0.0      0.0   \n",
       "3                       0                       0      0.0      0.0      0.0   \n",
       "4                       1                       0      0.0      0.0      0.0   \n",
       "\n",
       "   fiber_3  fiber_4  fiber_5  fiber_6  fiber_7  \n",
       "0      0.0      0.0      0.0      1.0      0.0  \n",
       "1      0.0      0.0      0.0      0.0      1.0  \n",
       "2      0.0      1.0      0.0      0.0      0.0  \n",
       "3      0.0      0.0      0.0      0.0      1.0  \n",
       "4      0.0      0.0      0.0      1.0      0.0  \n",
       "\n",
       "[5 rows x 92 columns]"
      ]
     },
     "execution_count": 22,
     "metadata": {},
     "output_type": "execute_result"
    }
   ],
   "source": [
    "train_x = pd.concat([train_x, ohe_train], axis = 1)\n",
    "test_x = pd.concat([test_x, ohe_test], axis = 1)\n",
    "train_x.drop('fiberID2', axis = 1, inplace = True)\n",
    "test_x.drop('fiberID2', axis = 1, inplace = True)\n",
    "train_x.head()"
   ]
  },
  {
   "cell_type": "code",
   "execution_count": 10,
   "metadata": {
    "ExecuteTime": {
     "end_time": "2020-02-26T11:52:20.415525Z",
     "start_time": "2020-02-26T11:52:20.401507Z"
    }
   },
   "outputs": [],
   "source": [
    "#train_x.drop(columns = ['psf_cluster', 'fiber_cluster', 'model_cluster'], inplace = True)\n",
    "#test_x.drop(columns = ['psf_cluster', 'fiber_cluster', 'model_cluster'], inplace = True)"
   ]
  },
  {
   "cell_type": "markdown",
   "metadata": {},
   "source": [
    "# Modeling"
   ]
  },
  {
   "cell_type": "code",
   "execution_count": 11,
   "metadata": {
    "ExecuteTime": {
     "end_time": "2020-02-26T10:00:13.739958Z",
     "start_time": "2020-02-26T10:00:13.725272Z"
    }
   },
   "outputs": [],
   "source": [
    "space = {'objective' : 'multiclass',\n",
    "         'num_class' : 19,\n",
    "              'metric' : 'multi_logloss',\n",
    "              'boosting' : 'gbdt',\n",
    "    'max_depth':  hp.choice('max_depth', list(range(4, 10, 2))),\n",
    "    'reg_alpha' : hp.uniform('reg_alpha', 0.01, 0.4),\n",
    "    'reg_lambda': hp.uniform('reg_lambda', 0.01, 0.4),\n",
    "    'learning_rate' : hp.uniform('learning_rate', 0.01, 0.2),\n",
    "    'colsample_bytree' : hp.uniform('colsample_bytree', 0.3, 0.9),\n",
    "    'gamma' : hp.uniform('gamma', 0.01, .7),\n",
    "    'num_leaves' : hp.choice('num_leaves', list(range(20,150,10))),\n",
    "    'min_child_samples': hp.choice('min_child_samples', list(range(100,150,10))),\n",
    "    'subsample': hp.choice('subsample', [.2, .4, .5, .6, .7, .8, .9]),\n",
    "    'feature_fraction' : hp.uniform('feature_fraction', .4, .8),\n",
    "    'bagging_fraction' : hp.uniform('bagging_fraction', .5, .9)\n",
    "}"
   ]
  },
  {
   "cell_type": "code",
   "execution_count": 12,
   "metadata": {
    "ExecuteTime": {
     "end_time": "2020-02-26T10:00:24.244677Z",
     "start_time": "2020-02-26T10:00:24.230439Z"
    }
   },
   "outputs": [],
   "source": [
    "def evaluate_metric(params):\n",
    "    time1 = time.time()\n",
    "    print(\"******************** New Run *********************\")\n",
    "    print('Params : {}'.format(params))\n",
    "    FOLDS = 5\n",
    "    count = 1\n",
    "    \n",
    "    skf = StratifiedKFold(n_splits = FOLDS, shuffle = True, random_state = 42)\n",
    "    y_preds = np.zeros(test.shape[0])\n",
    "    score_mean = 0\n",
    "    \n",
    "    for tr_idx, val_idx in skf.split(train_x, train_y):\n",
    "        X_tr, X_vl = train_x.iloc[tr_idx, :], train_x.iloc[val_idx, :]\n",
    "        y_tr, y_vl = train_y.iloc[tr_idx], train_y.iloc[val_idx]\n",
    "        \n",
    "        lgbtrain = lgb.Dataset(X_tr, label = y_tr)\n",
    "        lgbval = lgb.Dataset(X_vl, label = y_vl)\n",
    "        \n",
    "        lgb_clf = lgb.train(params, lgbtrain, 1250, valid_sets = [lgbval],\n",
    "                           categorical_feature = 'auto',\n",
    "                           verbose_eval = 0,\n",
    "                           early_stopping_rounds = 50)\n",
    "        \n",
    "        lgb_pred = lgb_clf.predict(X_vl, num_iteration = lgb_clf.best_iteration)\n",
    "        \n",
    "        score = make_scorer(log_loss)(lgb_clf, X_vl, y_vl)\n",
    "        \n",
    "        score_mean += score\n",
    "        print('{} CV - Score: {}'.format(count, round(score,4)))\n",
    "        \n",
    "        count += 1\n",
    "    \n",
    "    time2 = time.time() - time1\n",
    "    print('Total Time Run : {}'.format(round(time2/60, 2)))\n",
    "    gc.collect()\n",
    "    print('Mean Log Loss : {}'.format(score_mean/FOLDS))\n",
    "    del X_tr, X_vl, y_tr, y_vl, lgb_clf, score\n",
    "    \n",
    "    return (score_mean/FOLDS)"
   ]
  },
  {
   "cell_type": "code",
   "execution_count": null,
   "metadata": {
    "ExecuteTime": {
     "start_time": "2020-02-26T10:00:29.627Z"
    },
    "scrolled": false
   },
   "outputs": [
    {
     "name": "stdout",
     "output_type": "stream",
     "text": [
      "******************** New Run *********************                                                                     \n",
      "Params : {'bagging_fraction': 0.5801083010711567, 'boosting': 'gbdt', 'colsample_bytree': 0.8689531437411466, 'feature_fraction': 0.7602261581764034, 'gamma': 0.5871936066413894, 'learning_rate': 0.13387612512136307, 'max_depth': 8, 'metric': 'multi_logloss', 'min_child_samples': 120, 'num_class': 19, 'num_leaves': 60, 'objective': 'multiclass', 'reg_alpha': 0.09129547636263352, 'reg_lambda': 0.1610169402817791, 'subsample': 0.5}\n",
      "1 CV - Score: 0.373                                                                                                    \n",
      "2 CV - Score: 0.3802                                                                                                   \n",
      "3 CV - Score: 0.3843                                                                                                   \n",
      "4 CV - Score: 0.3529                                                                                                   \n",
      "5 CV - Score: 0.3681                                                                                                   \n",
      "Total Time Run : 11.52                                                                                                 \n",
      "Mean Log Loss : 0.3716854905447303                                                                                     \n",
      "******************** New Run *********************                                                                     \n",
      "Params : {'bagging_fraction': 0.5131338905319136, 'boosting': 'gbdt', 'colsample_bytree': 0.32712831802310366, 'feature_fraction': 0.6516096245942946, 'gamma': 0.22556698033265804, 'learning_rate': 0.052665252375510826, 'max_depth': 4, 'metric': 'multi_logloss', 'min_child_samples': 130, 'num_class': 19, 'num_leaves': 70, 'objective': 'multiclass', 'reg_alpha': 0.36137884251729446, 'reg_lambda': 0.20533863661000978, 'subsample': 0.5}\n",
      "1 CV - Score: 0.3433                                                                                                   \n",
      "2 CV - Score: 0.3451                                                                                                   \n",
      "3 CV - Score: 0.3418                                                                                                   \n",
      "4 CV - Score: 0.3457                                                                                                   \n",
      "5 CV - Score: 0.3463                                                                                                   \n",
      "Total Time Run : 51.59                                                                                                 \n",
      "Mean Log Loss : 0.3444621018281274                                                                                     \n",
      "******************** New Run *********************                                                                     \n",
      "Params : {'bagging_fraction': 0.7268777260452357, 'boosting': 'gbdt', 'colsample_bytree': 0.36286343279267347, 'feature_fraction': 0.6148152157945495, 'gamma': 0.2423480509306126, 'learning_rate': 0.10831985643520596, 'max_depth': 6, 'metric': 'multi_logloss', 'min_child_samples': 140, 'num_class': 19, 'num_leaves': 40, 'objective': 'multiclass', 'reg_alpha': 0.24726658509123153, 'reg_lambda': 0.010244907511080287, 'subsample': 0.5}\n",
      "1 CV - Score: 0.3996                                                                                                   \n",
      "2 CV - Score: 0.4127                                                                                                   \n",
      "3 CV - Score: 0.3508                                                                                                   \n",
      "4 CV - Score: 0.3487                                                                                                   \n",
      "5 CV - Score: 0.3914                                                                                                   \n",
      "Total Time Run : 20.67                                                                                                 \n",
      "Mean Log Loss : 0.3806427792729048                                                                                     \n",
      "******************** New Run *********************                                                                     \n",
      "Params : {'bagging_fraction': 0.6967577416251509, 'boosting': 'gbdt', 'colsample_bytree': 0.4912443132351711, 'feature_fraction': 0.446048453725509, 'gamma': 0.5179896259601489, 'learning_rate': 0.018827935059563875, 'max_depth': 8, 'metric': 'multi_logloss', 'min_child_samples': 140, 'num_class': 19, 'num_leaves': 60, 'objective': 'multiclass', 'reg_alpha': 0.2769125670523618, 'reg_lambda': 0.01264510415341362, 'subsample': 0.6}\n",
      " 30%|████████████▉                              | 3/10 [1:23:47<2:38:46, 1360.99s/trial, best loss: 0.3444621018281274]"
     ]
    }
   ],
   "source": [
    "best = fmin(fn = evaluate_metric,\n",
    "            space = space,\n",
    "            algo = tpe.suggest,\n",
    "            max_evals = 10)\n",
    "\n",
    "best_params = space_eval(space,best)\n",
    "print(\"Best HyperParameters :\", best_params)"
   ]
  },
  {
   "cell_type": "markdown",
   "metadata": {},
   "source": [
    "Best HyperParameters : {'bagging_fraction': 0.4778711498115298, 'boosting': 'gbdt', 'colsample_bytree': 0.530825962221535, 'feature_fraction': 0.6685108367216006, 'gamma': 0.3089418643344476, 'learning_rate': 0.037576672680065454, 'max_depth': 8, 'metric': 'multi_logloss', 'min_child_samples': 100, 'num_class': 19, 'num_leaves': 140, 'objective': 'multiclass', 'reg_alpha': 0.15641799752802943, 'reg_lambda': 0.31890794153928625, 'subsample': 0.7} (0225 Dataset)\n",
    "\n",
    "\n",
    "Params : {'bagging_fraction': 0.5131338905319136, 'boosting': 'gbdt', 'colsample_bytree': 0.32712831802310366, 'feature_fraction': 0.6516096245942946, 'gamma': 0.22556698033265804, 'learning_rate': 0.052665252375510826, 'max_depth': 4, 'metric': 'multi_logloss', 'min_child_samples': 130, 'num_class': 19, 'num_leaves': 70, 'objective': 'multiclass', 'reg_alpha': 0.36137884251729446, 'reg_lambda': 0.20533863661000978, 'subsample': 0.5}\n",
    "(0226 Dataset)"
   ]
  },
  {
   "cell_type": "code",
   "execution_count": 27,
   "metadata": {
    "ExecuteTime": {
     "end_time": "2020-02-26T13:44:56.704252Z",
     "start_time": "2020-02-26T13:44:56.699165Z"
    }
   },
   "outputs": [],
   "source": [
    "best_params = {'bagging_fraction': 0.5131338905319136, 'boosting': 'gbdt', 'colsample_bytree': 0.32712831802310366, 'feature_fraction': 0.6516096245942946, 'gamma': 0.22556698033265804, 'learning_rate': 0.052665252375510826, 'max_depth': 8, 'metric': 'multi_logloss', 'min_child_samples': 130, 'num_class': 19, 'num_leaves': 140, 'objective': 'multiclass', 'reg_alpha': 0.36137884251729446, 'reg_lambda': 0.20533863661000978, 'subsample': 0.5}"
   ]
  },
  {
   "cell_type": "code",
   "execution_count": 28,
   "metadata": {
    "ExecuteTime": {
     "end_time": "2020-02-26T13:48:10.040416Z",
     "start_time": "2020-02-26T13:44:59.753787Z"
    },
    "scrolled": false
   },
   "outputs": [
    {
     "name": "stdout",
     "output_type": "stream",
     "text": [
      "Training until validation scores don't improve for 50 rounds\n",
      "[10]\ttraining's multi_logloss: 1.21392\tvalid_1's multi_logloss: 1.2325\n",
      "[20]\ttraining's multi_logloss: 0.838716\tvalid_1's multi_logloss: 0.864306\n",
      "[30]\ttraining's multi_logloss: 0.635906\tvalid_1's multi_logloss: 0.666804\n",
      "[40]\ttraining's multi_logloss: 0.517379\tvalid_1's multi_logloss: 0.553032\n",
      "[50]\ttraining's multi_logloss: 0.445027\tvalid_1's multi_logloss: 0.484741\n",
      "[60]\ttraining's multi_logloss: 0.398356\tvalid_1's multi_logloss: 0.441882\n",
      "[70]\ttraining's multi_logloss: 0.367324\tvalid_1's multi_logloss: 0.414538\n",
      "[80]\ttraining's multi_logloss: 0.34546\tvalid_1's multi_logloss: 0.396291\n",
      "[90]\ttraining's multi_logloss: 0.329398\tvalid_1's multi_logloss: 0.383905\n",
      "[100]\ttraining's multi_logloss: 0.316983\tvalid_1's multi_logloss: 0.375099\n",
      "[110]\ttraining's multi_logloss: 0.306837\tvalid_1's multi_logloss: 0.368683\n",
      "[120]\ttraining's multi_logloss: 0.298405\tvalid_1's multi_logloss: 0.363991\n",
      "[130]\ttraining's multi_logloss: 0.291382\tvalid_1's multi_logloss: 0.360469\n",
      "[140]\ttraining's multi_logloss: 0.285104\tvalid_1's multi_logloss: 0.357876\n",
      "[150]\ttraining's multi_logloss: 0.279082\tvalid_1's multi_logloss: 0.355758\n",
      "[160]\ttraining's multi_logloss: 0.273877\tvalid_1's multi_logloss: 0.354163\n",
      "[170]\ttraining's multi_logloss: 0.268877\tvalid_1's multi_logloss: 0.352852\n",
      "[180]\ttraining's multi_logloss: 0.264585\tvalid_1's multi_logloss: 0.351877\n",
      "[190]\ttraining's multi_logloss: 0.260166\tvalid_1's multi_logloss: 0.35102\n",
      "[200]\ttraining's multi_logloss: 0.255754\tvalid_1's multi_logloss: 0.350243\n",
      "[210]\ttraining's multi_logloss: 0.251301\tvalid_1's multi_logloss: 0.349657\n",
      "[220]\ttraining's multi_logloss: 0.247226\tvalid_1's multi_logloss: 0.349217\n",
      "[230]\ttraining's multi_logloss: 0.243238\tvalid_1's multi_logloss: 0.348799\n",
      "[240]\ttraining's multi_logloss: 0.239442\tvalid_1's multi_logloss: 0.348433\n",
      "[250]\ttraining's multi_logloss: 0.234917\tvalid_1's multi_logloss: 0.348104\n",
      "[260]\ttraining's multi_logloss: 0.23092\tvalid_1's multi_logloss: 0.347819\n",
      "[270]\ttraining's multi_logloss: 0.226911\tvalid_1's multi_logloss: 0.347615\n",
      "[280]\ttraining's multi_logloss: 0.223149\tvalid_1's multi_logloss: 0.347463\n",
      "[290]\ttraining's multi_logloss: 0.219405\tvalid_1's multi_logloss: 0.347343\n",
      "[300]\ttraining's multi_logloss: 0.21581\tvalid_1's multi_logloss: 0.34738\n",
      "[310]\ttraining's multi_logloss: 0.212281\tvalid_1's multi_logloss: 0.347338\n",
      "[320]\ttraining's multi_logloss: 0.20878\tvalid_1's multi_logloss: 0.347262\n",
      "[330]\ttraining's multi_logloss: 0.205177\tvalid_1's multi_logloss: 0.347315\n",
      "[340]\ttraining's multi_logloss: 0.201487\tvalid_1's multi_logloss: 0.34726\n",
      "[350]\ttraining's multi_logloss: 0.198072\tvalid_1's multi_logloss: 0.347355\n",
      "[360]\ttraining's multi_logloss: 0.194876\tvalid_1's multi_logloss: 0.347376\n",
      "[370]\ttraining's multi_logloss: 0.191831\tvalid_1's multi_logloss: 0.347507\n",
      "[380]\ttraining's multi_logloss: 0.188432\tvalid_1's multi_logloss: 0.347568\n",
      "Early stopping, best iteration is:\n",
      "[338]\ttraining's multi_logloss: 0.202163\tvalid_1's multi_logloss: 0.347252\n"
     ]
    }
   ],
   "source": [
    "X_tr, X_vl, y_tr, y_vl = train_test_split(train_x, train_y, random_state = 42, shuffle = True)\n",
    "\n",
    "X_test = test_x\n",
    "\n",
    "lgb_train = lgb.Dataset(X_tr, label = y_tr)\n",
    "lgb_valid = lgb.Dataset(X_vl, label = y_vl)\n",
    "\n",
    "lgb_model = lgb.train(best_params,\n",
    "                      lgb_train, 1250,\n",
    "                      valid_sets = [lgb_train, lgb_valid],\n",
    "                      verbose_eval = 10,\n",
    "                      categorical_feature = 'auto',\n",
    "                      early_stopping_rounds = 50)"
   ]
  },
  {
   "cell_type": "code",
   "execution_count": 29,
   "metadata": {
    "ExecuteTime": {
     "end_time": "2020-02-26T13:56:50.203936Z",
     "start_time": "2020-02-26T13:56:49.087456Z"
    }
   },
   "outputs": [
    {
     "data": {
      "text/plain": [
       "['../model/LGB_OPT_2020226_3472_20020226.pkl']"
      ]
     },
     "execution_count": 29,
     "metadata": {},
     "output_type": "execute_result"
    }
   ],
   "source": [
    "import time\n",
    "time = time.gmtime(time.time()) \n",
    "year = time[0]\n",
    "month = time[1]\n",
    "day = time[2]\n",
    "\n",
    "joblib.dump(lgb_model, '../model/LGB_OPT_{}{}{}_3472_20020226.pkl'.format(year, month, day))"
   ]
  },
  {
   "cell_type": "code",
   "execution_count": 30,
   "metadata": {
    "ExecuteTime": {
     "end_time": "2020-02-26T13:56:56.267202Z",
     "start_time": "2020-02-26T13:56:52.760195Z"
    }
   },
   "outputs": [],
   "source": [
    "pred = lgb_model.predict(test_x, num_iteration = lgb_model.best_iteration)"
   ]
  },
  {
   "cell_type": "code",
   "execution_count": 31,
   "metadata": {
    "ExecuteTime": {
     "end_time": "2020-02-26T13:56:56.827204Z",
     "start_time": "2020-02-26T13:56:56.823183Z"
    }
   },
   "outputs": [],
   "source": [
    "submission = pd.DataFrame(data = pred, columns = sample_submission.columns, index = sample_submission.index)"
   ]
  },
  {
   "cell_type": "code",
   "execution_count": 32,
   "metadata": {
    "ExecuteTime": {
     "end_time": "2020-02-26T13:57:02.505323Z",
     "start_time": "2020-02-26T13:57:02.136522Z"
    }
   },
   "outputs": [],
   "source": [
    "submission.to_csv('../submission/lgb_opt_3472.csv')"
   ]
  }
 ],
 "metadata": {
  "kernelspec": {
   "display_name": "Python 3",
   "language": "python",
   "name": "python3"
  },
  "language_info": {
   "codemirror_mode": {
    "name": "ipython",
    "version": 3
   },
   "file_extension": ".py",
   "mimetype": "text/x-python",
   "name": "python",
   "nbconvert_exporter": "python",
   "pygments_lexer": "ipython3",
   "version": "3.7.3"
  },
  "toc": {
   "base_numbering": 1,
   "nav_menu": {},
   "number_sections": true,
   "sideBar": true,
   "skip_h1_title": false,
   "title_cell": "Table of Contents",
   "title_sidebar": "Contents",
   "toc_cell": false,
   "toc_position": {},
   "toc_section_display": true,
   "toc_window_display": false
  },
  "varInspector": {
   "cols": {
    "lenName": 16,
    "lenType": 16,
    "lenVar": 40
   },
   "kernels_config": {
    "python": {
     "delete_cmd_postfix": "",
     "delete_cmd_prefix": "del ",
     "library": "var_list.py",
     "varRefreshCmd": "print(var_dic_list())"
    },
    "r": {
     "delete_cmd_postfix": ") ",
     "delete_cmd_prefix": "rm(",
     "library": "var_list.r",
     "varRefreshCmd": "cat(var_dic_list()) "
    }
   },
   "types_to_exclude": [
    "module",
    "function",
    "builtin_function_or_method",
    "instance",
    "_Feature"
   ],
   "window_display": false
  }
 },
 "nbformat": 4,
 "nbformat_minor": 2
}
