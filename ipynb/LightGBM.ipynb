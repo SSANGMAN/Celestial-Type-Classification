{
 "cells": [
  {
   "cell_type": "code",
   "execution_count": 58,
   "metadata": {
    "ExecuteTime": {
     "end_time": "2020-02-20T08:00:52.189955Z",
     "start_time": "2020-02-20T08:00:52.185962Z"
    }
   },
   "outputs": [],
   "source": [
    "import pandas as pd\n",
    "import numpy as np\n",
    "\n",
    "import lightgbm as lgb\n",
    "from lightgbm import LGBClassifier\n",
    "\n",
    "import warnings\n",
    "warnings.filterwarnings('ignore')"
   ]
  },
  {
   "cell_type": "code",
   "execution_count": 83,
   "metadata": {
    "ExecuteTime": {
     "end_time": "2020-02-20T09:01:38.456846Z",
     "start_time": "2020-02-20T09:01:37.651271Z"
    }
   },
   "outputs": [],
   "source": [
    "train = pd.read_csv('../dataset/del_outlier_clustering_train.csv', index_col = 0)\n",
    "test = pd.read_csv('../dataset/test.csv', index_col = 0)\n",
    "sample_submission = pd.read_csv('../dataset/sample_submission.csv', index_col = 0)"
   ]
  },
  {
   "cell_type": "code",
   "execution_count": 84,
   "metadata": {
    "ExecuteTime": {
     "end_time": "2020-02-20T09:01:38.808861Z",
     "start_time": "2020-02-20T09:01:38.733863Z"
    }
   },
   "outputs": [],
   "source": [
    "column_number = {}\n",
    "\n",
    "for i, column in enumerate(sample_submission.columns):\n",
    "    column_number[column] = i\n",
    "\n",
    "def to_number(x, dic):\n",
    "    return dic[x]\n",
    "\n",
    "train['type_num'] = train['type'].apply(lambda x: to_number(x, column_number))"
   ]
  },
  {
   "cell_type": "code",
   "execution_count": 85,
   "metadata": {
    "ExecuteTime": {
     "end_time": "2020-02-20T09:01:39.107868Z",
     "start_time": "2020-02-20T09:01:39.101877Z"
    }
   },
   "outputs": [
    {
     "data": {
      "text/plain": [
       "\"\\nbins= [0, 100, 200, 300, 400, 500, 600, 700, 800, 900 ,1000]\\nlabels = ['0', '1','2','3','4','5','6','7','8','9']\\n\\ntrain['fiberID1_cut'] = pd.cut(train['fiberID'], bins= bins, labels = labels)\\ntest['fiberID1_cut'] = pd.cut(test['fiberID'], bins= bins, labels = labels)\\n\\n\""
      ]
     },
     "execution_count": 85,
     "metadata": {},
     "output_type": "execute_result"
    }
   ],
   "source": [
    "\"\"\"\n",
    "bins= [0, 100, 200, 300, 400, 500, 600, 700, 800, 900 ,1000]\n",
    "labels = ['0', '1','2','3','4','5','6','7','8','9']\n",
    "\n",
    "train['fiberID1_cut'] = pd.cut(train['fiberID'], bins= bins, labels = labels)\n",
    "test['fiberID1_cut'] = pd.cut(test['fiberID'], bins= bins, labels = labels)\n",
    "\n",
    "\"\"\""
   ]
  },
  {
   "cell_type": "code",
   "execution_count": 86,
   "metadata": {
    "ExecuteTime": {
     "end_time": "2020-02-20T09:01:39.790429Z",
     "start_time": "2020-02-20T09:01:39.757432Z"
    }
   },
   "outputs": [],
   "source": [
    "train_x = train.drop(columns = ['type', 'type_num'], axis = 1)\n",
    "train_y = train['type_num']\n",
    "\n",
    "test_x = test"
   ]
  },
  {
   "cell_type": "code",
   "execution_count": 87,
   "metadata": {
    "ExecuteTime": {
     "end_time": "2020-02-20T09:01:40.706493Z",
     "start_time": "2020-02-20T09:01:40.671473Z"
    }
   },
   "outputs": [],
   "source": [
    "train_x['fiberID2'] = 0\n",
    "train_x.loc[train_x['fiberID'] > 640, 'fiberID2'] = 1\n",
    "\n",
    "test_x['fiberID2'] = 0\n",
    "test_x.loc[test_x['fiberID'] > 640, 'fiberID2'] = 1\n",
    "\n",
    "train_x['fiberID2'] = train_x['fiberID2'].astype('category')\n",
    "test_x['fiberID2'] = test_x['fiberID2'].astype('category')"
   ]
  },
  {
   "cell_type": "code",
   "execution_count": 88,
   "metadata": {
    "ExecuteTime": {
     "end_time": "2020-02-20T09:01:42.419975Z",
     "start_time": "2020-02-20T09:01:42.395019Z"
    }
   },
   "outputs": [],
   "source": [
    "train_x.drop(columns = 'fiberID', inplace = True)\n",
    "test_x.drop(columns = 'fiberID', inplace = True)"
   ]
  },
  {
   "cell_type": "code",
   "execution_count": 91,
   "metadata": {
    "ExecuteTime": {
     "end_time": "2020-02-20T09:02:02.838832Z",
     "start_time": "2020-02-20T09:02:02.817785Z"
    }
   },
   "outputs": [
    {
     "data": {
      "text/html": [
       "<div>\n",
       "<style scoped>\n",
       "    .dataframe tbody tr th:only-of-type {\n",
       "        vertical-align: middle;\n",
       "    }\n",
       "\n",
       "    .dataframe tbody tr th {\n",
       "        vertical-align: top;\n",
       "    }\n",
       "\n",
       "    .dataframe thead th {\n",
       "        text-align: right;\n",
       "    }\n",
       "</style>\n",
       "<table border=\"1\" class=\"dataframe\">\n",
       "  <thead>\n",
       "    <tr style=\"text-align: right;\">\n",
       "      <th></th>\n",
       "      <th>psfMag_u</th>\n",
       "      <th>psfMag_g</th>\n",
       "      <th>psfMag_r</th>\n",
       "      <th>psfMag_i</th>\n",
       "      <th>psfMag_z</th>\n",
       "      <th>fiberMag_u</th>\n",
       "      <th>fiberMag_g</th>\n",
       "      <th>fiberMag_r</th>\n",
       "      <th>fiberMag_i</th>\n",
       "      <th>fiberMag_z</th>\n",
       "      <th>...</th>\n",
       "      <th>petroMag_z</th>\n",
       "      <th>modelMag_u</th>\n",
       "      <th>modelMag_g</th>\n",
       "      <th>modelMag_r</th>\n",
       "      <th>modelMag_i</th>\n",
       "      <th>modelMag_z</th>\n",
       "      <th>psf_cluster</th>\n",
       "      <th>fiber_cluster</th>\n",
       "      <th>model_cluster</th>\n",
       "      <th>fiberID2</th>\n",
       "    </tr>\n",
       "    <tr>\n",
       "      <th>id</th>\n",
       "      <th></th>\n",
       "      <th></th>\n",
       "      <th></th>\n",
       "      <th></th>\n",
       "      <th></th>\n",
       "      <th></th>\n",
       "      <th></th>\n",
       "      <th></th>\n",
       "      <th></th>\n",
       "      <th></th>\n",
       "      <th></th>\n",
       "      <th></th>\n",
       "      <th></th>\n",
       "      <th></th>\n",
       "      <th></th>\n",
       "      <th></th>\n",
       "      <th></th>\n",
       "      <th></th>\n",
       "      <th></th>\n",
       "      <th></th>\n",
       "      <th></th>\n",
       "    </tr>\n",
       "  </thead>\n",
       "  <tbody>\n",
       "    <tr>\n",
       "      <th>0</th>\n",
       "      <td>23.198224</td>\n",
       "      <td>21.431953</td>\n",
       "      <td>21.314148</td>\n",
       "      <td>21.176553</td>\n",
       "      <td>21.171444</td>\n",
       "      <td>22.581309</td>\n",
       "      <td>21.644453</td>\n",
       "      <td>21.657571</td>\n",
       "      <td>21.387653</td>\n",
       "      <td>21.572827</td>\n",
       "      <td>...</td>\n",
       "      <td>20.422446</td>\n",
       "      <td>22.749241</td>\n",
       "      <td>21.465534</td>\n",
       "      <td>21.364187</td>\n",
       "      <td>21.020605</td>\n",
       "      <td>21.147340</td>\n",
       "      <td>3</td>\n",
       "      <td>2</td>\n",
       "      <td>3</td>\n",
       "      <td>0</td>\n",
       "    </tr>\n",
       "    <tr>\n",
       "      <th>1</th>\n",
       "      <td>21.431355</td>\n",
       "      <td>20.708104</td>\n",
       "      <td>20.678850</td>\n",
       "      <td>20.703420</td>\n",
       "      <td>20.473229</td>\n",
       "      <td>21.868797</td>\n",
       "      <td>21.029773</td>\n",
       "      <td>20.967054</td>\n",
       "      <td>20.937731</td>\n",
       "      <td>21.063646</td>\n",
       "      <td>...</td>\n",
       "      <td>20.646660</td>\n",
       "      <td>21.492955</td>\n",
       "      <td>20.758527</td>\n",
       "      <td>20.753925</td>\n",
       "      <td>20.693389</td>\n",
       "      <td>20.512314</td>\n",
       "      <td>3</td>\n",
       "      <td>2</td>\n",
       "      <td>3</td>\n",
       "      <td>1</td>\n",
       "    </tr>\n",
       "    <tr>\n",
       "      <th>2</th>\n",
       "      <td>17.851451</td>\n",
       "      <td>16.727898</td>\n",
       "      <td>16.679677</td>\n",
       "      <td>16.694640</td>\n",
       "      <td>16.641788</td>\n",
       "      <td>18.171890</td>\n",
       "      <td>17.033098</td>\n",
       "      <td>16.999682</td>\n",
       "      <td>17.095999</td>\n",
       "      <td>17.076449</td>\n",
       "      <td>...</td>\n",
       "      <td>16.808006</td>\n",
       "      <td>17.818063</td>\n",
       "      <td>16.697434</td>\n",
       "      <td>16.641249</td>\n",
       "      <td>16.660177</td>\n",
       "      <td>16.688928</td>\n",
       "      <td>0</td>\n",
       "      <td>4</td>\n",
       "      <td>1</td>\n",
       "      <td>0</td>\n",
       "    </tr>\n",
       "    <tr>\n",
       "      <th>3</th>\n",
       "      <td>20.789900</td>\n",
       "      <td>20.040371</td>\n",
       "      <td>19.926909</td>\n",
       "      <td>19.843840</td>\n",
       "      <td>19.463270</td>\n",
       "      <td>21.039030</td>\n",
       "      <td>20.317165</td>\n",
       "      <td>20.217898</td>\n",
       "      <td>20.073852</td>\n",
       "      <td>19.794505</td>\n",
       "      <td>...</td>\n",
       "      <td>19.455117</td>\n",
       "      <td>20.770711</td>\n",
       "      <td>20.001699</td>\n",
       "      <td>19.889798</td>\n",
       "      <td>19.758113</td>\n",
       "      <td>19.552855</td>\n",
       "      <td>2</td>\n",
       "      <td>0</td>\n",
       "      <td>0</td>\n",
       "      <td>1</td>\n",
       "    </tr>\n",
       "    <tr>\n",
       "      <th>4</th>\n",
       "      <td>26.454969</td>\n",
       "      <td>23.058767</td>\n",
       "      <td>21.471406</td>\n",
       "      <td>19.504961</td>\n",
       "      <td>18.389096</td>\n",
       "      <td>25.700632</td>\n",
       "      <td>23.629122</td>\n",
       "      <td>21.742750</td>\n",
       "      <td>19.861718</td>\n",
       "      <td>18.810375</td>\n",
       "      <td>...</td>\n",
       "      <td>18.376141</td>\n",
       "      <td>24.877052</td>\n",
       "      <td>23.147993</td>\n",
       "      <td>21.475342</td>\n",
       "      <td>19.487330</td>\n",
       "      <td>18.375655</td>\n",
       "      <td>1</td>\n",
       "      <td>1</td>\n",
       "      <td>2</td>\n",
       "      <td>0</td>\n",
       "    </tr>\n",
       "  </tbody>\n",
       "</table>\n",
       "<p>5 rows × 24 columns</p>\n",
       "</div>"
      ],
      "text/plain": [
       "     psfMag_u   psfMag_g   psfMag_r   psfMag_i   psfMag_z  fiberMag_u  \\\n",
       "id                                                                      \n",
       "0   23.198224  21.431953  21.314148  21.176553  21.171444   22.581309   \n",
       "1   21.431355  20.708104  20.678850  20.703420  20.473229   21.868797   \n",
       "2   17.851451  16.727898  16.679677  16.694640  16.641788   18.171890   \n",
       "3   20.789900  20.040371  19.926909  19.843840  19.463270   21.039030   \n",
       "4   26.454969  23.058767  21.471406  19.504961  18.389096   25.700632   \n",
       "\n",
       "    fiberMag_g  fiberMag_r  fiberMag_i  fiberMag_z  ...  petroMag_z  \\\n",
       "id                                                  ...               \n",
       "0    21.644453   21.657571   21.387653   21.572827  ...   20.422446   \n",
       "1    21.029773   20.967054   20.937731   21.063646  ...   20.646660   \n",
       "2    17.033098   16.999682   17.095999   17.076449  ...   16.808006   \n",
       "3    20.317165   20.217898   20.073852   19.794505  ...   19.455117   \n",
       "4    23.629122   21.742750   19.861718   18.810375  ...   18.376141   \n",
       "\n",
       "    modelMag_u  modelMag_g  modelMag_r  modelMag_i  modelMag_z  psf_cluster  \\\n",
       "id                                                                            \n",
       "0    22.749241   21.465534   21.364187   21.020605   21.147340            3   \n",
       "1    21.492955   20.758527   20.753925   20.693389   20.512314            3   \n",
       "2    17.818063   16.697434   16.641249   16.660177   16.688928            0   \n",
       "3    20.770711   20.001699   19.889798   19.758113   19.552855            2   \n",
       "4    24.877052   23.147993   21.475342   19.487330   18.375655            1   \n",
       "\n",
       "    fiber_cluster  model_cluster  fiberID2  \n",
       "id                                          \n",
       "0               2              3         0  \n",
       "1               2              3         1  \n",
       "2               4              1         0  \n",
       "3               0              0         1  \n",
       "4               1              2         0  \n",
       "\n",
       "[5 rows x 24 columns]"
      ]
     },
     "execution_count": 91,
     "metadata": {},
     "output_type": "execute_result"
    }
   ],
   "source": [
    "train_x.head()"
   ]
  },
  {
   "cell_type": "code",
   "execution_count": 93,
   "metadata": {
    "ExecuteTime": {
     "end_time": "2020-02-20T09:10:02.121403Z",
     "start_time": "2020-02-20T09:02:36.215828Z"
    },
    "scrolled": false
   },
   "outputs": [
    {
     "name": "stderr",
     "output_type": "stream",
     "text": [
      "C:\\Users\\PARK\\Anaconda3\\lib\\site-packages\\lightgbm\\basic.py:1295: UserWarning: categorical_feature in Dataset is overridden.\n",
      "New categorical_feature is ['fiberID2', 'fiber_cluster', 'model_cluster', 'psf_cluster']\n",
      "  'New categorical_feature is {}'.format(sorted(list(categorical_feature))))\n",
      "C:\\Users\\PARK\\Anaconda3\\lib\\site-packages\\sklearn\\model_selection\\_split.py:657: Warning: The least populated class in y has only 3 members, which is too few. The minimum number of members in any class cannot be less than n_splits=5.\n",
      "  % (min_groups, self.n_splits)), Warning)\n"
     ]
    },
    {
     "name": "stdout",
     "output_type": "stream",
     "text": [
      "[10]\tcv_agg's multi_logloss: 1.55672\n",
      "[20]\tcv_agg's multi_logloss: 1.24018\n",
      "[30]\tcv_agg's multi_logloss: 1.03433\n",
      "[40]\tcv_agg's multi_logloss: 0.89334\n",
      "[50]\tcv_agg's multi_logloss: 0.802689\n",
      "[60]\tcv_agg's multi_logloss: 0.74837\n",
      "[70]\tcv_agg's multi_logloss: 0.658192\n",
      "[80]\tcv_agg's multi_logloss: 0.634073\n",
      "[90]\tcv_agg's multi_logloss: 0.590438\n",
      "[100]\tcv_agg's multi_logloss: 0.557176\n",
      "[110]\tcv_agg's multi_logloss: 0.540911\n",
      "[120]\tcv_agg's multi_logloss: 0.526876\n",
      "[130]\tcv_agg's multi_logloss: 0.512835\n",
      "[140]\tcv_agg's multi_logloss: 0.500849\n",
      "[150]\tcv_agg's multi_logloss: 0.490484\n",
      "[160]\tcv_agg's multi_logloss: 0.482249\n",
      "[170]\tcv_agg's multi_logloss: 0.473835\n",
      "[180]\tcv_agg's multi_logloss: 0.467613\n",
      "[190]\tcv_agg's multi_logloss: 0.465279\n",
      "[200]\tcv_agg's multi_logloss: 0.461618\n",
      "[210]\tcv_agg's multi_logloss: 0.457449\n",
      "[220]\tcv_agg's multi_logloss: 0.455534\n",
      "[230]\tcv_agg's multi_logloss: 0.451416\n",
      "[240]\tcv_agg's multi_logloss: 0.470015\n",
      "[250]\tcv_agg's multi_logloss: 0.453347\n",
      "[260]\tcv_agg's multi_logloss: 0.454797\n",
      "[270]\tcv_agg's multi_logloss: 0.45361\n",
      "[280]\tcv_agg's multi_logloss: 0.451637\n",
      "[290]\tcv_agg's multi_logloss: 0.45037\n",
      "[300]\tcv_agg's multi_logloss: 0.448811\n",
      "[310]\tcv_agg's multi_logloss: 0.447539\n",
      "[320]\tcv_agg's multi_logloss: 0.447713\n",
      "[330]\tcv_agg's multi_logloss: 0.445173\n",
      "[340]\tcv_agg's multi_logloss: 0.445618\n",
      "[350]\tcv_agg's multi_logloss: 0.446238\n",
      "[360]\tcv_agg's multi_logloss: 0.444909\n",
      "[370]\tcv_agg's multi_logloss: 0.443431\n",
      "[380]\tcv_agg's multi_logloss: 0.443007\n",
      "[390]\tcv_agg's multi_logloss: 0.441481\n",
      "[400]\tcv_agg's multi_logloss: 0.440692\n",
      "[410]\tcv_agg's multi_logloss: 0.440504\n",
      "[420]\tcv_agg's multi_logloss: 0.440245\n",
      "[430]\tcv_agg's multi_logloss: 0.439524\n",
      "[440]\tcv_agg's multi_logloss: 0.45066\n",
      "[450]\tcv_agg's multi_logloss: 0.451178\n",
      "[460]\tcv_agg's multi_logloss: 0.45004\n",
      "[470]\tcv_agg's multi_logloss: 0.452012\n",
      "[480]\tcv_agg's multi_logloss: 0.450169\n",
      "[490]\tcv_agg's multi_logloss: 0.448958\n",
      "[500]\tcv_agg's multi_logloss: 0.453422\n",
      "best_rounds : 425\n"
     ]
    }
   ],
   "source": [
    "lgb_params = {'learning_rate':0.03,\n",
    "              'max_depth':6,\n",
    "              'boosting':'gbdt',\n",
    "              'objective':'multiclass',\n",
    "              'metric':'multi_logloss',\n",
    "              'num_leaves':31,\n",
    "              'num_class':19}\n",
    "\n",
    "lgb_train = lgb.Dataset(train_x, train_y)\n",
    "\n",
    "cv_output = lgb.cv(lgb_params,\n",
    "                   lgb_train,\n",
    "                   num_boost_round = 5000,\n",
    "                   categorical_feature = ['psf_cluster','fiber_cluster','model_cluster','fiberID2'],\n",
    "                   nfold = 5,\n",
    "                   early_stopping_rounds = 75,\n",
    "                   verbose_eval = 10,\n",
    "                   show_stdv = False)\n",
    "\n",
    "best_rounds = np.array(list(cv_output.values())).shape[1]\n",
    "print('best_rounds :', best_rounds)"
   ]
  },
  {
   "cell_type": "code",
   "execution_count": 94,
   "metadata": {
    "ExecuteTime": {
     "end_time": "2020-02-20T09:18:39.875433Z",
     "start_time": "2020-02-20T09:17:33.327743Z"
    }
   },
   "outputs": [],
   "source": [
    "lgb_model = lgb.train(lgb_params,\n",
    "                      lgb_train,\n",
    "                      categorical_feature = ['psf_cluster','fiber_cluster','model_cluster','fiberID2'],\n",
    "                      num_boost_round = best_rounds)"
   ]
  },
  {
   "cell_type": "code",
   "execution_count": null,
   "metadata": {},
   "outputs": [],
   "source": [
    "pred = lgb_model.predict(test_x)"
   ]
  },
  {
   "cell_type": "code",
   "execution_count": null,
   "metadata": {
    "ExecuteTime": {
     "end_time": "2020-02-20T09:18:40.215980Z",
     "start_time": "2020-02-20T09:17:53.722Z"
    }
   },
   "outputs": [],
   "source": [
    "submission = pd.DataFrame(data = pred, columns = sample_submission.columns, index = sample_submission.index)"
   ]
  },
  {
   "cell_type": "code",
   "execution_count": null,
   "metadata": {
    "ExecuteTime": {
     "end_time": "2020-02-20T09:18:40.219982Z",
     "start_time": "2020-02-20T09:17:53.999Z"
    }
   },
   "outputs": [],
   "source": [
    "qso_idx = test_x.loc[(test_x['fiberID2'] == '7') | (test_x['fiberID2'] == '8') | (test_x['fiberID2'] == '9')]\n",
    "\n",
    "submission.loc[qso_idx.index] = np.nan\n",
    "submission.loc[qso_idx.index, 'QSO'] = 1\n",
    "\n",
    "submission.loc[qso_idx.index, submission.drop(columns = 'QSO').columns] = 0"
   ]
  },
  {
   "cell_type": "code",
   "execution_count": null,
   "metadata": {
    "ExecuteTime": {
     "end_time": "2020-02-20T09:18:40.223979Z",
     "start_time": "2020-02-20T09:17:55.574Z"
    }
   },
   "outputs": [],
   "source": [
    "submission.to_csv('../submission/abc1817.csv')"
   ]
  },
  {
   "cell_type": "code",
   "execution_count": null,
   "metadata": {
    "ExecuteTime": {
     "end_time": "2020-02-20T09:18:40.227978Z",
     "start_time": "2020-02-20T09:17:56.171Z"
    }
   },
   "outputs": [],
   "source": [
    "submission.head()"
   ]
  }
 ],
 "metadata": {
  "kernelspec": {
   "display_name": "Python 3",
   "language": "python",
   "name": "python3"
  },
  "language_info": {
   "codemirror_mode": {
    "name": "ipython",
    "version": 3
   },
   "file_extension": ".py",
   "mimetype": "text/x-python",
   "name": "python",
   "nbconvert_exporter": "python",
   "pygments_lexer": "ipython3",
   "version": "3.7.3"
  },
  "toc": {
   "base_numbering": 1,
   "nav_menu": {},
   "number_sections": true,
   "sideBar": true,
   "skip_h1_title": false,
   "title_cell": "Table of Contents",
   "title_sidebar": "Contents",
   "toc_cell": false,
   "toc_position": {},
   "toc_section_display": true,
   "toc_window_display": false
  },
  "varInspector": {
   "cols": {
    "lenName": 16,
    "lenType": 16,
    "lenVar": 40
   },
   "kernels_config": {
    "python": {
     "delete_cmd_postfix": "",
     "delete_cmd_prefix": "del ",
     "library": "var_list.py",
     "varRefreshCmd": "print(var_dic_list())"
    },
    "r": {
     "delete_cmd_postfix": ") ",
     "delete_cmd_prefix": "rm(",
     "library": "var_list.r",
     "varRefreshCmd": "cat(var_dic_list()) "
    }
   },
   "types_to_exclude": [
    "module",
    "function",
    "builtin_function_or_method",
    "instance",
    "_Feature"
   ],
   "window_display": false
  }
 },
 "nbformat": 4,
 "nbformat_minor": 2
}
