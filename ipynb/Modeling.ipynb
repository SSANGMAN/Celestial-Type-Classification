{
 "cells": [
  {
   "cell_type": "code",
   "execution_count": 23,
   "metadata": {
    "ExecuteTime": {
     "end_time": "2020-02-15T07:51:08.060478Z",
     "start_time": "2020-02-15T07:51:08.051578Z"
    }
   },
   "outputs": [],
   "source": [
    "import pandas as pd\n",
    "\n",
    "from sklearn.model_selection import StratifiedKFold, train_test_split\n",
    "from sklearn.metrics import log_loss\n",
    "from math import sqrt\n",
    "\n",
    "import xgboost\n",
    "from xgboost import XGBClassifier\n",
    "\n",
    "from hyperopt import fmin, hp, tpe, space_eval\n",
    "\n",
    "import gc\n",
    "import time"
   ]
  },
  {
   "cell_type": "code",
   "execution_count": 6,
   "metadata": {
    "ExecuteTime": {
     "end_time": "2020-02-15T07:41:47.919448Z",
     "start_time": "2020-02-15T07:41:46.530006Z"
    }
   },
   "outputs": [],
   "source": [
    "train = pd.read_csv('../dataset/train.csv', index_col = 0)\n",
    "test = pd.read_csv('../dataset/test.csv', index_col = 0)\n",
    "sample_submission = pd.read_csv('../dataset/sample_submission.csv', index_col = 0)"
   ]
  },
  {
   "cell_type": "code",
   "execution_count": 7,
   "metadata": {
    "ExecuteTime": {
     "end_time": "2020-02-15T07:41:51.394542Z",
     "start_time": "2020-02-15T07:41:51.191195Z"
    }
   },
   "outputs": [],
   "source": [
    "column_number = {}\n",
    "\n",
    "for i, column in enumerate(sample_submission.columns):\n",
    "    column_number[column] = i\n",
    "\n",
    "def to_number(x, dic):\n",
    "    return dic[x]\n",
    "\n",
    "train['type_num'] = train['type'].apply(lambda x: to_number(x, column_number))"
   ]
  },
  {
   "cell_type": "code",
   "execution_count": 8,
   "metadata": {
    "ExecuteTime": {
     "end_time": "2020-02-15T07:41:59.103517Z",
     "start_time": "2020-02-15T07:41:59.063575Z"
    }
   },
   "outputs": [],
   "source": [
    "train_x = train.drop(columns = ['type', 'type_num'], axis = 1)\n",
    "train_y = train['type_num']\n",
    "\n",
    "test_x = test"
   ]
  },
  {
   "cell_type": "code",
   "execution_count": 13,
   "metadata": {
    "ExecuteTime": {
     "end_time": "2020-02-15T07:44:11.546212Z",
     "start_time": "2020-02-15T07:44:11.183385Z"
    }
   },
   "outputs": [],
   "source": [
    "dummy_variable = pd.get_dummies(pd.Series(train_x['fiberID']), prefix = 'fibierID')"
   ]
  },
  {
   "cell_type": "code",
   "execution_count": 19,
   "metadata": {
    "ExecuteTime": {
     "end_time": "2020-02-15T07:45:48.502862Z",
     "start_time": "2020-02-15T07:45:44.309338Z"
    }
   },
   "outputs": [],
   "source": [
    "train_concat_x = pd.concat([train_x, dummy_variable], axis = 1)\n",
    "train_concat_x.drop(columns = 'fiberID', inplace = True)"
   ]
  },
  {
   "cell_type": "code",
   "execution_count": 20,
   "metadata": {
    "ExecuteTime": {
     "end_time": "2020-02-15T07:45:49.613062Z",
     "start_time": "2020-02-15T07:45:49.577317Z"
    }
   },
   "outputs": [
    {
     "data": {
      "text/html": [
       "<div>\n",
       "<style scoped>\n",
       "    .dataframe tbody tr th:only-of-type {\n",
       "        vertical-align: middle;\n",
       "    }\n",
       "\n",
       "    .dataframe tbody tr th {\n",
       "        vertical-align: top;\n",
       "    }\n",
       "\n",
       "    .dataframe thead th {\n",
       "        text-align: right;\n",
       "    }\n",
       "</style>\n",
       "<table border=\"1\" class=\"dataframe\">\n",
       "  <thead>\n",
       "    <tr style=\"text-align: right;\">\n",
       "      <th></th>\n",
       "      <th>psfMag_u</th>\n",
       "      <th>psfMag_g</th>\n",
       "      <th>psfMag_r</th>\n",
       "      <th>psfMag_i</th>\n",
       "      <th>psfMag_z</th>\n",
       "      <th>fiberMag_u</th>\n",
       "      <th>fiberMag_g</th>\n",
       "      <th>fiberMag_r</th>\n",
       "      <th>fiberMag_i</th>\n",
       "      <th>fiberMag_z</th>\n",
       "      <th>...</th>\n",
       "      <th>fibierID_991</th>\n",
       "      <th>fibierID_992</th>\n",
       "      <th>fibierID_993</th>\n",
       "      <th>fibierID_994</th>\n",
       "      <th>fibierID_995</th>\n",
       "      <th>fibierID_996</th>\n",
       "      <th>fibierID_997</th>\n",
       "      <th>fibierID_998</th>\n",
       "      <th>fibierID_999</th>\n",
       "      <th>fibierID_1000</th>\n",
       "    </tr>\n",
       "    <tr>\n",
       "      <th>id</th>\n",
       "      <th></th>\n",
       "      <th></th>\n",
       "      <th></th>\n",
       "      <th></th>\n",
       "      <th></th>\n",
       "      <th></th>\n",
       "      <th></th>\n",
       "      <th></th>\n",
       "      <th></th>\n",
       "      <th></th>\n",
       "      <th></th>\n",
       "      <th></th>\n",
       "      <th></th>\n",
       "      <th></th>\n",
       "      <th></th>\n",
       "      <th></th>\n",
       "      <th></th>\n",
       "      <th></th>\n",
       "      <th></th>\n",
       "      <th></th>\n",
       "      <th></th>\n",
       "    </tr>\n",
       "  </thead>\n",
       "  <tbody>\n",
       "    <tr>\n",
       "      <th>0</th>\n",
       "      <td>23.198224</td>\n",
       "      <td>21.431953</td>\n",
       "      <td>21.314148</td>\n",
       "      <td>21.176553</td>\n",
       "      <td>21.171444</td>\n",
       "      <td>22.581309</td>\n",
       "      <td>21.644453</td>\n",
       "      <td>21.657571</td>\n",
       "      <td>21.387653</td>\n",
       "      <td>21.572827</td>\n",
       "      <td>...</td>\n",
       "      <td>0</td>\n",
       "      <td>0</td>\n",
       "      <td>0</td>\n",
       "      <td>0</td>\n",
       "      <td>0</td>\n",
       "      <td>0</td>\n",
       "      <td>0</td>\n",
       "      <td>0</td>\n",
       "      <td>0</td>\n",
       "      <td>0</td>\n",
       "    </tr>\n",
       "    <tr>\n",
       "      <th>1</th>\n",
       "      <td>21.431355</td>\n",
       "      <td>20.708104</td>\n",
       "      <td>20.678850</td>\n",
       "      <td>20.703420</td>\n",
       "      <td>20.473229</td>\n",
       "      <td>21.868797</td>\n",
       "      <td>21.029773</td>\n",
       "      <td>20.967054</td>\n",
       "      <td>20.937731</td>\n",
       "      <td>21.063646</td>\n",
       "      <td>...</td>\n",
       "      <td>0</td>\n",
       "      <td>0</td>\n",
       "      <td>0</td>\n",
       "      <td>0</td>\n",
       "      <td>0</td>\n",
       "      <td>0</td>\n",
       "      <td>0</td>\n",
       "      <td>0</td>\n",
       "      <td>0</td>\n",
       "      <td>0</td>\n",
       "    </tr>\n",
       "    <tr>\n",
       "      <th>2</th>\n",
       "      <td>17.851451</td>\n",
       "      <td>16.727898</td>\n",
       "      <td>16.679677</td>\n",
       "      <td>16.694640</td>\n",
       "      <td>16.641788</td>\n",
       "      <td>18.171890</td>\n",
       "      <td>17.033098</td>\n",
       "      <td>16.999682</td>\n",
       "      <td>17.095999</td>\n",
       "      <td>17.076449</td>\n",
       "      <td>...</td>\n",
       "      <td>0</td>\n",
       "      <td>0</td>\n",
       "      <td>0</td>\n",
       "      <td>0</td>\n",
       "      <td>0</td>\n",
       "      <td>0</td>\n",
       "      <td>0</td>\n",
       "      <td>0</td>\n",
       "      <td>0</td>\n",
       "      <td>0</td>\n",
       "    </tr>\n",
       "    <tr>\n",
       "      <th>3</th>\n",
       "      <td>20.789900</td>\n",
       "      <td>20.040371</td>\n",
       "      <td>19.926909</td>\n",
       "      <td>19.843840</td>\n",
       "      <td>19.463270</td>\n",
       "      <td>21.039030</td>\n",
       "      <td>20.317165</td>\n",
       "      <td>20.217898</td>\n",
       "      <td>20.073852</td>\n",
       "      <td>19.794505</td>\n",
       "      <td>...</td>\n",
       "      <td>0</td>\n",
       "      <td>0</td>\n",
       "      <td>0</td>\n",
       "      <td>0</td>\n",
       "      <td>0</td>\n",
       "      <td>0</td>\n",
       "      <td>0</td>\n",
       "      <td>0</td>\n",
       "      <td>0</td>\n",
       "      <td>0</td>\n",
       "    </tr>\n",
       "    <tr>\n",
       "      <th>4</th>\n",
       "      <td>26.454969</td>\n",
       "      <td>23.058767</td>\n",
       "      <td>21.471406</td>\n",
       "      <td>19.504961</td>\n",
       "      <td>18.389096</td>\n",
       "      <td>25.700632</td>\n",
       "      <td>23.629122</td>\n",
       "      <td>21.742750</td>\n",
       "      <td>19.861718</td>\n",
       "      <td>18.810375</td>\n",
       "      <td>...</td>\n",
       "      <td>0</td>\n",
       "      <td>0</td>\n",
       "      <td>0</td>\n",
       "      <td>0</td>\n",
       "      <td>0</td>\n",
       "      <td>0</td>\n",
       "      <td>0</td>\n",
       "      <td>0</td>\n",
       "      <td>0</td>\n",
       "      <td>0</td>\n",
       "    </tr>\n",
       "  </tbody>\n",
       "</table>\n",
       "<p>5 rows × 1020 columns</p>\n",
       "</div>"
      ],
      "text/plain": [
       "     psfMag_u   psfMag_g   psfMag_r   psfMag_i   psfMag_z  fiberMag_u  \\\n",
       "id                                                                      \n",
       "0   23.198224  21.431953  21.314148  21.176553  21.171444   22.581309   \n",
       "1   21.431355  20.708104  20.678850  20.703420  20.473229   21.868797   \n",
       "2   17.851451  16.727898  16.679677  16.694640  16.641788   18.171890   \n",
       "3   20.789900  20.040371  19.926909  19.843840  19.463270   21.039030   \n",
       "4   26.454969  23.058767  21.471406  19.504961  18.389096   25.700632   \n",
       "\n",
       "    fiberMag_g  fiberMag_r  fiberMag_i  fiberMag_z  ...  fibierID_991  \\\n",
       "id                                                  ...                 \n",
       "0    21.644453   21.657571   21.387653   21.572827  ...             0   \n",
       "1    21.029773   20.967054   20.937731   21.063646  ...             0   \n",
       "2    17.033098   16.999682   17.095999   17.076449  ...             0   \n",
       "3    20.317165   20.217898   20.073852   19.794505  ...             0   \n",
       "4    23.629122   21.742750   19.861718   18.810375  ...             0   \n",
       "\n",
       "    fibierID_992  fibierID_993  fibierID_994  fibierID_995  fibierID_996  \\\n",
       "id                                                                         \n",
       "0              0             0             0             0             0   \n",
       "1              0             0             0             0             0   \n",
       "2              0             0             0             0             0   \n",
       "3              0             0             0             0             0   \n",
       "4              0             0             0             0             0   \n",
       "\n",
       "    fibierID_997  fibierID_998  fibierID_999  fibierID_1000  \n",
       "id                                                           \n",
       "0              0             0             0              0  \n",
       "1              0             0             0              0  \n",
       "2              0             0             0              0  \n",
       "3              0             0             0              0  \n",
       "4              0             0             0              0  \n",
       "\n",
       "[5 rows x 1020 columns]"
      ]
     },
     "execution_count": 20,
     "metadata": {},
     "output_type": "execute_result"
    }
   ],
   "source": [
    "train_concat_x.head()"
   ]
  },
  {
   "cell_type": "code",
   "execution_count": 36,
   "metadata": {
    "ExecuteTime": {
     "end_time": "2020-02-15T07:59:36.249399Z",
     "start_time": "2020-02-15T07:59:36.221012Z"
    }
   },
   "outputs": [],
   "source": [
    "def objective(params):\n",
    "    time1 = time.time()\n",
    "    params = {\n",
    "        'max_depth': int(params['max_depth']),\n",
    "        'gamma' : \"{:.3f}\".format(params['gamma']),\n",
    "        'subsample' : \"{:.2f}\".format(params['subsample']),\n",
    "        'reg_alpha' : \"{:.3f}\".format(params['reg_alpha']),\n",
    "        'learning_rate' : \"{:.3f}\".format(params['learning_rate']),\n",
    "        'num_leaves' : \"{:.3f}\".format(params['num_leaves']),\n",
    "        'colsample_bytree' : \"{:.3f}\".format(params['colsample_bytree']),\n",
    "        'min_child_samples' : \"{:.3f}\".format(params['min_child_samples']),\n",
    "        'feature_fraction' : \"{:.3f}\".format(params['feature_fraction']),\n",
    "        'bagging_fraction' : \"{:.3f}\".format(params['bagging_fraction'])\n",
    "    }\n",
    "    \n",
    "    print(\"****** New Run *******\")\n",
    "    print(f\"params = {params}\")\n",
    "    FOLDS = 5\n",
    "    count = 1\n",
    "    \n",
    "    skf = StratifiedKFold(n_splits = FOLDS, shuffle = True, random_state = 42)\n",
    "    score_mean = 0\n",
    "    \n",
    "    for tr_idx, val_idx in skf.split(train_concat_x, train_y):\n",
    "        xgb_clf = XGBClassifier(random_state = 42, verbos = False, **params, n_jobs = 4)\n",
    "        \n",
    "        X_tr, X_vl = train_concat_x.iloc[tr_idx, :], train_concat_x.iloc[val_idx, :]\n",
    "        y_tr, y_vl = train_y.iloc[tr_idx], train_y.iloc[val_idx]\n",
    "        \n",
    "        xgb_clf.fit(X_tr, y_tr)\n",
    "        \n",
    "        score = make_scorer(log_loss)(xgb_clf, X_vl, y_vl)\n",
    "        \n",
    "        score_mean += score\n",
    "        print(f'{count} CV - Score : {round(score,4)}')\n",
    "        count += 1\n",
    "        \n",
    "        time2 = time.time() - time1\n",
    "        print(f\"Total Time Run : {round(time2/60,2)}\")\n",
    "        gc.collect()\n",
    "        \n",
    "        print(f\"Mean log loss : {score_mean/FOLDS}\")\n",
    "        \n",
    "        del X_tr, X_vl, y_tr, y_vl, rf_reg, score\n",
    "        return (score_mean / FOLDS)"
   ]
  },
  {
   "cell_type": "code",
   "execution_count": 37,
   "metadata": {
    "ExecuteTime": {
     "end_time": "2020-02-15T07:59:37.288635Z",
     "start_time": "2020-02-15T07:59:37.271691Z"
    }
   },
   "outputs": [],
   "source": [
    "\n",
    "space = {\n",
    "    # 트리의 최대 깊이, GBM과 같습니다.\n",
    "    # 과대적합을 제어하기 위해 사용, 높은 깊이는 과대적합될 수 있습니다.\n",
    "    # 특정 샘플에 대한 관계를 학습시킵니다.\n",
    "    # Cross Validation을 사용하여 튜닝해야 합니다.\n",
    "    # 일반적인 값: 3 - 10\n",
    "    'max_depth' : hp.quniform('max_depth', 7, 23, 1),\n",
    "    \n",
    "    # reg_alpha: L1 규제 파라미터. L1 규제는 희소성을 상승시킵니다.\n",
    "    # (meaning pulling weights to 0). objective가 Logistic Regression일 때, \n",
    "    # Feature Selection에 유용할 수 있습니다.\n",
    "    'reg_alpha' : hp.uniform('reg_alpha', 0.01, 0.4),\n",
    "    \n",
    "    # reg_lambda: L2 규제 파라미터. 더 작은 가중치를 부여하길 권장합니다.\n",
    "    # 이 접근 방식은 Zeroing Feature(?)가 의미가 없을 수 있는 트리 모델에서 더 유용할 수 있습니다.\n",
    "    'reg_lambda': hp.uniform('reg_lambda', 0.01, .4),\n",
    "    \n",
    "    # eta: GBM의 학습률과 유사하게 각 단계의 가중치를 줄임으로써 모델을 더욱 견고하게 합니다.\n",
    "    # 일반적인 값: 0.01 - 0.2\n",
    "    'learning_rate' : hp.uniform('learning_rate', 0.01, 0.2),\n",
    "    \n",
    "    # colsample_bytree: GBM에서 max_feature와 비슷합니다. \n",
    "    # 각 트리에 대해 무작위로 추출할 Feature의 비율입니다.\n",
    "    # 일반적인 값: 0.5 - 1\n",
    "    'colsample_bytree' : hp.uniform('colsample_bytree', 0.3, .9),\n",
    "    \n",
    "    # 노드는 분할 결과가 손실 함수를 양수로 감소시킬 때만 분할됩니다. \n",
    "    # gamma: 분할에 필요한 최소 loss 감소를 명시합니다. 또한 알고리즘을 보수적으로 만듭니다.\n",
    "    # 이 값은 손실 함수에 따라 달라질 수 있으므로 조정이 필요합니다.\n",
    "    'gamma' : hp.uniform('gamma', 0.01, .7),\n",
    "    \n",
    "    # 정확도를 더 올려주지만, 모델이 과적합될 수 있습니다.\n",
    "    # num_leaves: 사용할 리프 노드 수.\n",
    "    # leaf가 많으면 정확도가 향상되지만 과적합도 발생합니다.\n",
    "    'num_leaves' : hp.choice('num_leaves', list(range(20,250,10))),\n",
    "    \n",
    "    # 리프 노드 당 최소 표본의 수를 지정합니다.\n",
    "    # leaf으로 그룹화할 최소 표본의 수\n",
    "    # 이 매개변수는 과대적합에 크게 도움 될 수 있습니다. leaf당 표본의 크기가 클수록 \n",
    "    # 과적합에서 벗어날 수 있습니다. 반대로 생각하면, 오히려 과소적합으로 이어질 수 있습니다.\n",
    "    'min_child_samples' : hp.choice('min_child_samples', list(range(100, 250, 10))),\n",
    "    \n",
    "    # subsample: 각 하위 트리를 생성할 때, 고려해야 할 관측값의 일부를 나타냅니다.\n",
    "    'subsample' : hp.choice('subsample', [.2,.4,.5,.6,.7,.8,.9]),\n",
    "    \n",
    "    # Feature의 일부를 무작위로 선택합니다.\n",
    "    # feature_fraction: 훈련에 사용되는 Feature의 subsampling을 제어합니다.\n",
    "    # 배깅의 경우 실제 훈련 데이터에서 subsampling하는 것과는 대조적입니다.\n",
    "    # 작을수록 과적합이 줄어듭니다.\n",
    "    'feature_fraction' : hp.uniform('feature_fraction',.4, .8),\n",
    "    \n",
    "    # 무작위로 훈련 데이터를 넣거나, 샘플링합니다.\n",
    "    'bagging_fraction' : hp.uniform('bagging_fraction', .4, .9),\n",
    "    \n",
    "    # bagging_fraction & bagging_freq: 훈련 데이터의 bagging (subsampling)을 활성화합니다.\n",
    "    # 두 값 모두 배깅을 사용하려면 설정해야 합니다.\n",
    "    # Frequency는 배깅 사용 빈도를 제어합니다.\n",
    "    # 더 작은 Fraction과 Frequency는 과적합을 방지합니다.\n",
    "    \n",
    "}"
   ]
  },
  {
   "cell_type": "code",
   "execution_count": 38,
   "metadata": {
    "ExecuteTime": {
     "end_time": "2020-02-15T08:34:20.239450Z",
     "start_time": "2020-02-15T07:59:38.225928Z"
    }
   },
   "outputs": [
    {
     "name": "stdout",
     "output_type": "stream",
     "text": [
      "****** New Run *******                                                                                                 \n",
      "params = {'max_depth': 11, 'gamma': '0.079', 'subsample': '0.20', 'reg_alpha': '0.334', 'learning_rate': '0.134', 'num_leaves': '130.000', 'colsample_bytree': '0.613', 'min_child_samples': '220.000', 'feature_fraction': '0.697', 'bagging_fraction': '0.822'}\n",
      "  0%|                                                                           | 0/10 [34:41<?, ?trial/s, best loss=?]\n"
     ]
    },
    {
     "ename": "KeyboardInterrupt",
     "evalue": "",
     "output_type": "error",
     "traceback": [
      "\u001b[1;31m---------------------------------------------------------------------------\u001b[0m",
      "\u001b[1;31mKeyboardInterrupt\u001b[0m                         Traceback (most recent call last)",
      "\u001b[1;32m<ipython-input-38-1ab3904e0233>\u001b[0m in \u001b[0;36m<module>\u001b[1;34m\u001b[0m\n\u001b[0;32m      3\u001b[0m            \u001b[0mspace\u001b[0m \u001b[1;33m=\u001b[0m \u001b[0mspace\u001b[0m\u001b[1;33m,\u001b[0m\u001b[1;33m\u001b[0m\u001b[1;33m\u001b[0m\u001b[0m\n\u001b[0;32m      4\u001b[0m            \u001b[0malgo\u001b[0m \u001b[1;33m=\u001b[0m \u001b[0mtpe\u001b[0m\u001b[1;33m.\u001b[0m\u001b[0msuggest\u001b[0m\u001b[1;33m,\u001b[0m\u001b[1;33m\u001b[0m\u001b[1;33m\u001b[0m\u001b[0m\n\u001b[1;32m----> 5\u001b[1;33m            max_evals = 10)\n\u001b[0m\u001b[0;32m      6\u001b[0m \u001b[1;33m\u001b[0m\u001b[0m\n\u001b[0;32m      7\u001b[0m \u001b[1;31m# 최적의 파라미터를 출력\u001b[0m\u001b[1;33m\u001b[0m\u001b[1;33m\u001b[0m\u001b[1;33m\u001b[0m\u001b[0m\n",
      "\u001b[1;32m~\\Anaconda3\\lib\\site-packages\\hyperopt\\fmin.py\u001b[0m in \u001b[0;36mfmin\u001b[1;34m(fn, space, algo, max_evals, timeout, loss_threshold, trials, rstate, allow_trials_fmin, pass_expr_memo_ctrl, catch_eval_exceptions, verbose, return_argmin, points_to_evaluate, max_queue_len, show_progressbar)\u001b[0m\n\u001b[0;32m    507\u001b[0m \u001b[1;33m\u001b[0m\u001b[0m\n\u001b[0;32m    508\u001b[0m     \u001b[1;31m# next line is where the fmin is actually executed\u001b[0m\u001b[1;33m\u001b[0m\u001b[1;33m\u001b[0m\u001b[1;33m\u001b[0m\u001b[0m\n\u001b[1;32m--> 509\u001b[1;33m     \u001b[0mrval\u001b[0m\u001b[1;33m.\u001b[0m\u001b[0mexhaust\u001b[0m\u001b[1;33m(\u001b[0m\u001b[1;33m)\u001b[0m\u001b[1;33m\u001b[0m\u001b[1;33m\u001b[0m\u001b[0m\n\u001b[0m\u001b[0;32m    510\u001b[0m \u001b[1;33m\u001b[0m\u001b[0m\n\u001b[0;32m    511\u001b[0m     \u001b[1;32mif\u001b[0m \u001b[0mreturn_argmin\u001b[0m\u001b[1;33m:\u001b[0m\u001b[1;33m\u001b[0m\u001b[1;33m\u001b[0m\u001b[0m\n",
      "\u001b[1;32m~\\Anaconda3\\lib\\site-packages\\hyperopt\\fmin.py\u001b[0m in \u001b[0;36mexhaust\u001b[1;34m(self)\u001b[0m\n\u001b[0;32m    328\u001b[0m     \u001b[1;32mdef\u001b[0m \u001b[0mexhaust\u001b[0m\u001b[1;33m(\u001b[0m\u001b[0mself\u001b[0m\u001b[1;33m)\u001b[0m\u001b[1;33m:\u001b[0m\u001b[1;33m\u001b[0m\u001b[1;33m\u001b[0m\u001b[0m\n\u001b[0;32m    329\u001b[0m         \u001b[0mn_done\u001b[0m \u001b[1;33m=\u001b[0m \u001b[0mlen\u001b[0m\u001b[1;33m(\u001b[0m\u001b[0mself\u001b[0m\u001b[1;33m.\u001b[0m\u001b[0mtrials\u001b[0m\u001b[1;33m)\u001b[0m\u001b[1;33m\u001b[0m\u001b[1;33m\u001b[0m\u001b[0m\n\u001b[1;32m--> 330\u001b[1;33m         \u001b[0mself\u001b[0m\u001b[1;33m.\u001b[0m\u001b[0mrun\u001b[0m\u001b[1;33m(\u001b[0m\u001b[0mself\u001b[0m\u001b[1;33m.\u001b[0m\u001b[0mmax_evals\u001b[0m \u001b[1;33m-\u001b[0m \u001b[0mn_done\u001b[0m\u001b[1;33m,\u001b[0m \u001b[0mblock_until_done\u001b[0m\u001b[1;33m=\u001b[0m\u001b[0mself\u001b[0m\u001b[1;33m.\u001b[0m\u001b[0masynchronous\u001b[0m\u001b[1;33m)\u001b[0m\u001b[1;33m\u001b[0m\u001b[1;33m\u001b[0m\u001b[0m\n\u001b[0m\u001b[0;32m    331\u001b[0m         \u001b[0mself\u001b[0m\u001b[1;33m.\u001b[0m\u001b[0mtrials\u001b[0m\u001b[1;33m.\u001b[0m\u001b[0mrefresh\u001b[0m\u001b[1;33m(\u001b[0m\u001b[1;33m)\u001b[0m\u001b[1;33m\u001b[0m\u001b[1;33m\u001b[0m\u001b[0m\n\u001b[0;32m    332\u001b[0m         \u001b[1;32mreturn\u001b[0m \u001b[0mself\u001b[0m\u001b[1;33m\u001b[0m\u001b[1;33m\u001b[0m\u001b[0m\n",
      "\u001b[1;32m~\\Anaconda3\\lib\\site-packages\\hyperopt\\fmin.py\u001b[0m in \u001b[0;36mrun\u001b[1;34m(self, N, block_until_done)\u001b[0m\n\u001b[0;32m    284\u001b[0m                 \u001b[1;32melse\u001b[0m\u001b[1;33m:\u001b[0m\u001b[1;33m\u001b[0m\u001b[1;33m\u001b[0m\u001b[0m\n\u001b[0;32m    285\u001b[0m                     \u001b[1;31m# -- loop over trials and do the jobs directly\u001b[0m\u001b[1;33m\u001b[0m\u001b[1;33m\u001b[0m\u001b[1;33m\u001b[0m\u001b[0m\n\u001b[1;32m--> 286\u001b[1;33m                     \u001b[0mself\u001b[0m\u001b[1;33m.\u001b[0m\u001b[0mserial_evaluate\u001b[0m\u001b[1;33m(\u001b[0m\u001b[1;33m)\u001b[0m\u001b[1;33m\u001b[0m\u001b[1;33m\u001b[0m\u001b[0m\n\u001b[0m\u001b[0;32m    287\u001b[0m \u001b[1;33m\u001b[0m\u001b[0m\n\u001b[0;32m    288\u001b[0m                 \u001b[0mself\u001b[0m\u001b[1;33m.\u001b[0m\u001b[0mtrials\u001b[0m\u001b[1;33m.\u001b[0m\u001b[0mrefresh\u001b[0m\u001b[1;33m(\u001b[0m\u001b[1;33m)\u001b[0m\u001b[1;33m\u001b[0m\u001b[1;33m\u001b[0m\u001b[0m\n",
      "\u001b[1;32m~\\Anaconda3\\lib\\site-packages\\hyperopt\\fmin.py\u001b[0m in \u001b[0;36mserial_evaluate\u001b[1;34m(self, N)\u001b[0m\n\u001b[0;32m    163\u001b[0m                 \u001b[0mctrl\u001b[0m \u001b[1;33m=\u001b[0m \u001b[0mbase\u001b[0m\u001b[1;33m.\u001b[0m\u001b[0mCtrl\u001b[0m\u001b[1;33m(\u001b[0m\u001b[0mself\u001b[0m\u001b[1;33m.\u001b[0m\u001b[0mtrials\u001b[0m\u001b[1;33m,\u001b[0m \u001b[0mcurrent_trial\u001b[0m\u001b[1;33m=\u001b[0m\u001b[0mtrial\u001b[0m\u001b[1;33m)\u001b[0m\u001b[1;33m\u001b[0m\u001b[1;33m\u001b[0m\u001b[0m\n\u001b[0;32m    164\u001b[0m                 \u001b[1;32mtry\u001b[0m\u001b[1;33m:\u001b[0m\u001b[1;33m\u001b[0m\u001b[1;33m\u001b[0m\u001b[0m\n\u001b[1;32m--> 165\u001b[1;33m                     \u001b[0mresult\u001b[0m \u001b[1;33m=\u001b[0m \u001b[0mself\u001b[0m\u001b[1;33m.\u001b[0m\u001b[0mdomain\u001b[0m\u001b[1;33m.\u001b[0m\u001b[0mevaluate\u001b[0m\u001b[1;33m(\u001b[0m\u001b[0mspec\u001b[0m\u001b[1;33m,\u001b[0m \u001b[0mctrl\u001b[0m\u001b[1;33m)\u001b[0m\u001b[1;33m\u001b[0m\u001b[1;33m\u001b[0m\u001b[0m\n\u001b[0m\u001b[0;32m    166\u001b[0m                 \u001b[1;32mexcept\u001b[0m \u001b[0mException\u001b[0m \u001b[1;32mas\u001b[0m \u001b[0me\u001b[0m\u001b[1;33m:\u001b[0m\u001b[1;33m\u001b[0m\u001b[1;33m\u001b[0m\u001b[0m\n\u001b[0;32m    167\u001b[0m                     \u001b[0mlogger\u001b[0m\u001b[1;33m.\u001b[0m\u001b[0merror\u001b[0m\u001b[1;33m(\u001b[0m\u001b[1;34m\"job exception: %s\"\u001b[0m \u001b[1;33m%\u001b[0m \u001b[0mstr\u001b[0m\u001b[1;33m(\u001b[0m\u001b[0me\u001b[0m\u001b[1;33m)\u001b[0m\u001b[1;33m)\u001b[0m\u001b[1;33m\u001b[0m\u001b[1;33m\u001b[0m\u001b[0m\n",
      "\u001b[1;32m~\\Anaconda3\\lib\\site-packages\\hyperopt\\base.py\u001b[0m in \u001b[0;36mevaluate\u001b[1;34m(self, config, ctrl, attach_attachments)\u001b[0m\n\u001b[0;32m    892\u001b[0m                 \u001b[0mprint_node_on_error\u001b[0m\u001b[1;33m=\u001b[0m\u001b[0mself\u001b[0m\u001b[1;33m.\u001b[0m\u001b[0mrec_eval_print_node_on_error\u001b[0m\u001b[1;33m,\u001b[0m\u001b[1;33m\u001b[0m\u001b[1;33m\u001b[0m\u001b[0m\n\u001b[0;32m    893\u001b[0m             )\n\u001b[1;32m--> 894\u001b[1;33m             \u001b[0mrval\u001b[0m \u001b[1;33m=\u001b[0m \u001b[0mself\u001b[0m\u001b[1;33m.\u001b[0m\u001b[0mfn\u001b[0m\u001b[1;33m(\u001b[0m\u001b[0mpyll_rval\u001b[0m\u001b[1;33m)\u001b[0m\u001b[1;33m\u001b[0m\u001b[1;33m\u001b[0m\u001b[0m\n\u001b[0m\u001b[0;32m    895\u001b[0m \u001b[1;33m\u001b[0m\u001b[0m\n\u001b[0;32m    896\u001b[0m         \u001b[1;32mif\u001b[0m \u001b[0misinstance\u001b[0m\u001b[1;33m(\u001b[0m\u001b[0mrval\u001b[0m\u001b[1;33m,\u001b[0m \u001b[1;33m(\u001b[0m\u001b[0mfloat\u001b[0m\u001b[1;33m,\u001b[0m \u001b[0mint\u001b[0m\u001b[1;33m,\u001b[0m \u001b[0mnp\u001b[0m\u001b[1;33m.\u001b[0m\u001b[0mnumber\u001b[0m\u001b[1;33m)\u001b[0m\u001b[1;33m)\u001b[0m\u001b[1;33m:\u001b[0m\u001b[1;33m\u001b[0m\u001b[1;33m\u001b[0m\u001b[0m\n",
      "\u001b[1;32m<ipython-input-36-7c04aa959d2c>\u001b[0m in \u001b[0;36mobjective\u001b[1;34m(params)\u001b[0m\n\u001b[0;32m     28\u001b[0m         \u001b[0my_tr\u001b[0m\u001b[1;33m,\u001b[0m \u001b[0my_vl\u001b[0m \u001b[1;33m=\u001b[0m \u001b[0mtrain_y\u001b[0m\u001b[1;33m.\u001b[0m\u001b[0miloc\u001b[0m\u001b[1;33m[\u001b[0m\u001b[0mtr_idx\u001b[0m\u001b[1;33m]\u001b[0m\u001b[1;33m,\u001b[0m \u001b[0mtrain_y\u001b[0m\u001b[1;33m.\u001b[0m\u001b[0miloc\u001b[0m\u001b[1;33m[\u001b[0m\u001b[0mval_idx\u001b[0m\u001b[1;33m]\u001b[0m\u001b[1;33m\u001b[0m\u001b[1;33m\u001b[0m\u001b[0m\n\u001b[0;32m     29\u001b[0m \u001b[1;33m\u001b[0m\u001b[0m\n\u001b[1;32m---> 30\u001b[1;33m         \u001b[0mxgb_clf\u001b[0m\u001b[1;33m.\u001b[0m\u001b[0mfit\u001b[0m\u001b[1;33m(\u001b[0m\u001b[0mX_tr\u001b[0m\u001b[1;33m,\u001b[0m \u001b[0my_tr\u001b[0m\u001b[1;33m)\u001b[0m\u001b[1;33m\u001b[0m\u001b[1;33m\u001b[0m\u001b[0m\n\u001b[0m\u001b[0;32m     31\u001b[0m \u001b[1;33m\u001b[0m\u001b[0m\n\u001b[0;32m     32\u001b[0m         \u001b[0mscore\u001b[0m \u001b[1;33m=\u001b[0m \u001b[0mmake_scorer\u001b[0m\u001b[1;33m(\u001b[0m\u001b[0mlog_loss\u001b[0m\u001b[1;33m)\u001b[0m\u001b[1;33m(\u001b[0m\u001b[0mxgb_clf\u001b[0m\u001b[1;33m,\u001b[0m \u001b[0mX_vl\u001b[0m\u001b[1;33m,\u001b[0m \u001b[0my_vl\u001b[0m\u001b[1;33m)\u001b[0m\u001b[1;33m\u001b[0m\u001b[1;33m\u001b[0m\u001b[0m\n",
      "\u001b[1;32m~\\Anaconda3\\lib\\site-packages\\xgboost\\sklearn.py\u001b[0m in \u001b[0;36mfit\u001b[1;34m(self, X, y, sample_weight, eval_set, eval_metric, early_stopping_rounds, verbose, xgb_model, sample_weight_eval_set, callbacks)\u001b[0m\n\u001b[0;32m    730\u001b[0m                               \u001b[0mevals_result\u001b[0m\u001b[1;33m=\u001b[0m\u001b[0mevals_result\u001b[0m\u001b[1;33m,\u001b[0m \u001b[0mobj\u001b[0m\u001b[1;33m=\u001b[0m\u001b[0mobj\u001b[0m\u001b[1;33m,\u001b[0m \u001b[0mfeval\u001b[0m\u001b[1;33m=\u001b[0m\u001b[0mfeval\u001b[0m\u001b[1;33m,\u001b[0m\u001b[1;33m\u001b[0m\u001b[1;33m\u001b[0m\u001b[0m\n\u001b[0;32m    731\u001b[0m                               \u001b[0mverbose_eval\u001b[0m\u001b[1;33m=\u001b[0m\u001b[0mverbose\u001b[0m\u001b[1;33m,\u001b[0m \u001b[0mxgb_model\u001b[0m\u001b[1;33m=\u001b[0m\u001b[0mxgb_model\u001b[0m\u001b[1;33m,\u001b[0m\u001b[1;33m\u001b[0m\u001b[1;33m\u001b[0m\u001b[0m\n\u001b[1;32m--> 732\u001b[1;33m                               callbacks=callbacks)\n\u001b[0m\u001b[0;32m    733\u001b[0m \u001b[1;33m\u001b[0m\u001b[0m\n\u001b[0;32m    734\u001b[0m         \u001b[0mself\u001b[0m\u001b[1;33m.\u001b[0m\u001b[0mobjective\u001b[0m \u001b[1;33m=\u001b[0m \u001b[0mxgb_options\u001b[0m\u001b[1;33m[\u001b[0m\u001b[1;34m\"objective\"\u001b[0m\u001b[1;33m]\u001b[0m\u001b[1;33m\u001b[0m\u001b[1;33m\u001b[0m\u001b[0m\n",
      "\u001b[1;32m~\\Anaconda3\\lib\\site-packages\\xgboost\\training.py\u001b[0m in \u001b[0;36mtrain\u001b[1;34m(params, dtrain, num_boost_round, evals, obj, feval, maximize, early_stopping_rounds, evals_result, verbose_eval, xgb_model, callbacks, learning_rates)\u001b[0m\n\u001b[0;32m    214\u001b[0m                            \u001b[0mevals\u001b[0m\u001b[1;33m=\u001b[0m\u001b[0mevals\u001b[0m\u001b[1;33m,\u001b[0m\u001b[1;33m\u001b[0m\u001b[1;33m\u001b[0m\u001b[0m\n\u001b[0;32m    215\u001b[0m                            \u001b[0mobj\u001b[0m\u001b[1;33m=\u001b[0m\u001b[0mobj\u001b[0m\u001b[1;33m,\u001b[0m \u001b[0mfeval\u001b[0m\u001b[1;33m=\u001b[0m\u001b[0mfeval\u001b[0m\u001b[1;33m,\u001b[0m\u001b[1;33m\u001b[0m\u001b[1;33m\u001b[0m\u001b[0m\n\u001b[1;32m--> 216\u001b[1;33m                            xgb_model=xgb_model, callbacks=callbacks)\n\u001b[0m\u001b[0;32m    217\u001b[0m \u001b[1;33m\u001b[0m\u001b[0m\n\u001b[0;32m    218\u001b[0m \u001b[1;33m\u001b[0m\u001b[0m\n",
      "\u001b[1;32m~\\Anaconda3\\lib\\site-packages\\xgboost\\training.py\u001b[0m in \u001b[0;36m_train_internal\u001b[1;34m(params, dtrain, num_boost_round, evals, obj, feval, xgb_model, callbacks)\u001b[0m\n\u001b[0;32m     72\u001b[0m         \u001b[1;31m# Skip the first update if it is a recovery step.\u001b[0m\u001b[1;33m\u001b[0m\u001b[1;33m\u001b[0m\u001b[1;33m\u001b[0m\u001b[0m\n\u001b[0;32m     73\u001b[0m         \u001b[1;32mif\u001b[0m \u001b[0mversion\u001b[0m \u001b[1;33m%\u001b[0m \u001b[1;36m2\u001b[0m \u001b[1;33m==\u001b[0m \u001b[1;36m0\u001b[0m\u001b[1;33m:\u001b[0m\u001b[1;33m\u001b[0m\u001b[1;33m\u001b[0m\u001b[0m\n\u001b[1;32m---> 74\u001b[1;33m             \u001b[0mbst\u001b[0m\u001b[1;33m.\u001b[0m\u001b[0mupdate\u001b[0m\u001b[1;33m(\u001b[0m\u001b[0mdtrain\u001b[0m\u001b[1;33m,\u001b[0m \u001b[0mi\u001b[0m\u001b[1;33m,\u001b[0m \u001b[0mobj\u001b[0m\u001b[1;33m)\u001b[0m\u001b[1;33m\u001b[0m\u001b[1;33m\u001b[0m\u001b[0m\n\u001b[0m\u001b[0;32m     75\u001b[0m             \u001b[0mbst\u001b[0m\u001b[1;33m.\u001b[0m\u001b[0msave_rabit_checkpoint\u001b[0m\u001b[1;33m(\u001b[0m\u001b[1;33m)\u001b[0m\u001b[1;33m\u001b[0m\u001b[1;33m\u001b[0m\u001b[0m\n\u001b[0;32m     76\u001b[0m             \u001b[0mversion\u001b[0m \u001b[1;33m+=\u001b[0m \u001b[1;36m1\u001b[0m\u001b[1;33m\u001b[0m\u001b[1;33m\u001b[0m\u001b[0m\n",
      "\u001b[1;32m~\\Anaconda3\\lib\\site-packages\\xgboost\\core.py\u001b[0m in \u001b[0;36mupdate\u001b[1;34m(self, dtrain, iteration, fobj)\u001b[0m\n\u001b[0;32m   1107\u001b[0m         \u001b[1;32mif\u001b[0m \u001b[0mfobj\u001b[0m \u001b[1;32mis\u001b[0m \u001b[1;32mNone\u001b[0m\u001b[1;33m:\u001b[0m\u001b[1;33m\u001b[0m\u001b[1;33m\u001b[0m\u001b[0m\n\u001b[0;32m   1108\u001b[0m             _check_call(_LIB.XGBoosterUpdateOneIter(self.handle, ctypes.c_int(iteration),\n\u001b[1;32m-> 1109\u001b[1;33m                                                     dtrain.handle))\n\u001b[0m\u001b[0;32m   1110\u001b[0m         \u001b[1;32melse\u001b[0m\u001b[1;33m:\u001b[0m\u001b[1;33m\u001b[0m\u001b[1;33m\u001b[0m\u001b[0m\n\u001b[0;32m   1111\u001b[0m             \u001b[0mpred\u001b[0m \u001b[1;33m=\u001b[0m \u001b[0mself\u001b[0m\u001b[1;33m.\u001b[0m\u001b[0mpredict\u001b[0m\u001b[1;33m(\u001b[0m\u001b[0mdtrain\u001b[0m\u001b[1;33m)\u001b[0m\u001b[1;33m\u001b[0m\u001b[1;33m\u001b[0m\u001b[0m\n",
      "\u001b[1;31mKeyboardInterrupt\u001b[0m: "
     ]
    }
   ],
   "source": [
    "# 알고리즘 파라미터 설정\n",
    "best = fmin(fn = objective,\n",
    "           space = space,\n",
    "           algo = tpe.suggest,\n",
    "           max_evals = 10)\n",
    "\n",
    "# 최적의 파라미터를 출력\n",
    "best_params = space_eval(space, best)"
   ]
  },
  {
   "cell_type": "code",
   "execution_count": null,
   "metadata": {},
   "outputs": [],
   "source": []
  }
 ],
 "metadata": {
  "kernelspec": {
   "display_name": "Python 3",
   "language": "python",
   "name": "python3"
  },
  "language_info": {
   "codemirror_mode": {
    "name": "ipython",
    "version": 3
   },
   "file_extension": ".py",
   "mimetype": "text/x-python",
   "name": "python",
   "nbconvert_exporter": "python",
   "pygments_lexer": "ipython3",
   "version": "3.7.3"
  },
  "toc": {
   "base_numbering": 1,
   "nav_menu": {},
   "number_sections": true,
   "sideBar": true,
   "skip_h1_title": false,
   "title_cell": "Table of Contents",
   "title_sidebar": "Contents",
   "toc_cell": false,
   "toc_position": {},
   "toc_section_display": true,
   "toc_window_display": false
  },
  "varInspector": {
   "cols": {
    "lenName": 16,
    "lenType": 16,
    "lenVar": 40
   },
   "kernels_config": {
    "python": {
     "delete_cmd_postfix": "",
     "delete_cmd_prefix": "del ",
     "library": "var_list.py",
     "varRefreshCmd": "print(var_dic_list())"
    },
    "r": {
     "delete_cmd_postfix": ") ",
     "delete_cmd_prefix": "rm(",
     "library": "var_list.r",
     "varRefreshCmd": "cat(var_dic_list()) "
    }
   },
   "types_to_exclude": [
    "module",
    "function",
    "builtin_function_or_method",
    "instance",
    "_Feature"
   ],
   "window_display": false
  }
 },
 "nbformat": 4,
 "nbformat_minor": 2
}
