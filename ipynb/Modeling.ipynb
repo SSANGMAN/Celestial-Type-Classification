{
 "cells": [
  {
   "cell_type": "code",
   "execution_count": 25,
   "metadata": {
    "ExecuteTime": {
     "end_time": "2020-02-29T05:22:31.854218Z",
     "start_time": "2020-02-29T05:22:31.846253Z"
    }
   },
   "outputs": [],
   "source": [
    "import pandas as pd\n",
    "import numpy as np\n",
    "\n",
    "from sklearn.model_selection import StratifiedKFold, train_test_split\n",
    "from sklearn.metrics import log_loss\n",
    "from math import sqrt\n",
    "\n",
    "import lightgbm as lgb\n",
    "from sklearn.metrics import log_loss, make_scorer\n",
    "from sklearn.model_selection import KFold, StratifiedKFold\n",
    "\n",
    "from hyperopt import fmin, hp, tpe, space_eval\n",
    "\n",
    "import gc\n",
    "import time"
   ]
  },
  {
   "cell_type": "code",
   "execution_count": 26,
   "metadata": {
    "ExecuteTime": {
     "end_time": "2020-02-29T05:22:33.579323Z",
     "start_time": "2020-02-29T05:22:31.857803Z"
    }
   },
   "outputs": [],
   "source": [
    "train = pd.read_csv('../dataset/train.csv', index_col = 0)\n",
    "test = pd.read_csv('../dataset/test.csv', index_col = 0)\n",
    "sample_submission = pd.read_csv('../dataset/sample_submission.csv', index_col = 0)"
   ]
  },
  {
   "cell_type": "code",
   "execution_count": 27,
   "metadata": {
    "ExecuteTime": {
     "end_time": "2020-02-29T05:22:33.599407Z",
     "start_time": "2020-02-29T05:22:33.586325Z"
    }
   },
   "outputs": [],
   "source": [
    "def SpectralClass(x):\n",
    "    if x < -0.3:\n",
    "        return \"O\"\n",
    "    \n",
    "    elif (x >= -0.3) & (x < 0):\n",
    "        return \"B\"\n",
    "    \n",
    "    elif (x >= 0) & (x < 0.33):\n",
    "        return \"A\"\n",
    "    \n",
    "    elif (x >= 0.33) & (x < 0.6):\n",
    "        return \"F\"\n",
    "    \n",
    "    elif (x >= 0.6) & (x < 0.81):\n",
    "        return \"G\"\n",
    "    \n",
    "    elif (x >= 0.81) & (x < 1.4):\n",
    "        return \"K\"\n",
    "    \n",
    "    else:\n",
    "        return \"M\""
   ]
  },
  {
   "cell_type": "code",
   "execution_count": 28,
   "metadata": {
    "ExecuteTime": {
     "end_time": "2020-02-29T05:22:33.633923Z",
     "start_time": "2020-02-29T05:22:33.606400Z"
    }
   },
   "outputs": [],
   "source": [
    "def ugriz(df):\n",
    "    mag = ['psfMag', 'fiberMag', 'PetroMag', 'model']\n",
    "    colors = list('ugriz')\n",
    "    \n",
    "    u = list(df.columns[df.columns.str.endswith('_u')])\n",
    "    g = list(df.columns[df.columns.str.endswith('_g')])\n",
    "    r = list(df.columns[df.columns.str.endswith('_r')])\n",
    "    i = list(df.columns[df.columns.str.endswith('_i')])\n",
    "    z = list(df.columns[df.columns.str.endswith('_z')])\n",
    "    \n",
    "    #u_g\n",
    "    for idx, cols in enumerate(mag):\n",
    "        df[cols+'_u_g'] = df[u[idx]] - df[g[idx]]\n",
    "     \n",
    "    #g_r\n",
    "    for idx, cols in enumerate(mag):\n",
    "        df[cols+'_g_r'] = df[g[idx]] - df[r[idx]]\n",
    "        \n",
    "    #r_i\n",
    "    for idx, cols in enumerate(mag):\n",
    "        df[cols+'_r_i'] = df[r[idx]] - df[i[idx]]\n",
    "        \n",
    "    #g_i\n",
    "    for idx, cols in enumerate(mag):\n",
    "        df[cols+'_g_i'] = df[g[idx]] - df[i[idx]] \n",
    "        \n",
    "    #i_z\n",
    "    for idx, cols in enumerate(mag):\n",
    "        df[cols+'_i_z'] = df[i[idx]] - df[z[idx]]\n",
    "    \n",
    "    #model-[psf,fiber,petro]\n",
    "    for color in colors:\n",
    "        df['model_psf_'+ color] = df[locals()[color][3]] - df[locals()[color][0]]\n",
    "        df['model_fiber_'+ color] = df[locals()[color][3]] - df[locals()[color][1]]\n",
    "        df['model_petro_'+ color] = df[locals()[color][3]] - df[locals()[color][2]]\n",
    "        \n",
    "    #B_V\n",
    "    for idx, cols in enumerate(mag):\n",
    "        df[cols+'_b_v'] = 0.98 * (df[g[idx]] - df[r[idx]]) + 0.22\n",
    "        df['star_spectrum_'+cols] = df[cols+'_b_v'].apply(lambda x: SpectralClass(x))\n",
    "        \n",
    "    return df"
   ]
  },
  {
   "cell_type": "code",
   "execution_count": 29,
   "metadata": {
    "ExecuteTime": {
     "end_time": "2020-02-29T05:22:33.665181Z",
     "start_time": "2020-02-29T05:22:33.637927Z"
    }
   },
   "outputs": [],
   "source": [
    "bins= [0, 100, 200, 300, 400, 500, 600, 640,1000]\n",
    "labels = list('01234567')\n",
    "\n",
    "train['fiberID2'] = pd.cut(train['fiberID'], bins= bins, labels = labels)\n",
    "test['fiberID2'] = pd.cut(test['fiberID'], bins= bins, labels = labels)"
   ]
  },
  {
   "cell_type": "code",
   "execution_count": 30,
   "metadata": {
    "ExecuteTime": {
     "end_time": "2020-02-29T05:22:34.692264Z",
     "start_time": "2020-02-29T05:22:33.668125Z"
    }
   },
   "outputs": [],
   "source": [
    "train = ugriz(train)\n",
    "test = ugriz(test)"
   ]
  },
  {
   "cell_type": "code",
   "execution_count": 31,
   "metadata": {
    "ExecuteTime": {
     "end_time": "2020-02-29T05:22:35.164403Z",
     "start_time": "2020-02-29T05:22:34.695271Z"
    }
   },
   "outputs": [],
   "source": [
    "star = list(train.columns[train.columns.str.startswith('star_')])\n",
    "star.append('fiberID2')\n",
    "\n",
    "train= pd.get_dummies(data=train, columns=star)\n",
    "test = pd.get_dummies(data=test, columns=star)"
   ]
  },
  {
   "cell_type": "code",
   "execution_count": 32,
   "metadata": {
    "ExecuteTime": {
     "end_time": "2020-02-29T05:22:35.267045Z",
     "start_time": "2020-02-29T05:22:35.167413Z"
    }
   },
   "outputs": [],
   "source": [
    "column_number = {}\n",
    "\n",
    "for i, column in enumerate(sample_submission.columns):\n",
    "    column_number[column] = i\n",
    "\n",
    "def to_number(x, dic):\n",
    "    return dic[x]\n",
    "\n",
    "train['type_num'] = train['type'].apply(lambda x: to_number(x, column_number))"
   ]
  },
  {
   "cell_type": "code",
   "execution_count": 33,
   "metadata": {
    "ExecuteTime": {
     "end_time": "2020-02-29T05:22:35.354016Z",
     "start_time": "2020-02-29T05:22:35.269488Z"
    }
   },
   "outputs": [],
   "source": [
    "train_x = train.drop(columns = ['type', 'type_num'], axis = 1)\n",
    "train_y = train['type_num']\n",
    "\n",
    "test_x = test"
   ]
  },
  {
   "cell_type": "code",
   "execution_count": 34,
   "metadata": {
    "ExecuteTime": {
     "end_time": "2020-02-29T05:22:35.365016Z",
     "start_time": "2020-02-29T05:22:35.356008Z"
    }
   },
   "outputs": [],
   "source": [
    "space = {'objective' : 'multiclass',\n",
    "         'num_class' : 19,\n",
    "              'metric' : 'multi_logloss',\n",
    "              'boosting' : 'gbdt',\n",
    "    'max_depth':  hp.choice('max_depth', list(range(6, 10, 2))),\n",
    "    'reg_alpha' : hp.uniform('reg_alpha', 0.01, 0.4),\n",
    "    'reg_lambda': hp.uniform('reg_lambda', 0.01, 0.4),\n",
    "    'learning_rate' : hp.uniform('learning_rate', 0.01, 0.2),\n",
    "    'colsample_bytree' : hp.uniform('colsample_bytree', 0.3, 0.9),\n",
    "    'gamma' : hp.uniform('gamma', 0.01, .7),\n",
    "    'num_leaves' : hp.choice('num_leaves', list(range(20,150,10))),\n",
    "    'min_child_samples': hp.choice('min_child_samples', list(range(100,150,10))),\n",
    "    'subsample': hp.choice('subsample', [.2, .4, .5, .6, .7, .8, .9]),\n",
    "    'feature_fraction' : hp.uniform('feature_fraction', .4, .8),\n",
    "    'bagging_fraction' : hp.uniform('bagging_fraction', .5, .9)\n",
    "}"
   ]
  },
  {
   "cell_type": "code",
   "execution_count": 35,
   "metadata": {
    "ExecuteTime": {
     "end_time": "2020-02-29T05:22:35.381011Z",
     "start_time": "2020-02-29T05:22:35.368014Z"
    }
   },
   "outputs": [],
   "source": [
    "def evaluate_metric(params):\n",
    "    time1 = time.time()\n",
    "    print(\"******************** New Run *********************\")\n",
    "    print('Params : {}'.format(params))\n",
    "    FOLDS = 5\n",
    "    count = 1\n",
    "    \n",
    "    skf = StratifiedKFold(n_splits = FOLDS, shuffle = True, random_state = 42)\n",
    "    y_preds = np.zeros(test.shape[0])\n",
    "    score_mean = 0\n",
    "    \n",
    "    for tr_idx, val_idx in skf.split(train_x, train_y):\n",
    "        X_tr, X_vl = train_x.iloc[tr_idx, :], train_x.iloc[val_idx, :]\n",
    "        y_tr, y_vl = train_y.iloc[tr_idx], train_y.iloc[val_idx]\n",
    "        \n",
    "        lgbtrain = lgb.Dataset(X_tr, label = y_tr)\n",
    "        lgbval = lgb.Dataset(X_vl, label = y_vl)\n",
    "        \n",
    "        lgb_clf = lgb.train(params, lgbtrain, 1250, valid_sets = [lgbval],\n",
    "                           categorical_feature = 'auto',\n",
    "                           verbose_eval = 0,\n",
    "                           early_stopping_rounds = 50)\n",
    "        \n",
    "        lgb_pred = lgb_clf.predict(X_vl, num_iteration = lgb_clf.best_iteration)\n",
    "        \n",
    "        score = make_scorer(log_loss)(lgb_clf, X_vl, y_vl)\n",
    "        \n",
    "        score_mean += score\n",
    "        print('{} CV - Score: {}'.format(count, round(score,4)))\n",
    "        \n",
    "        count += 1\n",
    "    \n",
    "    time2 = time.time() - time1\n",
    "    print('Total Time Run : {}'.format(round(time2/60, 2)))\n",
    "    gc.collect()\n",
    "    print('Mean Log Loss : {}'.format(score_mean/FOLDS))\n",
    "    del X_tr, X_vl, y_tr, y_vl, lgb_clf, score\n",
    "    \n",
    "    return (score_mean/FOLDS)"
   ]
  },
  {
   "cell_type": "code",
   "execution_count": 36,
   "metadata": {
    "ExecuteTime": {
     "end_time": "2020-02-29T07:53:28.818336Z",
     "start_time": "2020-02-29T05:22:35.383015Z"
    }
   },
   "outputs": [
    {
     "name": "stdout",
     "output_type": "stream",
     "text": [
      "******************** New Run *********************                                                                     \n",
      "Params : {'bagging_fraction': 0.8334069299174205, 'boosting': 'gbdt', 'colsample_bytree': 0.38706237735915333, 'feature_fraction': 0.5634365760080988, 'gamma': 0.17100309272383174, 'learning_rate': 0.14894922800420424, 'max_depth': 6, 'metric': 'multi_logloss', 'min_child_samples': 100, 'num_class': 19, 'num_leaves': 60, 'objective': 'multiclass', 'reg_alpha': 0.27266785459822895, 'reg_lambda': 0.28139842943564547, 'subsample': 0.2}\n",
      "1 CV - Score: 0.3476                                                                                                   \n",
      "2 CV - Score: 0.345                                                                                                    \n",
      "3 CV - Score: 0.3406                                                                                                   \n",
      "4 CV - Score: 0.3455                                                                                                   \n",
      "5 CV - Score: 0.3474                                                                                                   \n",
      "Total Time Run : 8.8                                                                                                   \n",
      "Mean Log Loss : 0.34523068249881594                                                                                    \n",
      "******************** New Run *********************                                                                     \n",
      "Params : {'bagging_fraction': 0.8888226057862654, 'boosting': 'gbdt', 'colsample_bytree': 0.8590692258196688, 'feature_fraction': 0.735800792417102, 'gamma': 0.6365969127743157, 'learning_rate': 0.1014393029641891, 'max_depth': 6, 'metric': 'multi_logloss', 'min_child_samples': 130, 'num_class': 19, 'num_leaves': 120, 'objective': 'multiclass', 'reg_alpha': 0.3173756504528915, 'reg_lambda': 0.10221685561664161, 'subsample': 0.2}\n",
      "1 CV - Score: 0.3541                                                                                                   \n",
      "2 CV - Score: 0.3432                                                                                                   \n",
      "3 CV - Score: 0.3486                                                                                                   \n",
      "4 CV - Score: 0.3564                                                                                                   \n",
      "5 CV - Score: 0.3547                                                                                                   \n",
      "Total Time Run : 14.89                                                                                                 \n",
      "Mean Log Loss : 0.3513791935188116                                                                                     \n",
      "******************** New Run *********************                                                                     \n",
      "Params : {'bagging_fraction': 0.6235297438485574, 'boosting': 'gbdt', 'colsample_bytree': 0.7249855537680461, 'feature_fraction': 0.46189116209193365, 'gamma': 0.11555489994425214, 'learning_rate': 0.09427553475076811, 'max_depth': 6, 'metric': 'multi_logloss', 'min_child_samples': 110, 'num_class': 19, 'num_leaves': 80, 'objective': 'multiclass', 'reg_alpha': 0.20703019102202347, 'reg_lambda': 0.03148795471528935, 'subsample': 0.4}\n",
      "1 CV - Score: 0.3442                                                                                                   \n",
      "2 CV - Score: 0.341                                                                                                    \n",
      "3 CV - Score: 0.3452                                                                                                   \n",
      "4 CV - Score: 0.3606                                                                                                   \n",
      "5 CV - Score: 0.3532                                                                                                   \n",
      "Total Time Run : 15.59                                                                                                 \n",
      "Mean Log Loss : 0.3488368785169931                                                                                     \n",
      "******************** New Run *********************                                                                     \n",
      "Params : {'bagging_fraction': 0.7294701390705591, 'boosting': 'gbdt', 'colsample_bytree': 0.7715907519295897, 'feature_fraction': 0.4583397870036745, 'gamma': 0.5550776160638997, 'learning_rate': 0.06918380170767147, 'max_depth': 8, 'metric': 'multi_logloss', 'min_child_samples': 130, 'num_class': 19, 'num_leaves': 20, 'objective': 'multiclass', 'reg_alpha': 0.1596611745891881, 'reg_lambda': 0.030284279728715488, 'subsample': 0.8}\n",
      "1 CV - Score: 0.334                                                                                                    \n",
      "2 CV - Score: 0.3362                                                                                                   \n",
      "3 CV - Score: 0.3344                                                                                                   \n",
      "4 CV - Score: 0.3373                                                                                                   \n",
      "5 CV - Score: 0.3404                                                                                                   \n",
      "Total Time Run : 21.67                                                                                                 \n",
      "Mean Log Loss : 0.3364602257943174                                                                                     \n",
      "******************** New Run *********************                                                                     \n",
      "Params : {'bagging_fraction': 0.6588333812414134, 'boosting': 'gbdt', 'colsample_bytree': 0.6073201497030257, 'feature_fraction': 0.7512744279935416, 'gamma': 0.20293267753868835, 'learning_rate': 0.15888900377382378, 'max_depth': 6, 'metric': 'multi_logloss', 'min_child_samples': 120, 'num_class': 19, 'num_leaves': 110, 'objective': 'multiclass', 'reg_alpha': 0.10323700967984671, 'reg_lambda': 0.05976957485444221, 'subsample': 0.8}\n",
      "1 CV - Score: 0.3792                                                                                                   \n",
      "2 CV - Score: 0.3676                                                                                                   \n",
      "3 CV - Score: 0.3704                                                                                                   \n",
      "4 CV - Score: 0.3781                                                                                                   \n",
      "5 CV - Score: 0.36                                                                                                     \n",
      "Total Time Run : 10.87                                                                                                 \n",
      "Mean Log Loss : 0.37104602833633893                                                                                    \n",
      "******************** New Run *********************                                                                     \n",
      "Params : {'bagging_fraction': 0.6912681345431877, 'boosting': 'gbdt', 'colsample_bytree': 0.7349560475485137, 'feature_fraction': 0.46775026943212555, 'gamma': 0.3225638671155307, 'learning_rate': 0.057058500764732345, 'max_depth': 6, 'metric': 'multi_logloss', 'min_child_samples': 130, 'num_class': 19, 'num_leaves': 50, 'objective': 'multiclass', 'reg_alpha': 0.1588031805433178, 'reg_lambda': 0.22448866790763009, 'subsample': 0.4}\n",
      "1 CV - Score: 0.33                                                                                                     \n",
      "2 CV - Score: 0.3329                                                                                                   \n",
      "3 CV - Score: 0.3315                                                                                                   \n",
      "4 CV - Score: 0.3348                                                                                                   \n",
      "5 CV - Score: 0.3347                                                                                                   \n"
     ]
    },
    {
     "name": "stdout",
     "output_type": "stream",
     "text": [
      "Total Time Run : 17.78                                                                                                 \n",
      "Mean Log Loss : 0.33280076216151944                                                                                    \n",
      "******************** New Run *********************                                                                     \n",
      "Params : {'bagging_fraction': 0.7685021664746272, 'boosting': 'gbdt', 'colsample_bytree': 0.4076740604321649, 'feature_fraction': 0.5233875929446218, 'gamma': 0.6762976155764132, 'learning_rate': 0.1961669953024764, 'max_depth': 6, 'metric': 'multi_logloss', 'min_child_samples': 110, 'num_class': 19, 'num_leaves': 130, 'objective': 'multiclass', 'reg_alpha': 0.09064793962410278, 'reg_lambda': 0.29655503181165643, 'subsample': 0.2}\n",
      "1 CV - Score: 0.3571                                                                                                   \n",
      "2 CV - Score: 0.3485                                                                                                   \n",
      "3 CV - Score: 0.3463                                                                                                   \n",
      "4 CV - Score: 0.3658                                                                                                   \n",
      "5 CV - Score: 0.3467                                                                                                   \n",
      "Total Time Run : 6.29                                                                                                  \n",
      "Mean Log Loss : 0.35286214064240806                                                                                    \n",
      "******************** New Run *********************                                                                     \n",
      "Params : {'bagging_fraction': 0.5060697226831303, 'boosting': 'gbdt', 'colsample_bytree': 0.43919225241245285, 'feature_fraction': 0.5619001858467343, 'gamma': 0.10768423297193729, 'learning_rate': 0.03694055436192713, 'max_depth': 6, 'metric': 'multi_logloss', 'min_child_samples': 130, 'num_class': 19, 'num_leaves': 50, 'objective': 'multiclass', 'reg_alpha': 0.09690198789745655, 'reg_lambda': 0.12826937140194455, 'subsample': 0.8}\n",
      "1 CV - Score: 0.3308                                                                                                   \n",
      "2 CV - Score: 0.3342                                                                                                   \n",
      "3 CV - Score: 0.3314                                                                                                   \n",
      "4 CV - Score: 0.335                                                                                                    \n",
      "5 CV - Score: 0.3349                                                                                                   \n",
      "Total Time Run : 28.09                                                                                                 \n",
      "Mean Log Loss : 0.33326695562397124                                                                                    \n",
      "******************** New Run *********************                                                                     \n",
      "Params : {'bagging_fraction': 0.5834870569953181, 'boosting': 'gbdt', 'colsample_bytree': 0.35858630969381966, 'feature_fraction': 0.7646155677955977, 'gamma': 0.3650591564189759, 'learning_rate': 0.11895633752675973, 'max_depth': 6, 'metric': 'multi_logloss', 'min_child_samples': 100, 'num_class': 19, 'num_leaves': 120, 'objective': 'multiclass', 'reg_alpha': 0.3911058371180579, 'reg_lambda': 0.12847504284078332, 'subsample': 0.4}\n",
      "1 CV - Score: 0.3547                                                                                                   \n",
      "2 CV - Score: 0.3463                                                                                                   \n",
      "3 CV - Score: 0.3475                                                                                                   \n",
      "4 CV - Score: 0.3677                                                                                                   \n",
      "5 CV - Score: 0.3571                                                                                                   \n",
      "Total Time Run : 9.91                                                                                                  \n",
      "Mean Log Loss : 0.35464164482186283                                                                                    \n",
      "******************** New Run *********************                                                                     \n",
      "Params : {'bagging_fraction': 0.7968905868985903, 'boosting': 'gbdt', 'colsample_bytree': 0.6088051317183023, 'feature_fraction': 0.631574258483391, 'gamma': 0.40453555591808454, 'learning_rate': 0.06375463504399481, 'max_depth': 6, 'metric': 'multi_logloss', 'min_child_samples': 110, 'num_class': 19, 'num_leaves': 30, 'objective': 'multiclass', 'reg_alpha': 0.34737469172363533, 'reg_lambda': 0.1470858881042724, 'subsample': 0.9}\n",
      "1 CV - Score: 0.3316                                                                                                   \n",
      "2 CV - Score: 0.3355                                                                                                   \n",
      "3 CV - Score: 0.3323                                                                                                   \n",
      "4 CV - Score: 0.3367                                                                                                   \n",
      "5 CV - Score: 0.3363                                                                                                   \n",
      "Total Time Run : 16.97                                                                                                 \n",
      "Mean Log Loss : 0.3345083639681796                                                                                     \n",
      "100%|████████████████████████████████████████████| 10/10 [2:30:53<00:00, 905.34s/trial, best loss: 0.33280076216151944]\n",
      "Best HyperParameters : {'bagging_fraction': 0.6912681345431877, 'boosting': 'gbdt', 'colsample_bytree': 0.7349560475485137, 'feature_fraction': 0.46775026943212555, 'gamma': 0.3225638671155307, 'learning_rate': 0.057058500764732345, 'max_depth': 6, 'metric': 'multi_logloss', 'min_child_samples': 130, 'num_class': 19, 'num_leaves': 50, 'objective': 'multiclass', 'reg_alpha': 0.1588031805433178, 'reg_lambda': 0.22448866790763009, 'subsample': 0.4}\n"
     ]
    }
   ],
   "source": [
    "best = fmin(fn = evaluate_metric,\n",
    "            space = space,\n",
    "            algo = tpe.suggest,\n",
    "            max_evals = 10)\n",
    "\n",
    "best_params = space_eval(space,best)\n",
    "print(\"Best HyperParameters :\", best_params)"
   ]
  },
  {
   "cell_type": "code",
   "execution_count": null,
   "metadata": {},
   "outputs": [],
   "source": [
    "import time\n",
    "time = time.gmtime(time.time()) \n",
    "year = time[0]\n",
    "month = time[1]\n",
    "day = time[2]\n",
    "\n",
    "joblib.dump(lgb_model, '../model/LGB_OPT_{}{}{}_3432_20020229.pkl'.format(year, month, day))"
   ]
  },
  {
   "cell_type": "code",
   "execution_count": null,
   "metadata": {},
   "outputs": [],
   "source": [
    "pred = lgb_model.predict(test_x, num_iteration = lgb_model.best_iteration)"
   ]
  },
  {
   "cell_type": "code",
   "execution_count": null,
   "metadata": {},
   "outputs": [],
   "source": [
    "submission = pd.DataFrame(data = pred, columns = sample_submission.columns, index = sample_submission.index)"
   ]
  },
  {
   "cell_type": "code",
   "execution_count": null,
   "metadata": {},
   "outputs": [],
   "source": [
    "submission.to_csv('../submission/lgb_opt_3432_0227.csv')"
   ]
  }
 ],
 "metadata": {
  "kernelspec": {
   "display_name": "Python 3",
   "language": "python",
   "name": "python3"
  },
  "language_info": {
   "codemirror_mode": {
    "name": "ipython",
    "version": 3
   },
   "file_extension": ".py",
   "mimetype": "text/x-python",
   "name": "python",
   "nbconvert_exporter": "python",
   "pygments_lexer": "ipython3",
   "version": "3.7.3"
  },
  "toc": {
   "base_numbering": 1,
   "nav_menu": {},
   "number_sections": true,
   "sideBar": true,
   "skip_h1_title": false,
   "title_cell": "Table of Contents",
   "title_sidebar": "Contents",
   "toc_cell": false,
   "toc_position": {},
   "toc_section_display": true,
   "toc_window_display": false
  },
  "varInspector": {
   "cols": {
    "lenName": 16,
    "lenType": 16,
    "lenVar": 40
   },
   "kernels_config": {
    "python": {
     "delete_cmd_postfix": "",
     "delete_cmd_prefix": "del ",
     "library": "var_list.py",
     "varRefreshCmd": "print(var_dic_list())"
    },
    "r": {
     "delete_cmd_postfix": ") ",
     "delete_cmd_prefix": "rm(",
     "library": "var_list.r",
     "varRefreshCmd": "cat(var_dic_list()) "
    }
   },
   "types_to_exclude": [
    "module",
    "function",
    "builtin_function_or_method",
    "instance",
    "_Feature"
   ],
   "window_display": false
  }
 },
 "nbformat": 4,
 "nbformat_minor": 2
}
